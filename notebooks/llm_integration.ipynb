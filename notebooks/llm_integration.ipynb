{
 "cells": [
  {
   "cell_type": "code",
   "execution_count": null,
   "id": "49314f9a",
   "metadata": {},
   "outputs": [],
   "source": [
    "import torch\n",
    "from torch.utils.data import Dataset, DataLoader\n",
    "from transformers import AutoModelForCausalLM, AutoTokenizer"
   ]
  },
  {
   "cell_type": "code",
   "execution_count": null,
   "id": "106dc581",
   "metadata": {},
   "outputs": [],
   "source": [
    "class UserItemDataset(Dataset):\n",
    "    def __init__(self, user_item_pairs, tokenizer, max_length):\n",
    "        self.user_item_pairs = user_item_pairs\n",
    "        self.tokenizer = tokenizer\n",
    "        self.max_length = max_length\n",
    "\n",
    "    def __len__(self):\n",
    "        return len(self.user_item_pairs)\n",
    "\n",
    "    def __getitem__(self, idx):\n",
    "        user, item = self.user_item_pairs[idx]\n",
    "        # Encode the user-item pair\n",
    "        encoding = self.tokenizer.encode_plus(\n",
    "            f'user {user} item {item}',\n",
    "            add_special_tokens=True,\n",
    "            max_length=self.max_length,\n",
    "            return_tensors='pt',\n",
    "            padding='max_length',\n",
    "            truncation=True\n",
    "        )\n",
    "        return encoding['input_ids'].flatten(), encoding['attention_mask'].flatten()"
   ]
  },
  {
   "cell_type": "code",
   "execution_count": null,
   "id": "f33e2572",
   "metadata": {},
   "outputs": [],
   "source": [
    "# Loading a pretrained LLM and tokenizer\n",
    "model_name = 'gpt-2'\n",
    "tokenizer = AutoTokenizer.from_pretrained(model_name)\n",
    "model = AutoModelForCausalLM.from_pretrained(model_name)"
   ]
  },
  {
   "cell_type": "code",
   "execution_count": null,
   "id": "6936155b",
   "metadata": {},
   "outputs": [],
   "source": [
    "# dataset and dataloader\n",
    "user_item_pairs = [('user1', 'item1'), ('user2', 'item2')]\n",
    "dataset = UserItemDataset(user_item_pairs, tokenizer, max_length=128)\n",
    "loader = DataLoader(dataset, batch_size=32, shuffle=True)"
   ]
  },
  {
   "cell_type": "code",
   "execution_count": null,
   "id": "9dabf385",
   "metadata": {},
   "outputs": [],
   "source": [
    "# generating recommendations\n",
    "def generate_recommendations(prompt, model, tokenizer, max_length):\n",
    "    inputs = tokenizer.encode(prompt, return_tensors='pt')\n",
    "    outputs = model.generate(inputs, max_length=max_length)\n",
    "    return tokenizer.decode(outputs[0], skip_special_tokens=True)"
   ]
  },
  {
   "cell_type": "code",
   "execution_count": null,
   "id": "789250e4",
   "metadata": {},
   "outputs": [],
   "source": [
    "# Example usage: Generate a recommendation for a user\n",
    "user_prompt = \"user user1\"  # Replace with the actual user prompt\n",
    "recommendation = generate_recommendations(user_prompt, model, tokenizer, max_length=128)\n",
    "print(f'Recommended item: {recommendation}')"
   ]
  },
  {
   "cell_type": "code",
   "execution_count": null,
   "id": "3167e4be",
   "metadata": {},
   "outputs": [],
   "source": []
  }
 ],
 "metadata": {
  "kernelspec": {
   "display_name": "Python 3 (ipykernel)",
   "language": "python",
   "name": "python3"
  },
  "language_info": {
   "codemirror_mode": {
    "name": "ipython",
    "version": 3
   },
   "file_extension": ".py",
   "mimetype": "text/x-python",
   "name": "python",
   "nbconvert_exporter": "python",
   "pygments_lexer": "ipython3",
   "version": "3.10.9"
  }
 },
 "nbformat": 4,
 "nbformat_minor": 5
}
