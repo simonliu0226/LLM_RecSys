{
 "cells": [
  {
   "cell_type": "markdown",
   "metadata": {
    "id": "HeshDITeoJQw"
   },
   "source": [
    "### Import Dependencies:"
   ]
  },
  {
   "cell_type": "markdown",
   "metadata": {
    "id": "dRjUBILDFHXm"
   },
   "source": [
    "conda install pytorch torchvision torchaudio pytorch-cuda=12.1 -c pytorch -c nvidia\n",
    "\n",
    "conda install -c fastai fastai"
   ]
  },
  {
   "cell_type": "code",
   "execution_count": 1,
   "metadata": {
    "id": "Tdi4fpbtyKAZ"
   },
   "outputs": [],
   "source": [
    "from fastai.collab import *\n",
    "from fastai.tabular.all import *"
   ]
  },
  {
   "cell_type": "markdown",
   "metadata": {
    "id": "BbLT4fSZoLUc"
   },
   "source": [
    "# Collaborative Filtering Book Recommendation System Using Deep Learning with LLM Integration"
   ]
  },
  {
   "cell_type": "markdown",
   "metadata": {},
   "source": [
    "## Collaborative Filtering Model"
   ]
  },
  {
   "cell_type": "markdown",
   "metadata": {
    "id": "Jbes2wdGu0e_"
   },
   "source": [
    "### Import and Process the Book Data:"
   ]
  },
  {
   "cell_type": "markdown",
   "metadata": {
    "id": "vCAJ6NvdWXeo"
   },
   "source": [
    "### Import Data:"
   ]
  },
  {
   "cell_type": "code",
   "execution_count": 2,
   "metadata": {
    "id": "6aWU6l3WoOBO"
   },
   "outputs": [],
   "source": [
    "import pandas as pd\n",
    "ratings = pd.read_csv('../Datasets/kaggle_book_recommendation/Ratings.csv')\n",
    "books = pd.read_csv('../Datasets/kaggle_book_recommendation/Books.csv', dtype={3: 'str'})"
   ]
  },
  {
   "cell_type": "markdown",
   "metadata": {
    "id": "CDfsOvTWZwSE"
   },
   "source": [
    "### Process the Data:"
   ]
  },
  {
   "cell_type": "markdown",
   "metadata": {
    "id": "HbMOzL-lcBNS"
   },
   "source": [
    "Merge ratings dataframe with the books dataframe and remove unnecessary columns:"
   ]
  },
  {
   "cell_type": "code",
   "execution_count": 3,
   "metadata": {
    "colab": {
     "base_uri": "https://localhost:8080/",
     "height": 206
    },
    "id": "PgaLd3KPZ6lZ",
    "outputId": "0afa0726-9ba4-4b1b-bd0a-b432c7792c2b"
   },
   "outputs": [
    {
     "data": {
      "text/html": [
       "<div>\n",
       "<style scoped>\n",
       "    .dataframe tbody tr th:only-of-type {\n",
       "        vertical-align: middle;\n",
       "    }\n",
       "\n",
       "    .dataframe tbody tr th {\n",
       "        vertical-align: top;\n",
       "    }\n",
       "\n",
       "    .dataframe thead th {\n",
       "        text-align: right;\n",
       "    }\n",
       "</style>\n",
       "<table border=\"1\" class=\"dataframe\">\n",
       "  <thead>\n",
       "    <tr style=\"text-align: right;\">\n",
       "      <th></th>\n",
       "      <th>user</th>\n",
       "      <th>rating</th>\n",
       "      <th>title</th>\n",
       "    </tr>\n",
       "  </thead>\n",
       "  <tbody>\n",
       "    <tr>\n",
       "      <th>0</th>\n",
       "      <td>276725</td>\n",
       "      <td>0</td>\n",
       "      <td>Flesh Tones: A Novel</td>\n",
       "    </tr>\n",
       "    <tr>\n",
       "      <th>1</th>\n",
       "      <td>276726</td>\n",
       "      <td>5</td>\n",
       "      <td>Rites of Passage</td>\n",
       "    </tr>\n",
       "    <tr>\n",
       "      <th>2</th>\n",
       "      <td>276727</td>\n",
       "      <td>0</td>\n",
       "      <td>The Notebook</td>\n",
       "    </tr>\n",
       "    <tr>\n",
       "      <th>3</th>\n",
       "      <td>276729</td>\n",
       "      <td>3</td>\n",
       "      <td>Help!: Level 1</td>\n",
       "    </tr>\n",
       "    <tr>\n",
       "      <th>4</th>\n",
       "      <td>276729</td>\n",
       "      <td>6</td>\n",
       "      <td>The Amsterdam Connection : Level 4 (Cambridge English Readers)</td>\n",
       "    </tr>\n",
       "  </tbody>\n",
       "</table>\n",
       "</div>"
      ],
      "text/plain": [
       "     user  rating  \\\n",
       "0  276725       0   \n",
       "1  276726       5   \n",
       "2  276727       0   \n",
       "3  276729       3   \n",
       "4  276729       6   \n",
       "\n",
       "                                                            title  \n",
       "0                                            Flesh Tones: A Novel  \n",
       "1                                                Rites of Passage  \n",
       "2                                                    The Notebook  \n",
       "3                                                  Help!: Level 1  \n",
       "4  The Amsterdam Connection : Level 4 (Cambridge English Readers)  "
      ]
     },
     "execution_count": 3,
     "metadata": {},
     "output_type": "execute_result"
    }
   ],
   "source": [
    "ratings_books_df = ratings.merge(books, on='ISBN')\n",
    "ratings_books_df.drop(columns=['ISBN', 'Book-Author', 'Year-Of-Publication', 'Publisher', 'Image-URL-S', 'Image-URL-M', 'Image-URL-L'], axis=1, inplace=True)\n",
    "ratings_books_df.columns = ['user', 'rating', 'title']\n",
    "ratings_books_df.head()"
   ]
  },
  {
   "cell_type": "markdown",
   "metadata": {
    "id": "64Cs6Ut1cKru"
   },
   "source": [
    "Filter the Data:"
   ]
  },
  {
   "cell_type": "code",
   "execution_count": 4,
   "metadata": {
    "colab": {
     "base_uri": "https://localhost:8080/",
     "height": 206
    },
    "id": "irqU8CSOeNhG",
    "outputId": "a9841096-ba00-4677-8f05-5fe204f0a786"
   },
   "outputs": [
    {
     "data": {
      "text/html": [
       "<div>\n",
       "<style scoped>\n",
       "    .dataframe tbody tr th:only-of-type {\n",
       "        vertical-align: middle;\n",
       "    }\n",
       "\n",
       "    .dataframe tbody tr th {\n",
       "        vertical-align: top;\n",
       "    }\n",
       "\n",
       "    .dataframe thead th {\n",
       "        text-align: right;\n",
       "    }\n",
       "</style>\n",
       "<table border=\"1\" class=\"dataframe\">\n",
       "  <thead>\n",
       "    <tr style=\"text-align: right;\">\n",
       "      <th></th>\n",
       "      <th>user</th>\n",
       "      <th>rating</th>\n",
       "      <th>title</th>\n",
       "    </tr>\n",
       "  </thead>\n",
       "  <tbody>\n",
       "    <tr>\n",
       "      <th>1168</th>\n",
       "      <td>277427</td>\n",
       "      <td>9</td>\n",
       "      <td>One for the Money (Stephanie Plum Novels (Paperback))</td>\n",
       "    </tr>\n",
       "    <tr>\n",
       "      <th>1215</th>\n",
       "      <td>277427</td>\n",
       "      <td>8</td>\n",
       "      <td>Me Talk Pretty One Day</td>\n",
       "    </tr>\n",
       "    <tr>\n",
       "      <th>1270</th>\n",
       "      <td>277427</td>\n",
       "      <td>9</td>\n",
       "      <td>The Rainmaker</td>\n",
       "    </tr>\n",
       "    <tr>\n",
       "      <th>1273</th>\n",
       "      <td>277427</td>\n",
       "      <td>9</td>\n",
       "      <td>Into the Wild</td>\n",
       "    </tr>\n",
       "    <tr>\n",
       "      <th>1276</th>\n",
       "      <td>277427</td>\n",
       "      <td>8</td>\n",
       "      <td>The Da Vinci Code</td>\n",
       "    </tr>\n",
       "  </tbody>\n",
       "</table>\n",
       "</div>"
      ],
      "text/plain": [
       "        user  rating                                                  title\n",
       "1168  277427       9  One for the Money (Stephanie Plum Novels (Paperback))\n",
       "1215  277427       8                                 Me Talk Pretty One Day\n",
       "1270  277427       9                                          The Rainmaker\n",
       "1273  277427       9                                          Into the Wild\n",
       "1276  277427       8                                      The Da Vinci Code"
      ]
     },
     "execution_count": 4,
     "metadata": {},
     "output_type": "execute_result"
    }
   ],
   "source": [
    "# Remove all ratings with 0.\n",
    "ratings_books_df = ratings_books_df[ratings_books_df['rating'] > 0]\n",
    "\n",
    "# Set thresholds for the number of ratings a user has given and the number of ratings a book has.\n",
    "min_ratings_user = 100\n",
    "min_ratings_book = 100\n",
    "\n",
    "# Filters the dataframe to only include rows with users that have rated at least min_ratings_user books.\n",
    "users_with_min_ratings = ratings_books_df.groupby('user').filter(lambda x: len(x) >= min_ratings_user)\n",
    "\n",
    "# Filters the dataframe to only include movies with at least min_ratings_book ratings.\n",
    "books_with_min_ratings = ratings_books_df.groupby('title').filter(lambda x: len(x) >= min_ratings_book)\n",
    "\n",
    "# Filters the dataframe to include the correct data.\n",
    "filtered_df = users_with_min_ratings[users_with_min_ratings['title'].isin(books_with_min_ratings['title'])]\n",
    "\n",
    "filtered_df.head()"
   ]
  },
  {
   "cell_type": "markdown",
   "metadata": {
    "id": "ddH8Ss86QQuj"
   },
   "source": [
    "### Create a DataLoader Using the Data:"
   ]
  },
  {
   "cell_type": "code",
   "execution_count": 5,
   "metadata": {
    "colab": {
     "base_uri": "https://localhost:8080/",
     "height": 363
    },
    "id": "T6zQDOIkvNle",
    "outputId": "7f630a4c-1c80-47b2-de2e-3c8aa345e6ff"
   },
   "outputs": [
    {
     "data": {
      "text/html": [
       "<table border=\"1\" class=\"dataframe\">\n",
       "  <thead>\n",
       "    <tr style=\"text-align: right;\">\n",
       "      <th></th>\n",
       "      <th>user</th>\n",
       "      <th>title</th>\n",
       "      <th>rating</th>\n",
       "    </tr>\n",
       "  </thead>\n",
       "  <tbody>\n",
       "    <tr>\n",
       "      <th>0</th>\n",
       "      <td>94242</td>\n",
       "      <td>Ender's Game (Ender Wiggins Saga (Paperback))</td>\n",
       "      <td>10</td>\n",
       "    </tr>\n",
       "    <tr>\n",
       "      <th>1</th>\n",
       "      <td>13850</td>\n",
       "      <td>Fahrenheit 451</td>\n",
       "      <td>10</td>\n",
       "    </tr>\n",
       "    <tr>\n",
       "      <th>2</th>\n",
       "      <td>104636</td>\n",
       "      <td>Skipping Christmas</td>\n",
       "      <td>8</td>\n",
       "    </tr>\n",
       "    <tr>\n",
       "      <th>3</th>\n",
       "      <td>225763</td>\n",
       "      <td>Empire Falls</td>\n",
       "      <td>7</td>\n",
       "    </tr>\n",
       "    <tr>\n",
       "      <th>4</th>\n",
       "      <td>229741</td>\n",
       "      <td>The Catcher in the Rye</td>\n",
       "      <td>8</td>\n",
       "    </tr>\n",
       "    <tr>\n",
       "      <th>5</th>\n",
       "      <td>247447</td>\n",
       "      <td>The Rescue</td>\n",
       "      <td>10</td>\n",
       "    </tr>\n",
       "    <tr>\n",
       "      <th>6</th>\n",
       "      <td>266056</td>\n",
       "      <td>Digital Fortress : A Thriller</td>\n",
       "      <td>9</td>\n",
       "    </tr>\n",
       "    <tr>\n",
       "      <th>7</th>\n",
       "      <td>69078</td>\n",
       "      <td>Fahrenheit 451</td>\n",
       "      <td>9</td>\n",
       "    </tr>\n",
       "    <tr>\n",
       "      <th>8</th>\n",
       "      <td>219683</td>\n",
       "      <td>The Tao of Pooh</td>\n",
       "      <td>10</td>\n",
       "    </tr>\n",
       "    <tr>\n",
       "      <th>9</th>\n",
       "      <td>13552</td>\n",
       "      <td>Point of Origin</td>\n",
       "      <td>9</td>\n",
       "    </tr>\n",
       "  </tbody>\n",
       "</table>"
      ],
      "text/plain": [
       "<IPython.core.display.HTML object>"
      ]
     },
     "metadata": {},
     "output_type": "display_data"
    }
   ],
   "source": [
    "# Dataloaders - Set seed to 42 for consistent results\n",
    "dls = CollabDataLoaders.from_df(filtered_df, item_name='title', rating_name='rating', bs=64, seed=42)\n",
    "dls.show_batch()"
   ]
  },
  {
   "cell_type": "markdown",
   "metadata": {
    "id": "ccZuE2YmQQuk"
   },
   "source": [
    "### Create a deep learning model with 2 hidden layers for collaborative filtering:"
   ]
  },
  {
   "cell_type": "markdown",
   "metadata": {
    "id": "xNPlOMGGE-n4"
   },
   "source": [
    "Create the model:"
   ]
  },
  {
   "cell_type": "code",
   "execution_count": 6,
   "metadata": {
    "id": "-KHTToRAz0Xt"
   },
   "outputs": [],
   "source": [
    "learn = collab_learner(dls, use_nn=True, y_range=(0, 10.5), layers=[100,50])"
   ]
  },
  {
   "cell_type": "markdown",
   "metadata": {
    "id": "HmbTElX5E-n5"
   },
   "source": [
    "Find the optimal learning rate:"
   ]
  },
  {
   "cell_type": "code",
   "execution_count": 7,
   "metadata": {
    "colab": {
     "base_uri": "https://localhost:8080/",
     "height": 472
    },
    "id": "nVl_gZpgE-n5",
    "outputId": "2a3a6772-2be7-489c-f5e0-2eddaf7d4015"
   },
   "outputs": [
    {
     "data": {
      "text/html": [
       "\n",
       "<style>\n",
       "    /* Turns off some styling */\n",
       "    progress {\n",
       "        /* gets rid of default border in Firefox and Opera. */\n",
       "        border: none;\n",
       "        /* Needs to be in here for Safari polyfill so background images work as expected. */\n",
       "        background-size: auto;\n",
       "    }\n",
       "    progress:not([value]), progress:not([value])::-webkit-progress-bar {\n",
       "        background: repeating-linear-gradient(45deg, #7e7e7e, #7e7e7e 10px, #5c5c5c 10px, #5c5c5c 20px);\n",
       "    }\n",
       "    .progress-bar-interrupted, .progress-bar-interrupted::-webkit-progress-bar {\n",
       "        background: #F44336;\n",
       "    }\n",
       "</style>\n"
      ],
      "text/plain": [
       "<IPython.core.display.HTML object>"
      ]
     },
     "metadata": {},
     "output_type": "display_data"
    },
    {
     "data": {
      "text/html": [],
      "text/plain": [
       "<IPython.core.display.HTML object>"
      ]
     },
     "metadata": {},
     "output_type": "display_data"
    },
    {
     "data": {
      "text/plain": [
       "SuggestedLRs(minimum=0.2754228591918945, steep=0.04786301031708717)"
      ]
     },
     "execution_count": 7,
     "metadata": {},
     "output_type": "execute_result"
    },
    {
     "data": {
      "image/png": "[encoded data removed]",
      "text/plain": [
       "<Figure size 640x480 with 1 Axes>"
      ]
     },
     "metadata": {},
     "output_type": "display_data"
    }
   ],
   "source": [
    "learn.lr_find(suggest_funcs=(minimum, steep))"
   ]
  },
  {
   "cell_type": "markdown",
   "metadata": {
    "id": "YKJ8zIIhE-n5"
   },
   "source": [
    "Train the model:"
   ]
  },
  {
   "cell_type": "code",
   "execution_count": 8,
   "metadata": {
    "colab": {
     "base_uri": "https://localhost:8080/",
     "height": 206
    },
    "id": "IFzpXJGNE-n6",
    "outputId": "e21909a1-21c6-42dc-bcdb-94ebf9c9c4d5"
   },
   "outputs": [
    {
     "data": {
      "text/html": [
       "\n",
       "<style>\n",
       "    /* Turns off some styling */\n",
       "    progress {\n",
       "        /* gets rid of default border in Firefox and Opera. */\n",
       "        border: none;\n",
       "        /* Needs to be in here for Safari polyfill so background images work as expected. */\n",
       "        background-size: auto;\n",
       "    }\n",
       "    progress:not([value]), progress:not([value])::-webkit-progress-bar {\n",
       "        background: repeating-linear-gradient(45deg, #7e7e7e, #7e7e7e 10px, #5c5c5c 10px, #5c5c5c 20px);\n",
       "    }\n",
       "    .progress-bar-interrupted, .progress-bar-interrupted::-webkit-progress-bar {\n",
       "        background: #F44336;\n",
       "    }\n",
       "</style>\n"
      ],
      "text/plain": [
       "<IPython.core.display.HTML object>"
      ]
     },
     "metadata": {},
     "output_type": "display_data"
    },
    {
     "data": {
      "text/html": [
       "<table border=\"1\" class=\"dataframe\">\n",
       "  <thead>\n",
       "    <tr style=\"text-align: left;\">\n",
       "      <th>epoch</th>\n",
       "      <th>train_loss</th>\n",
       "      <th>valid_loss</th>\n",
       "      <th>time</th>\n",
       "    </tr>\n",
       "  </thead>\n",
       "  <tbody>\n",
       "    <tr>\n",
       "      <td>0</td>\n",
       "      <td>10.194654</td>\n",
       "      <td>5.419633</td>\n",
       "      <td>00:00</td>\n",
       "    </tr>\n",
       "    <tr>\n",
       "      <td>1</td>\n",
       "      <td>4.533194</td>\n",
       "      <td>2.785439</td>\n",
       "      <td>00:00</td>\n",
       "    </tr>\n",
       "    <tr>\n",
       "      <td>2</td>\n",
       "      <td>2.730469</td>\n",
       "      <td>2.567227</td>\n",
       "      <td>00:00</td>\n",
       "    </tr>\n",
       "    <tr>\n",
       "      <td>3</td>\n",
       "      <td>1.823284</td>\n",
       "      <td>2.672868</td>\n",
       "      <td>00:00</td>\n",
       "    </tr>\n",
       "    <tr>\n",
       "      <td>4</td>\n",
       "      <td>1.246036</td>\n",
       "      <td>2.651535</td>\n",
       "      <td>00:00</td>\n",
       "    </tr>\n",
       "  </tbody>\n",
       "</table>"
      ],
      "text/plain": [
       "<IPython.core.display.HTML object>"
      ]
     },
     "metadata": {},
     "output_type": "display_data"
    }
   ],
   "source": [
    "learn.fit_one_cycle(5, 5e-3, wd=0.1)"
   ]
  },
  {
   "cell_type": "markdown",
   "metadata": {
    "id": "j19RQw4TQQul"
   },
   "source": [
    "### Predict user ratings for movies:"
   ]
  },
  {
   "cell_type": "code",
   "execution_count": 9,
   "metadata": {
    "colab": {
     "base_uri": "https://localhost:8080/",
     "height": 213
    },
    "id": "wkphszK22sm_",
    "outputId": "d32e74ac-4b2c-4fc7-a97a-83098c37ae33"
   },
   "outputs": [
    {
     "data": {
      "text/html": [
       "\n",
       "<style>\n",
       "    /* Turns off some styling */\n",
       "    progress {\n",
       "        /* gets rid of default border in Firefox and Opera. */\n",
       "        border: none;\n",
       "        /* Needs to be in here for Safari polyfill so background images work as expected. */\n",
       "        background-size: auto;\n",
       "    }\n",
       "    progress:not([value]), progress:not([value])::-webkit-progress-bar {\n",
       "        background: repeating-linear-gradient(45deg, #7e7e7e, #7e7e7e 10px, #5c5c5c 10px, #5c5c5c 20px);\n",
       "    }\n",
       "    .progress-bar-interrupted, .progress-bar-interrupted::-webkit-progress-bar {\n",
       "        background: #F44336;\n",
       "    }\n",
       "</style>\n"
      ],
      "text/plain": [
       "<IPython.core.display.HTML object>"
      ]
     },
     "metadata": {},
     "output_type": "display_data"
    },
    {
     "data": {
      "text/html": [],
      "text/plain": [
       "<IPython.core.display.HTML object>"
      ]
     },
     "metadata": {},
     "output_type": "display_data"
    },
    {
     "name": "stdout",
     "output_type": "stream",
     "text": [
      "Top 10 book recommendations for user 93047:\n",
      "Seabiscuit: An American Legend\n",
      "The Red Tent (Bestselling Backlist)\n",
      "Harry Potter and the Sorcerer's Stone (Book 1)\n",
      "Ender's Game (Ender Wiggins Saga (Paperback))\n",
      "Fahrenheit 451\n",
      "The Secret Life of Bees\n",
      "The Two Towers (The Lord of the Rings, Part 2)\n",
      "Stupid White Men ...and Other Sorry Excuses for the State of the Nation!\n",
      "Two for the Dough\n",
      "Angela's Ashes (MMP) : A Memoir\n"
     ]
    }
   ],
   "source": [
    "# User ID -- The user should already be in the training set or the new user\n",
    "# should have initial rating values that are used to fine tune the model to include the user preferences for prediction\n",
    "# Get a random user that exists in the training dataset.\n",
    "user_id = filtered_df.sample(1)[\"user\"].iloc[0]\n",
    "\n",
    "# Creates a list of books that the user has not read.\n",
    "rated_books = ratings_books_df[ratings_books_df['user'] == user_id]['title'].tolist()\n",
    "all_books = ratings_books_df['title'].unique().tolist()\n",
    "unrated_books = [book for book in all_books if book not in rated_books]\n",
    "\n",
    "# Creates a corresponding list of the user_id, the same size of the list.\n",
    "users = [user_id] * len(unrated_books)\n",
    "\n",
    "# Places the two lists into a dataframe.\n",
    "df = pd.DataFrame({'user': users, 'title': unrated_books})\n",
    "\n",
    "# Creates a test dataloader.\n",
    "dl = learn.dls.test_dl(df)\n",
    "\n",
    "# Gets the rating predictions of each unrated book.\n",
    "preds, _ = learn.get_preds(dl=dl)  # Unpack the tuple and ignore the second element\n",
    "\n",
    "# Matches the list of titles and the resulting rating values then sorts and returns the top 10 books.\n",
    "sorted_preds = sorted(zip(unrated_books, preds.squeeze()), key=lambda x: x[1], reverse=True)\n",
    "top_recommendations = [pred[0] for pred in sorted_preds[:10]]\n",
    "\n",
    "print(f\"Top 10 book recommendations for user {user_id}:\")\n",
    "for book in top_recommendations:\n",
    "    print(book)"
   ]
  },
  {
   "cell_type": "markdown",
   "metadata": {},
   "source": [
    "## "
   ]
  },
  {
   "cell_type": "markdown",
   "metadata": {},
   "source": [
    "## LLM Setup - Llama3-8B"
   ]
  },
  {
   "cell_type": "markdown",
   "metadata": {},
   "source": [
    "#### Huggingface Authentication"
   ]
  },
  {
   "cell_type": "code",
   "execution_count": 10,
   "metadata": {},
   "outputs": [
    {
     "data": {
      "application/vnd.jupyter.widget-view+json": {
       "model_id": "264c91205e504e52bcda27213c40de53",
       "version_major": 2,
       "version_minor": 0
      },
      "text/plain": [
       "VBox(children=(HTML(value='<center> <img\\nsrc=https://huggingface.co/front/assets/huggingface_logo-noborder.sv…"
      ]
     },
     "metadata": {},
     "output_type": "display_data"
    }
   ],
   "source": [
    "from huggingface_hub import login\n",
    "login()"
   ]
  },
  {
   "cell_type": "markdown",
   "metadata": {},
   "source": [
    "#### Check GPU Status"
   ]
  },
  {
   "cell_type": "code",
   "execution_count": 11,
   "metadata": {},
   "outputs": [
    {
     "name": "stdout",
     "output_type": "stream",
     "text": [
      "Using device: cuda\n",
      "\n",
      "NVIDIA A100-SXM4-80GB\n",
      "Memory Usage:\n",
      "Allocated: 0.0 GB\n",
      "Cached:    0.0 GB\n"
     ]
    }
   ],
   "source": [
    "import torch\n",
    "\n",
    "# setting device on GPU if available, else CPU\n",
    "device = torch.device('cuda' if torch.cuda.is_available() else 'cpu')\n",
    "print('Using device:', device)\n",
    "print()\n",
    "\n",
    "#Additional Info when using cuda\n",
    "if device.type == 'cuda':\n",
    "    print(torch.cuda.get_device_name(0))\n",
    "    print('Memory Usage:')\n",
    "    print('Allocated:', round(torch.cuda.memory_allocated(0)/1024**3,1), 'GB')\n",
    "    print('Cached:   ', round(torch.cuda.memory_reserved(0)/1024**3,1), 'GB')"
   ]
  },
  {
   "cell_type": "markdown",
   "metadata": {},
   "source": [
    "#### Install Transformers and accelerate"
   ]
  },
  {
   "cell_type": "code",
   "execution_count": 12,
   "metadata": {},
   "outputs": [
    {
     "name": "stdout",
     "output_type": "stream",
     "text": [
      "\u001b[33mDEPRECATION: Loading egg at /home/saliu1/.conda/envs/CSE575/lib/python3.12/site-packages/sacremoses-0.0.43-py3.8.egg is deprecated. pip 24.3 will enforce this behaviour change. A possible replacement is to use pip for package installation.. Discussion can be found at https://github.com/pypa/pip/issues/12330\u001b[0m\u001b[33m\n",
      "\u001b[0mCollecting git+https://github.com/huggingface/transformers\n",
      "  Cloning https://github.com/huggingface/transformers to /tmp/pip-req-build-zehgkqcn\n",
      "  Running command git clone --filter=blob:none --quiet https://github.com/huggingface/transformers /tmp/pip-req-build-zehgkqcn\n",
      "  Resolved https://github.com/huggingface/transformers to commit 73014b561d5f88d728e46a57d346f516fefe3f2d\n",
      "  Installing build dependencies ... \u001b[?25ldone\n",
      "\u001b[?25h  Getting requirements to build wheel ... \u001b[?25ldone\n",
      "\u001b[?25h  Preparing metadata (pyproject.toml) ... \u001b[?25ldone\n",
      "\u001b[?25hRequirement already satisfied: filelock in /home/saliu1/.conda/envs/CSE575/lib/python3.12/site-packages (from transformers==4.41.0.dev0) (3.13.1)\n",
      "Requirement already satisfied: huggingface-hub<1.0,>=0.19.3 in /home/saliu1/.conda/envs/CSE575/lib/python3.12/site-packages (from transformers==4.41.0.dev0) (0.22.2)\n",
      "Requirement already satisfied: numpy>=1.17 in /home/saliu1/.conda/envs/CSE575/lib/python3.12/site-packages (from transformers==4.41.0.dev0) (1.26.4)\n",
      "Requirement already satisfied: packaging>=20.0 in /home/saliu1/.conda/envs/CSE575/lib/python3.12/site-packages (from transformers==4.41.0.dev0) (23.2)\n",
      "Requirement already satisfied: pyyaml>=5.1 in /home/saliu1/.conda/envs/CSE575/lib/python3.12/site-packages (from transformers==4.41.0.dev0) (6.0.1)\n",
      "Requirement already satisfied: regex!=2019.12.17 in /home/saliu1/.conda/envs/CSE575/lib/python3.12/site-packages (from transformers==4.41.0.dev0) (2023.10.3)\n",
      "Requirement already satisfied: requests in /home/saliu1/.conda/envs/CSE575/lib/python3.12/site-packages (from transformers==4.41.0.dev0) (2.31.0)\n",
      "Requirement already satisfied: tokenizers<0.20,>=0.19 in /home/saliu1/.conda/envs/CSE575/lib/python3.12/site-packages (from transformers==4.41.0.dev0) (0.19.1)\n",
      "Requirement already satisfied: safetensors>=0.4.1 in /home/saliu1/.conda/envs/CSE575/lib/python3.12/site-packages (from transformers==4.41.0.dev0) (0.4.3)\n",
      "Requirement already satisfied: tqdm>=4.27 in /home/saliu1/.conda/envs/CSE575/lib/python3.12/site-packages (from transformers==4.41.0.dev0) (4.65.0)\n",
      "Requirement already satisfied: fsspec>=2023.5.0 in /home/saliu1/.conda/envs/CSE575/lib/python3.12/site-packages (from huggingface-hub<1.0,>=0.19.3->transformers==4.41.0.dev0) (2024.3.1)\n",
      "Requirement already satisfied: typing-extensions>=3.7.4.3 in /home/saliu1/.conda/envs/CSE575/lib/python3.12/site-packages (from huggingface-hub<1.0,>=0.19.3->transformers==4.41.0.dev0) (4.9.0)\n",
      "Requirement already satisfied: charset-normalizer<4,>=2 in /home/saliu1/.conda/envs/CSE575/lib/python3.12/site-packages (from requests->transformers==4.41.0.dev0) (2.0.4)\n",
      "Requirement already satisfied: idna<4,>=2.5 in /home/saliu1/.conda/envs/CSE575/lib/python3.12/site-packages (from requests->transformers==4.41.0.dev0) (3.4)\n",
      "Requirement already satisfied: urllib3<3,>=1.21.1 in /home/saliu1/.conda/envs/CSE575/lib/python3.12/site-packages (from requests->transformers==4.41.0.dev0) (2.0.3)\n",
      "Requirement already satisfied: certifi>=2017.4.17 in /home/saliu1/.conda/envs/CSE575/lib/python3.12/site-packages (from requests->transformers==4.41.0.dev0) (2024.2.2)\n",
      "\u001b[33mDEPRECATION: Loading egg at /home/saliu1/.conda/envs/CSE575/lib/python3.12/site-packages/sacremoses-0.0.43-py3.8.egg is deprecated. pip 24.3 will enforce this behaviour change. A possible replacement is to use pip for package installation.. Discussion can be found at https://github.com/pypa/pip/issues/12330\u001b[0m\u001b[33m\n",
      "\u001b[0mRequirement already satisfied: accelerate in /home/saliu1/.conda/envs/CSE575/lib/python3.12/site-packages (0.29.3)\n",
      "Requirement already satisfied: numpy>=1.17 in /home/saliu1/.conda/envs/CSE575/lib/python3.12/site-packages (from accelerate) (1.26.4)\n",
      "Requirement already satisfied: packaging>=20.0 in /home/saliu1/.conda/envs/CSE575/lib/python3.12/site-packages (from accelerate) (23.2)\n",
      "Requirement already satisfied: psutil in /home/saliu1/.conda/envs/CSE575/lib/python3.12/site-packages (from accelerate) (5.9.0)\n",
      "Requirement already satisfied: pyyaml in /home/saliu1/.conda/envs/CSE575/lib/python3.12/site-packages (from accelerate) (6.0.1)\n",
      "Requirement already satisfied: torch>=1.10.0 in /home/saliu1/.conda/envs/CSE575/lib/python3.12/site-packages (from accelerate) (2.2.1)\n",
      "Requirement already satisfied: huggingface-hub in /home/saliu1/.conda/envs/CSE575/lib/python3.12/site-packages (from accelerate) (0.22.2)\n",
      "Requirement already satisfied: safetensors>=0.3.1 in /home/saliu1/.conda/envs/CSE575/lib/python3.12/site-packages (from accelerate) (0.4.3)\n",
      "Requirement already satisfied: filelock in /home/saliu1/.conda/envs/CSE575/lib/python3.12/site-packages (from torch>=1.10.0->accelerate) (3.13.1)\n",
      "Requirement already satisfied: typing-extensions>=4.8.0 in /home/saliu1/.conda/envs/CSE575/lib/python3.12/site-packages (from torch>=1.10.0->accelerate) (4.9.0)\n",
      "Requirement already satisfied: sympy in /home/saliu1/.conda/envs/CSE575/lib/python3.12/site-packages (from torch>=1.10.0->accelerate) (1.12)\n",
      "Requirement already satisfied: networkx in /home/saliu1/.conda/envs/CSE575/lib/python3.12/site-packages (from torch>=1.10.0->accelerate) (3.1)\n",
      "Requirement already satisfied: jinja2 in /home/saliu1/.conda/envs/CSE575/lib/python3.12/site-packages (from torch>=1.10.0->accelerate) (3.1.3)\n",
      "Requirement already satisfied: fsspec in /home/saliu1/.conda/envs/CSE575/lib/python3.12/site-packages (from torch>=1.10.0->accelerate) (2024.3.1)\n",
      "Requirement already satisfied: requests in /home/saliu1/.conda/envs/CSE575/lib/python3.12/site-packages (from huggingface-hub->accelerate) (2.31.0)\n",
      "Requirement already satisfied: tqdm>=4.42.1 in /home/saliu1/.conda/envs/CSE575/lib/python3.12/site-packages (from huggingface-hub->accelerate) (4.65.0)\n",
      "Requirement already satisfied: MarkupSafe>=2.0 in /home/saliu1/.conda/envs/CSE575/lib/python3.12/site-packages (from jinja2->torch>=1.10.0->accelerate) (2.1.3)\n",
      "Requirement already satisfied: charset-normalizer<4,>=2 in /home/saliu1/.conda/envs/CSE575/lib/python3.12/site-packages (from requests->huggingface-hub->accelerate) (2.0.4)\n",
      "Requirement already satisfied: idna<4,>=2.5 in /home/saliu1/.conda/envs/CSE575/lib/python3.12/site-packages (from requests->huggingface-hub->accelerate) (3.4)\n",
      "Requirement already satisfied: urllib3<3,>=1.21.1 in /home/saliu1/.conda/envs/CSE575/lib/python3.12/site-packages (from requests->huggingface-hub->accelerate) (2.0.3)\n",
      "Requirement already satisfied: certifi>=2017.4.17 in /home/saliu1/.conda/envs/CSE575/lib/python3.12/site-packages (from requests->huggingface-hub->accelerate) (2024.2.2)\n",
      "Requirement already satisfied: mpmath>=0.19 in /home/saliu1/.conda/envs/CSE575/lib/python3.12/site-packages (from sympy->torch>=1.10.0->accelerate) (1.3.0)\n"
     ]
    }
   ],
   "source": [
    "!pip install git+https://github.com/huggingface/transformers\n",
    "!pip install accelerate"
   ]
  },
  {
   "cell_type": "markdown",
   "metadata": {},
   "source": [
    "#### Load the Llama3 Model"
   ]
  },
  {
   "cell_type": "code",
   "execution_count": 13,
   "metadata": {},
   "outputs": [
    {
     "name": "stderr",
     "output_type": "stream",
     "text": [
      "Special tokens have been added in the vocabulary, make sure the associated word embeddings are fine-tuned or trained.\n"
     ]
    },
    {
     "data": {
      "application/vnd.jupyter.widget-view+json": {
       "model_id": "c2584598190a43269d8d5e4a4c454de0",
       "version_major": 2,
       "version_minor": 0
      },
      "text/plain": [
       "Loading checkpoint shards:   0%|          | 0/4 [00:00<?, ?it/s]"
      ]
     },
     "metadata": {},
     "output_type": "display_data"
    }
   ],
   "source": [
    "from transformers import AutoTokenizer, AutoModelForCausalLM\n",
    "import torch\n",
    "\n",
    "model_id = \"meta-llama/Meta-Llama-3-8B-Instruct\"\n",
    "\n",
    "tokenizer = AutoTokenizer.from_pretrained(model_id)\n",
    "model = AutoModelForCausalLM.from_pretrained(\n",
    "    model_id,\n",
    "    torch_dtype=torch.bfloat16,\n",
    "    device_map=\"auto\",\n",
    ")"
   ]
  },
  {
   "cell_type": "markdown",
   "metadata": {},
   "source": [
    "#### Pass Initial Message to Test Model"
   ]
  },
  {
   "cell_type": "code",
   "execution_count": 14,
   "metadata": {},
   "outputs": [
    {
     "name": "stderr",
     "output_type": "stream",
     "text": [
      "The attention mask and the pad token id were not set. As a consequence, you may observe unexpected behavior. Please pass your input's `attention_mask` to obtain reliable results.\n",
      "Setting `pad_token_id` to `eos_token_id`:128001 for open-end generation.\n"
     ]
    },
    {
     "name": "stdout",
     "output_type": "stream",
     "text": [
      "Arrrr, shiver me timbers! Me name be Captain Chat, the scurviest pirate chatbot to ever sail the Seven Seas! I be here to swab the decks o' yer mind with me witty banter and me treasure trove o' knowledge! So hoist the sails and set course fer a swashbucklin' good time, matey!\n"
     ]
    }
   ],
   "source": [
    "messages = [\n",
    "    {\"role\": \"system\", \"content\": \"You are a pirate chatbot who always responds in pirate speak!\"},\n",
    "    {\"role\": \"user\", \"content\": \"Who are you?\"},\n",
    "]\n",
    "\n",
    "input_ids = tokenizer.apply_chat_template(\n",
    "    messages,\n",
    "    add_generation_prompt=True,\n",
    "    return_tensors=\"pt\"\n",
    ").to(model.device)\n",
    "\n",
    "terminators = [\n",
    "    tokenizer.eos_token_id,\n",
    "    tokenizer.convert_tokens_to_ids(\"<|eot_id|>\")\n",
    "]\n",
    "\n",
    "outputs = model.generate(\n",
    "    input_ids,\n",
    "    max_new_tokens=256,\n",
    "    eos_token_id=terminators,\n",
    "    do_sample=True,\n",
    "    temperature=0.6,\n",
    "    top_p=0.9,\n",
    ")\n",
    "response = outputs[0][input_ids.shape[-1]:]\n",
    "print(tokenizer.decode(response, skip_special_tokens=True))\n"
   ]
  },
  {
   "cell_type": "markdown",
   "metadata": {},
   "source": [
    "#"
   ]
  },
  {
   "cell_type": "markdown",
   "metadata": {},
   "source": [
    "## LLM Recommendation Filtering"
   ]
  },
  {
   "cell_type": "markdown",
   "metadata": {},
   "source": [
    "### Filtering Using the User's Liked Titles"
   ]
  },
  {
   "cell_type": "markdown",
   "metadata": {},
   "source": [
    "#### Get the user's list of liked titles:"
   ]
  },
  {
   "cell_type": "markdown",
   "metadata": {},
   "source": [
    "Return a dataframe containing all of the books the user has rated above the threshold:"
   ]
  },
  {
   "cell_type": "code",
   "execution_count": 22,
   "metadata": {},
   "outputs": [
    {
     "data": {
      "text/plain": [
       "93047"
      ]
     },
     "execution_count": 22,
     "metadata": {},
     "output_type": "execute_result"
    }
   ],
   "source": [
    "user_id"
   ]
  },
  {
   "cell_type": "code",
   "execution_count": 23,
   "metadata": {},
   "outputs": [
    {
     "data": {
      "text/html": [
       "<div>\n",
       "<style scoped>\n",
       "    .dataframe tbody tr th:only-of-type {\n",
       "        vertical-align: middle;\n",
       "    }\n",
       "\n",
       "    .dataframe tbody tr th {\n",
       "        vertical-align: top;\n",
       "    }\n",
       "\n",
       "    .dataframe thead th {\n",
       "        text-align: right;\n",
       "    }\n",
       "</style>\n",
       "<table border=\"1\" class=\"dataframe\">\n",
       "  <thead>\n",
       "    <tr style=\"text-align: right;\">\n",
       "      <th></th>\n",
       "      <th>user</th>\n",
       "      <th>rating</th>\n",
       "      <th>title</th>\n",
       "    </tr>\n",
       "  </thead>\n",
       "  <tbody>\n",
       "    <tr>\n",
       "      <th>343323</th>\n",
       "      <td>93047</td>\n",
       "      <td>8</td>\n",
       "      <td>The Perfect Storm : A True Story of Men Against the Sea</td>\n",
       "    </tr>\n",
       "    <tr>\n",
       "      <th>343355</th>\n",
       "      <td>93047</td>\n",
       "      <td>7</td>\n",
       "      <td>The Bad Beginning (A Series of Unfortunate Events, Book 1)</td>\n",
       "    </tr>\n",
       "    <tr>\n",
       "      <th>343532</th>\n",
       "      <td>93047</td>\n",
       "      <td>7</td>\n",
       "      <td>Interview with the Vampire</td>\n",
       "    </tr>\n",
       "    <tr>\n",
       "      <th>343626</th>\n",
       "      <td>93047</td>\n",
       "      <td>7</td>\n",
       "      <td>Into the Wild</td>\n",
       "    </tr>\n",
       "    <tr>\n",
       "      <th>343699</th>\n",
       "      <td>93047</td>\n",
       "      <td>8</td>\n",
       "      <td>Harry Potter and the Chamber of Secrets (Book 2)</td>\n",
       "    </tr>\n",
       "    <tr>\n",
       "      <th>343701</th>\n",
       "      <td>93047</td>\n",
       "      <td>9</td>\n",
       "      <td>Harry Potter and the Prisoner of Azkaban (Book 3)</td>\n",
       "    </tr>\n",
       "    <tr>\n",
       "      <th>343702</th>\n",
       "      <td>93047</td>\n",
       "      <td>7</td>\n",
       "      <td>Harry Potter and the Goblet of Fire (Book 4)</td>\n",
       "    </tr>\n",
       "    <tr>\n",
       "      <th>343773</th>\n",
       "      <td>93047</td>\n",
       "      <td>7</td>\n",
       "      <td>The Handmaid's Tale</td>\n",
       "    </tr>\n",
       "    <tr>\n",
       "      <th>343906</th>\n",
       "      <td>93047</td>\n",
       "      <td>7</td>\n",
       "      <td>The Alienist</td>\n",
       "    </tr>\n",
       "    <tr>\n",
       "      <th>343944</th>\n",
       "      <td>93047</td>\n",
       "      <td>7</td>\n",
       "      <td>It</td>\n",
       "    </tr>\n",
       "    <tr>\n",
       "      <th>343945</th>\n",
       "      <td>93047</td>\n",
       "      <td>8</td>\n",
       "      <td>Misery</td>\n",
       "    </tr>\n",
       "  </tbody>\n",
       "</table>\n",
       "</div>"
      ],
      "text/plain": [
       "         user  rating  \\\n",
       "343323  93047       8   \n",
       "343355  93047       7   \n",
       "343532  93047       7   \n",
       "343626  93047       7   \n",
       "343699  93047       8   \n",
       "343701  93047       9   \n",
       "343702  93047       7   \n",
       "343773  93047       7   \n",
       "343906  93047       7   \n",
       "343944  93047       7   \n",
       "343945  93047       8   \n",
       "\n",
       "                                                             title  \n",
       "343323     The Perfect Storm : A True Story of Men Against the Sea  \n",
       "343355  The Bad Beginning (A Series of Unfortunate Events, Book 1)  \n",
       "343532                                  Interview with the Vampire  \n",
       "343626                                               Into the Wild  \n",
       "343699            Harry Potter and the Chamber of Secrets (Book 2)  \n",
       "343701           Harry Potter and the Prisoner of Azkaban (Book 3)  \n",
       "343702                Harry Potter and the Goblet of Fire (Book 4)  \n",
       "343773                                         The Handmaid's Tale  \n",
       "343906                                                The Alienist  \n",
       "343944                                                          It  \n",
       "343945                                                      Misery  "
      ]
     },
     "execution_count": 23,
     "metadata": {},
     "output_type": "execute_result"
    }
   ],
   "source": [
    "rating_threshold = 7\n",
    "user_liked_df = filtered_df[(filtered_df[\"user\"] == user_id) & (filtered_df[\"rating\"] >= rating_threshold)]\n",
    "user_liked_df"
   ]
  },
  {
   "cell_type": "markdown",
   "metadata": {},
   "source": [
    "Get the list of book titles from the user_df:"
   ]
  },
  {
   "cell_type": "code",
   "execution_count": 24,
   "metadata": {},
   "outputs": [
    {
     "data": {
      "text/plain": [
       "['The Perfect Storm : A True Story of Men Against the Sea',\n",
       " 'The Bad Beginning (A Series of Unfortunate Events, Book 1)',\n",
       " 'Interview with the Vampire',\n",
       " 'Into the Wild',\n",
       " 'Harry Potter and the Chamber of Secrets (Book 2)',\n",
       " 'Harry Potter and the Prisoner of Azkaban (Book 3)',\n",
       " 'Harry Potter and the Goblet of Fire (Book 4)',\n",
       " \"The Handmaid's Tale\",\n",
       " 'The Alienist',\n",
       " 'It',\n",
       " 'Misery']"
      ]
     },
     "execution_count": 24,
     "metadata": {},
     "output_type": "execute_result"
    }
   ],
   "source": [
    "liked_titles = user_liked_df[\"title\"].tolist()\n",
    "liked_titles"
   ]
  },
  {
   "cell_type": "markdown",
   "metadata": {},
   "source": [
    "#### Get the List of Initial Recommendations"
   ]
  },
  {
   "cell_type": "markdown",
   "metadata": {},
   "source": [
    "Get a list of the top 30 books returned by the Collaborative Filtering Model:"
   ]
  },
  {
   "cell_type": "code",
   "execution_count": 25,
   "metadata": {},
   "outputs": [
    {
     "data": {
      "text/plain": [
       "['Seabiscuit: An American Legend',\n",
       " 'The Red Tent (Bestselling Backlist)',\n",
       " \"Harry Potter and the Sorcerer's Stone (Book 1)\",\n",
       " \"Ender's Game (Ender Wiggins Saga (Paperback))\",\n",
       " 'Fahrenheit 451',\n",
       " 'The Secret Life of Bees',\n",
       " 'The Two Towers (The Lord of the Rings, Part 2)',\n",
       " 'Stupid White Men ...and Other Sorry Excuses for the State of the Nation!',\n",
       " 'Two for the Dough',\n",
       " \"Angela's Ashes (MMP) : A Memoir\",\n",
       " 'The Alchemist: A Fable About Following Your Dream',\n",
       " \"Full House (Janet Evanovich's Full Series)\",\n",
       " 'A Painted House',\n",
       " 'Night',\n",
       " 'Sphere',\n",
       " 'Cold Mountain : A Novel',\n",
       " 'The Lost World',\n",
       " 'To Kill a Mockingbird',\n",
       " \"The Color of Water: A Black Man's Tribute to His White Mother\",\n",
       " 'The Hobbit : The Enchanting Prelude to The Lord of the Rings',\n",
       " 'Angels &amp; Demons',\n",
       " \"The Kitchen God's Wife\",\n",
       " \"White Oleander : A Novel (Oprah's Book Club)\",\n",
       " 'The Poisonwood Bible',\n",
       " 'Digital Fortress : A Thriller',\n",
       " 'Deception Point',\n",
       " 'Bel Canto: A Novel',\n",
       " 'The Queen of the Damned (Vampire Chronicles (Paperback))',\n",
       " 'Harry Potter and the Order of the Phoenix (Book 5)',\n",
       " '1st to Die: A Novel']"
      ]
     },
     "execution_count": 25,
     "metadata": {},
     "output_type": "execute_result"
    }
   ],
   "source": [
    "top_k = 30\n",
    "initial_recommendations = [pred[0] for pred in sorted_preds[:top_k]]\n",
    "initial_recommendations"
   ]
  },
  {
   "cell_type": "markdown",
   "metadata": {},
   "source": [
    "#### Create the Prompt and Pass into the LLM for a Response"
   ]
  },
  {
   "cell_type": "markdown",
   "metadata": {},
   "source": [
    "Create the Prompt:"
   ]
  },
  {
   "cell_type": "code",
   "execution_count": 30,
   "metadata": {},
   "outputs": [],
   "source": [
    "message = {\n",
    "    \"role\": \"user\",\n",
    "    \"content\": f\"Initial recommendations: {initial_recommendations}\\nUser context: The user likes the following books: {liked_titles}\\nPlease refine these recommendations to a list of 10 books based on the user's liked books and provide a brief explanation for each recommendation.\"\n",
    "}\n",
    "\n",
    "messages = [\n",
    "    {\n",
    "        \"role\": \"system\",\n",
    "        \"content\": \"You are an AI assistant that refines recommendations based on user preferences and item descriptions. Your task is to analyze the provided recommendations and user context, and generate a refined list of recommendations from the given larger list of books that matches the user's needs and preferences.\"\n",
    "    },\n",
    "    message\n",
    "]"
   ]
  },
  {
   "cell_type": "markdown",
   "metadata": {},
   "source": [
    "Pass into the Model and Print the Response:"
   ]
  },
  {
   "cell_type": "code",
   "execution_count": 31,
   "metadata": {},
   "outputs": [
    {
     "name": "stderr",
     "output_type": "stream",
     "text": [
      "The attention mask and the pad token id were not set. As a consequence, you may observe unexpected behavior. Please pass your input's `attention_mask` to obtain reliable results.\n",
      "Setting `pad_token_id` to `eos_token_id`:128001 for open-end generation.\n"
     ]
    },
    {
     "name": "stdout",
     "output_type": "stream",
     "text": [
      "After analyzing the user's liked books and the initial recommendations, I've refined the list to 10 books that match the user's preferences. Here are the recommendations:\n",
      "\n",
      "1. **Seabiscuit: An American Legend**: Like \"The Perfect Storm\", this book is a non-fiction story about an underdog's journey to success, making it a great fit for the user's taste in inspiring true stories.\n",
      "2. **The Two Towers (The Lord of the Rings, Part 2)**: As a fan of the Harry Potter series, the user may enjoy another epic fantasy series like The Lord of the Rings. This book is the second installment in the trilogy, which follows the journey of hobbits, elves, and humans in Middle-earth.\n",
      "3. **Cold Mountain : A Novel**: The user may appreciate this historical fiction novel, which shares similarities with \"Into the Wild\" in its themes of adventure, survival, and self-discovery.\n",
      "4. **The Alchemist: A Fable About Following Your Dream**: This book's themes of perseverance, spirituality, and following one's dreams may resonate with the user, who enjoys inspiring stories like \"The Perfect Storm\".\n",
      "5. **The Hobbit : The Enchanting Prelude to The Lord of the Rings**: Another fantasy recommendation, this book is a classic tale of adventure, friendship, and good vs. evil, which may appeal to fans of the Harry Potter series.\n",
      "6. **Bel Canto: A Novel**: This novel's themes of isolation, survival, and the power of music may remind the user of \"Into the Wild\", making it a great fit for their tastes.\n",
      "7. **The Queen of the Damned (Vampire Chronicles (Paperback))**: As a fan of \"Interview with the Vampire\", the user may enjoy this vampire novel, which explores the mythology and lore of the undead.\n",
      "8. **Deception Point**: This thriller's blend of action, suspense, and intrigue may appeal to fans of \"It\", making it a great fit for the user's taste in page-turning fiction.\n",
      "9. **The Poisonwood Bible**: This novel's complex characters, historical context, and themes of faith and redemption may resonate with the user, who enjoys thought-provoking fiction like \"The Handmaid's Tale\".\n",
      "10. **Sphere**: This sci-fi novel's blend of adventure, mystery, and exploration may appeal to fans of \"The Alienist\", making it a great fit for the user's taste in genre-bending fiction.\n",
      "\n",
      "These recommendations offer a mix of genres, themes, and styles that align with the user's preferences, providing a diverse and engaging reading experience.\n"
     ]
    }
   ],
   "source": [
    "input_ids = tokenizer.apply_chat_template(\n",
    "    messages,\n",
    "    add_generation_prompt=True,\n",
    "    return_tensors=\"pt\"\n",
    ").to(model.device)\n",
    "\n",
    "terminators = [\n",
    "    tokenizer.eos_token_id,\n",
    "    tokenizer.convert_tokens_to_ids(\"<|eot_id|>\")\n",
    "]\n",
    "\n",
    "outputs = model.generate(\n",
    "    input_ids,\n",
    "    max_new_tokens=1024,\n",
    "    eos_token_id=terminators,\n",
    "    do_sample=True,\n",
    "    temperature=0.6,\n",
    "    top_p=0.9,\n",
    ")\n",
    "response = outputs[0][input_ids.shape[-1]:]\n",
    "print(tokenizer.decode(response, skip_special_tokens=True))"
   ]
  },
  {
   "cell_type": "markdown",
   "metadata": {},
   "source": [
    "# "
   ]
  },
  {
   "cell_type": "markdown",
   "metadata": {},
   "source": [
    "### Filtering Using the User's Liked Titles and Ratings for Each Title"
   ]
  },
  {
   "cell_type": "code",
   "execution_count": 32,
   "metadata": {},
   "outputs": [
    {
     "data": {
      "text/html": [
       "<div>\n",
       "<style scoped>\n",
       "    .dataframe tbody tr th:only-of-type {\n",
       "        vertical-align: middle;\n",
       "    }\n",
       "\n",
       "    .dataframe tbody tr th {\n",
       "        vertical-align: top;\n",
       "    }\n",
       "\n",
       "    .dataframe thead th {\n",
       "        text-align: right;\n",
       "    }\n",
       "</style>\n",
       "<table border=\"1\" class=\"dataframe\">\n",
       "  <thead>\n",
       "    <tr style=\"text-align: right;\">\n",
       "      <th></th>\n",
       "      <th>user</th>\n",
       "      <th>rating</th>\n",
       "      <th>title</th>\n",
       "    </tr>\n",
       "  </thead>\n",
       "  <tbody>\n",
       "    <tr>\n",
       "      <th>343323</th>\n",
       "      <td>93047</td>\n",
       "      <td>8</td>\n",
       "      <td>The Perfect Storm : A True Story of Men Against the Sea</td>\n",
       "    </tr>\n",
       "    <tr>\n",
       "      <th>343355</th>\n",
       "      <td>93047</td>\n",
       "      <td>7</td>\n",
       "      <td>The Bad Beginning (A Series of Unfortunate Events, Book 1)</td>\n",
       "    </tr>\n",
       "    <tr>\n",
       "      <th>343532</th>\n",
       "      <td>93047</td>\n",
       "      <td>7</td>\n",
       "      <td>Interview with the Vampire</td>\n",
       "    </tr>\n",
       "    <tr>\n",
       "      <th>343626</th>\n",
       "      <td>93047</td>\n",
       "      <td>7</td>\n",
       "      <td>Into the Wild</td>\n",
       "    </tr>\n",
       "    <tr>\n",
       "      <th>343699</th>\n",
       "      <td>93047</td>\n",
       "      <td>8</td>\n",
       "      <td>Harry Potter and the Chamber of Secrets (Book 2)</td>\n",
       "    </tr>\n",
       "    <tr>\n",
       "      <th>343701</th>\n",
       "      <td>93047</td>\n",
       "      <td>9</td>\n",
       "      <td>Harry Potter and the Prisoner of Azkaban (Book 3)</td>\n",
       "    </tr>\n",
       "    <tr>\n",
       "      <th>343702</th>\n",
       "      <td>93047</td>\n",
       "      <td>7</td>\n",
       "      <td>Harry Potter and the Goblet of Fire (Book 4)</td>\n",
       "    </tr>\n",
       "    <tr>\n",
       "      <th>343773</th>\n",
       "      <td>93047</td>\n",
       "      <td>7</td>\n",
       "      <td>The Handmaid's Tale</td>\n",
       "    </tr>\n",
       "    <tr>\n",
       "      <th>343906</th>\n",
       "      <td>93047</td>\n",
       "      <td>7</td>\n",
       "      <td>The Alienist</td>\n",
       "    </tr>\n",
       "    <tr>\n",
       "      <th>343944</th>\n",
       "      <td>93047</td>\n",
       "      <td>7</td>\n",
       "      <td>It</td>\n",
       "    </tr>\n",
       "    <tr>\n",
       "      <th>343945</th>\n",
       "      <td>93047</td>\n",
       "      <td>8</td>\n",
       "      <td>Misery</td>\n",
       "    </tr>\n",
       "  </tbody>\n",
       "</table>\n",
       "</div>"
      ],
      "text/plain": [
       "         user  rating  \\\n",
       "343323  93047       8   \n",
       "343355  93047       7   \n",
       "343532  93047       7   \n",
       "343626  93047       7   \n",
       "343699  93047       8   \n",
       "343701  93047       9   \n",
       "343702  93047       7   \n",
       "343773  93047       7   \n",
       "343906  93047       7   \n",
       "343944  93047       7   \n",
       "343945  93047       8   \n",
       "\n",
       "                                                             title  \n",
       "343323     The Perfect Storm : A True Story of Men Against the Sea  \n",
       "343355  The Bad Beginning (A Series of Unfortunate Events, Book 1)  \n",
       "343532                                  Interview with the Vampire  \n",
       "343626                                               Into the Wild  \n",
       "343699            Harry Potter and the Chamber of Secrets (Book 2)  \n",
       "343701           Harry Potter and the Prisoner of Azkaban (Book 3)  \n",
       "343702                Harry Potter and the Goblet of Fire (Book 4)  \n",
       "343773                                         The Handmaid's Tale  \n",
       "343906                                                The Alienist  \n",
       "343944                                                          It  \n",
       "343945                                                      Misery  "
      ]
     },
     "execution_count": 32,
     "metadata": {},
     "output_type": "execute_result"
    }
   ],
   "source": [
    "user_liked_df"
   ]
  },
  {
   "cell_type": "markdown",
   "metadata": {},
   "source": [
    "Create the list of books along with the user's ratings for eact title:"
   ]
  },
  {
   "cell_type": "code",
   "execution_count": 33,
   "metadata": {},
   "outputs": [],
   "source": [
    "user_context = []\n",
    "for _, row in user_liked_df.iterrows():\n",
    "    user_context.append(f\"{row[\"title\"]} (Rating: {row[\"rating\"]})\")"
   ]
  },
  {
   "cell_type": "code",
   "execution_count": 34,
   "metadata": {},
   "outputs": [
    {
     "data": {
      "text/plain": [
       "['The Perfect Storm : A True Story of Men Against the Sea (Rating: 8)',\n",
       " 'The Bad Beginning (A Series of Unfortunate Events, Book 1) (Rating: 7)',\n",
       " 'Interview with the Vampire (Rating: 7)',\n",
       " 'Into the Wild (Rating: 7)',\n",
       " 'Harry Potter and the Chamber of Secrets (Book 2) (Rating: 8)',\n",
       " 'Harry Potter and the Prisoner of Azkaban (Book 3) (Rating: 9)',\n",
       " 'Harry Potter and the Goblet of Fire (Book 4) (Rating: 7)',\n",
       " \"The Handmaid's Tale (Rating: 7)\",\n",
       " 'The Alienist (Rating: 7)',\n",
       " 'It (Rating: 7)',\n",
       " 'Misery (Rating: 8)']"
      ]
     },
     "execution_count": 34,
     "metadata": {},
     "output_type": "execute_result"
    }
   ],
   "source": [
    "user_context"
   ]
  },
  {
   "cell_type": "markdown",
   "metadata": {},
   "source": [
    "Create the Message:"
   ]
  },
  {
   "cell_type": "code",
   "execution_count": 36,
   "metadata": {},
   "outputs": [],
   "source": [
    "message = {\n",
    "    \"role\": \"user\",\n",
    "    \"content\": f\"Initial recommendations: {initial_recommendations}\\nUser context: The user likes the following books with their ratings: {', '.join(user_context)}\\nPlease refine these recommendations to a list of 10 books based on the user's liked books and ratings, and provide a brief explanation for each recommendation.\"\n",
    "}\n",
    "\n",
    "messages = [\n",
    "    {\n",
    "        \"role\": \"system\",\n",
    "        \"content\": \"You are an AI assistant that refines recommendations based on user preferences and item descriptions. Your task is to analyze the provided recommendations and user context, and generate a refined list of recommendations from the given larger list of books that matches the user's needs and preferences.\"\n",
    "    },\n",
    "    message\n",
    "]"
   ]
  },
  {
   "cell_type": "markdown",
   "metadata": {},
   "source": [
    "Pass into the LLM:"
   ]
  },
  {
   "cell_type": "code",
   "execution_count": 37,
   "metadata": {},
   "outputs": [
    {
     "name": "stderr",
     "output_type": "stream",
     "text": [
      "The attention mask and the pad token id were not set. As a consequence, you may observe unexpected behavior. Please pass your input's `attention_mask` to obtain reliable results.\n",
      "Setting `pad_token_id` to `eos_token_id`:128001 for open-end generation.\n"
     ]
    },
    {
     "name": "stdout",
     "output_type": "stream",
     "text": [
      "Based on the user's liked books and ratings, I've refined the recommendations to a list of 10 books that match their preferences. Here's the list:\n",
      "\n",
      "1. \"The Two Towers (The Lord of the Rings, Part 2)\" - This book is part of a popular fantasy series, similar to Harry Potter, and has a similar epic scope and adventure elements.\n",
      "2. \"Cold Mountain : A Novel\" - The user enjoys historical fiction and adventure, and Cold Mountain is a historical novel with a strong narrative and vivid descriptions.\n",
      "3. \"The Alchemist: A Fable About Following Your Dream\" - The user likes books with a strong narrative and adventure elements, and The Alchemist is a fable that explores themes of self-discovery and perseverance.\n",
      "4. \"The Poisonwood Bible\" - The user enjoys literary fiction and complex characters, and The Poisonwood Bible is a critically acclaimed novel that explores themes of family, culture, and identity.\n",
      "5. \"Bel Canto: A Novel\" - The user likes books with a strong narrative and complex characters, and Bel Canto is a novel that explores themes of love, music, and politics.\n",
      "6. \"The Queen of the Damned (Vampire Chronicles (Paperback))\" - The user enjoys vampire fiction and has liked books with supernatural elements, and The Queen of the Damned is a popular vampire novel with a strong narrative.\n",
      "7. \"Deception Point\" - The user enjoys thrillers and adventure novels, and Deception Point is a fast-paced thriller that explores themes of science, politics, and conspiracy.\n",
      "8. \"A Painted House\" - The user likes books with a strong narrative and historical elements, and A Painted House is a historical novel that explores themes of family, culture, and identity.\n",
      "9. \"The Lost World\" - The user enjoys adventure and science fiction, and The Lost World is a classic novel that explores themes of exploration, discovery, and survival.\n",
      "10. \"Angela's Ashes (MMP) : A Memoir\" - The user enjoys memoirs and non-fiction, and Angela's Ashes is a critically acclaimed memoir that explores themes of family, culture, and identity.\n",
      "\n",
      "These recommendations are based on the user's preferences for books with strong narratives, adventure elements, complex characters, and themes of self-discovery, family, and identity.\n"
     ]
    }
   ],
   "source": [
    "input_ids = tokenizer.apply_chat_template(\n",
    "    messages,\n",
    "    add_generation_prompt=True,\n",
    "    return_tensors=\"pt\"\n",
    ").to(model.device)\n",
    "\n",
    "terminators = [\n",
    "    tokenizer.eos_token_id,\n",
    "    tokenizer.convert_tokens_to_ids(\"<|eot_id|>\")\n",
    "]\n",
    "\n",
    "outputs = model.generate(\n",
    "    input_ids,\n",
    "    max_new_tokens=1024,\n",
    "    eos_token_id=terminators,\n",
    "    do_sample=True,\n",
    "    temperature=0.6,\n",
    "    top_p=0.9,\n",
    ")\n",
    "response = outputs[0][input_ids.shape[-1]:]\n",
    "print(tokenizer.decode(response, skip_special_tokens=True))"
   ]
  },
  {
   "cell_type": "code",
   "execution_count": null,
   "metadata": {},
   "outputs": [],
   "source": []
  }
 ],
 "metadata": {
  "accelerator": "GPU",
  "colab": {
   "gpuType": "T4",
   "provenance": []
  },
  "kernelspec": {
   "display_name": "Python 3 (ipykernel)",
   "language": "python",
   "name": "python3"
  },
  "language_info": {
   "codemirror_mode": {
    "name": "ipython",
    "version": 3
   },
   "file_extension": ".py",
   "mimetype": "text/x-python",
   "name": "python",
   "nbconvert_exporter": "python",
   "pygments_lexer": "ipython3",
   "version": "3.12.2"
  }
 },
 "nbformat": 4,
 "nbformat_minor": 4
}
