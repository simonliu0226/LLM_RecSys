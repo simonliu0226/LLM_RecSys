{
  "cells": [
    {
      "cell_type": "markdown",
      "metadata": {
        "id": "vCAJ6NvdWXeo"
      },
      "source": [
        "### Import Data:"
      ]
    },
    {
      "cell_type": "code",
      "execution_count": 7,
      "metadata": {
        "id": "6aWU6l3WoOBO"
      },
      "outputs": [],
      "source": [
        "import pandas as pd\n",
        "ratings = pd.read_csv('../Datasets/kaggle_book_recommendation/Ratings.csv')\n",
        "books = pd.read_csv('../Datasets/kaggle_book_recommendation/Books.csv', dtype={3: 'str'})"
      ]
    },
    {
      "cell_type": "code",
      "execution_count": 11,
      "metadata": {},
      "outputs": [
        {
          "data": {
            "text/plain": [
              "1149780"
            ]
          },
          "execution_count": 11,
          "metadata": {},
          "output_type": "execute_result"
        }
      ],
      "source": [
        "len(ratings)"
      ]
    },
    {
      "cell_type": "code",
      "execution_count": 4,
      "metadata": {},
      "outputs": [
        {
          "data": {
            "text/plain": [
              "105283"
            ]
          },
          "execution_count": 4,
          "metadata": {},
          "output_type": "execute_result"
        }
      ],
      "source": [
        "ratings['User-ID'].nunique()"
      ]
    },
    {
      "cell_type": "code",
      "execution_count": 7,
      "metadata": {},
      "outputs": [
        {
          "data": {
            "text/plain": [
              "340556"
            ]
          },
          "execution_count": 7,
          "metadata": {},
          "output_type": "execute_result"
        }
      ],
      "source": [
        "ratings['ISBN'].nunique()"
      ]
    },
    {
      "cell_type": "code",
      "execution_count": 10,
      "metadata": {},
      "outputs": [
        {
          "data": {
            "text/plain": [
              "271360"
            ]
          },
          "execution_count": 10,
          "metadata": {},
          "output_type": "execute_result"
        }
      ],
      "source": [
        "books['ISBN'].nunique()"
      ]
    },
    {
      "cell_type": "code",
      "execution_count": 14,
      "metadata": {},
      "outputs": [
        {
          "data": {
            "text/plain": [
              "242135"
            ]
          },
          "execution_count": 14,
          "metadata": {},
          "output_type": "execute_result"
        }
      ],
      "source": [
        "books['Book-Title'].nunique()"
      ]
    },
    {
      "cell_type": "markdown",
      "metadata": {
        "id": "CDfsOvTWZwSE"
      },
      "source": [
        "### Process the Data:"
      ]
    },
    {
      "cell_type": "markdown",
      "metadata": {
        "id": "HbMOzL-lcBNS"
      },
      "source": [
        "Merge ratings dataframe with the books dataframe and remove unnecessary columns:"
      ]
    },
    {
      "cell_type": "code",
      "execution_count": 8,
      "metadata": {
        "colab": {
          "base_uri": "https://localhost:8080/",
          "height": 206
        },
        "id": "PgaLd3KPZ6lZ",
        "outputId": "0afa0726-9ba4-4b1b-bd0a-b432c7792c2b"
      },
      "outputs": [
        {
          "data": {
            "text/html": [
              "<div>\n",
              "<style scoped>\n",
              "    .dataframe tbody tr th:only-of-type {\n",
              "        vertical-align: middle;\n",
              "    }\n",
              "\n",
              "    .dataframe tbody tr th {\n",
              "        vertical-align: top;\n",
              "    }\n",
              "\n",
              "    .dataframe thead th {\n",
              "        text-align: right;\n",
              "    }\n",
              "</style>\n",
              "<table border=\"1\" class=\"dataframe\">\n",
              "  <thead>\n",
              "    <tr style=\"text-align: right;\">\n",
              "      <th></th>\n",
              "      <th>user</th>\n",
              "      <th>rating</th>\n",
              "      <th>title</th>\n",
              "    </tr>\n",
              "  </thead>\n",
              "  <tbody>\n",
              "    <tr>\n",
              "      <th>0</th>\n",
              "      <td>276725</td>\n",
              "      <td>0</td>\n",
              "      <td>Flesh Tones: A Novel</td>\n",
              "    </tr>\n",
              "    <tr>\n",
              "      <th>1</th>\n",
              "      <td>2313</td>\n",
              "      <td>5</td>\n",
              "      <td>Flesh Tones: A Novel</td>\n",
              "    </tr>\n",
              "    <tr>\n",
              "      <th>2</th>\n",
              "      <td>6543</td>\n",
              "      <td>0</td>\n",
              "      <td>Flesh Tones: A Novel</td>\n",
              "    </tr>\n",
              "    <tr>\n",
              "      <th>3</th>\n",
              "      <td>8680</td>\n",
              "      <td>5</td>\n",
              "      <td>Flesh Tones: A Novel</td>\n",
              "    </tr>\n",
              "    <tr>\n",
              "      <th>4</th>\n",
              "      <td>10314</td>\n",
              "      <td>9</td>\n",
              "      <td>Flesh Tones: A Novel</td>\n",
              "    </tr>\n",
              "  </tbody>\n",
              "</table>\n",
              "</div>"
            ],
            "text/plain": [
              "     user  rating                 title\n",
              "0  276725       0  Flesh Tones: A Novel\n",
              "1    2313       5  Flesh Tones: A Novel\n",
              "2    6543       0  Flesh Tones: A Novel\n",
              "3    8680       5  Flesh Tones: A Novel\n",
              "4   10314       9  Flesh Tones: A Novel"
            ]
          },
          "execution_count": 8,
          "metadata": {},
          "output_type": "execute_result"
        }
      ],
      "source": [
        "ratings_books_df = ratings.merge(books, on='ISBN')\n",
        "ratings_books_df.drop(columns=['ISBN', 'Book-Author', 'Year-Of-Publication', 'Publisher', 'Image-URL-S', 'Image-URL-M', 'Image-URL-L'], axis=1, inplace=True)\n",
        "ratings_books_df.columns = ['user', 'rating', 'title']\n",
        "ratings_books_df.head()"
      ]
    },
    {
      "cell_type": "code",
      "execution_count": 9,
      "metadata": {},
      "outputs": [
        {
          "data": {
            "text/plain": [
              "1031136"
            ]
          },
          "execution_count": 9,
          "metadata": {},
          "output_type": "execute_result"
        }
      ],
      "source": [
        "len(ratings_books_df)"
      ]
    },
    {
      "cell_type": "markdown",
      "metadata": {
        "id": "64Cs6Ut1cKru"
      },
      "source": [
        "Filter the Data:"
      ]
    },
    {
      "cell_type": "code",
      "execution_count": 10,
      "metadata": {},
      "outputs": [],
      "source": [
        "# Remove all ratings with 0.\n",
        "ratings_books_df = ratings_books_df[ratings_books_df['rating'] > 0]\n",
        "\n",
        "users_with_5_ratings = ratings_books_df.groupby('user').filter(lambda x: len(x) == 5)"
      ]
    },
    {
      "cell_type": "code",
      "execution_count": 11,
      "metadata": {},
      "outputs": [],
      "source": [
        "df_5 = users_with_5_ratings[users_with_5_ratings['title'].isin(ratings_books_df['title'])]"
      ]
    },
    {
      "cell_type": "code",
      "execution_count": 12,
      "metadata": {},
      "outputs": [],
      "source": [
        "df_5 = df_5.sort_values(by='user')"
      ]
    },
    {
      "cell_type": "code",
      "execution_count": 13,
      "metadata": {},
      "outputs": [
        {
          "data": {
            "text/html": [
              "<div>\n",
              "<style scoped>\n",
              "    .dataframe tbody tr th:only-of-type {\n",
              "        vertical-align: middle;\n",
              "    }\n",
              "\n",
              "    .dataframe tbody tr th {\n",
              "        vertical-align: top;\n",
              "    }\n",
              "\n",
              "    .dataframe thead th {\n",
              "        text-align: right;\n",
              "    }\n",
              "</style>\n",
              "<table border=\"1\" class=\"dataframe\">\n",
              "  <thead>\n",
              "    <tr style=\"text-align: right;\">\n",
              "      <th></th>\n",
              "      <th>user</th>\n",
              "      <th>rating</th>\n",
              "      <th>title</th>\n",
              "    </tr>\n",
              "  </thead>\n",
              "  <tbody>\n",
              "    <tr>\n",
              "      <th>188105</th>\n",
              "      <td>183</td>\n",
              "      <td>8</td>\n",
              "      <td>Folio Junior: L'histoire De Monsieur Sommer</td>\n",
              "    </tr>\n",
              "    <tr>\n",
              "      <th>188115</th>\n",
              "      <td>183</td>\n",
              "      <td>9</td>\n",
              "      <td>Fahrenheit 451</td>\n",
              "    </tr>\n",
              "    <tr>\n",
              "      <th>188121</th>\n",
              "      <td>183</td>\n",
              "      <td>7</td>\n",
              "      <td>Cuentos del Planeta Tierra</td>\n",
              "    </tr>\n",
              "    <tr>\n",
              "      <th>188126</th>\n",
              "      <td>183</td>\n",
              "      <td>9</td>\n",
              "      <td>Que Se Mueran Los Feos (Fabula)</td>\n",
              "    </tr>\n",
              "    <tr>\n",
              "      <th>188127</th>\n",
              "      <td>183</td>\n",
              "      <td>8</td>\n",
              "      <td>Estudios sobre el amor</td>\n",
              "    </tr>\n",
              "    <tr>\n",
              "      <th>...</th>\n",
              "      <td>...</td>\n",
              "      <td>...</td>\n",
              "      <td>...</td>\n",
              "    </tr>\n",
              "    <tr>\n",
              "      <th>180703</th>\n",
              "      <td>278668</td>\n",
              "      <td>5</td>\n",
              "      <td>El Alquimista</td>\n",
              "    </tr>\n",
              "    <tr>\n",
              "      <th>180709</th>\n",
              "      <td>278668</td>\n",
              "      <td>5</td>\n",
              "      <td>LA Muerte Del Decano</td>\n",
              "    </tr>\n",
              "    <tr>\n",
              "      <th>180716</th>\n",
              "      <td>278668</td>\n",
              "      <td>5</td>\n",
              "      <td>Nadie Conoce a Nadie (Tiempos modernos)</td>\n",
              "    </tr>\n",
              "    <tr>\n",
              "      <th>180710</th>\n",
              "      <td>278668</td>\n",
              "      <td>5</td>\n",
              "      <td>La Perla del Oriente (ColecciÃ³n Ancora y delf...</td>\n",
              "    </tr>\n",
              "    <tr>\n",
              "      <th>180712</th>\n",
              "      <td>278668</td>\n",
              "      <td>5</td>\n",
              "      <td>El Hombre Solo</td>\n",
              "    </tr>\n",
              "  </tbody>\n",
              "</table>\n",
              "<p>10015 rows × 3 columns</p>\n",
              "</div>"
            ],
            "text/plain": [
              "          user  rating                                              title\n",
              "188105     183       8        Folio Junior: L'histoire De Monsieur Sommer\n",
              "188115     183       9                                     Fahrenheit 451\n",
              "188121     183       7                         Cuentos del Planeta Tierra\n",
              "188126     183       9                    Que Se Mueran Los Feos (Fabula)\n",
              "188127     183       8                             Estudios sobre el amor\n",
              "...        ...     ...                                                ...\n",
              "180703  278668       5                                      El Alquimista\n",
              "180709  278668       5                               LA Muerte Del Decano\n",
              "180716  278668       5            Nadie Conoce a Nadie (Tiempos modernos)\n",
              "180710  278668       5  La Perla del Oriente (ColecciÃ³n Ancora y delf...\n",
              "180712  278668       5                                     El Hombre Solo\n",
              "\n",
              "[10015 rows x 3 columns]"
            ]
          },
          "execution_count": 13,
          "metadata": {},
          "output_type": "execute_result"
        }
      ],
      "source": [
        "df_5"
      ]
    },
    {
      "cell_type": "code",
      "execution_count": 14,
      "metadata": {},
      "outputs": [],
      "source": [
        "df_5['comb'] = '\"' + df_5['title'] + '\" ' + df_5['rating'].astype(str)"
      ]
    },
    {
      "cell_type": "code",
      "execution_count": 15,
      "metadata": {},
      "outputs": [
        {
          "data": {
            "text/html": [
              "<div>\n",
              "<style scoped>\n",
              "    .dataframe tbody tr th:only-of-type {\n",
              "        vertical-align: middle;\n",
              "    }\n",
              "\n",
              "    .dataframe tbody tr th {\n",
              "        vertical-align: top;\n",
              "    }\n",
              "\n",
              "    .dataframe thead th {\n",
              "        text-align: right;\n",
              "    }\n",
              "</style>\n",
              "<table border=\"1\" class=\"dataframe\">\n",
              "  <thead>\n",
              "    <tr style=\"text-align: right;\">\n",
              "      <th></th>\n",
              "      <th>user</th>\n",
              "      <th>rating</th>\n",
              "      <th>title</th>\n",
              "      <th>comb</th>\n",
              "    </tr>\n",
              "  </thead>\n",
              "  <tbody>\n",
              "    <tr>\n",
              "      <th>188105</th>\n",
              "      <td>183</td>\n",
              "      <td>8</td>\n",
              "      <td>Folio Junior: L'histoire De Monsieur Sommer</td>\n",
              "      <td>\"Folio Junior: L'histoire De Monsieur Sommer\" 8</td>\n",
              "    </tr>\n",
              "    <tr>\n",
              "      <th>188115</th>\n",
              "      <td>183</td>\n",
              "      <td>9</td>\n",
              "      <td>Fahrenheit 451</td>\n",
              "      <td>\"Fahrenheit 451\" 9</td>\n",
              "    </tr>\n",
              "    <tr>\n",
              "      <th>188121</th>\n",
              "      <td>183</td>\n",
              "      <td>7</td>\n",
              "      <td>Cuentos del Planeta Tierra</td>\n",
              "      <td>\"Cuentos del Planeta Tierra\" 7</td>\n",
              "    </tr>\n",
              "    <tr>\n",
              "      <th>188126</th>\n",
              "      <td>183</td>\n",
              "      <td>9</td>\n",
              "      <td>Que Se Mueran Los Feos (Fabula)</td>\n",
              "      <td>\"Que Se Mueran Los Feos (Fabula)\" 9</td>\n",
              "    </tr>\n",
              "    <tr>\n",
              "      <th>188127</th>\n",
              "      <td>183</td>\n",
              "      <td>8</td>\n",
              "      <td>Estudios sobre el amor</td>\n",
              "      <td>\"Estudios sobre el amor\" 8</td>\n",
              "    </tr>\n",
              "    <tr>\n",
              "      <th>...</th>\n",
              "      <td>...</td>\n",
              "      <td>...</td>\n",
              "      <td>...</td>\n",
              "      <td>...</td>\n",
              "    </tr>\n",
              "    <tr>\n",
              "      <th>180703</th>\n",
              "      <td>278668</td>\n",
              "      <td>5</td>\n",
              "      <td>El Alquimista</td>\n",
              "      <td>\"El Alquimista\" 5</td>\n",
              "    </tr>\n",
              "    <tr>\n",
              "      <th>180709</th>\n",
              "      <td>278668</td>\n",
              "      <td>5</td>\n",
              "      <td>LA Muerte Del Decano</td>\n",
              "      <td>\"LA Muerte Del Decano\" 5</td>\n",
              "    </tr>\n",
              "    <tr>\n",
              "      <th>180716</th>\n",
              "      <td>278668</td>\n",
              "      <td>5</td>\n",
              "      <td>Nadie Conoce a Nadie (Tiempos modernos)</td>\n",
              "      <td>\"Nadie Conoce a Nadie (Tiempos modernos)\" 5</td>\n",
              "    </tr>\n",
              "    <tr>\n",
              "      <th>180710</th>\n",
              "      <td>278668</td>\n",
              "      <td>5</td>\n",
              "      <td>La Perla del Oriente (ColecciÃ³n Ancora y delf...</td>\n",
              "      <td>\"La Perla del Oriente (ColecciÃ³n Ancora y del...</td>\n",
              "    </tr>\n",
              "    <tr>\n",
              "      <th>180712</th>\n",
              "      <td>278668</td>\n",
              "      <td>5</td>\n",
              "      <td>El Hombre Solo</td>\n",
              "      <td>\"El Hombre Solo\" 5</td>\n",
              "    </tr>\n",
              "  </tbody>\n",
              "</table>\n",
              "<p>10015 rows × 4 columns</p>\n",
              "</div>"
            ],
            "text/plain": [
              "          user  rating                                              title  \\\n",
              "188105     183       8        Folio Junior: L'histoire De Monsieur Sommer   \n",
              "188115     183       9                                     Fahrenheit 451   \n",
              "188121     183       7                         Cuentos del Planeta Tierra   \n",
              "188126     183       9                    Que Se Mueran Los Feos (Fabula)   \n",
              "188127     183       8                             Estudios sobre el amor   \n",
              "...        ...     ...                                                ...   \n",
              "180703  278668       5                                      El Alquimista   \n",
              "180709  278668       5                               LA Muerte Del Decano   \n",
              "180716  278668       5            Nadie Conoce a Nadie (Tiempos modernos)   \n",
              "180710  278668       5  La Perla del Oriente (ColecciÃ³n Ancora y delf...   \n",
              "180712  278668       5                                     El Hombre Solo   \n",
              "\n",
              "                                                     comb  \n",
              "188105    \"Folio Junior: L'histoire De Monsieur Sommer\" 8  \n",
              "188115                                 \"Fahrenheit 451\" 9  \n",
              "188121                     \"Cuentos del Planeta Tierra\" 7  \n",
              "188126                \"Que Se Mueran Los Feos (Fabula)\" 9  \n",
              "188127                         \"Estudios sobre el amor\" 8  \n",
              "...                                                   ...  \n",
              "180703                                  \"El Alquimista\" 5  \n",
              "180709                           \"LA Muerte Del Decano\" 5  \n",
              "180716        \"Nadie Conoce a Nadie (Tiempos modernos)\" 5  \n",
              "180710  \"La Perla del Oriente (ColecciÃ³n Ancora y del...  \n",
              "180712                                 \"El Hombre Solo\" 5  \n",
              "\n",
              "[10015 rows x 4 columns]"
            ]
          },
          "execution_count": 15,
          "metadata": {},
          "output_type": "execute_result"
        }
      ],
      "source": [
        "df_5"
      ]
    },
    {
      "cell_type": "code",
      "execution_count": 16,
      "metadata": {},
      "outputs": [],
      "source": [
        "# Grouping by 'user' and joining 'comb' values\n",
        "users_filtered = df_5.groupby('user')['comb'].agg('\\n'.join).reset_index()"
      ]
    },
    {
      "cell_type": "code",
      "execution_count": 17,
      "metadata": {},
      "outputs": [],
      "source": [
        "# Extracting the last sentence from each 'combined' entry\n",
        "users_filtered['last'] = users_filtered['comb'].apply(lambda x: x.split('\\n')[-1])"
      ]
    },
    {
      "cell_type": "code",
      "execution_count": 18,
      "metadata": {},
      "outputs": [],
      "source": [
        "users_filtered['ans'] = users_filtered['last'].apply(lambda x: x.split(' ')[-1])"
      ]
    },
    {
      "cell_type": "code",
      "execution_count": 19,
      "metadata": {},
      "outputs": [],
      "source": [
        "users_filtered['query'] = users_filtered['last'].apply(lambda x: ' '.join(x.split()[:-1]))"
      ]
    },
    {
      "cell_type": "code",
      "execution_count": 20,
      "metadata": {},
      "outputs": [],
      "source": [
        "users_filtered['data'] = users_filtered['comb'].apply(lambda x: '\\n'.join(x.split('\\n')[:-1]))"
      ]
    },
    {
      "cell_type": "code",
      "execution_count": 21,
      "metadata": {},
      "outputs": [],
      "source": [
        "users_filtered['prompt'] = users_filtered.apply(lambda row: f\"\"\"You are a book recommender and your job is to predict a user's rating (ranging from 1 to 10, with 10 being the highest) on a book, based on that user's previous ratings.\n",
        "\n",
        "User {row['user']} has rated the following books:\n",
        "\n",
        "{row['data']}\n",
        "\n",
        "Predict the user's rating on {row['query']}. Output the rating score only. Do not include other text.\"\"\", axis=1)"
      ]
    },
    {
      "cell_type": "code",
      "execution_count": 22,
      "metadata": {},
      "outputs": [
        {
          "data": {
            "text/html": [
              "<div>\n",
              "<style scoped>\n",
              "    .dataframe tbody tr th:only-of-type {\n",
              "        vertical-align: middle;\n",
              "    }\n",
              "\n",
              "    .dataframe tbody tr th {\n",
              "        vertical-align: top;\n",
              "    }\n",
              "\n",
              "    .dataframe thead th {\n",
              "        text-align: right;\n",
              "    }\n",
              "</style>\n",
              "<table border=\"1\" class=\"dataframe\">\n",
              "  <thead>\n",
              "    <tr style=\"text-align: right;\">\n",
              "      <th></th>\n",
              "      <th>user</th>\n",
              "      <th>comb</th>\n",
              "      <th>last</th>\n",
              "      <th>ans</th>\n",
              "      <th>query</th>\n",
              "      <th>data</th>\n",
              "      <th>prompt</th>\n",
              "    </tr>\n",
              "  </thead>\n",
              "  <tbody>\n",
              "    <tr>\n",
              "      <th>0</th>\n",
              "      <td>183</td>\n",
              "      <td>\"Folio Junior: L'histoire De Monsieur Sommer\" ...</td>\n",
              "      <td>\"Estudios sobre el amor\" 8</td>\n",
              "      <td>8</td>\n",
              "      <td>\"Estudios sobre el amor\"</td>\n",
              "      <td>\"Folio Junior: L'histoire De Monsieur Sommer\" ...</td>\n",
              "      <td>You are a book recommender and your job is to ...</td>\n",
              "    </tr>\n",
              "    <tr>\n",
              "      <th>1</th>\n",
              "      <td>387</td>\n",
              "      <td>\"The Adventures of Tom Sawyer\" 9\\n\"Santa Broug...</td>\n",
              "      <td>\"Jane Eyre\" 9</td>\n",
              "      <td>9</td>\n",
              "      <td>\"Jane Eyre\"</td>\n",
              "      <td>\"The Adventures of Tom Sawyer\" 9\\n\"Santa Broug...</td>\n",
              "      <td>You are a book recommender and your job is to ...</td>\n",
              "    </tr>\n",
              "    <tr>\n",
              "      <th>2</th>\n",
              "      <td>408</td>\n",
              "      <td>\"Alice's Tulips\" 8\\n\"Guinness World Records 20...</td>\n",
              "      <td>\"Frankenstein (Illustrated Classics Series)\" 7</td>\n",
              "      <td>7</td>\n",
              "      <td>\"Frankenstein (Illustrated Classics Series)\"</td>\n",
              "      <td>\"Alice's Tulips\" 8\\n\"Guinness World Records 20...</td>\n",
              "      <td>You are a book recommender and your job is to ...</td>\n",
              "    </tr>\n",
              "    <tr>\n",
              "      <th>3</th>\n",
              "      <td>472</td>\n",
              "      <td>\"Organic Chemistry (Saunders Golden Sunburst S...</td>\n",
              "      <td>\"Secrets of St. John's Wort: A Lynn Sonberg Bo...</td>\n",
              "      <td>5</td>\n",
              "      <td>\"Secrets of St. John's Wort: A Lynn Sonberg Book\"</td>\n",
              "      <td>\"Organic Chemistry (Saunders Golden Sunburst S...</td>\n",
              "      <td>You are a book recommender and your job is to ...</td>\n",
              "    </tr>\n",
              "    <tr>\n",
              "      <th>4</th>\n",
              "      <td>566</td>\n",
              "      <td>\"Who Moved My Cheese? An Amazing Way to Deal w...</td>\n",
              "      <td>\"New Cardiff\" 6</td>\n",
              "      <td>6</td>\n",
              "      <td>\"New Cardiff\"</td>\n",
              "      <td>\"Who Moved My Cheese? An Amazing Way to Deal w...</td>\n",
              "      <td>You are a book recommender and your job is to ...</td>\n",
              "    </tr>\n",
              "    <tr>\n",
              "      <th>...</th>\n",
              "      <td>...</td>\n",
              "      <td>...</td>\n",
              "      <td>...</td>\n",
              "      <td>...</td>\n",
              "      <td>...</td>\n",
              "      <td>...</td>\n",
              "      <td>...</td>\n",
              "    </tr>\n",
              "    <tr>\n",
              "      <th>1998</th>\n",
              "      <td>278019</td>\n",
              "      <td>\"U.S.S. Seawolf\" 6\\n\"Ancient Blood:  Day of Ho...</td>\n",
              "      <td>\"Armageddon Sky (Star Trek Deep Space Nine: Da...</td>\n",
              "      <td>9</td>\n",
              "      <td>\"Armageddon Sky (Star Trek Deep Space Nine: Da...</td>\n",
              "      <td>\"U.S.S. Seawolf\" 6\\n\"Ancient Blood:  Day of Ho...</td>\n",
              "      <td>You are a book recommender and your job is to ...</td>\n",
              "    </tr>\n",
              "    <tr>\n",
              "      <th>1999</th>\n",
              "      <td>278565</td>\n",
              "      <td>\"Gilbert: A Comedy of Manners\" 8\\n\"Murder at t...</td>\n",
              "      <td>\"The Heretic's Apprentice: The Sixteenth Chron...</td>\n",
              "      <td>8</td>\n",
              "      <td>\"The Heretic's Apprentice: The Sixteenth Chron...</td>\n",
              "      <td>\"Gilbert: A Comedy of Manners\" 8\\n\"Murder at t...</td>\n",
              "      <td>You are a book recommender and your job is to ...</td>\n",
              "    </tr>\n",
              "    <tr>\n",
              "      <th>2000</th>\n",
              "      <td>278637</td>\n",
              "      <td>\"L'Envoi Des Anges\" 7\\n\"La Muraille invisible\"...</td>\n",
              "      <td>\"Je vous Ã?Â©cris\" 7</td>\n",
              "      <td>7</td>\n",
              "      <td>\"Je vous Ã?Â©cris\"</td>\n",
              "      <td>\"L'Envoi Des Anges\" 7\\n\"La Muraille invisible\"...</td>\n",
              "      <td>You are a book recommender and your job is to ...</td>\n",
              "    </tr>\n",
              "    <tr>\n",
              "      <th>2001</th>\n",
              "      <td>278663</td>\n",
              "      <td>\"The Bean Trees\" 4\\n\"A Woman's Place\" 5\\n\"Even...</td>\n",
              "      <td>\"Special Relationship\" 3</td>\n",
              "      <td>3</td>\n",
              "      <td>\"Special Relationship\"</td>\n",
              "      <td>\"The Bean Trees\" 4\\n\"A Woman's Place\" 5\\n\"Even...</td>\n",
              "      <td>You are a book recommender and your job is to ...</td>\n",
              "    </tr>\n",
              "    <tr>\n",
              "      <th>2002</th>\n",
              "      <td>278668</td>\n",
              "      <td>\"El Alquimista\" 5\\n\"LA Muerte Del Decano\" 5\\n\"...</td>\n",
              "      <td>\"El Hombre Solo\" 5</td>\n",
              "      <td>5</td>\n",
              "      <td>\"El Hombre Solo\"</td>\n",
              "      <td>\"El Alquimista\" 5\\n\"LA Muerte Del Decano\" 5\\n\"...</td>\n",
              "      <td>You are a book recommender and your job is to ...</td>\n",
              "    </tr>\n",
              "  </tbody>\n",
              "</table>\n",
              "<p>2003 rows × 7 columns</p>\n",
              "</div>"
            ],
            "text/plain": [
              "        user                                               comb  \\\n",
              "0        183  \"Folio Junior: L'histoire De Monsieur Sommer\" ...   \n",
              "1        387  \"The Adventures of Tom Sawyer\" 9\\n\"Santa Broug...   \n",
              "2        408  \"Alice's Tulips\" 8\\n\"Guinness World Records 20...   \n",
              "3        472  \"Organic Chemistry (Saunders Golden Sunburst S...   \n",
              "4        566  \"Who Moved My Cheese? An Amazing Way to Deal w...   \n",
              "...      ...                                                ...   \n",
              "1998  278019  \"U.S.S. Seawolf\" 6\\n\"Ancient Blood:  Day of Ho...   \n",
              "1999  278565  \"Gilbert: A Comedy of Manners\" 8\\n\"Murder at t...   \n",
              "2000  278637  \"L'Envoi Des Anges\" 7\\n\"La Muraille invisible\"...   \n",
              "2001  278663  \"The Bean Trees\" 4\\n\"A Woman's Place\" 5\\n\"Even...   \n",
              "2002  278668  \"El Alquimista\" 5\\n\"LA Muerte Del Decano\" 5\\n\"...   \n",
              "\n",
              "                                                   last ans  \\\n",
              "0                            \"Estudios sobre el amor\" 8   8   \n",
              "1                                         \"Jane Eyre\" 9   9   \n",
              "2        \"Frankenstein (Illustrated Classics Series)\" 7   7   \n",
              "3     \"Secrets of St. John's Wort: A Lynn Sonberg Bo...   5   \n",
              "4                                       \"New Cardiff\" 6   6   \n",
              "...                                                 ...  ..   \n",
              "1998  \"Armageddon Sky (Star Trek Deep Space Nine: Da...   9   \n",
              "1999  \"The Heretic's Apprentice: The Sixteenth Chron...   8   \n",
              "2000                               \"Je vous Ã?Â©cris\" 7   7   \n",
              "2001                           \"Special Relationship\" 3   3   \n",
              "2002                                 \"El Hombre Solo\" 5   5   \n",
              "\n",
              "                                                  query  \\\n",
              "0                              \"Estudios sobre el amor\"   \n",
              "1                                           \"Jane Eyre\"   \n",
              "2          \"Frankenstein (Illustrated Classics Series)\"   \n",
              "3     \"Secrets of St. John's Wort: A Lynn Sonberg Book\"   \n",
              "4                                         \"New Cardiff\"   \n",
              "...                                                 ...   \n",
              "1998  \"Armageddon Sky (Star Trek Deep Space Nine: Da...   \n",
              "1999  \"The Heretic's Apprentice: The Sixteenth Chron...   \n",
              "2000                                 \"Je vous Ã?Â©cris\"   \n",
              "2001                             \"Special Relationship\"   \n",
              "2002                                   \"El Hombre Solo\"   \n",
              "\n",
              "                                                   data  \\\n",
              "0     \"Folio Junior: L'histoire De Monsieur Sommer\" ...   \n",
              "1     \"The Adventures of Tom Sawyer\" 9\\n\"Santa Broug...   \n",
              "2     \"Alice's Tulips\" 8\\n\"Guinness World Records 20...   \n",
              "3     \"Organic Chemistry (Saunders Golden Sunburst S...   \n",
              "4     \"Who Moved My Cheese? An Amazing Way to Deal w...   \n",
              "...                                                 ...   \n",
              "1998  \"U.S.S. Seawolf\" 6\\n\"Ancient Blood:  Day of Ho...   \n",
              "1999  \"Gilbert: A Comedy of Manners\" 8\\n\"Murder at t...   \n",
              "2000  \"L'Envoi Des Anges\" 7\\n\"La Muraille invisible\"...   \n",
              "2001  \"The Bean Trees\" 4\\n\"A Woman's Place\" 5\\n\"Even...   \n",
              "2002  \"El Alquimista\" 5\\n\"LA Muerte Del Decano\" 5\\n\"...   \n",
              "\n",
              "                                                 prompt  \n",
              "0     You are a book recommender and your job is to ...  \n",
              "1     You are a book recommender and your job is to ...  \n",
              "2     You are a book recommender and your job is to ...  \n",
              "3     You are a book recommender and your job is to ...  \n",
              "4     You are a book recommender and your job is to ...  \n",
              "...                                                 ...  \n",
              "1998  You are a book recommender and your job is to ...  \n",
              "1999  You are a book recommender and your job is to ...  \n",
              "2000  You are a book recommender and your job is to ...  \n",
              "2001  You are a book recommender and your job is to ...  \n",
              "2002  You are a book recommender and your job is to ...  \n",
              "\n",
              "[2003 rows x 7 columns]"
            ]
          },
          "execution_count": 22,
          "metadata": {},
          "output_type": "execute_result"
        }
      ],
      "source": [
        "users_filtered"
      ]
    },
    {
      "cell_type": "code",
      "execution_count": 23,
      "metadata": {},
      "outputs": [],
      "source": [
        "df_llm_5_items = users_filtered[['prompt', 'query', 'ans']]"
      ]
    },
    {
      "cell_type": "code",
      "execution_count": 24,
      "metadata": {},
      "outputs": [
        {
          "data": {
            "text/html": [
              "<div>\n",
              "<style scoped>\n",
              "    .dataframe tbody tr th:only-of-type {\n",
              "        vertical-align: middle;\n",
              "    }\n",
              "\n",
              "    .dataframe tbody tr th {\n",
              "        vertical-align: top;\n",
              "    }\n",
              "\n",
              "    .dataframe thead th {\n",
              "        text-align: right;\n",
              "    }\n",
              "</style>\n",
              "<table border=\"1\" class=\"dataframe\">\n",
              "  <thead>\n",
              "    <tr style=\"text-align: right;\">\n",
              "      <th></th>\n",
              "      <th>prompt</th>\n",
              "      <th>query</th>\n",
              "      <th>ans</th>\n",
              "    </tr>\n",
              "  </thead>\n",
              "  <tbody>\n",
              "    <tr>\n",
              "      <th>0</th>\n",
              "      <td>You are a book recommender and your job is to ...</td>\n",
              "      <td>\"Estudios sobre el amor\"</td>\n",
              "      <td>8</td>\n",
              "    </tr>\n",
              "    <tr>\n",
              "      <th>1</th>\n",
              "      <td>You are a book recommender and your job is to ...</td>\n",
              "      <td>\"Jane Eyre\"</td>\n",
              "      <td>9</td>\n",
              "    </tr>\n",
              "    <tr>\n",
              "      <th>2</th>\n",
              "      <td>You are a book recommender and your job is to ...</td>\n",
              "      <td>\"Frankenstein (Illustrated Classics Series)\"</td>\n",
              "      <td>7</td>\n",
              "    </tr>\n",
              "    <tr>\n",
              "      <th>3</th>\n",
              "      <td>You are a book recommender and your job is to ...</td>\n",
              "      <td>\"Secrets of St. John's Wort: A Lynn Sonberg Book\"</td>\n",
              "      <td>5</td>\n",
              "    </tr>\n",
              "    <tr>\n",
              "      <th>4</th>\n",
              "      <td>You are a book recommender and your job is to ...</td>\n",
              "      <td>\"New Cardiff\"</td>\n",
              "      <td>6</td>\n",
              "    </tr>\n",
              "    <tr>\n",
              "      <th>...</th>\n",
              "      <td>...</td>\n",
              "      <td>...</td>\n",
              "      <td>...</td>\n",
              "    </tr>\n",
              "    <tr>\n",
              "      <th>1998</th>\n",
              "      <td>You are a book recommender and your job is to ...</td>\n",
              "      <td>\"Armageddon Sky (Star Trek Deep Space Nine: Da...</td>\n",
              "      <td>9</td>\n",
              "    </tr>\n",
              "    <tr>\n",
              "      <th>1999</th>\n",
              "      <td>You are a book recommender and your job is to ...</td>\n",
              "      <td>\"The Heretic's Apprentice: The Sixteenth Chron...</td>\n",
              "      <td>8</td>\n",
              "    </tr>\n",
              "    <tr>\n",
              "      <th>2000</th>\n",
              "      <td>You are a book recommender and your job is to ...</td>\n",
              "      <td>\"Je vous Ã?Â©cris\"</td>\n",
              "      <td>7</td>\n",
              "    </tr>\n",
              "    <tr>\n",
              "      <th>2001</th>\n",
              "      <td>You are a book recommender and your job is to ...</td>\n",
              "      <td>\"Special Relationship\"</td>\n",
              "      <td>3</td>\n",
              "    </tr>\n",
              "    <tr>\n",
              "      <th>2002</th>\n",
              "      <td>You are a book recommender and your job is to ...</td>\n",
              "      <td>\"El Hombre Solo\"</td>\n",
              "      <td>5</td>\n",
              "    </tr>\n",
              "  </tbody>\n",
              "</table>\n",
              "<p>2003 rows × 3 columns</p>\n",
              "</div>"
            ],
            "text/plain": [
              "                                                 prompt  \\\n",
              "0     You are a book recommender and your job is to ...   \n",
              "1     You are a book recommender and your job is to ...   \n",
              "2     You are a book recommender and your job is to ...   \n",
              "3     You are a book recommender and your job is to ...   \n",
              "4     You are a book recommender and your job is to ...   \n",
              "...                                                 ...   \n",
              "1998  You are a book recommender and your job is to ...   \n",
              "1999  You are a book recommender and your job is to ...   \n",
              "2000  You are a book recommender and your job is to ...   \n",
              "2001  You are a book recommender and your job is to ...   \n",
              "2002  You are a book recommender and your job is to ...   \n",
              "\n",
              "                                                  query ans  \n",
              "0                              \"Estudios sobre el amor\"   8  \n",
              "1                                           \"Jane Eyre\"   9  \n",
              "2          \"Frankenstein (Illustrated Classics Series)\"   7  \n",
              "3     \"Secrets of St. John's Wort: A Lynn Sonberg Book\"   5  \n",
              "4                                         \"New Cardiff\"   6  \n",
              "...                                                 ...  ..  \n",
              "1998  \"Armageddon Sky (Star Trek Deep Space Nine: Da...   9  \n",
              "1999  \"The Heretic's Apprentice: The Sixteenth Chron...   8  \n",
              "2000                                 \"Je vous Ã?Â©cris\"   7  \n",
              "2001                             \"Special Relationship\"   3  \n",
              "2002                                   \"El Hombre Solo\"   5  \n",
              "\n",
              "[2003 rows x 3 columns]"
            ]
          },
          "execution_count": 24,
          "metadata": {},
          "output_type": "execute_result"
        }
      ],
      "source": [
        "df_llm_5_items"
      ]
    },
    {
      "cell_type": "markdown",
      "metadata": {},
      "source": [
        "# ChatGPT 3.5 w/o finetune"
      ]
    },
    {
      "cell_type": "code",
      "execution_count": 25,
      "metadata": {},
      "outputs": [],
      "source": [
        "from openai import OpenAI\n",
        "client = OpenAI(api_key = 'YOUR-API-KEY')\n",
        "\n",
        "# response = client.chat.completions.create(\n",
        "#   model=\"gpt-3.5-turbo\", \n",
        "#   messages=[\n",
        "#     {\"role\": \"system\", \"content\": \"You are a book recommender.\"},\n",
        "#     {\"role\": \"user\", \"content\": \"Who won the world series in 2020?\"},\n",
        "#     {\"role\": \"assistant\", \"content\": \"The Los Angeles Dodgers won the World Series in 2020.\"},\n",
        "#     {\"role\": \"user\", \"content\": \"Where was it played?\"}\n",
        "#   ]\n",
        "# )"
      ]
    },
    {
      "cell_type": "code",
      "execution_count": 52,
      "metadata": {},
      "outputs": [
        {
          "name": "stdout",
          "output_type": "stream",
          "text": [
            "1th pred 7 ans 8\n",
            "2th pred 8 ans 9\n",
            "3th pred 7 ans 7\n",
            "4th pred 8 ans 5\n",
            "5th pred 7 ans 6\n",
            "6th pred 7 ans 10\n",
            "7th pred 7 ans 8\n",
            "8th pred 7 ans 7\n",
            "9th pred 7 ans 5\n",
            "10th pred 8 ans 8\n",
            "11th pred 8 ans 7\n",
            "12th pred 7 ans 6\n",
            "13th pred 9 ans 8\n",
            "14th pred 7 ans 5\n",
            "15th pred 7 ans 7\n",
            "16th pred 6 ans 5\n",
            "17th pred 7 ans 5\n",
            "18th pred 7 ans 9\n",
            "19th pred 8 ans 7\n",
            "20th pred 8 ans 9\n",
            "21th pred 8 ans 8\n",
            "22th pred 8 ans 7\n",
            "23th pred 8 ans 10\n",
            "24th pred 8 ans 8\n",
            "25th pred 6 ans 9\n",
            "26th pred 7 ans 7\n",
            "27th pred 7 ans 8\n",
            "28th pred 7 ans 9\n",
            "29th pred 8 ans 8\n",
            "30th pred 8 ans 8\n",
            "31th pred 7 ans 6\n",
            "32th pred 8 ans 7\n",
            "33th pred 6 ans 8\n",
            "34th pred 7 ans 8\n",
            "35th pred 7 ans 6\n",
            "36th pred 8 ans 5\n",
            "37th pred 9 ans 8\n",
            "38th pred 4 ans 5\n",
            "39th pred 7 ans 9\n",
            "40th pred 7 ans 5\n",
            "41th pred 8 ans 10\n",
            "42th pred 7 ans 10\n",
            "43th pred 8 ans 7\n",
            "44th pred 5 ans 5\n",
            "45th pred 8 ans 6\n",
            "46th pred 7 ans 8\n",
            "47th pred 7 ans 8\n",
            "48th pred 8 ans 8\n",
            "49th pred 8 ans 7\n",
            "50th pred 7 ans 8\n",
            "51th pred 7 ans 8\n",
            "52th pred 7 ans 7\n",
            "53th pred 5 ans 8\n",
            "54th pred 7 ans 7\n",
            "55th pred 8 ans 4\n",
            "Skipping index 55 prompt You are a book recommender and your job is to predict a user's rating (ranging from 1 to 10, with 10 being the highest) on a book, based on that user's previous ratings.\n",
            "\n",
            "User 7056 has rated the following books:\n",
            "\n",
            "\"The Coffin Dancer (Lincoln Rhyme Novels (Paperback))\" 7\n",
            "\"The Littles (Littles)\" 9\n",
            "\"Bunnicula: A Rabbit-Tale of Mystery\" 7\n",
            "\"Chicken Soup for the Soul (Chicken Soup for the Soul)\" 8\n",
            "\n",
            "Predict the user's rating on \"\\O\\\" Is for Outlaw\"\". Output the rating score only. Do not include other text. reponse 7. due to error: invalid literal for int() with base 10: '7.'\n",
            "56th pred 4 ans 9\n",
            "57th pred 7 ans 10\n",
            "58th pred 7 ans 8\n",
            "59th pred 8 ans 8\n",
            "60th pred 7 ans 9\n",
            "61th pred 8 ans 8\n",
            "62th pred 7 ans 7\n",
            "63th pred 6 ans 8\n",
            "64th pred 8 ans 8\n",
            "65th pred 8 ans 10\n",
            "66th pred 7 ans 6\n",
            "67th pred 7 ans 5\n",
            "68th pred 7 ans 5\n",
            "69th pred 9 ans 8\n",
            "70th pred 8 ans 9\n",
            "71th pred 7 ans 10\n",
            "72th pred 8 ans 6\n",
            "73th pred 8 ans 9\n",
            "74th pred 7 ans 8\n",
            "75th pred 9 ans 8\n",
            "76th pred 7 ans 9\n",
            "Skipping index 77 prompt You are a book recommender and your job is to predict a user's rating (ranging from 1 to 10, with 10 being the highest) on a book, based on that user's previous ratings.\n",
            "\n",
            "User 11038 has rated the following books:\n",
            "\n",
            "\"Paris in the Fifties\" 5\n",
            "\"Dr. Susan Lark's Premenstrual Syndrome Self-Help Book: A Woman's Guide to Feeling Good All Month\" 6\n",
            "\"WAITING TO EXHALE\" 6\n",
            "\"The Beauty Myth: How Images of Beauty Are Used Against Women\" 3\n",
            "\n",
            "Predict the user's rating on \"Food and Mood: The Complete Guide to Eating Well and Feeling Your Best (A Henry Holt Reference Book)\". Output the rating score only. Do not include other text. reponse 7. due to error: invalid literal for int() with base 10: '7.'\n",
            "77th pred 9 ans 7\n",
            "78th pred 5 ans 7\n",
            "79th pred 7 ans 5\n",
            "80th pred 3 ans 6\n",
            "81th pred 7 ans 3\n",
            "82th pred 8 ans 5\n",
            "83th pred 8 ans 5\n",
            "84th pred 8 ans 9\n",
            "85th pred 6 ans 6\n",
            "86th pred 6 ans 5\n",
            "87th pred 9 ans 10\n",
            "88th pred 7 ans 9\n",
            "89th pred 7 ans 5\n",
            "90th pred 8 ans 8\n",
            "91th pred 8 ans 7\n",
            "92th pred 7 ans 5\n",
            "93th pred 7 ans 8\n",
            "94th pred 7 ans 9\n",
            "95th pred 6 ans 5\n",
            "96th pred 7 ans 8\n",
            "97th pred 8 ans 5\n",
            "98th pred 7 ans 8\n",
            "99th pred 8 ans 10\n",
            "100th pred 8 ans 6\n",
            "101th pred 8 ans 5\n",
            "102th pred 7 ans 4\n",
            "103th pred 9 ans 10\n",
            "104th pred 6 ans 7\n",
            "105th pred 7 ans 9\n",
            "106th pred 8 ans 2\n",
            "107th pred 9 ans 7\n",
            "108th pred 7 ans 6\n",
            "109th pred 8 ans 4\n",
            "110th pred 8 ans 8\n",
            "111th pred 7 ans 8\n",
            "112th pred 7 ans 2\n",
            "113th pred 7 ans 5\n",
            "114th pred 8 ans 8\n",
            "115th pred 8 ans 7\n",
            "116th pred 8 ans 10\n",
            "117th pred 7 ans 4\n",
            "118th pred 8 ans 10\n",
            "119th pred 8 ans 5\n",
            "120th pred 8 ans 9\n",
            "121th pred 7 ans 6\n",
            "122th pred 7 ans 3\n",
            "123th pred 8 ans 6\n",
            "124th pred 8 ans 9\n",
            "125th pred 7 ans 5\n",
            "126th pred 8 ans 8\n",
            "127th pred 8 ans 7\n",
            "128th pred 7 ans 10\n",
            "129th pred 7 ans 5\n",
            "130th pred 7 ans 9\n",
            "131th pred 8 ans 7\n",
            "132th pred 8 ans 8\n",
            "133th pred 8 ans 6\n",
            "134th pred 8 ans 10\n",
            "135th pred 7 ans 10\n",
            "136th pred 8 ans 8\n",
            "137th pred 8 ans 9\n",
            "138th pred 9 ans 10\n",
            "139th pred 8 ans 9\n",
            "140th pred 8 ans 9\n",
            "141th pred 7 ans 10\n",
            "142th pred 8 ans 10\n",
            "143th pred 8 ans 8\n",
            "144th pred 7 ans 8\n",
            "145th pred 9 ans 8\n",
            "146th pred 7 ans 6\n",
            "147th pred 8 ans 7\n",
            "148th pred 7 ans 9\n",
            "149th pred 6 ans 5\n",
            "150th pred 7 ans 6\n",
            "151th pred 7 ans 5\n",
            "152th pred 8 ans 7\n",
            "153th pred 7 ans 8\n",
            "154th pred 8 ans 8\n",
            "155th pred 8 ans 7\n",
            "156th pred 6 ans 10\n",
            "157th pred 7 ans 7\n",
            "158th pred 8 ans 10\n",
            "159th pred 8 ans 7\n",
            "160th pred 5 ans 6\n",
            "161th pred 5 ans 7\n",
            "162th pred 8 ans 7\n",
            "163th pred 5 ans 6\n",
            "164th pred 7 ans 8\n",
            "165th pred 8 ans 9\n",
            "166th pred 8 ans 5\n",
            "167th pred 6 ans 7\n",
            "168th pred 7 ans 7\n",
            "169th pred 7 ans 6\n",
            "170th pred 7 ans 9\n",
            "171th pred 6 ans 6\n",
            "172th pred 8 ans 8\n",
            "173th pred 9 ans 6\n",
            "174th pred 8 ans 8\n",
            "175th pred 7 ans 8\n",
            "176th pred 8 ans 10\n",
            "177th pred 9 ans 10\n",
            "178th pred 7 ans 8\n",
            "179th pred 7 ans 5\n",
            "180th pred 7 ans 5\n",
            "181th pred 8 ans 5\n",
            "182th pred 8 ans 8\n",
            "183th pred 7 ans 9\n",
            "184th pred 8 ans 10\n",
            "185th pred 5 ans 7\n",
            "186th pred 7 ans 7\n",
            "187th pred 8 ans 6\n",
            "188th pred 7 ans 8\n",
            "189th pred 7 ans 7\n",
            "190th pred 4 ans 8\n",
            "191th pred 7 ans 8\n",
            "192th pred 6 ans 8\n",
            "193th pred 6 ans 10\n",
            "194th pred 8 ans 6\n",
            "195th pred 7 ans 5\n",
            "196th pred 8 ans 5\n",
            "197th pred 7 ans 7\n",
            "198th pred 8 ans 9\n",
            "199th pred 8 ans 9\n",
            "200th pred 8 ans 9\n",
            "201th pred 8 ans 10\n",
            "202th pred 6 ans 6\n",
            "203th pred 8 ans 4\n",
            "204th pred 8 ans 7\n",
            "205th pred 8 ans 8\n",
            "206th pred 7 ans 3\n",
            "Skipping index 208 prompt You are a book recommender and your job is to predict a user's rating (ranging from 1 to 10, with 10 being the highest) on a book, based on that user's previous ratings.\n",
            "\n",
            "User 27329 has rated the following books:\n",
            "\n",
            "\"The Shipping News : A Novel\" 6\n",
            "\"The Hours : A Novel\" 10\n",
            "\"Four Major Plays: A Doll House, the Wild Duck, Hedda Gabler, the Master Builder (Signet Classics (Paperback))\" 8\n",
            "\"Song of Solomon (Oprah's Book Club (Paperback))\" 9\n",
            "\n",
            "Predict the user's rating on \"The Teenage Liberation Handbook: How to Quit School and Get a Real Life and Education\". Output the rating score only. Do not include other text. reponse 7. due to error: invalid literal for int() with base 10: '7.'\n",
            "207th pred 7 ans 5\n",
            "208th pred 7 ans 8\n",
            "209th pred 7 ans 7\n",
            "210th pred 6 ans 5\n",
            "211th pred 8 ans 8\n",
            "212th pred 8 ans 6\n",
            "213th pred 8 ans 4\n",
            "214th pred 8 ans 9\n",
            "215th pred 8 ans 6\n",
            "216th pred 8 ans 9\n",
            "217th pred 8 ans 9\n",
            "218th pred 8 ans 8\n",
            "219th pred 8 ans 7\n",
            "Skipping index 222 prompt You are a book recommender and your job is to predict a user's rating (ranging from 1 to 10, with 10 being the highest) on a book, based on that user's previous ratings.\n",
            "\n",
            "User 29486 has rated the following books:\n",
            "\n",
            "\"Plain Truth\" 10\n",
            "\"And Still We Rise: The Trials and Triumphs of Twelve Gifted Inner-city High School Students\" 7\n",
            "\"Charlotte's Story: A Florida Keys Diary 1934-A935\" 8\n",
            "\"Salem Falls\" 10\n",
            "\n",
            "Predict the user's rating on \"We Were the Mulvaneys\". Output the rating score only. Do not include other text. reponse 8. due to error: invalid literal for int() with base 10: '8.'\n",
            "220th pred 8 ans 6\n",
            "221th pred 8 ans 8\n",
            "222th pred 8 ans 10\n",
            "223th pred 7 ans 9\n",
            "224th pred 6 ans 8\n",
            "225th pred 8 ans 10\n",
            "226th pred 8 ans 7\n",
            "227th pred 10 ans 5\n",
            "228th pred 8 ans 6\n",
            "229th pred 7 ans 10\n",
            "230th pred 7 ans 10\n",
            "231th pred 8 ans 8\n",
            "232th pred 4 ans 6\n",
            "233th pred 8 ans 5\n",
            "234th pred 8 ans 8\n",
            "235th pred 8 ans 9\n",
            "236th pred 7 ans 8\n",
            "237th pred 7 ans 6\n",
            "238th pred 7 ans 9\n",
            "239th pred 6 ans 8\n",
            "240th pred 8 ans 7\n",
            "241th pred 7 ans 6\n",
            "242th pred 8 ans 5\n",
            "243th pred 7 ans 10\n",
            "244th pred 6 ans 8\n",
            "245th pred 7 ans 7\n",
            "246th pred 7 ans 9\n",
            "247th pred 7 ans 9\n",
            "248th pred 6 ans 10\n",
            "249th pred 7 ans 6\n",
            "250th pred 4 ans 8\n",
            "251th pred 7 ans 5\n",
            "252th pred 7 ans 10\n",
            "253th pred 7 ans 10\n",
            "254th pred 7 ans 9\n",
            "255th pred 9 ans 10\n",
            "256th pred 8 ans 8\n",
            "257th pred 7 ans 8\n",
            "258th pred 8 ans 10\n",
            "259th pred 8 ans 8\n",
            "260th pred 8 ans 10\n",
            "261th pred 7 ans 7\n",
            "262th pred 8 ans 5\n",
            "263th pred 8 ans 7\n",
            "264th pred 7 ans 9\n",
            "265th pred 8 ans 8\n",
            "266th pred 9 ans 7\n",
            "267th pred 7 ans 7\n",
            "268th pred 7 ans 10\n",
            "269th pred 7 ans 5\n",
            "270th pred 7 ans 10\n",
            "271th pred 6 ans 5\n",
            "272th pred 9 ans 7\n",
            "273th pred 6 ans 6\n",
            "274th pred 8 ans 5\n",
            "275th pred 8 ans 7\n",
            "276th pred 7 ans 9\n",
            "277th pred 8 ans 9\n",
            "278th pred 7 ans 6\n",
            "279th pred 8 ans 9\n",
            "280th pred 7 ans 9\n",
            "281th pred 6 ans 8\n",
            "282th pred 7 ans 8\n",
            "283th pred 8 ans 8\n",
            "284th pred 8 ans 9\n",
            "285th pred 7 ans 9\n",
            "286th pred 7 ans 7\n",
            "287th pred 7 ans 8\n",
            "288th pred 8 ans 8\n",
            "289th pred 9 ans 9\n",
            "290th pred 8 ans 6\n",
            "291th pred 7 ans 5\n",
            "292th pred 8 ans 8\n",
            "293th pred 7 ans 7\n",
            "294th pred 7 ans 5\n",
            "295th pred 7 ans 5\n",
            "296th pred 9 ans 7\n",
            "297th pred 7 ans 6\n",
            "298th pred 7 ans 5\n",
            "299th pred 7 ans 8\n",
            "300th pred 7 ans 8\n",
            "301th pred 7 ans 8\n",
            "302th pred 9 ans 5\n",
            "Skipping index 306 prompt You are a book recommender and your job is to predict a user's rating (ranging from 1 to 10, with 10 being the highest) on a book, based on that user's previous ratings.\n",
            "\n",
            "User 40276 has rated the following books:\n",
            "\n",
            "\"Elvis and Me\" 9\n",
            "\"Marine Plants of the Caribbean: A Field Guide from Florida to Brazil\" 10\n",
            "\"The Color Purple\" 10\n",
            "\"Christmas With Southern Living, 1993\" 9\n",
            "\n",
            "Predict the user's rating on \"How Be Own Best Friend\". Output the rating score only. Do not include other text. reponse 8. due to error: invalid literal for int() with base 10: '8.'\n",
            "303th pred 7 ans 9\n",
            "304th pred 8 ans 10\n",
            "305th pred 5 ans 7\n",
            "306th pred 9 ans 7\n",
            "307th pred 8 ans 10\n",
            "308th pred 6 ans 10\n",
            "309th pred 7 ans 10\n",
            "310th pred 7 ans 8\n",
            "311th pred 8 ans 7\n",
            "312th pred 7 ans 5\n",
            "313th pred 9 ans 9\n",
            "314th pred 7 ans 10\n",
            "315th pred 7 ans 6\n",
            "316th pred 8 ans 7\n",
            "317th pred 7 ans 7\n",
            "318th pred 9 ans 10\n",
            "319th pred 8 ans 9\n",
            "320th pred 7 ans 6\n",
            "321th pred 6 ans 9\n",
            "322th pred 7 ans 5\n",
            "323th pred 10 ans 10\n",
            "324th pred 7 ans 9\n",
            "325th pred 8 ans 8\n",
            "326th pred 8 ans 7\n",
            "327th pred 4 ans 6\n",
            "328th pred 8 ans 5\n",
            "329th pred 9 ans 10\n",
            "330th pred 6 ans 5\n",
            "331th pred 8 ans 10\n",
            "332th pred 7 ans 5\n",
            "333th pred 7 ans 5\n",
            "334th pred 6 ans 8\n",
            "335th pred 6 ans 10\n",
            "336th pred 7 ans 7\n",
            "337th pred 8 ans 10\n",
            "338th pred 8 ans 5\n",
            "339th pred 6 ans 7\n",
            "340th pred 7 ans 8\n",
            "341th pred 7 ans 5\n",
            "342th pred 6 ans 7\n",
            "343th pred 8 ans 6\n",
            "344th pred 8 ans 7\n",
            "345th pred 7 ans 8\n",
            "346th pred 8 ans 8\n",
            "347th pred 6 ans 8\n",
            "348th pred 8 ans 7\n",
            "349th pred 6 ans 10\n",
            "350th pred 8 ans 9\n",
            "351th pred 7 ans 9\n",
            "352th pred 5 ans 6\n",
            "353th pred 8 ans 8\n",
            "354th pred 8 ans 10\n",
            "355th pred 7 ans 6\n",
            "356th pred 5 ans 9\n",
            "357th pred 6 ans 10\n",
            "358th pred 7 ans 7\n",
            "359th pred 6 ans 5\n",
            "360th pred 7 ans 7\n",
            "361th pred 7 ans 7\n",
            "362th pred 9 ans 8\n",
            "363th pred 8 ans 6\n",
            "364th pred 8 ans 9\n",
            "365th pred 8 ans 7\n",
            "366th pred 9 ans 10\n",
            "367th pred 7 ans 5\n",
            "368th pred 9 ans 7\n",
            "369th pred 8 ans 5\n",
            "370th pred 6 ans 8\n",
            "371th pred 8 ans 7\n",
            "372th pred 7 ans 8\n",
            "373th pred 7 ans 10\n",
            "374th pred 8 ans 8\n",
            "375th pred 8 ans 7\n",
            "376th pred 9 ans 8\n",
            "377th pred 7 ans 8\n",
            "378th pred 6 ans 6\n",
            "379th pred 5 ans 7\n",
            "380th pred 7 ans 10\n",
            "381th pred 8 ans 10\n",
            "382th pred 8 ans 6\n",
            "383th pred 6 ans 5\n",
            "384th pred 7 ans 4\n",
            "385th pred 6 ans 8\n",
            "386th pred 7 ans 8\n",
            "387th pred 6 ans 7\n",
            "388th pred 7 ans 8\n",
            "389th pred 9 ans 8\n",
            "390th pred 8 ans 10\n",
            "391th pred 7 ans 8\n",
            "392th pred 6 ans 5\n",
            "393th pred 8 ans 3\n",
            "394th pred 8 ans 8\n",
            "395th pred 8 ans 9\n",
            "396th pred 8 ans 10\n",
            "397th pred 7 ans 9\n",
            "398th pred 8 ans 7\n",
            "399th pred 8 ans 7\n",
            "400th pred 7 ans 4\n",
            "401th pred 8 ans 7\n",
            "402th pred 7 ans 3\n",
            "403th pred 7 ans 7\n",
            "404th pred 6 ans 8\n",
            "405th pred 8 ans 10\n",
            "406th pred 5 ans 8\n",
            "407th pred 7 ans 8\n",
            "Skipping index 412 prompt You are a book recommender and your job is to predict a user's rating (ranging from 1 to 10, with 10 being the highest) on a book, based on that user's previous ratings.\n",
            "\n",
            "User 55421 has rated the following books:\n",
            "\n",
            "\"White Oleander : A Novel (Oprah's Book Club)\" 9\n",
            "\"Nora, Nora: A Novel\" 7\n",
            "\"The Beach House\" 7\n",
            "\"Confessions of a Shopaholic (Summer Display Opportunity)\" 7\n",
            "\n",
            "Predict the user's rating on \"Long Time No See\". Output the rating score only. Do not include other text. reponse 8. due to error: invalid literal for int() with base 10: '8.'\n",
            "408th pred 7 ans 8\n",
            "409th pred 8 ans 5\n",
            "410th pred 8 ans 7\n",
            "411th pred 9 ans 7\n",
            "412th pred 7 ans 9\n",
            "413th pred 8 ans 10\n",
            "414th pred 7 ans 6\n",
            "415th pred 7 ans 6\n",
            "416th pred 8 ans 7\n",
            "417th pred 7 ans 7\n",
            "418th pred 6 ans 8\n",
            "419th pred 6 ans 5\n",
            "420th pred 7 ans 6\n",
            "421th pred 6 ans 9\n",
            "422th pred 8 ans 8\n",
            "423th pred 6 ans 7\n",
            "424th pred 7 ans 9\n",
            "425th pred 7 ans 8\n",
            "426th pred 7 ans 8\n",
            "427th pred 8 ans 5\n",
            "428th pred 7 ans 8\n",
            "429th pred 8 ans 9\n",
            "430th pred 7 ans 5\n",
            "431th pred 8 ans 5\n",
            "432th pred 7 ans 5\n",
            "433th pred 8 ans 10\n",
            "434th pred 8 ans 8\n",
            "435th pred 8 ans 7\n",
            "436th pred 7 ans 9\n",
            "437th pred 8 ans 8\n",
            "438th pred 7 ans 7\n",
            "439th pred 8 ans 8\n",
            "440th pred 7 ans 4\n",
            "441th pred 8 ans 8\n",
            "442th pred 7 ans 8\n",
            "443th pred 8 ans 9\n",
            "444th pred 7 ans 7\n",
            "445th pred 7 ans 3\n",
            "446th pred 8 ans 5\n",
            "447th pred 5 ans 5\n",
            "448th pred 7 ans 5\n",
            "449th pred 8 ans 9\n",
            "450th pred 8 ans 10\n",
            "451th pred 7 ans 10\n",
            "452th pred 8 ans 8\n",
            "453th pred 7 ans 8\n",
            "454th pred 8 ans 7\n",
            "455th pred 8 ans 8\n",
            "456th pred 9 ans 8\n",
            "457th pred 7 ans 8\n",
            "458th pred 7 ans 5\n",
            "459th pred 7 ans 4\n",
            "460th pred 8 ans 5\n",
            "461th pred 6 ans 9\n",
            "462th pred 8 ans 8\n",
            "463th pred 6 ans 7\n",
            "464th pred 7 ans 8\n",
            "465th pred 7 ans 6\n",
            "466th pred 7 ans 7\n",
            "467th pred 7 ans 10\n",
            "468th pred 7 ans 9\n",
            "469th pred 6 ans 5\n",
            "470th pred 8 ans 7\n",
            "Skipping index 476 prompt You are a book recommender and your job is to predict a user's rating (ranging from 1 to 10, with 10 being the highest) on a book, based on that user's previous ratings.\n",
            "\n",
            "User 63182 has rated the following books:\n",
            "\n",
            "\"Adam und Eva im Paradies. FÃ?Â¼r die frÃ?Â¶hlichen Nachkommen aufgezeichnet.\" 4\n",
            "\"Hunde von Riga.\" 7\n",
            "\"Die Stimme der Violine. Commissario Montalbanos lÃ?Â¶st seinen vierten Fall.\" 6\n",
            "\"Gefallene Engel.\" 6\n",
            "\n",
            "Predict the user's rating on \"Die Radiotrinkerin. Ausgesucht schÃ?Â¶ne Texte.\". Output the rating score only. Do not include other text. reponse Predicted rating: 6 due to error: invalid literal for int() with base 10: 'Predicted rating: 6'\n",
            "471th pred 7 ans 5\n",
            "472th pred 7 ans 9\n",
            "473th pred 6 ans 3\n",
            "474th pred 9 ans 10\n",
            "475th pred 8 ans 8\n",
            "476th pred 6 ans 4\n",
            "477th pred 7 ans 10\n",
            "478th pred 5 ans 5\n",
            "479th pred 8 ans 5\n",
            "480th pred 7 ans 5\n",
            "481th pred 8 ans 8\n",
            "482th pred 7 ans 6\n",
            "483th pred 7 ans 9\n",
            "484th pred 7 ans 6\n",
            "485th pred 8 ans 6\n",
            "486th pred 8 ans 6\n",
            "487th pred 8 ans 10\n",
            "488th pred 8 ans 8\n",
            "489th pred 7 ans 5\n",
            "490th pred 8 ans 7\n",
            "491th pred 8 ans 5\n",
            "492th pred 8 ans 8\n",
            "493th pred 8 ans 10\n",
            "494th pred 8 ans 8\n",
            "495th pred 5 ans 4\n",
            "496th pred 8 ans 8\n",
            "497th pred 7 ans 8\n",
            "498th pred 4 ans 7\n",
            "499th pred 8 ans 9\n",
            "500th pred 7 ans 7\n",
            "501th pred 7 ans 7\n",
            "502th pred 9 ans 10\n",
            "503th pred 7 ans 6\n",
            "504th pred 8 ans 6\n",
            "505th pred 8 ans 9\n",
            "506th pred 8 ans 8\n",
            "507th pred 7 ans 6\n",
            "508th pred 8 ans 10\n",
            "509th pred 4 ans 7\n",
            "510th pred 8 ans 6\n",
            "511th pred 8 ans 8\n",
            "512th pred 7 ans 5\n",
            "513th pred 7 ans 10\n",
            "514th pred 8 ans 10\n",
            "515th pred 7 ans 8\n",
            "516th pred 7 ans 10\n",
            "517th pred 6 ans 7\n",
            "518th pred 7 ans 7\n",
            "519th pred 7 ans 5\n",
            "520th pred 7 ans 9\n",
            "521th pred 7 ans 8\n",
            "522th pred 7 ans 7\n",
            "523th pred 9 ans 7\n",
            "524th pred 8 ans 10\n",
            "525th pred 6 ans 8\n",
            "526th pred 7 ans 5\n",
            "527th pred 8 ans 6\n",
            "528th pred 8 ans 6\n",
            "529th pred 7 ans 7\n",
            "530th pred 8 ans 7\n",
            "531th pred 8 ans 3\n",
            "532th pred 8 ans 10\n",
            "533th pred 8 ans 7\n",
            "534th pred 7 ans 9\n",
            "535th pred 8 ans 10\n",
            "536th pred 6 ans 5\n",
            "537th pred 8 ans 9\n",
            "538th pred 8 ans 2\n",
            "539th pred 8 ans 8\n",
            "540th pred 7 ans 8\n",
            "541th pred 7 ans 7\n",
            "542th pred 8 ans 6\n",
            "543th pred 7 ans 7\n",
            "544th pred 8 ans 5\n",
            "545th pred 8 ans 7\n",
            "546th pred 7 ans 5\n",
            "547th pred 8 ans 9\n",
            "548th pred 7 ans 9\n",
            "549th pred 7 ans 5\n",
            "550th pred 7 ans 5\n",
            "551th pred 8 ans 6\n",
            "552th pred 8 ans 9\n",
            "553th pred 9 ans 10\n",
            "554th pred 6 ans 7\n",
            "555th pred 8 ans 5\n",
            "556th pred 7 ans 8\n",
            "557th pred 8 ans 9\n",
            "558th pred 8 ans 5\n",
            "559th pred 8 ans 10\n",
            "560th pred 8 ans 4\n",
            "561th pred 7 ans 5\n",
            "562th pred 6 ans 7\n",
            "563th pred 7 ans 10\n",
            "564th pred 8 ans 7\n",
            "565th pred 7 ans 9\n",
            "566th pred 7 ans 7\n",
            "567th pred 9 ans 5\n",
            "568th pred 8 ans 5\n",
            "569th pred 8 ans 5\n",
            "570th pred 9 ans 10\n",
            "571th pred 8 ans 3\n",
            "572th pred 7 ans 6\n",
            "573th pred 8 ans 10\n",
            "574th pred 6 ans 9\n",
            "575th pred 6 ans 6\n",
            "576th pred 7 ans 8\n",
            "577th pred 8 ans 9\n",
            "578th pred 8 ans 7\n",
            "579th pred 9 ans 8\n",
            "580th pred 8 ans 10\n",
            "581th pred 6 ans 5\n",
            "582th pred 8 ans 5\n",
            "583th pred 8 ans 7\n",
            "584th pred 8 ans 10\n",
            "585th pred 6 ans 7\n",
            "586th pred 6 ans 8\n",
            "587th pred 7 ans 8\n",
            "588th pred 8 ans 10\n",
            "589th pred 7 ans 6\n",
            "590th pred 8 ans 8\n",
            "591th pred 7 ans 7\n",
            "592th pred 5 ans 5\n",
            "593th pred 5 ans 7\n",
            "594th pred 7 ans 9\n",
            "595th pred 8 ans 6\n",
            "596th pred 7 ans 9\n",
            "597th pred 6 ans 10\n",
            "598th pred 7 ans 5\n",
            "599th pred 8 ans 7\n",
            "600th pred 7 ans 4\n",
            "601th pred 7 ans 2\n",
            "602th pred 7 ans 7\n",
            "603th pred 6 ans 5\n",
            "604th pred 7 ans 5\n",
            "605th pred 8 ans 7\n",
            "606th pred 7 ans 8\n",
            "607th pred 7 ans 5\n",
            "608th pred 7 ans 8\n",
            "609th pred 8 ans 8\n",
            "610th pred 7 ans 6\n",
            "611th pred 8 ans 8\n",
            "612th pred 6 ans 8\n",
            "613th pred 7 ans 9\n",
            "614th pred 7 ans 5\n",
            "615th pred 9 ans 8\n",
            "616th pred 8 ans 5\n",
            "617th pred 8 ans 8\n",
            "618th pred 7 ans 8\n",
            "619th pred 7 ans 3\n",
            "620th pred 8 ans 8\n",
            "621th pred 7 ans 3\n",
            "622th pred 8 ans 9\n",
            "623th pred 8 ans 10\n",
            "624th pred 7 ans 8\n",
            "625th pred 7 ans 8\n",
            "626th pred 8 ans 8\n",
            "627th pred 9 ans 7\n",
            "628th pred 7 ans 5\n",
            "629th pred 9 ans 9\n",
            "630th pred 8 ans 6\n",
            "631th pred 7 ans 5\n",
            "632th pred 8 ans 9\n",
            "633th pred 7 ans 5\n",
            "634th pred 5 ans 9\n",
            "635th pred 8 ans 10\n",
            "636th pred 7 ans 5\n",
            "637th pred 6 ans 7\n",
            "638th pred 8 ans 10\n",
            "639th pred 8 ans 10\n",
            "640th pred 8 ans 8\n",
            "641th pred 4 ans 7\n",
            "642th pred 8 ans 9\n",
            "643th pred 8 ans 8\n",
            "644th pred 8 ans 5\n",
            "645th pred 7 ans 5\n",
            "646th pred 8 ans 9\n",
            "647th pred 7 ans 9\n",
            "648th pred 6 ans 10\n",
            "649th pred 8 ans 9\n",
            "650th pred 8 ans 8\n",
            "651th pred 7 ans 4\n",
            "652th pred 7 ans 10\n",
            "653th pred 6 ans 7\n",
            "654th pred 6 ans 4\n",
            "655th pred 9 ans 7\n",
            "656th pred 8 ans 8\n",
            "657th pred 8 ans 8\n",
            "658th pred 8 ans 8\n",
            "659th pred 7 ans 5\n",
            "660th pred 8 ans 10\n",
            "661th pred 8 ans 10\n",
            "662th pred 8 ans 9\n",
            "663th pred 7 ans 8\n",
            "664th pred 6 ans 8\n",
            "665th pred 8 ans 9\n",
            "666th pred 8 ans 7\n",
            "667th pred 7 ans 10\n",
            "668th pred 8 ans 6\n",
            "669th pred 8 ans 7\n",
            "670th pred 8 ans 10\n",
            "671th pred 7 ans 9\n",
            "672th pred 8 ans 10\n",
            "673th pred 7 ans 8\n",
            "674th pred 8 ans 7\n",
            "675th pred 8 ans 10\n",
            "676th pred 9 ans 9\n",
            "677th pred 9 ans 8\n",
            "678th pred 8 ans 9\n",
            "679th pred 8 ans 9\n",
            "680th pred 8 ans 2\n",
            "681th pred 9 ans 9\n",
            "682th pred 8 ans 5\n",
            "683th pred 8 ans 6\n",
            "684th pred 7 ans 5\n",
            "685th pred 7 ans 5\n",
            "686th pred 7 ans 8\n",
            "687th pred 8 ans 10\n",
            "688th pred 8 ans 8\n",
            "689th pred 5 ans 6\n",
            "690th pred 7 ans 5\n",
            "691th pred 9 ans 10\n",
            "692th pred 8 ans 6\n",
            "693th pred 7 ans 5\n",
            "694th pred 6 ans 5\n",
            "695th pred 7 ans 7\n",
            "696th pred 8 ans 8\n",
            "697th pred 9 ans 9\n",
            "698th pred 7 ans 4\n",
            "699th pred 6 ans 6\n",
            "700th pred 6 ans 2\n",
            "701th pred 9 ans 9\n",
            "702th pred 8 ans 6\n",
            "703th pred 8 ans 8\n",
            "704th pred 8 ans 9\n",
            "705th pred 7 ans 5\n",
            "706th pred 9 ans 10\n",
            "707th pred 6 ans 5\n",
            "708th pred 8 ans 9\n",
            "709th pred 6 ans 5\n",
            "710th pred 8 ans 8\n",
            "711th pred 8 ans 7\n",
            "712th pred 8 ans 9\n",
            "713th pred 8 ans 9\n",
            "714th pred 7 ans 10\n",
            "715th pred 7 ans 6\n",
            "716th pred 8 ans 7\n",
            "717th pred 6 ans 7\n",
            "718th pred 8 ans 8\n",
            "719th pred 7 ans 8\n",
            "720th pred 8 ans 7\n",
            "721th pred 6 ans 7\n",
            "722th pred 7 ans 4\n",
            "723th pred 7 ans 5\n",
            "724th pred 7 ans 5\n",
            "725th pred 8 ans 8\n",
            "726th pred 8 ans 8\n",
            "727th pred 7 ans 8\n",
            "728th pred 5 ans 9\n",
            "729th pred 8 ans 10\n",
            "730th pred 8 ans 6\n",
            "731th pred 9 ans 10\n",
            "732th pred 6 ans 7\n",
            "733th pred 6 ans 6\n",
            "734th pred 4 ans 8\n",
            "735th pred 8 ans 7\n",
            "736th pred 8 ans 7\n",
            "737th pred 8 ans 9\n",
            "738th pred 6 ans 5\n",
            "739th pred 7 ans 7\n",
            "740th pred 8 ans 7\n",
            "741th pred 7 ans 5\n",
            "742th pred 7 ans 6\n",
            "743th pred 8 ans 8\n",
            "744th pred 7 ans 9\n",
            "745th pred 6 ans 8\n",
            "Skipping index 752 prompt You are a book recommender and your job is to predict a user's rating (ranging from 1 to 10, with 10 being the highest) on a book, based on that user's previous ratings.\n",
            "\n",
            "User 104451 has rated the following books:\n",
            "\n",
            "\"A Pirate Looks at Fifty\" 10\n",
            "\"Galileo's Daughter: A Historical Memoir of Science, Faith, and Love\" 9\n",
            "\"Space\" 8\n",
            "\"Tess of the D'Urbervilles: A Pure Woman (Signet Classics (Paperback))\" 6\n",
            "\n",
            "Predict the user's rating on \"Great Expectations\". Output the rating score only. Do not include other text. reponse 7. due to error: invalid literal for int() with base 10: '7.'\n",
            "746th pred 8 ans 9\n",
            "747th pred 7 ans 7\n",
            "748th pred 7 ans 6\n",
            "749th pred 7 ans 10\n",
            "750th pred 8 ans 10\n",
            "751th pred 8 ans 5\n",
            "752th pred 8 ans 8\n",
            "Skipping index 760 prompt You are a book recommender and your job is to predict a user's rating (ranging from 1 to 10, with 10 being the highest) on a book, based on that user's previous ratings.\n",
            "\n",
            "User 105298 has rated the following books:\n",
            "\n",
            "\"Three Negro Classics\" 8\n",
            "\"Boondocks: Because I Know You Don't Read The Newspaper\" 10\n",
            "\"It's A Magical World: A Calvin and Hobbes Collection\" 8\n",
            "\"Voice That Is Great Within Us (Bantam Classics)\" 9\n",
            "\n",
            "Predict the user's rating on \"More Women Travel: Adventures and Advice from More Than 60 Countries (1995)\". Output the rating score only. Do not include other text. reponse 7. due to error: invalid literal for int() with base 10: '7.'\n",
            "753th pred 8 ans 9\n",
            "754th pred 7 ans 7\n",
            "755th pred 7 ans 7\n",
            "756th pred 7 ans 8\n",
            "757th pred 6 ans 9\n",
            "758th pred 5 ans 6\n",
            "759th pred 6 ans 5\n",
            "760th pred 7 ans 5\n",
            "761th pred 9 ans 6\n",
            "762th pred 8 ans 10\n",
            "763th pred 6 ans 8\n",
            "764th pred 6 ans 5\n",
            "765th pred 8 ans 10\n",
            "766th pred 8 ans 7\n",
            "767th pred 9 ans 8\n",
            "768th pred 7 ans 9\n",
            "769th pred 7 ans 8\n",
            "770th pred 7 ans 6\n",
            "771th pred 9 ans 5\n",
            "772th pred 5 ans 7\n",
            "773th pred 7 ans 8\n",
            "774th pred 9 ans 9\n",
            "775th pred 8 ans 6\n",
            "776th pred 8 ans 8\n",
            "777th pred 6 ans 10\n",
            "778th pred 8 ans 10\n",
            "779th pred 7 ans 9\n",
            "780th pred 7 ans 10\n",
            "781th pred 4 ans 5\n",
            "782th pred 8 ans 7\n",
            "783th pred 6 ans 7\n",
            "784th pred 8 ans 8\n",
            "785th pred 7 ans 7\n",
            "786th pred 8 ans 10\n",
            "787th pred 7 ans 8\n",
            "788th pred 7 ans 5\n",
            "789th pred 7 ans 6\n",
            "Skipping index 798 prompt You are a book recommender and your job is to predict a user's rating (ranging from 1 to 10, with 10 being the highest) on a book, based on that user's previous ratings.\n",
            "\n",
            "User 109422 has rated the following books:\n",
            "\n",
            "\"To Reign in Hell\" 7\n",
            "\"And That's My Final Offer\" 7\n",
            "\"Nice Guys Sleep Alone: Dating in the Difficult Eighties\" 6\n",
            "\"Protector\" 8\n",
            "\n",
            "Predict the user's rating on \"Garfield Tips the Scales 8 (Garfield (Numbered Paperback))\". Output the rating score only. Do not include other text. reponse 6. due to error: invalid literal for int() with base 10: '6.'\n",
            "790th pred 6 ans 7\n",
            "791th pred 8 ans 10\n",
            "792th pred 7 ans 7\n",
            "793th pred 4 ans 7\n",
            "794th pred 6 ans 1\n",
            "795th pred 5 ans 7\n",
            "796th pred 8 ans 10\n",
            "797th pred 8 ans 5\n",
            "798th pred 8 ans 9\n",
            "799th pred 8 ans 7\n",
            "800th pred 7 ans 9\n",
            "801th pred 6 ans 9\n",
            "802th pred 5 ans 5\n",
            "803th pred 8 ans 9\n",
            "804th pred 7 ans 9\n",
            "805th pred 5 ans 7\n",
            "806th pred 7 ans 5\n",
            "807th pred 7 ans 7\n",
            "808th pred 8 ans 7\n",
            "809th pred 5 ans 8\n",
            "810th pred 8 ans 8\n",
            "811th pred 7 ans 5\n",
            "812th pred 6 ans 8\n",
            "813th pred 7 ans 5\n",
            "814th pred 8 ans 5\n",
            "815th pred 8 ans 8\n",
            "816th pred 8 ans 8\n",
            "817th pred 7 ans 5\n",
            "818th pred 7 ans 9\n",
            "819th pred 7 ans 7\n",
            "820th pred 7 ans 5\n",
            "821th pred 9 ans 5\n",
            "822th pred 7 ans 9\n",
            "823th pred 8 ans 10\n",
            "824th pred 9 ans 10\n",
            "825th pred 6 ans 6\n",
            "826th pred 7 ans 7\n",
            "827th pred 7 ans 9\n",
            "828th pred 8 ans 8\n",
            "829th pred 8 ans 8\n",
            "830th pred 7 ans 7\n",
            "831th pred 6 ans 7\n",
            "832th pred 7 ans 9\n",
            "833th pred 7 ans 8\n",
            "834th pred 9 ans 10\n",
            "835th pred 7 ans 4\n",
            "836th pred 7 ans 9\n",
            "837th pred 7 ans 6\n",
            "838th pred 8 ans 5\n",
            "839th pred 8 ans 7\n",
            "840th pred 8 ans 7\n",
            "841th pred 5 ans 6\n",
            "842th pred 6 ans 8\n",
            "843th pred 7 ans 7\n",
            "844th pred 7 ans 10\n",
            "845th pred 8 ans 6\n",
            "846th pred 8 ans 8\n",
            "847th pred 6 ans 8\n",
            "848th pred 6 ans 7\n",
            "849th pred 9 ans 8\n",
            "850th pred 8 ans 8\n",
            "851th pred 8 ans 9\n",
            "852th pred 8 ans 8\n",
            "853th pred 6 ans 5\n",
            "854th pred 6 ans 5\n",
            "855th pred 6 ans 10\n",
            "856th pred 8 ans 6\n",
            "857th pred 7 ans 5\n",
            "858th pred 6 ans 6\n",
            "859th pred 7 ans 10\n",
            "860th pred 8 ans 10\n",
            "861th pred 7 ans 8\n",
            "862th pred 7 ans 7\n",
            "863th pred 8 ans 10\n",
            "864th pred 5 ans 10\n",
            "865th pred 8 ans 9\n",
            "866th pred 8 ans 7\n",
            "867th pred 9 ans 9\n",
            "868th pred 8 ans 7\n",
            "869th pred 7 ans 5\n",
            "870th pred 9 ans 10\n",
            "871th pred 6 ans 7\n",
            "872th pred 7 ans 10\n",
            "873th pred 8 ans 9\n",
            "874th pred 7 ans 7\n",
            "875th pred 8 ans 9\n",
            "876th pred 8 ans 10\n",
            "877th pred 7 ans 5\n",
            "878th pred 6 ans 7\n",
            "879th pred 8 ans 9\n",
            "880th pred 8 ans 8\n",
            "881th pred 8 ans 3\n",
            "882th pred 7 ans 8\n",
            "883th pred 8 ans 8\n",
            "884th pred 9 ans 10\n",
            "885th pred 8 ans 8\n",
            "886th pred 7 ans 7\n",
            "887th pred 7 ans 8\n",
            "888th pred 7 ans 6\n",
            "889th pred 7 ans 7\n",
            "890th pred 8 ans 8\n",
            "891th pred 5 ans 7\n",
            "892th pred 6 ans 9\n",
            "893th pred 6 ans 5\n",
            "894th pred 5 ans 6\n",
            "895th pred 9 ans 7\n",
            "896th pred 7 ans 8\n",
            "897th pred 6 ans 9\n",
            "898th pred 7 ans 7\n",
            "899th pred 8 ans 7\n",
            "900th pred 6 ans 5\n",
            "901th pred 7 ans 6\n",
            "902th pred 8 ans 9\n",
            "903th pred 9 ans 8\n",
            "904th pred 6 ans 5\n",
            "905th pred 6 ans 8\n",
            "906th pred 7 ans 5\n",
            "907th pred 6 ans 5\n",
            "908th pred 7 ans 10\n",
            "909th pred 8 ans 10\n",
            "910th pred 8 ans 10\n",
            "911th pred 6 ans 7\n",
            "912th pred 8 ans 5\n",
            "913th pred 8 ans 5\n",
            "914th pred 9 ans 8\n",
            "915th pred 7 ans 5\n",
            "916th pred 8 ans 6\n",
            "917th pred 7 ans 9\n",
            "918th pred 4 ans 6\n",
            "919th pred 4 ans 4\n",
            "920th pred 6 ans 7\n",
            "921th pred 8 ans 9\n",
            "922th pred 8 ans 9\n",
            "923th pred 8 ans 8\n",
            "924th pred 7 ans 8\n",
            "925th pred 7 ans 7\n",
            "926th pred 7 ans 9\n",
            "927th pred 6 ans 10\n",
            "928th pred 8 ans 6\n",
            "929th pred 9 ans 8\n",
            "930th pred 7 ans 10\n",
            "931th pred 9 ans 10\n",
            "932th pred 6 ans 6\n",
            "933th pred 8 ans 9\n",
            "934th pred 8 ans 8\n",
            "935th pred 4 ans 6\n",
            "936th pred 7 ans 7\n",
            "937th pred 7 ans 6\n",
            "938th pred 6 ans 7\n",
            "939th pred 8 ans 10\n",
            "940th pred 8 ans 7\n",
            "941th pred 8 ans 4\n",
            "942th pred 7 ans 6\n",
            "943th pred 7 ans 8\n",
            "944th pred 8 ans 7\n",
            "945th pred 7 ans 9\n",
            "946th pred 8 ans 8\n",
            "947th pred 6 ans 6\n",
            "948th pred 8 ans 4\n",
            "949th pred 7 ans 8\n",
            "950th pred 7 ans 7\n",
            "951th pred 7 ans 5\n",
            "952th pred 6 ans 6\n",
            "953th pred 5 ans 4\n",
            "954th pred 8 ans 10\n",
            "955th pred 7 ans 8\n",
            "956th pred 8 ans 8\n",
            "957th pred 8 ans 10\n",
            "958th pred 7 ans 8\n",
            "959th pred 8 ans 7\n",
            "960th pred 8 ans 10\n",
            "961th pred 8 ans 6\n",
            "962th pred 6 ans 5\n",
            "963th pred 6 ans 8\n",
            "964th pred 8 ans 8\n",
            "965th pred 8 ans 4\n",
            "966th pred 7 ans 7\n",
            "967th pred 8 ans 7\n",
            "968th pred 8 ans 7\n",
            "969th pred 8 ans 10\n",
            "970th pred 8 ans 10\n",
            "971th pred 7 ans 10\n",
            "972th pred 8 ans 6\n",
            "973th pred 8 ans 7\n",
            "974th pred 8 ans 8\n",
            "975th pred 8 ans 8\n",
            "976th pred 8 ans 7\n",
            "977th pred 8 ans 9\n",
            "978th pred 8 ans 5\n",
            "979th pred 7 ans 10\n",
            "980th pred 7 ans 9\n",
            "981th pred 7 ans 9\n",
            "982th pred 8 ans 9\n",
            "983th pred 5 ans 6\n",
            "984th pred 5 ans 4\n",
            "985th pred 7 ans 10\n",
            "986th pred 8 ans 10\n",
            "987th pred 7 ans 5\n",
            "988th pred 8 ans 8\n",
            "989th pred 8 ans 7\n",
            "990th pred 7 ans 10\n",
            "991th pred 5 ans 8\n",
            "992th pred 8 ans 8\n",
            "993th pred 6 ans 7\n",
            "994th pred 7 ans 5\n",
            "995th pred 9 ans 10\n",
            "996th pred 7 ans 5\n",
            "997th pred 7 ans 4\n",
            "998th pred 8 ans 8\n",
            "999th pred 7 ans 8\n",
            "1000th pred 8 ans 8\n",
            "1001th pred 8 ans 8\n",
            "1002th pred 8 ans 7\n",
            "1003th pred 7 ans 5\n",
            "1004th pred 6 ans 5\n",
            "1005th pred 6 ans 5\n",
            "1006th pred 9 ans 10\n",
            "1007th pred 7 ans 8\n",
            "1008th pred 7 ans 10\n",
            "1009th pred 7 ans 10\n",
            "1010th pred 8 ans 7\n",
            "1011th pred 8 ans 8\n",
            "1012th pred 8 ans 7\n",
            "1013th pred 8 ans 5\n",
            "1014th pred 7 ans 8\n",
            "1015th pred 8 ans 8\n",
            "1016th pred 8 ans 7\n",
            "1017th pred 7 ans 5\n",
            "1018th pred 9 ans 10\n",
            "1019th pred 8 ans 6\n",
            "1020th pred 8 ans 10\n",
            "1021th pred 5 ans 9\n",
            "1022th pred 7 ans 9\n",
            "1023th pred 5 ans 7\n",
            "1024th pred 8 ans 8\n",
            "1025th pred 8 ans 8\n",
            "1026th pred 7 ans 6\n",
            "1027th pred 8 ans 10\n",
            "1028th pred 5 ans 8\n",
            "1029th pred 7 ans 6\n",
            "1030th pred 8 ans 8\n",
            "1031th pred 8 ans 8\n",
            "1032th pred 8 ans 6\n",
            "1033th pred 8 ans 9\n",
            "1034th pred 8 ans 6\n",
            "1035th pred 7 ans 8\n",
            "1036th pred 7 ans 7\n",
            "1037th pred 7 ans 5\n",
            "1038th pred 7 ans 9\n",
            "1039th pred 8 ans 7\n",
            "1040th pred 8 ans 9\n",
            "1041th pred 8 ans 10\n",
            "1042th pred 8 ans 9\n",
            "1043th pred 6 ans 6\n",
            "1044th pred 9 ans 10\n",
            "1045th pred 6 ans 8\n",
            "1046th pred 9 ans 9\n",
            "1047th pred 8 ans 6\n",
            "1048th pred 7 ans 5\n",
            "1049th pred 7 ans 10\n",
            "1050th pred 5 ans 9\n",
            "1051th pred 8 ans 6\n",
            "1052th pred 8 ans 7\n",
            "1053th pred 8 ans 9\n",
            "1054th pred 7 ans 5\n",
            "1055th pred 7 ans 8\n",
            "1056th pred 7 ans 6\n",
            "1057th pred 8 ans 3\n",
            "1058th pred 8 ans 10\n",
            "1059th pred 8 ans 10\n",
            "1060th pred 6 ans 7\n",
            "1061th pred 8 ans 6\n",
            "1062th pred 7 ans 5\n",
            "1063th pred 7 ans 5\n",
            "1064th pred 9 ans 7\n",
            "1065th pred 8 ans 8\n",
            "1066th pred 6 ans 5\n",
            "1067th pred 7 ans 8\n",
            "1068th pred 8 ans 7\n",
            "1069th pred 6 ans 10\n",
            "1070th pred 6 ans 5\n",
            "1071th pred 7 ans 8\n",
            "1072th pred 8 ans 8\n",
            "1073th pred 7 ans 9\n",
            "1074th pred 8 ans 8\n",
            "1075th pred 7 ans 8\n",
            "1076th pred 6 ans 5\n",
            "1077th pred 7 ans 8\n",
            "1078th pred 8 ans 7\n",
            "1079th pred 7 ans 7\n",
            "1080th pred 8 ans 10\n",
            "1081th pred 7 ans 8\n",
            "1082th pred 7 ans 9\n",
            "1083th pred 8 ans 8\n",
            "1084th pred 6 ans 8\n",
            "1085th pred 7 ans 8\n",
            "1086th pred 8 ans 7\n",
            "1087th pred 7 ans 10\n",
            "1088th pred 8 ans 10\n",
            "1089th pred 8 ans 9\n",
            "1090th pred 7 ans 8\n",
            "1091th pred 8 ans 8\n",
            "1092th pred 6 ans 10\n",
            "1093th pred 6 ans 9\n",
            "1094th pred 6 ans 7\n",
            "1095th pred 8 ans 8\n",
            "1096th pred 8 ans 7\n",
            "1097th pred 8 ans 7\n",
            "1098th pred 5 ans 8\n",
            "1099th pred 7 ans 6\n",
            "1100th pred 7 ans 9\n",
            "1101th pred 8 ans 9\n",
            "1102th pred 6 ans 10\n",
            "1103th pred 7 ans 5\n",
            "1104th pred 5 ans 7\n",
            "1105th pred 7 ans 6\n",
            "1106th pred 7 ans 7\n",
            "1107th pred 7 ans 9\n",
            "1108th pred 8 ans 8\n",
            "1109th pred 8 ans 8\n",
            "1110th pred 7 ans 9\n",
            "1111th pred 7 ans 7\n",
            "1112th pred 8 ans 5\n",
            "1113th pred 9 ans 5\n",
            "1114th pred 9 ans 9\n",
            "1115th pred 4 ans 8\n",
            "1116th pred 8 ans 5\n",
            "1117th pred 8 ans 10\n",
            "1118th pred 8 ans 8\n",
            "1119th pred 8 ans 5\n",
            "1120th pred 7 ans 10\n",
            "1121th pred 7 ans 9\n",
            "1122th pred 7 ans 7\n",
            "1123th pred 8 ans 7\n",
            "1124th pred 8 ans 10\n",
            "1125th pred 7 ans 9\n",
            "1126th pred 8 ans 8\n",
            "1127th pred 5 ans 5\n",
            "1128th pred 8 ans 10\n",
            "1129th pred 5 ans 8\n",
            "1130th pred 8 ans 8\n",
            "1131th pred 8 ans 7\n",
            "1132th pred 7 ans 7\n",
            "1133th pred 7 ans 7\n",
            "1134th pred 8 ans 10\n",
            "1135th pred 7 ans 10\n",
            "1136th pred 6 ans 8\n",
            "1137th pred 7 ans 7\n",
            "1138th pred 7 ans 5\n",
            "1139th pred 7 ans 7\n",
            "1140th pred 7 ans 5\n",
            "1141th pred 6 ans 5\n",
            "1142th pred 7 ans 8\n",
            "1143th pred 7 ans 8\n",
            "1144th pred 7 ans 7\n",
            "1145th pred 8 ans 6\n",
            "1146th pred 7 ans 8\n",
            "1147th pred 6 ans 9\n",
            "1148th pred 7 ans 8\n",
            "1149th pred 7 ans 3\n",
            "1150th pred 8 ans 3\n",
            "1151th pred 6 ans 10\n",
            "1152th pred 6 ans 8\n",
            "1153th pred 9 ans 7\n",
            "1154th pred 7 ans 5\n",
            "1155th pred 6 ans 7\n",
            "1156th pred 7 ans 7\n",
            "1157th pred 8 ans 9\n",
            "1158th pred 8 ans 10\n",
            "1159th pred 7 ans 7\n",
            "1160th pred 8 ans 5\n",
            "1161th pred 7 ans 9\n",
            "1162th pred 7 ans 8\n",
            "1163th pred 8 ans 8\n",
            "1164th pred 7 ans 5\n",
            "1165th pred 8 ans 9\n",
            "1166th pred 8 ans 7\n",
            "1167th pred 7 ans 6\n",
            "1168th pred 8 ans 10\n",
            "1169th pred 6 ans 3\n",
            "1170th pred 8 ans 9\n",
            "1171th pred 7 ans 9\n",
            "1172th pred 7 ans 10\n",
            "1173th pred 7 ans 4\n",
            "1174th pred 8 ans 9\n",
            "1175th pred 8 ans 8\n",
            "1176th pred 7 ans 6\n",
            "1177th pred 6 ans 5\n",
            "1178th pred 9 ans 10\n",
            "1179th pred 8 ans 5\n",
            "1180th pred 9 ans 7\n",
            "1181th pred 7 ans 8\n",
            "1182th pred 9 ans 5\n",
            "1183th pred 7 ans 7\n",
            "1184th pred 7 ans 8\n",
            "1185th pred 8 ans 8\n",
            "1186th pred 7 ans 9\n",
            "1187th pred 6 ans 5\n",
            "1188th pred 8 ans 7\n",
            "1189th pred 9 ans 8\n",
            "1190th pred 7 ans 8\n",
            "1191th pred 8 ans 6\n",
            "1192th pred 8 ans 7\n",
            "1193th pred 8 ans 4\n",
            "1194th pred 7 ans 7\n",
            "1195th pred 8 ans 8\n",
            "1196th pred 8 ans 7\n",
            "1197th pred 6 ans 6\n",
            "1198th pred 7 ans 8\n",
            "1199th pred 7 ans 5\n",
            "1200th pred 6 ans 9\n",
            "1201th pred 7 ans 2\n",
            "1202th pred 6 ans 6\n",
            "1203th pred 8 ans 3\n",
            "1204th pred 8 ans 10\n",
            "1205th pred 7 ans 10\n",
            "1206th pred 7 ans 8\n",
            "1207th pred 8 ans 7\n",
            "1208th pred 6 ans 9\n",
            "1209th pred 8 ans 6\n",
            "1210th pred 8 ans 7\n",
            "1211th pred 7 ans 7\n",
            "1212th pred 8 ans 8\n",
            "1213th pred 10 ans 10\n",
            "1214th pred 7 ans 10\n",
            "1215th pred 4 ans 5\n",
            "1216th pred 7 ans 5\n",
            "1217th pred 7 ans 5\n",
            "1218th pred 7 ans 6\n",
            "1219th pred 8 ans 10\n",
            "1220th pred 8 ans 5\n",
            "1221th pred 8 ans 6\n",
            "1222th pred 8 ans 8\n",
            "1223th pred 7 ans 8\n",
            "1224th pred 5 ans 8\n",
            "1225th pred 8 ans 5\n",
            "1226th pred 8 ans 8\n",
            "1227th pred 5 ans 9\n",
            "1228th pred 8 ans 5\n",
            "1229th pred 6 ans 5\n",
            "1230th pred 9 ans 10\n",
            "1231th pred 8 ans 8\n",
            "1232th pred 8 ans 9\n",
            "1233th pred 5 ans 4\n",
            "1234th pred 8 ans 6\n",
            "1235th pred 7 ans 7\n",
            "1236th pred 6 ans 7\n",
            "1237th pred 9 ans 8\n",
            "1238th pred 4 ans 8\n",
            "1239th pred 6 ans 8\n",
            "1240th pred 7 ans 8\n",
            "1241th pred 7 ans 5\n",
            "1242th pred 7 ans 5\n",
            "1243th pred 7 ans 6\n",
            "1244th pred 7 ans 6\n",
            "1245th pred 8 ans 6\n",
            "1246th pred 8 ans 7\n",
            "1247th pred 8 ans 10\n",
            "1248th pred 5 ans 8\n",
            "1249th pred 7 ans 7\n",
            "1250th pred 7 ans 10\n",
            "1251th pred 7 ans 10\n",
            "1252th pred 8 ans 5\n",
            "1253th pred 8 ans 10\n",
            "1254th pred 7 ans 10\n",
            "1255th pred 8 ans 9\n",
            "1256th pred 8 ans 8\n",
            "1257th pred 8 ans 8\n",
            "1258th pred 9 ans 9\n",
            "1259th pred 8 ans 10\n",
            "1260th pred 7 ans 6\n",
            "1261th pred 8 ans 9\n",
            "1262th pred 9 ans 8\n",
            "1263th pred 7 ans 10\n",
            "1264th pred 8 ans 9\n",
            "1265th pred 7 ans 9\n",
            "1266th pred 6 ans 7\n",
            "1267th pred 8 ans 9\n",
            "1268th pred 7 ans 7\n",
            "1269th pred 7 ans 7\n",
            "1270th pred 8 ans 6\n",
            "1271th pred 8 ans 5\n",
            "1272th pred 8 ans 5\n",
            "1273th pred 7 ans 8\n",
            "1274th pred 3 ans 7\n",
            "1275th pred 7 ans 5\n",
            "1276th pred 8 ans 9\n",
            "1277th pred 8 ans 7\n",
            "1278th pred 5 ans 9\n",
            "1279th pred 7 ans 8\n",
            "1280th pred 8 ans 7\n",
            "1281th pred 9 ans 9\n",
            "1282th pred 6 ans 8\n",
            "1283th pred 4 ans 9\n",
            "1284th pred 8 ans 10\n",
            "1285th pred 8 ans 9\n",
            "1286th pred 7 ans 5\n",
            "1287th pred 7 ans 10\n",
            "1288th pred 8 ans 5\n",
            "1289th pred 6 ans 6\n",
            "1290th pred 7 ans 6\n",
            "1291th pred 7 ans 9\n",
            "1292th pred 8 ans 5\n",
            "1293th pred 7 ans 7\n",
            "1294th pred 7 ans 5\n",
            "1295th pred 7 ans 7\n",
            "1296th pred 7 ans 8\n",
            "1297th pred 7 ans 8\n",
            "1298th pred 7 ans 8\n",
            "1299th pred 7 ans 9\n",
            "1300th pred 5 ans 7\n",
            "1301th pred 8 ans 6\n",
            "1302th pred 7 ans 6\n",
            "1303th pred 8 ans 10\n",
            "1304th pred 7 ans 7\n",
            "1305th pred 7 ans 8\n",
            "1306th pred 8 ans 9\n",
            "1307th pred 8 ans 7\n",
            "1308th pred 6 ans 7\n",
            "1309th pred 7 ans 5\n",
            "1310th pred 6 ans 5\n",
            "1311th pred 7 ans 7\n",
            "1312th pred 8 ans 10\n",
            "1313th pred 8 ans 8\n",
            "1314th pred 7 ans 9\n",
            "1315th pred 8 ans 7\n",
            "1316th pred 8 ans 8\n",
            "1317th pred 7 ans 5\n",
            "1318th pred 8 ans 10\n",
            "1319th pred 9 ans 8\n",
            "1320th pred 7 ans 9\n",
            "1321th pred 6 ans 8\n",
            "1322th pred 8 ans 7\n",
            "1323th pred 4 ans 7\n",
            "1324th pred 8 ans 9\n",
            "1325th pred 7 ans 6\n",
            "1326th pred 9 ans 10\n",
            "1327th pred 8 ans 8\n",
            "1328th pred 6 ans 7\n",
            "1329th pred 7 ans 9\n",
            "1330th pred 3 ans 5\n",
            "1331th pred 4 ans 3\n",
            "1332th pred 6 ans 8\n",
            "1333th pred 8 ans 8\n",
            "1334th pred 8 ans 9\n",
            "1335th pred 8 ans 10\n",
            "1336th pred 7 ans 9\n",
            "1337th pred 6 ans 8\n",
            "1338th pred 8 ans 8\n",
            "1339th pred 7 ans 7\n",
            "1340th pred 9 ans 8\n",
            "1341th pred 5 ans 6\n",
            "1342th pred 7 ans 6\n",
            "1343th pred 6 ans 2\n",
            "1344th pred 8 ans 9\n",
            "1345th pred 8 ans 8\n",
            "1346th pred 8 ans 10\n",
            "1347th pred 8 ans 8\n",
            "1348th pred 9 ans 9\n",
            "1349th pred 6 ans 9\n",
            "1350th pred 7 ans 6\n",
            "1351th pred 8 ans 7\n",
            "1352th pred 8 ans 10\n",
            "1353th pred 7 ans 7\n",
            "1354th pred 7 ans 7\n",
            "1355th pred 8 ans 9\n",
            "1356th pred 7 ans 10\n",
            "1357th pred 8 ans 9\n",
            "1358th pred 6 ans 9\n",
            "1359th pred 8 ans 5\n",
            "1360th pred 8 ans 5\n",
            "1361th pred 7 ans 7\n",
            "1362th pred 6 ans 5\n",
            "1363th pred 8 ans 6\n",
            "1364th pred 7 ans 4\n",
            "1365th pred 9 ans 10\n",
            "1366th pred 7 ans 7\n",
            "1367th pred 8 ans 7\n",
            "1368th pred 7 ans 9\n",
            "1369th pred 7 ans 7\n",
            "1370th pred 7 ans 8\n",
            "1371th pred 7 ans 6\n",
            "1372th pred 7 ans 10\n",
            "1373th pred 7 ans 8\n",
            "1374th pred 8 ans 9\n",
            "1375th pred 6 ans 8\n",
            "1376th pred 7 ans 7\n",
            "1377th pred 8 ans 7\n",
            "1378th pred 8 ans 8\n",
            "1379th pred 6 ans 4\n",
            "1380th pred 8 ans 8\n",
            "1381th pred 8 ans 8\n",
            "1382th pred 6 ans 8\n",
            "1383th pred 9 ans 7\n",
            "1384th pred 8 ans 5\n",
            "1385th pred 4 ans 7\n",
            "1386th pred 8 ans 10\n",
            "1387th pred 8 ans 5\n",
            "1388th pred 7 ans 10\n",
            "1389th pred 8 ans 8\n",
            "1390th pred 8 ans 8\n",
            "1391th pred 6 ans 7\n",
            "1392th pred 8 ans 5\n",
            "1393th pred 8 ans 9\n",
            "1394th pred 8 ans 7\n",
            "1395th pred 8 ans 10\n",
            "1396th pred 8 ans 8\n",
            "1397th pred 6 ans 5\n",
            "1398th pred 8 ans 9\n",
            "1399th pred 9 ans 10\n",
            "1400th pred 6 ans 5\n",
            "1401th pred 7 ans 4\n",
            "1402th pred 7 ans 6\n",
            "1403th pred 7 ans 9\n",
            "1404th pred 6 ans 4\n",
            "1405th pred 1 ans 1\n",
            "1406th pred 7 ans 9\n",
            "1407th pred 7 ans 6\n",
            "1408th pred 7 ans 5\n",
            "1409th pred 7 ans 5\n",
            "1410th pred 7 ans 10\n",
            "1411th pred 8 ans 3\n",
            "1412th pred 7 ans 6\n",
            "1413th pred 8 ans 8\n",
            "1414th pred 5 ans 9\n",
            "1415th pred 4 ans 7\n",
            "1416th pred 8 ans 8\n",
            "1417th pred 8 ans 2\n",
            "1418th pred 6 ans 9\n",
            "1419th pred 7 ans 9\n",
            "1420th pred 7 ans 8\n",
            "1421th pred 7 ans 9\n",
            "1422th pred 5 ans 5\n",
            "1423th pred 8 ans 10\n",
            "1424th pred 8 ans 8\n",
            "1425th pred 8 ans 9\n",
            "1426th pred 8 ans 7\n",
            "1427th pred 7 ans 8\n",
            "1428th pred 6 ans 6\n",
            "1429th pred 7 ans 8\n",
            "1430th pred 9 ans 9\n",
            "1431th pred 7 ans 10\n",
            "1432th pred 7 ans 8\n",
            "1433th pred 7 ans 9\n",
            "1434th pred 7 ans 9\n",
            "1435th pred 4 ans 8\n",
            "1436th pred 7 ans 6\n",
            "1437th pred 8 ans 10\n",
            "1438th pred 8 ans 10\n",
            "1439th pred 8 ans 8\n",
            "1440th pred 7 ans 7\n",
            "Skipping index 1450 prompt You are a book recommender and your job is to predict a user's rating (ranging from 1 to 10, with 10 being the highest) on a book, based on that user's previous ratings.\n",
            "\n",
            "User 201926 has rated the following books:\n",
            "\n",
            "\"The Red Queen: Sex and the Evolution of Human Nature\" 7\n",
            "\"Mockery of Justice: The True Story of the Sheppard Murder Case\" 8\n",
            "\"In Harm's Way: The Sinking of the USS Indianapolis and the Extraordinary Story of Its Survivors\" 7\n",
            "\"Hyperspace: A Scientific Odyssey Through Parallel Universes, Time Warps and the Tenth Dimension\" 7\n",
            "\n",
            "Predict the user's rating on \"\\Surely You're Joking, Mr. Feynman!\\\": Adventures of a Curious Character\"\". Output the rating score only. Do not include other text. reponse 9. due to error: invalid literal for int() with base 10: '9.'\n",
            "1441th pred 8 ans 9\n",
            "1442th pred 7 ans 6\n",
            "1443th pred 7 ans 8\n",
            "1444th pred 6 ans 7\n",
            "1445th pred 8 ans 9\n",
            "1446th pred 8 ans 9\n",
            "1447th pred 8 ans 7\n",
            "1448th pred 8 ans 5\n",
            "1449th pred 6 ans 10\n",
            "1450th pred 7 ans 8\n",
            "1451th pred 7 ans 10\n",
            "1452th pred 8 ans 8\n",
            "1453th pred 8 ans 7\n",
            "1454th pred 8 ans 8\n",
            "1455th pred 9 ans 7\n",
            "1456th pred 8 ans 7\n",
            "1457th pred 8 ans 10\n",
            "1458th pred 6 ans 10\n",
            "1459th pred 6 ans 7\n",
            "1460th pred 8 ans 8\n",
            "1461th pred 8 ans 7\n",
            "1462th pred 8 ans 4\n",
            "1463th pred 7 ans 9\n",
            "1464th pred 8 ans 7\n",
            "1465th pred 8 ans 6\n",
            "1466th pred 7 ans 8\n",
            "1467th pred 7 ans 7\n",
            "1468th pred 7 ans 5\n",
            "1469th pred 5 ans 4\n",
            "1470th pred 5 ans 10\n",
            "1471th pred 7 ans 6\n",
            "1472th pred 7 ans 8\n",
            "1473th pred 6 ans 6\n",
            "1474th pred 6 ans 7\n",
            "1475th pred 8 ans 9\n",
            "1476th pred 7 ans 7\n",
            "1477th pred 8 ans 7\n",
            "1478th pred 7 ans 10\n",
            "1479th pred 7 ans 9\n",
            "1480th pred 8 ans 7\n",
            "1481th pred 8 ans 7\n",
            "1482th pred 8 ans 8\n",
            "1483th pred 8 ans 4\n",
            "1484th pred 7 ans 8\n",
            "1485th pred 8 ans 8\n",
            "1486th pred 8 ans 9\n",
            "1487th pred 7 ans 7\n",
            "1488th pred 8 ans 9\n",
            "1489th pred 8 ans 9\n",
            "1490th pred 7 ans 8\n",
            "1491th pred 8 ans 6\n",
            "1492th pred 7 ans 8\n",
            "1493th pred 9 ans 10\n",
            "1494th pred 8 ans 10\n",
            "1495th pred 7 ans 5\n",
            "1496th pred 7 ans 8\n",
            "1497th pred 7 ans 8\n",
            "1498th pred 8 ans 7\n",
            "1499th pred 7 ans 8\n",
            "1500th pred 7 ans 6\n",
            "1501th pred 8 ans 8\n",
            "1502th pred 6 ans 7\n",
            "1503th pred 7 ans 8\n",
            "1504th pred 8 ans 7\n",
            "1505th pred 8 ans 5\n",
            "1506th pred 7 ans 7\n",
            "1507th pred 6 ans 5\n",
            "1508th pred 9 ans 5\n",
            "1509th pred 8 ans 7\n",
            "1510th pred 8 ans 7\n",
            "1511th pred 6 ans 9\n",
            "1512th pred 6 ans 8\n",
            "1513th pred 8 ans 9\n",
            "1514th pred 7 ans 8\n",
            "1515th pred 8 ans 6\n",
            "1516th pred 8 ans 7\n",
            "1517th pred 5 ans 8\n",
            "1518th pred 7 ans 9\n",
            "1519th pred 7 ans 7\n",
            "1520th pred 8 ans 7\n",
            "1521th pred 5 ans 6\n",
            "1522th pred 7 ans 7\n",
            "1523th pred 7 ans 6\n",
            "1524th pred 9 ans 8\n",
            "1525th pred 7 ans 5\n",
            "1526th pred 8 ans 8\n",
            "1527th pred 7 ans 6\n",
            "1528th pred 7 ans 5\n",
            "1529th pred 7 ans 8\n",
            "1530th pred 7 ans 7\n",
            "Skipping index 1541 prompt You are a book recommender and your job is to predict a user's rating (ranging from 1 to 10, with 10 being the highest) on a book, based on that user's previous ratings.\n",
            "\n",
            "User 214916 has rated the following books:\n",
            "\n",
            "\"Powerful Days: The Civil Rights Photography of Charles Moore\" 10\n",
            "\"Let's Learn Hiragana\" 5\n",
            "\"JOY OF MUSIC     P\" 5\n",
            "\"Weider Book of Bodybuilding for Women\" 5\n",
            "\n",
            "Predict the user's rating on \"The Ultimate Secrets of Total Self-Confidence\". Output the rating score only. Do not include other text. reponse 7. due to error: invalid literal for int() with base 10: '7.'\n",
            "1531th pred 8 ans 9\n",
            "1532th pred 4 ans 9\n",
            "1533th pred 8 ans 7\n",
            "1534th pred 8 ans 9\n",
            "1535th pred 5 ans 7\n",
            "1536th pred 8 ans 8\n",
            "1537th pred 8 ans 9\n",
            "1538th pred 7 ans 9\n",
            "1539th pred 7 ans 5\n",
            "1540th pred 8 ans 9\n",
            "1541th pred 8 ans 10\n",
            "1542th pred 6 ans 7\n",
            "1543th pred 8 ans 3\n",
            "1544th pred 8 ans 8\n",
            "1545th pred 7 ans 9\n",
            "1546th pred 8 ans 3\n",
            "1547th pred 7 ans 5\n",
            "1548th pred 8 ans 10\n",
            "1549th pred 8 ans 8\n",
            "1550th pred 8 ans 7\n",
            "1551th pred 8 ans 6\n",
            "1552th pred 5 ans 5\n",
            "1553th pred 9 ans 10\n",
            "1554th pred 7 ans 8\n",
            "1555th pred 9 ans 7\n",
            "1556th pred 8 ans 4\n",
            "1557th pred 6 ans 7\n",
            "1558th pred 7 ans 7\n",
            "1559th pred 7 ans 8\n",
            "1560th pred 5 ans 8\n",
            "1561th pred 8 ans 8\n",
            "1562th pred 7 ans 9\n",
            "1563th pred 8 ans 7\n",
            "1564th pred 7 ans 7\n",
            "1565th pred 7 ans 7\n",
            "1566th pred 8 ans 10\n",
            "1567th pred 6 ans 9\n",
            "1568th pred 5 ans 7\n",
            "1569th pred 8 ans 8\n",
            "1570th pred 9 ans 8\n",
            "1571th pred 7 ans 7\n",
            "1572th pred 9 ans 9\n",
            "1573th pred 8 ans 8\n",
            "1574th pred 7 ans 5\n",
            "1575th pred 7 ans 5\n",
            "1576th pred 7 ans 10\n",
            "1577th pred 7 ans 8\n",
            "1578th pred 7 ans 9\n",
            "1579th pred 7 ans 3\n",
            "1580th pred 8 ans 5\n",
            "1581th pred 8 ans 3\n",
            "1582th pred 8 ans 4\n",
            "1583th pred 5 ans 10\n",
            "1584th pred 6 ans 8\n",
            "1585th pred 8 ans 9\n",
            "1586th pred 7 ans 8\n",
            "1587th pred 8 ans 7\n",
            "1588th pred 8 ans 7\n",
            "1589th pred 8 ans 5\n",
            "1590th pred 8 ans 10\n",
            "1591th pred 8 ans 7\n",
            "1592th pred 7 ans 6\n",
            "1593th pred 8 ans 7\n",
            "1594th pred 6 ans 5\n",
            "1595th pred 7 ans 8\n",
            "1596th pred 7 ans 6\n",
            "1597th pred 8 ans 7\n",
            "1598th pred 4 ans 7\n",
            "1599th pred 8 ans 10\n",
            "1600th pred 9 ans 6\n",
            "1601th pred 8 ans 7\n",
            "1602th pred 7 ans 4\n",
            "1603th pred 7 ans 7\n",
            "1604th pred 4 ans 7\n",
            "1605th pred 7 ans 7\n",
            "1606th pred 7 ans 9\n",
            "1607th pred 7 ans 6\n",
            "1608th pred 6 ans 4\n",
            "1609th pred 6 ans 7\n",
            "1610th pred 6 ans 2\n",
            "1611th pred 7 ans 6\n",
            "1612th pred 7 ans 10\n",
            "1613th pred 7 ans 7\n",
            "1614th pred 7 ans 7\n",
            "1615th pred 6 ans 7\n",
            "1616th pred 6 ans 7\n",
            "1617th pred 9 ans 10\n",
            "1618th pred 8 ans 6\n",
            "1619th pred 8 ans 6\n",
            "1620th pred 5 ans 6\n",
            "1621th pred 8 ans 9\n",
            "1622th pred 7 ans 9\n",
            "1623th pred 7 ans 9\n",
            "1624th pred 7 ans 8\n",
            "1625th pred 7 ans 6\n",
            "1626th pred 9 ans 9\n",
            "1627th pred 8 ans 7\n",
            "1628th pred 7 ans 8\n",
            "1629th pred 8 ans 8\n",
            "1630th pred 7 ans 8\n",
            "1631th pred 7 ans 8\n",
            "1632th pred 8 ans 8\n",
            "1633th pred 8 ans 8\n",
            "1634th pred 7 ans 5\n",
            "1635th pred 8 ans 8\n",
            "1636th pred 7 ans 8\n",
            "1637th pred 8 ans 9\n",
            "1638th pred 8 ans 8\n",
            "1639th pred 6 ans 8\n",
            "1640th pred 7 ans 6\n",
            "1641th pred 8 ans 9\n",
            "1642th pred 7 ans 9\n",
            "1643th pred 6 ans 7\n",
            "1644th pred 7 ans 6\n",
            "1645th pred 7 ans 8\n",
            "1646th pred 8 ans 8\n",
            "1647th pred 6 ans 7\n",
            "1648th pred 8 ans 8\n",
            "1649th pred 6 ans 2\n",
            "1650th pred 9 ans 8\n",
            "1651th pred 9 ans 8\n",
            "1652th pred 8 ans 10\n",
            "1653th pred 7 ans 8\n",
            "1654th pred 8 ans 7\n",
            "1655th pred 8 ans 6\n",
            "1656th pred 8 ans 6\n",
            "1657th pred 8 ans 9\n",
            "1658th pred 8 ans 8\n",
            "1659th pred 7 ans 5\n",
            "1660th pred 7 ans 7\n",
            "1661th pred 8 ans 7\n",
            "1662th pred 8 ans 8\n",
            "1663th pred 7 ans 5\n",
            "1664th pred 8 ans 5\n",
            "1665th pred 7 ans 6\n",
            "1666th pred 9 ans 9\n",
            "1667th pred 7 ans 7\n",
            "1668th pred 8 ans 8\n",
            "1669th pred 6 ans 9\n",
            "1670th pred 6 ans 7\n",
            "1671th pred 6 ans 8\n",
            "1672th pred 7 ans 8\n",
            "1673th pred 9 ans 10\n",
            "1674th pred 8 ans 7\n",
            "1675th pred 6 ans 9\n",
            "1676th pred 7 ans 8\n",
            "1677th pred 8 ans 4\n",
            "1678th pred 6 ans 5\n",
            "1679th pred 7 ans 7\n",
            "1680th pred 7 ans 3\n",
            "1681th pred 6 ans 5\n",
            "1682th pred 8 ans 10\n",
            "1683th pred 8 ans 10\n",
            "1684th pred 8 ans 9\n",
            "1685th pred 7 ans 7\n",
            "1686th pred 8 ans 7\n",
            "1687th pred 8 ans 3\n",
            "1688th pred 5 ans 7\n",
            "1689th pred 8 ans 8\n",
            "1690th pred 6 ans 10\n",
            "1691th pred 8 ans 5\n",
            "1692th pred 8 ans 8\n",
            "1693th pred 8 ans 7\n",
            "1694th pred 7 ans 9\n",
            "1695th pred 8 ans 9\n",
            "1696th pred 8 ans 7\n",
            "1697th pred 7 ans 7\n",
            "1698th pred 4 ans 5\n",
            "1699th pred 7 ans 9\n",
            "1700th pred 8 ans 7\n",
            "1701th pred 8 ans 9\n",
            "1702th pred 8 ans 7\n",
            "1703th pred 7 ans 7\n",
            "1704th pred 8 ans 10\n",
            "1705th pred 7 ans 7\n",
            "1706th pred 5 ans 10\n",
            "1707th pred 8 ans 5\n",
            "1708th pred 8 ans 8\n",
            "1709th pred 7 ans 9\n",
            "1710th pred 8 ans 10\n",
            "1711th pred 8 ans 6\n",
            "1712th pred 8 ans 8\n",
            "1713th pred 8 ans 10\n",
            "1714th pred 6 ans 8\n",
            "1715th pred 6 ans 8\n",
            "1716th pred 10 ans 7\n",
            "1717th pred 8 ans 10\n",
            "1718th pred 8 ans 10\n",
            "1719th pred 8 ans 7\n",
            "1720th pred 8 ans 7\n",
            "1721th pred 7 ans 8\n",
            "1722th pred 7 ans 6\n",
            "1723th pred 8 ans 7\n",
            "1724th pred 8 ans 7\n",
            "1725th pred 8 ans 9\n",
            "1726th pred 8 ans 9\n",
            "1727th pred 9 ans 7\n",
            "1728th pred 8 ans 9\n",
            "1729th pred 8 ans 5\n",
            "1730th pred 8 ans 6\n",
            "1731th pred 8 ans 10\n",
            "1732th pred 6 ans 9\n",
            "1733th pred 8 ans 7\n",
            "1734th pred 7 ans 10\n",
            "1735th pred 8 ans 7\n",
            "1736th pred 8 ans 3\n",
            "1737th pred 8 ans 10\n",
            "1738th pred 8 ans 8\n",
            "1739th pred 6 ans 10\n",
            "1740th pred 8 ans 9\n",
            "1741th pred 7 ans 8\n",
            "1742th pred 6 ans 10\n",
            "1743th pred 9 ans 9\n",
            "1744th pred 6 ans 7\n",
            "1745th pred 7 ans 8\n",
            "1746th pred 9 ans 8\n",
            "1747th pred 6 ans 6\n",
            "1748th pred 7 ans 8\n",
            "1749th pred 8 ans 7\n",
            "1750th pred 7 ans 9\n",
            "1751th pred 8 ans 8\n",
            "1752th pred 9 ans 10\n",
            "1753th pred 9 ans 6\n",
            "1754th pred 9 ans 5\n",
            "1755th pred 8 ans 10\n",
            "1756th pred 7 ans 6\n",
            "1757th pred 8 ans 10\n",
            "1758th pred 4 ans 5\n",
            "1759th pred 8 ans 7\n",
            "1760th pred 7 ans 5\n",
            "1761th pred 7 ans 8\n",
            "1762th pred 7 ans 8\n",
            "1763th pred 7 ans 6\n",
            "1764th pred 6 ans 5\n",
            "1765th pred 8 ans 5\n",
            "1766th pred 8 ans 10\n",
            "1767th pred 8 ans 5\n",
            "1768th pred 9 ans 10\n",
            "1769th pred 8 ans 10\n",
            "1770th pred 8 ans 7\n",
            "1771th pred 6 ans 2\n",
            "1772th pred 9 ans 8\n",
            "1773th pred 9 ans 7\n",
            "1774th pred 7 ans 5\n",
            "1775th pred 8 ans 8\n",
            "1776th pred 9 ans 10\n",
            "1777th pred 8 ans 10\n",
            "1778th pred 8 ans 6\n",
            "1779th pred 8 ans 7\n",
            "1780th pred 7 ans 8\n",
            "1781th pred 7 ans 9\n",
            "1782th pred 7 ans 6\n",
            "1783th pred 8 ans 3\n",
            "1784th pred 7 ans 10\n",
            "1785th pred 7 ans 10\n",
            "1786th pred 9 ans 7\n",
            "1787th pred 7 ans 10\n",
            "1788th pred 8 ans 5\n",
            "1789th pred 7 ans 10\n",
            "1790th pred 5 ans 9\n",
            "1791th pred 7 ans 7\n",
            "1792th pred 6 ans 8\n",
            "1793th pred 9 ans 10\n",
            "1794th pred 7 ans 9\n",
            "1795th pred 6 ans 7\n",
            "1796th pred 9 ans 10\n",
            "1797th pred 8 ans 8\n",
            "1798th pred 8 ans 8\n",
            "1799th pred 8 ans 7\n",
            "1800th pred 4 ans 7\n",
            "1801th pred 8 ans 7\n",
            "1802th pred 8 ans 10\n",
            "1803th pred 7 ans 8\n",
            "1804th pred 5 ans 5\n",
            "1805th pred 8 ans 3\n",
            "1806th pred 7 ans 8\n",
            "1807th pred 7 ans 10\n",
            "1808th pred 8 ans 5\n",
            "1809th pred 9 ans 6\n",
            "1810th pred 8 ans 9\n",
            "1811th pred 8 ans 8\n",
            "1812th pred 8 ans 1\n",
            "1813th pred 9 ans 10\n",
            "1814th pred 8 ans 7\n",
            "1815th pred 7 ans 5\n",
            "1816th pred 8 ans 6\n",
            "1817th pred 8 ans 6\n",
            "1818th pred 6 ans 10\n",
            "1819th pred 7 ans 7\n",
            "1820th pred 7 ans 5\n",
            "1821th pred 8 ans 8\n",
            "1822th pred 6 ans 7\n",
            "1823th pred 8 ans 8\n",
            "1824th pred 8 ans 8\n",
            "1825th pred 8 ans 3\n",
            "1826th pred 7 ans 8\n",
            "1827th pred 6 ans 5\n",
            "1828th pred 8 ans 10\n",
            "1829th pred 7 ans 8\n",
            "1830th pred 8 ans 7\n",
            "1831th pred 8 ans 7\n",
            "1832th pred 6 ans 8\n",
            "1833th pred 7 ans 5\n",
            "1834th pred 7 ans 5\n",
            "1835th pred 8 ans 7\n",
            "1836th pred 6 ans 5\n",
            "1837th pred 6 ans 8\n",
            "1838th pred 8 ans 7\n",
            "1839th pred 7 ans 10\n",
            "1840th pred 8 ans 9\n",
            "1841th pred 7 ans 5\n",
            "1842th pred 6 ans 8\n",
            "1843th pred 7 ans 10\n",
            "1844th pred 7 ans 7\n",
            "1845th pred 7 ans 8\n",
            "1846th pred 7 ans 10\n",
            "1847th pred 7 ans 8\n",
            "1848th pred 7 ans 8\n",
            "Skipping index 1860 prompt You are a book recommender and your job is to predict a user's rating (ranging from 1 to 10, with 10 being the highest) on a book, based on that user's previous ratings.\n",
            "\n",
            "User 260959 has rated the following books:\n",
            "\n",
            "\"Taltos\" 7\n",
            "\"The Reader\" 9\n",
            "\"Tess of the D'Urbervilles (Dover Thrift Editions)\" 10\n",
            "\"A Separate Peace\" 9\n",
            "\n",
            "Predict the user's rating on \"The Corrections (Oprah Edition)\". Output the rating score only. Do not include other text. reponse 8. due to error: invalid literal for int() with base 10: '8.'\n",
            "1849th pred 8 ans 9\n",
            "1850th pred 7 ans 9\n",
            "1851th pred 7 ans 4\n",
            "1852th pred 6 ans 8\n",
            "1853th pred 8 ans 7\n",
            "1854th pred 8 ans 9\n",
            "1855th pred 7 ans 6\n",
            "1856th pred 6 ans 5\n",
            "1857th pred 7 ans 7\n",
            "1858th pred 8 ans 3\n",
            "1859th pred 8 ans 10\n",
            "1860th pred 9 ans 6\n",
            "1861th pred 7 ans 6\n",
            "1862th pred 7 ans 8\n",
            "1863th pred 7 ans 7\n",
            "1864th pred 7 ans 8\n",
            "1865th pred 8 ans 7\n",
            "1866th pred 8 ans 7\n",
            "1867th pred 8 ans 5\n",
            "1868th pred 6 ans 7\n",
            "1869th pred 6 ans 5\n",
            "1870th pred 9 ans 8\n",
            "1871th pred 8 ans 8\n",
            "1872th pred 8 ans 6\n",
            "1873th pred 4 ans 8\n",
            "1874th pred 8 ans 4\n",
            "1875th pred 8 ans 9\n",
            "1876th pred 7 ans 7\n",
            "1877th pred 8 ans 8\n",
            "1878th pred 8 ans 5\n",
            "1879th pred 8 ans 6\n",
            "1880th pred 7 ans 8\n",
            "1881th pred 8 ans 8\n",
            "1882th pred 8 ans 9\n",
            "1883th pred 8 ans 8\n",
            "1884th pred 9 ans 8\n",
            "1885th pred 7 ans 10\n",
            "1886th pred 7 ans 8\n",
            "1887th pred 7 ans 3\n",
            "1888th pred 7 ans 4\n",
            "1889th pred 7 ans 7\n",
            "1890th pred 7 ans 7\n",
            "1891th pred 3 ans 4\n",
            "1892th pred 8 ans 5\n",
            "1893th pred 6 ans 9\n",
            "1894th pred 8 ans 6\n",
            "1895th pred 7 ans 6\n",
            "1896th pred 8 ans 5\n",
            "1897th pred 7 ans 10\n",
            "1898th pred 7 ans 10\n",
            "1899th pred 8 ans 10\n",
            "1900th pred 8 ans 10\n",
            "1901th pred 7 ans 7\n",
            "1902th pred 7 ans 8\n",
            "1903th pred 8 ans 6\n",
            "1904th pred 6 ans 8\n",
            "1905th pred 8 ans 10\n",
            "1906th pred 7 ans 10\n",
            "1907th pred 7 ans 6\n",
            "1908th pred 9 ans 10\n",
            "1909th pred 7 ans 6\n",
            "1910th pred 7 ans 8\n",
            "1911th pred 8 ans 10\n",
            "1912th pred 8 ans 8\n",
            "1913th pred 8 ans 9\n",
            "1914th pred 7 ans 5\n",
            "1915th pred 8 ans 7\n",
            "1916th pred 7 ans 5\n",
            "1917th pred 6 ans 7\n",
            "1918th pred 8 ans 10\n",
            "1919th pred 9 ans 8\n",
            "1920th pred 6 ans 5\n",
            "1921th pred 8 ans 9\n",
            "1922th pred 6 ans 2\n",
            "1923th pred 5 ans 9\n",
            "1924th pred 6 ans 9\n",
            "1925th pred 7 ans 9\n",
            "1926th pred 7 ans 8\n",
            "1927th pred 8 ans 8\n",
            "1928th pred 7 ans 10\n",
            "1929th pred 7 ans 7\n",
            "1930th pred 9 ans 10\n",
            "1931th pred 7 ans 7\n",
            "1932th pred 6 ans 7\n",
            "1933th pred 8 ans 8\n",
            "1934th pred 6 ans 9\n",
            "1935th pred 9 ans 9\n",
            "1936th pred 8 ans 6\n",
            "1937th pred 8 ans 8\n",
            "1938th pred 7 ans 10\n",
            "1939th pred 9 ans 9\n",
            "1940th pred 8 ans 8\n",
            "1941th pred 3 ans 5\n",
            "1942th pred 9 ans 8\n",
            "1943th pred 7 ans 8\n",
            "1944th pred 5 ans 9\n",
            "1945th pred 8 ans 5\n",
            "1946th pred 8 ans 7\n",
            "1947th pred 7 ans 8\n",
            "1948th pred 7 ans 6\n",
            "1949th pred 8 ans 10\n",
            "1950th pred 6 ans 8\n",
            "1951th pred 6 ans 5\n",
            "1952th pred 8 ans 8\n",
            "1953th pred 8 ans 9\n",
            "1954th pred 8 ans 4\n",
            "1955th pred 7 ans 10\n",
            "1956th pred 6 ans 7\n",
            "1957th pred 9 ans 7\n",
            "1958th pred 7 ans 6\n",
            "1959th pred 8 ans 8\n",
            "1960th pred 5 ans 5\n",
            "1961th pred 7 ans 10\n",
            "1962th pred 8 ans 7\n",
            "1963th pred 10 ans 9\n",
            "1964th pred 7 ans 8\n",
            "1965th pred 8 ans 10\n",
            "1966th pred 8 ans 5\n",
            "1967th pred 7 ans 6\n",
            "Skipping index 1980 prompt You are a book recommender and your job is to predict a user's rating (ranging from 1 to 10, with 10 being the highest) on a book, based on that user's previous ratings.\n",
            "\n",
            "User 274645 has rated the following books:\n",
            "\n",
            "\"A MOVEABLE FEAST\" 5\n",
            "\"Cook It Light : Pasta, Rice, and Beans\" 8\n",
            "\"What to Expect When You're Expecting, 3rd Edition\" 3\n",
            "\"Of Love And Other Demons\" 8\n",
            "\n",
            "Predict the user's rating on \"Mercy of a Rude Stream Volume 1- A Star Shines Over Mt. Morris\". Output the rating score only. Do not include other text. reponse 7. due to error: invalid literal for int() with base 10: '7.'\n",
            "1968th pred 7 ans 7\n",
            "1969th pred 8 ans 8\n",
            "1970th pred 6 ans 7\n",
            "1971th pred 8 ans 9\n",
            "1972th pred 5 ans 10\n",
            "1973th pred 7 ans 6\n",
            "1974th pred 8 ans 9\n",
            "1975th pred 8 ans 6\n",
            "1976th pred 8 ans 7\n",
            "1977th pred 7 ans 8\n",
            "1978th pred 5 ans 4\n",
            "1979th pred 8 ans 10\n",
            "1980th pred 9 ans 10\n",
            "1981th pred 6 ans 8\n",
            "1982th pred 8 ans 9\n",
            "1983th pred 7 ans 9\n",
            "1984th pred 8 ans 10\n",
            "1985th pred 8 ans 9\n",
            "1986th pred 8 ans 8\n",
            "1987th pred 8 ans 7\n",
            "1988th pred 7 ans 3\n",
            "1989th pred 7 ans 5\n",
            "total 1989 # of wrongs 1616 acc 18.753142282554048\n"
          ]
        }
      ],
      "source": [
        "total, false, true = 0,0,0\n",
        "for idx, row in df_llm_5_items.iterrows():\n",
        "    try:\n",
        "        response = client.chat.completions.create(\n",
        "        model=\"gpt-3.5-turbo\", \n",
        "        messages=[\n",
        "            {\"role\": \"system\", \"content\": \"You are a book recommender.\"},\n",
        "            {\"role\": \"user\", \"content\": row['prompt']},\n",
        "        ]\n",
        "        )\n",
        "        pred = int(response.choices[0].message.content.strip(\"'\"))\n",
        "        ans = int(row['ans'])\n",
        "        total += 1\n",
        "        print(f'{total}th pred {pred} ans {ans}')\n",
        "        df_llm_5_items.at[idx, 'pred-ChatGPT-3.5'] = pred\n",
        "        if pred != ans:\n",
        "            false += 1\n",
        "            #print(f\"PROMPT {row['prompt']}\")\n",
        "        else:\n",
        "            true += 1\n",
        "    except Exception as e:\n",
        "        print(f\"Skipping index {idx} prompt {row['prompt']} reponse {response.choices[0].message.content} due to error: {e}\")\n",
        "print(f'total {total} # of wrongs {false} acc {true/total*100.00}')    "
      ]
    },
    {
      "cell_type": "code",
      "execution_count": 53,
      "metadata": {},
      "outputs": [
        {
          "data": {
            "text/html": [
              "<div>\n",
              "<style scoped>\n",
              "    .dataframe tbody tr th:only-of-type {\n",
              "        vertical-align: middle;\n",
              "    }\n",
              "\n",
              "    .dataframe tbody tr th {\n",
              "        vertical-align: top;\n",
              "    }\n",
              "\n",
              "    .dataframe thead th {\n",
              "        text-align: right;\n",
              "    }\n",
              "</style>\n",
              "<table border=\"1\" class=\"dataframe\">\n",
              "  <thead>\n",
              "    <tr style=\"text-align: right;\">\n",
              "      <th></th>\n",
              "      <th>prompt</th>\n",
              "      <th>query</th>\n",
              "      <th>ans</th>\n",
              "      <th>pred-ChatGPT-3.5</th>\n",
              "    </tr>\n",
              "  </thead>\n",
              "  <tbody>\n",
              "    <tr>\n",
              "      <th>0</th>\n",
              "      <td>You are a book recommender and your job is to ...</td>\n",
              "      <td>\"Estudios sobre el amor\"</td>\n",
              "      <td>8</td>\n",
              "      <td>7.0</td>\n",
              "    </tr>\n",
              "    <tr>\n",
              "      <th>1</th>\n",
              "      <td>You are a book recommender and your job is to ...</td>\n",
              "      <td>\"Jane Eyre\"</td>\n",
              "      <td>9</td>\n",
              "      <td>8.0</td>\n",
              "    </tr>\n",
              "    <tr>\n",
              "      <th>2</th>\n",
              "      <td>You are a book recommender and your job is to ...</td>\n",
              "      <td>\"Frankenstein (Illustrated Classics Series)\"</td>\n",
              "      <td>7</td>\n",
              "      <td>7.0</td>\n",
              "    </tr>\n",
              "    <tr>\n",
              "      <th>3</th>\n",
              "      <td>You are a book recommender and your job is to ...</td>\n",
              "      <td>\"Secrets of St. John's Wort: A Lynn Sonberg Book\"</td>\n",
              "      <td>5</td>\n",
              "      <td>8.0</td>\n",
              "    </tr>\n",
              "    <tr>\n",
              "      <th>4</th>\n",
              "      <td>You are a book recommender and your job is to ...</td>\n",
              "      <td>\"New Cardiff\"</td>\n",
              "      <td>6</td>\n",
              "      <td>7.0</td>\n",
              "    </tr>\n",
              "    <tr>\n",
              "      <th>...</th>\n",
              "      <td>...</td>\n",
              "      <td>...</td>\n",
              "      <td>...</td>\n",
              "      <td>...</td>\n",
              "    </tr>\n",
              "    <tr>\n",
              "      <th>1998</th>\n",
              "      <td>You are a book recommender and your job is to ...</td>\n",
              "      <td>\"Armageddon Sky (Star Trek Deep Space Nine: Da...</td>\n",
              "      <td>9</td>\n",
              "      <td>8.0</td>\n",
              "    </tr>\n",
              "    <tr>\n",
              "      <th>1999</th>\n",
              "      <td>You are a book recommender and your job is to ...</td>\n",
              "      <td>\"The Heretic's Apprentice: The Sixteenth Chron...</td>\n",
              "      <td>8</td>\n",
              "      <td>8.0</td>\n",
              "    </tr>\n",
              "    <tr>\n",
              "      <th>2000</th>\n",
              "      <td>You are a book recommender and your job is to ...</td>\n",
              "      <td>\"Je vous Ã?Â©cris\"</td>\n",
              "      <td>7</td>\n",
              "      <td>8.0</td>\n",
              "    </tr>\n",
              "    <tr>\n",
              "      <th>2001</th>\n",
              "      <td>You are a book recommender and your job is to ...</td>\n",
              "      <td>\"Special Relationship\"</td>\n",
              "      <td>3</td>\n",
              "      <td>7.0</td>\n",
              "    </tr>\n",
              "    <tr>\n",
              "      <th>2002</th>\n",
              "      <td>You are a book recommender and your job is to ...</td>\n",
              "      <td>\"El Hombre Solo\"</td>\n",
              "      <td>5</td>\n",
              "      <td>7.0</td>\n",
              "    </tr>\n",
              "  </tbody>\n",
              "</table>\n",
              "<p>2003 rows × 4 columns</p>\n",
              "</div>"
            ],
            "text/plain": [
              "                                                 prompt  \\\n",
              "0     You are a book recommender and your job is to ...   \n",
              "1     You are a book recommender and your job is to ...   \n",
              "2     You are a book recommender and your job is to ...   \n",
              "3     You are a book recommender and your job is to ...   \n",
              "4     You are a book recommender and your job is to ...   \n",
              "...                                                 ...   \n",
              "1998  You are a book recommender and your job is to ...   \n",
              "1999  You are a book recommender and your job is to ...   \n",
              "2000  You are a book recommender and your job is to ...   \n",
              "2001  You are a book recommender and your job is to ...   \n",
              "2002  You are a book recommender and your job is to ...   \n",
              "\n",
              "                                                  query ans  pred-ChatGPT-3.5  \n",
              "0                              \"Estudios sobre el amor\"   8               7.0  \n",
              "1                                           \"Jane Eyre\"   9               8.0  \n",
              "2          \"Frankenstein (Illustrated Classics Series)\"   7               7.0  \n",
              "3     \"Secrets of St. John's Wort: A Lynn Sonberg Book\"   5               8.0  \n",
              "4                                         \"New Cardiff\"   6               7.0  \n",
              "...                                                 ...  ..               ...  \n",
              "1998  \"Armageddon Sky (Star Trek Deep Space Nine: Da...   9               8.0  \n",
              "1999  \"The Heretic's Apprentice: The Sixteenth Chron...   8               8.0  \n",
              "2000                                 \"Je vous Ã?Â©cris\"   7               8.0  \n",
              "2001                             \"Special Relationship\"   3               7.0  \n",
              "2002                                   \"El Hombre Solo\"   5               7.0  \n",
              "\n",
              "[2003 rows x 4 columns]"
            ]
          },
          "execution_count": 53,
          "metadata": {},
          "output_type": "execute_result"
        }
      ],
      "source": [
        "df_llm_5_items"
      ]
    },
    {
      "cell_type": "markdown",
      "metadata": {},
      "source": [
        "# llama 3 8B w/o finetune"
      ]
    },
    {
      "cell_type": "code",
      "execution_count": 55,
      "metadata": {},
      "outputs": [
        {
          "name": "stderr",
          "output_type": "stream",
          "text": [
            "2024-04-27 19:13:03.518689: I tensorflow/core/platform/cpu_feature_guard.cc:210] This TensorFlow binary is optimized to use available CPU instructions in performance-critical operations.\n",
            "To enable the following instructions: AVX2 FMA, in other operations, rebuild TensorFlow with the appropriate compiler flags.\n",
            "2024-04-27 19:13:04.519123: W tensorflow/compiler/tf2tensorrt/utils/py_utils.cc:38] TF-TRT Warning: Could not find TensorRT\n",
            "/home/sjung61/.conda/envs/clenv/lib/python3.9/site-packages/transformers/utils/generic.py:309: UserWarning: torch.utils._pytree._register_pytree_node is deprecated. Please use torch.utils._pytree.register_pytree_node instead.\n",
            "  _torch_pytree._register_pytree_node(\n",
            "/home/sjung61/.conda/envs/clenv/lib/python3.9/site-packages/transformers/utils/generic.py:309: UserWarning: torch.utils._pytree._register_pytree_node is deprecated. Please use torch.utils._pytree.register_pytree_node instead.\n",
            "  _torch_pytree._register_pytree_node(\n",
            "/home/sjung61/.conda/envs/clenv/lib/python3.9/site-packages/transformers/pipelines/__init__.py:698: FutureWarning: The `use_auth_token` argument is deprecated and will be removed in v5 of Transformers. Please use `token` instead.\n",
            "  warnings.warn(\n"
          ]
        },
        {
          "data": {
            "application/vnd.jupyter.widget-view+json": {
              "model_id": "fa84cfc2624f438793013b1c56d3e11c",
              "version_major": 2,
              "version_minor": 0
            },
            "text/plain": [
              "Loading checkpoint shards:   0%|          | 0/4 [00:00<?, ?it/s]"
            ]
          },
          "metadata": {},
          "output_type": "display_data"
        },
        {
          "name": "stderr",
          "output_type": "stream",
          "text": [
            "Special tokens have been added in the vocabulary, make sure the associated word embeddings are fine-tuned or trained.\n"
          ]
        }
      ],
      "source": [
        "import transformers\n",
        "import torch\n",
        "import os\n",
        "os.environ['HF_HOME'] = \"/scratch/sjung61/huggingface\"\n",
        "cache_dir = \"/scratch/sjung61/huggingface\"\n",
        "model_id = \"meta-llama/Meta-Llama-3-8B-Instruct\"\n",
        "#model_id = \"meta-llama/Meta-Llama-3-70B-Instruct\"\n",
        "\n",
        "pipeline = transformers.pipeline(\n",
        "  \"text-generation\",\n",
        "  model=\"meta-llama/Meta-Llama-3-8B-Instruct\",\n",
        "  model_kwargs={\"torch_dtype\": torch.bfloat16, \"use_auth_token\": \"YOUR-API-KEY\"},\n",
        "  device=\"cuda\",\n",
        ")"
      ]
    },
    {
      "cell_type": "code",
      "execution_count": 68,
      "metadata": {},
      "outputs": [
        {
          "name": "stderr",
          "output_type": "stream",
          "text": [
            "/home/sjung61/.conda/envs/clenv/lib/python3.9/site-packages/transformers/pipelines/base.py:1101: UserWarning: You seem to be using the pipelines sequentially on GPU. In order to maximize efficiency please use a dataset\n",
            "  warnings.warn(\n",
            "Setting `pad_token_id` to `eos_token_id`:128001 for open-end generation.\n",
            "Setting `pad_token_id` to `eos_token_id`:128001 for open-end generation.\n",
            "/home/sjung61/.conda/envs/clenv/lib/python3.9/site-packages/transformers/pipelines/base.py:1101: UserWarning: You seem to be using the pipelines sequentially on GPU. In order to maximize efficiency please use a dataset\n",
            "  warnings.warn(\n",
            "Setting `pad_token_id` to `eos_token_id`:128001 for open-end generation.\n",
            "Setting `pad_token_id` to `eos_token_id`:128001 for open-end generation.\n"
          ]
        },
        {
          "name": "stdout",
          "output_type": "stream",
          "text": [
            "Skipping index 0 prompt You are a book recommender and your job is to predict a user's rating (ranging from 1 to 10, with 10 being the highest) on a book, based on that user's previous ratings.\n",
            "\n",
            "User 183 has rated the following books:\n",
            "\n",
            "\"Folio Junior: L'histoire De Monsieur Sommer\" 8\n",
            "\"Fahrenheit 451\" 9\n",
            "\"Cuentos del Planeta Tierra\" 7\n",
            "\"Que Se Mueran Los Feos (Fabula)\" 9\n",
            "\n",
            "Predict the user's rating on \"Estudios sobre el amor\". Output the rating score only. Do not include other text. reponse 7 due to error: invalid literal for int() with base 10: '8.3'\n",
            "1th pred 8 ans 9\n",
            "2th pred 7 ans 7\n",
            "3th pred 9 ans 5\n"
          ]
        },
        {
          "name": "stderr",
          "output_type": "stream",
          "text": [
            "Setting `pad_token_id` to `eos_token_id`:128001 for open-end generation.\n",
            "Setting `pad_token_id` to `eos_token_id`:128001 for open-end generation.\n",
            "Setting `pad_token_id` to `eos_token_id`:128001 for open-end generation.\n",
            "Setting `pad_token_id` to `eos_token_id`:128001 for open-end generation.\n"
          ]
        },
        {
          "name": "stdout",
          "output_type": "stream",
          "text": [
            "4th pred 7 ans 6\n",
            "Skipping index 5 prompt You are a book recommender and your job is to predict a user's rating (ranging from 1 to 10, with 10 being the highest) on a book, based on that user's previous ratings.\n",
            "\n",
            "User 567 has rated the following books:\n",
            "\n",
            "\"On the Road (Penguin 20th Century Classics)\" 10\n",
            "\"Expecting Adam: A True Story of Birth, Rebirth, and Everyday Magic\" 8\n",
            "\"The Future of Leadership: Today's Top Leadership Thinkers Speak to Tomorrow's Leaders\" 8\n",
            "\"I And Thou\" 9\n",
            "\n",
            "Predict the user's rating on \"The Prince (Dover Thrift Editions)\". Output the rating score only. Do not include other text. reponse 7 due to error: invalid literal for int() with base 10: '7.5'\n",
            "5th pred 8 ans 8\n"
          ]
        },
        {
          "name": "stderr",
          "output_type": "stream",
          "text": [
            "Setting `pad_token_id` to `eos_token_id`:128001 for open-end generation.\n",
            "Setting `pad_token_id` to `eos_token_id`:128001 for open-end generation.\n",
            "Setting `pad_token_id` to `eos_token_id`:128001 for open-end generation.\n"
          ]
        },
        {
          "name": "stdout",
          "output_type": "stream",
          "text": [
            "6th pred 7 ans 7\n",
            "7th pred 7 ans 5\n",
            "Skipping index 9 prompt You are a book recommender and your job is to predict a user's rating (ranging from 1 to 10, with 10 being the highest) on a book, based on that user's previous ratings.\n",
            "\n",
            "User 1261 has rated the following books:\n",
            "\n",
            "\"Me Talk Pretty One Day\" 8\n",
            "\"Your Blues Ain't Like Mine\" 7\n",
            "\"Girl with a Pearl Earring\" 7\n",
            "\"Big Stone Gap: A Novel (Ballantine Reader's Circle)\" 6\n",
            "\n",
            "Predict the user's rating on \"Miss Julia Speaks Her Mind : A Novel\". Output the rating score only. Do not include other text. reponse 7 due to error: invalid literal for int() with base 10: '7.2'\n"
          ]
        },
        {
          "name": "stderr",
          "output_type": "stream",
          "text": [
            "Setting `pad_token_id` to `eos_token_id`:128001 for open-end generation.\n",
            "Setting `pad_token_id` to `eos_token_id`:128001 for open-end generation.\n",
            "Setting `pad_token_id` to `eos_token_id`:128001 for open-end generation.\n",
            "Setting `pad_token_id` to `eos_token_id`:128001 for open-end generation.\n"
          ]
        },
        {
          "name": "stdout",
          "output_type": "stream",
          "text": [
            "8th pred 8 ans 7\n",
            "9th pred 7 ans 6\n",
            "10th pred 7 ans 8\n",
            "11th pred 7 ans 5\n"
          ]
        },
        {
          "name": "stderr",
          "output_type": "stream",
          "text": [
            "Setting `pad_token_id` to `eos_token_id`:128001 for open-end generation.\n",
            "Setting `pad_token_id` to `eos_token_id`:128001 for open-end generation.\n",
            "Setting `pad_token_id` to `eos_token_id`:128001 for open-end generation.\n",
            "Setting `pad_token_id` to `eos_token_id`:128001 for open-end generation.\n"
          ]
        },
        {
          "name": "stdout",
          "output_type": "stream",
          "text": [
            "Skipping index 14 prompt You are a book recommender and your job is to predict a user's rating (ranging from 1 to 10, with 10 being the highest) on a book, based on that user's previous ratings.\n",
            "\n",
            "User 1812 has rated the following books:\n",
            "\n",
            "\"And Then There Were None : A Novel\" 9\n",
            "\"Emotional Purity : An Affair of the Heart\" 6\n",
            "\"Yeats Is Dead! (Vintage Crime/Black Lizard)\" 8\n",
            "\"Substitute Teaching: A Handbook for Hassle-Free Subbing\" 8\n",
            "\n",
            "Predict the user's rating on \"Seven Habits Of Highly Effective People\". Output the rating score only. Do not include other text. reponse 7 due to error: invalid literal for int() with base 10: '7.6'\n",
            "12th pred 7 ans 5\n",
            "13th pred 7 ans 5\n",
            "14th pred 8 ans 9\n"
          ]
        },
        {
          "name": "stderr",
          "output_type": "stream",
          "text": [
            "Setting `pad_token_id` to `eos_token_id`:128001 for open-end generation.\n",
            "Setting `pad_token_id` to `eos_token_id`:128001 for open-end generation.\n",
            "Setting `pad_token_id` to `eos_token_id`:128001 for open-end generation.\n"
          ]
        },
        {
          "name": "stdout",
          "output_type": "stream",
          "text": [
            "15th pred 8 ans 7\n",
            "Skipping index 19 prompt You are a book recommender and your job is to predict a user's rating (ranging from 1 to 10, with 10 being the highest) on a book, based on that user's previous ratings.\n",
            "\n",
            "User 2853 has rated the following books:\n",
            "\n",
            "\"Still Life with Woodpecker\" 10\n",
            "\"Dinner at the Homesick Restaurant\" 10\n",
            "\"Babinski Reflex: And 70 Other Useful and Amazing Metaphors from Science, Psychology, Business, Sports, and Everyday Life\" 8\n",
            "\"Lore of the Unicorn\" 7\n",
            "\n",
            "Predict the user's rating on \"State of Grace\". Output the rating score only. Do not include other text. reponse 7 due to error: invalid literal for int() with base 10: '8.5'\n",
            "16th pred 8 ans 8\n"
          ]
        },
        {
          "name": "stderr",
          "output_type": "stream",
          "text": [
            "Setting `pad_token_id` to `eos_token_id`:128001 for open-end generation.\n",
            "Setting `pad_token_id` to `eos_token_id`:128001 for open-end generation.\n",
            "Setting `pad_token_id` to `eos_token_id`:128001 for open-end generation.\n"
          ]
        },
        {
          "name": "stdout",
          "output_type": "stream",
          "text": [
            "17th pred 8 ans 7\n",
            "18th pred 9 ans 10\n",
            "19th pred 8 ans 8\n"
          ]
        },
        {
          "name": "stderr",
          "output_type": "stream",
          "text": [
            "Setting `pad_token_id` to `eos_token_id`:128001 for open-end generation.\n",
            "Setting `pad_token_id` to `eos_token_id`:128001 for open-end generation.\n",
            "Setting `pad_token_id` to `eos_token_id`:128001 for open-end generation.\n"
          ]
        },
        {
          "name": "stdout",
          "output_type": "stream",
          "text": [
            "Skipping index 24 prompt You are a book recommender and your job is to predict a user's rating (ranging from 1 to 10, with 10 being the highest) on a book, based on that user's previous ratings.\n",
            "\n",
            "User 3344 has rated the following books:\n",
            "\n",
            "\"American Fuji\" 8\n",
            "\"A Noble Radiance\" 7\n",
            "\"Dry: A Memoir\" 7\n",
            "\"Angels &amp; Demons\" 8\n",
            "\n",
            "Predict the user's rating on \"The No. 1 Ladies' Detective Agency (Today Show Book Club #8)\". Output the rating score only. Do not include other text. reponse 7 due to error: invalid literal for int() with base 10: '8.2'\n",
            "20th pred 7 ans 7\n",
            "Skipping index 26 prompt You are a book recommender and your job is to predict a user's rating (ranging from 1 to 10, with 10 being the highest) on a book, based on that user's previous ratings.\n",
            "\n",
            "User 3355 has rated the following books:\n",
            "\n",
            "\"Un racÃ³ de paraigua (ColÂ¨lecciÃ³ Toc de ficciÃ³)\" 7\n",
            "\"Narraciones Extraordinarias - 1 Seleccion\" 8\n",
            "\"LÂ®impostor (Antaviana jove)\" 8\n",
            "\"La Perla\" 6\n",
            "\n",
            "Predict the user's rating on \"Mecanoscrit del segon origen (El Trapezi ; 24)\". Output the rating score only. Do not include other text. reponse 7 due to error: invalid literal for int() with base 10: '7.42'\n"
          ]
        },
        {
          "name": "stderr",
          "output_type": "stream",
          "text": [
            "Setting `pad_token_id` to `eos_token_id`:128001 for open-end generation.\n",
            "Setting `pad_token_id` to `eos_token_id`:128001 for open-end generation.\n",
            "Setting `pad_token_id` to `eos_token_id`:128001 for open-end generation.\n",
            "Setting `pad_token_id` to `eos_token_id`:128001 for open-end generation.\n"
          ]
        },
        {
          "name": "stdout",
          "output_type": "stream",
          "text": [
            "21th pred 7 ans 9\n",
            "22th pred 8 ans 8\n",
            "23th pred 8 ans 8\n",
            "24th pred 8 ans 6\n"
          ]
        },
        {
          "name": "stderr",
          "output_type": "stream",
          "text": [
            "Setting `pad_token_id` to `eos_token_id`:128001 for open-end generation.\n",
            "Setting `pad_token_id` to `eos_token_id`:128001 for open-end generation.\n",
            "Setting `pad_token_id` to `eos_token_id`:128001 for open-end generation.\n"
          ]
        },
        {
          "name": "stdout",
          "output_type": "stream",
          "text": [
            "25th pred 8 ans 7\n",
            "Skipping index 32 prompt You are a book recommender and your job is to predict a user's rating (ranging from 1 to 10, with 10 being the highest) on a book, based on that user's previous ratings.\n",
            "\n",
            "User 4090 has rated the following books:\n",
            "\n",
            "\"The Earth House\" 10\n",
            "\"The Pilot's Wife : A Novel\" 8\n",
            "\"Dreamers, Discoverers and Dynamos : How to Help the Child Who Is Bright, Bored and Having Problems in School\" 7\n",
            "\"How Stella Got Her Groove Back\" 8\n",
            "\n",
            "Predict the user's rating on \"The Successful Homeschool Family Handbook\". Output the rating score only. Do not include other text. reponse 7 due to error: invalid literal for int() with base 10: '7.5'\n",
            "26th pred 7 ans 8\n"
          ]
        },
        {
          "name": "stderr",
          "output_type": "stream",
          "text": [
            "Setting `pad_token_id` to `eos_token_id`:128001 for open-end generation.\n",
            "Setting `pad_token_id` to `eos_token_id`:128001 for open-end generation.\n",
            "Setting `pad_token_id` to `eos_token_id`:128001 for open-end generation.\n",
            "Setting `pad_token_id` to `eos_token_id`:128001 for open-end generation.\n"
          ]
        },
        {
          "name": "stdout",
          "output_type": "stream",
          "text": [
            "27th pred 7 ans 6\n",
            "28th pred 6 ans 5\n",
            "29th pred 9 ans 8\n",
            "30th pred 8 ans 5\n"
          ]
        },
        {
          "name": "stderr",
          "output_type": "stream",
          "text": [
            "Setting `pad_token_id` to `eos_token_id`:128001 for open-end generation.\n",
            "Setting `pad_token_id` to `eos_token_id`:128001 for open-end generation.\n",
            "Setting `pad_token_id` to `eos_token_id`:128001 for open-end generation.\n",
            "Setting `pad_token_id` to `eos_token_id`:128001 for open-end generation.\n"
          ]
        },
        {
          "name": "stdout",
          "output_type": "stream",
          "text": [
            "31th pred 7 ans 9\n",
            "32th pred 7 ans 5\n",
            "33th pred 7 ans 10\n",
            "34th pred 7 ans 10\n"
          ]
        },
        {
          "name": "stderr",
          "output_type": "stream",
          "text": [
            "Setting `pad_token_id` to `eos_token_id`:128001 for open-end generation.\n",
            "Setting `pad_token_id` to `eos_token_id`:128001 for open-end generation.\n",
            "Setting `pad_token_id` to `eos_token_id`:128001 for open-end generation.\n"
          ]
        },
        {
          "name": "stdout",
          "output_type": "stream",
          "text": [
            "35th pred 8 ans 7\n",
            "36th pred 8 ans 5\n",
            "Skipping index 44 prompt You are a book recommender and your job is to predict a user's rating (ranging from 1 to 10, with 10 being the highest) on a book, based on that user's previous ratings.\n",
            "\n",
            "User 5639 has rated the following books:\n",
            "\n",
            "\"The Shape of Water\" 8\n",
            "\"Butcher Boy\" 7\n",
            "\"Le maschere: Romanzo (Scrittori italiani)\" 9\n",
            "\"LA Scomparsa Di Pato\" 8\n",
            "\n",
            "Predict the user's rating on \"Shinju\". Output the rating score only. Do not include other text. reponse 7 due to error: invalid literal for int() with base 10: '7.5'\n"
          ]
        },
        {
          "name": "stderr",
          "output_type": "stream",
          "text": [
            "Setting `pad_token_id` to `eos_token_id`:128001 for open-end generation.\n",
            "Setting `pad_token_id` to `eos_token_id`:128001 for open-end generation.\n",
            "Setting `pad_token_id` to `eos_token_id`:128001 for open-end generation.\n"
          ]
        },
        {
          "name": "stdout",
          "output_type": "stream",
          "text": [
            "Skipping index 45 prompt You are a book recommender and your job is to predict a user's rating (ranging from 1 to 10, with 10 being the highest) on a book, based on that user's previous ratings.\n",
            "\n",
            "User 5669 has rated the following books:\n",
            "\n",
            "\"The Golden Compass (His Dark Materials, Book 1)\" 10\n",
            "\"Quietus\" 8\n",
            "\"She Is The Darkness : Book Two of Glittering Stone: A Novel of the Black Company (Chronicles of The Black Company)\" 6\n",
            "\"Expiration Date\" 10\n",
            "\n",
            "Predict the user's rating on \"Shadows Linger : A Novel of the Black Company (Chronicles of The Black Company)\". Output the rating score only. Do not include other text. reponse 7 due to error: invalid literal for int() with base 10: '7.4'\n",
            "37th pred 7 ans 8\n",
            "Skipping index 47 prompt You are a book recommender and your job is to predict a user's rating (ranging from 1 to 10, with 10 being the highest) on a book, based on that user's previous ratings.\n",
            "\n",
            "User 5746 has rated the following books:\n",
            "\n",
            "\"Bluebeard's Egg and Other Stories\" 8\n",
            "\"The Game\" 6\n",
            "\"Dealing With Dragons (Enchanted Forest Chronicles (Paperback))\" 10\n",
            "\"The Last Precinct\" 7\n",
            "\n",
            "Predict the user's rating on \"To Say Nothing of the Dog\". Output the rating score only. Do not include other text. reponse 7 due to error: invalid literal for int() with base 10: '7.5'\n"
          ]
        },
        {
          "name": "stderr",
          "output_type": "stream",
          "text": [
            "Setting `pad_token_id` to `eos_token_id`:128001 for open-end generation.\n",
            "Setting `pad_token_id` to `eos_token_id`:128001 for open-end generation.\n",
            "Setting `pad_token_id` to `eos_token_id`:128001 for open-end generation.\n",
            "Setting `pad_token_id` to `eos_token_id`:128001 for open-end generation.\n"
          ]
        },
        {
          "name": "stdout",
          "output_type": "stream",
          "text": [
            "38th pred 8 ans 7\n",
            "39th pred 8 ans 8\n",
            "40th pred 7 ans 8\n",
            "41th pred 7 ans 7\n"
          ]
        },
        {
          "name": "stderr",
          "output_type": "stream",
          "text": [
            "Setting `pad_token_id` to `eos_token_id`:128001 for open-end generation.\n",
            "Setting `pad_token_id` to `eos_token_id`:128001 for open-end generation.\n",
            "Setting `pad_token_id` to `eos_token_id`:128001 for open-end generation.\n",
            "Setting `pad_token_id` to `eos_token_id`:128001 for open-end generation.\n"
          ]
        },
        {
          "name": "stdout",
          "output_type": "stream",
          "text": [
            "42th pred 8 ans 8\n",
            "43th pred 7 ans 7\n",
            "44th pred 8 ans 4\n",
            "45th pred 8 ans 5\n"
          ]
        },
        {
          "name": "stderr",
          "output_type": "stream",
          "text": [
            "Setting `pad_token_id` to `eos_token_id`:128001 for open-end generation.\n",
            "Setting `pad_token_id` to `eos_token_id`:128001 for open-end generation.\n",
            "Setting `pad_token_id` to `eos_token_id`:128001 for open-end generation.\n",
            "Setting `pad_token_id` to `eos_token_id`:128001 for open-end generation.\n"
          ]
        },
        {
          "name": "stdout",
          "output_type": "stream",
          "text": [
            "46th pred 8 ans 9\n",
            "47th pred 7 ans 10\n",
            "48th pred 7 ans 8\n",
            "49th pred 7 ans 8\n"
          ]
        },
        {
          "name": "stderr",
          "output_type": "stream",
          "text": [
            "Setting `pad_token_id` to `eos_token_id`:128001 for open-end generation.\n",
            "Setting `pad_token_id` to `eos_token_id`:128001 for open-end generation.\n",
            "Setting `pad_token_id` to `eos_token_id`:128001 for open-end generation.\n",
            "Setting `pad_token_id` to `eos_token_id`:128001 for open-end generation.\n"
          ]
        },
        {
          "name": "stdout",
          "output_type": "stream",
          "text": [
            "50th pred 8 ans 9\n",
            "51th pred 6 ans 8\n",
            "52th pred 7 ans 7\n",
            "53th pred 7 ans 8\n"
          ]
        },
        {
          "name": "stderr",
          "output_type": "stream",
          "text": [
            "Setting `pad_token_id` to `eos_token_id`:128001 for open-end generation.\n",
            "Setting `pad_token_id` to `eos_token_id`:128001 for open-end generation.\n",
            "Setting `pad_token_id` to `eos_token_id`:128001 for open-end generation.\n"
          ]
        },
        {
          "name": "stdout",
          "output_type": "stream",
          "text": [
            "54th pred 7 ans 8\n",
            "55th pred 8 ans 10\n",
            "Skipping index 66 prompt You are a book recommender and your job is to predict a user's rating (ranging from 1 to 10, with 10 being the highest) on a book, based on that user's previous ratings.\n",
            "\n",
            "User 8141 has rated the following books:\n",
            "\n",
            "\"Along Came a Spider (Alex Cross Novels)\" 8\n",
            "\"Ashes to Ashes\" 6\n",
            "\"Acts of Malice\" 7\n",
            "\"The Winner\" 8\n",
            "\n",
            "Predict the user's rating on \"Daughter of the Fifth Moon\". Output the rating score only. Do not include other text. reponse 7 due to error: invalid literal for int() with base 10: '7.5'\n"
          ]
        },
        {
          "name": "stderr",
          "output_type": "stream",
          "text": [
            "Setting `pad_token_id` to `eos_token_id`:128001 for open-end generation.\n",
            "Setting `pad_token_id` to `eos_token_id`:128001 for open-end generation.\n",
            "Setting `pad_token_id` to `eos_token_id`:128001 for open-end generation.\n",
            "Setting `pad_token_id` to `eos_token_id`:128001 for open-end generation.\n"
          ]
        },
        {
          "name": "stdout",
          "output_type": "stream",
          "text": [
            "56th pred 7 ans 5\n",
            "57th pred 7 ans 5\n",
            "58th pred 9 ans 8\n",
            "59th pred 8 ans 9\n"
          ]
        },
        {
          "name": "stderr",
          "output_type": "stream",
          "text": [
            "Setting `pad_token_id` to `eos_token_id`:128001 for open-end generation.\n",
            "Setting `pad_token_id` to `eos_token_id`:128001 for open-end generation.\n",
            "Setting `pad_token_id` to `eos_token_id`:128001 for open-end generation.\n",
            "Setting `pad_token_id` to `eos_token_id`:128001 for open-end generation.\n"
          ]
        },
        {
          "name": "stdout",
          "output_type": "stream",
          "text": [
            "60th pred 8 ans 10\n",
            "61th pred 7 ans 6\n",
            "62th pred 9 ans 9\n",
            "63th pred 8 ans 8\n"
          ]
        },
        {
          "name": "stderr",
          "output_type": "stream",
          "text": [
            "Setting `pad_token_id` to `eos_token_id`:128001 for open-end generation.\n",
            "Setting `pad_token_id` to `eos_token_id`:128001 for open-end generation.\n",
            "Setting `pad_token_id` to `eos_token_id`:128001 for open-end generation.\n",
            "Setting `pad_token_id` to `eos_token_id`:128001 for open-end generation.\n"
          ]
        },
        {
          "name": "stdout",
          "output_type": "stream",
          "text": [
            "64th pred 8 ans 8\n",
            "65th pred 7 ans 9\n",
            "66th pred 8 ans 6\n",
            "67th pred 8 ans 7\n"
          ]
        },
        {
          "name": "stderr",
          "output_type": "stream",
          "text": [
            "Setting `pad_token_id` to `eos_token_id`:128001 for open-end generation.\n",
            "Setting `pad_token_id` to `eos_token_id`:128001 for open-end generation.\n",
            "Setting `pad_token_id` to `eos_token_id`:128001 for open-end generation.\n"
          ]
        },
        {
          "name": "stdout",
          "output_type": "stream",
          "text": [
            "Skipping index 79 prompt You are a book recommender and your job is to predict a user's rating (ranging from 1 to 10, with 10 being the highest) on a book, based on that user's previous ratings.\n",
            "\n",
            "User 11201 has rated the following books:\n",
            "\n",
            "\"The Poisonwood Bible\" 7\n",
            "\"Mysteries of Pittsburgh\" 6\n",
            "\"The Concierge's Guide to Boston\" 7\n",
            "\"The Stone Diaries\" 8\n",
            "\n",
            "Predict the user's rating on \"Fodor's Holland 1992 (Fodor's Holland)\". Output the rating score only. Do not include other text. reponse 7 due to error: invalid literal for int() with base 10: '7.5'\n",
            "Skipping index 80 prompt You are a book recommender and your job is to predict a user's rating (ranging from 1 to 10, with 10 being the highest) on a book, based on that user's previous ratings.\n",
            "\n",
            "User 11206 has rated the following books:\n",
            "\n",
            "\"Vinegar Hill (Oprah's Book Club (Hardcover))\" 6\n",
            "\"Midwives\" 9\n",
            "\"Gap Creek: A Novel\" 8\n",
            "\"The Measure of a Man : A Spiritual Autobiography\" 9\n",
            "\n",
            "Predict the user's rating on \"In the Family Way: A Novel\". Output the rating score only. Do not include other text. reponse 7 due to error: invalid literal for int() with base 10: '7.2'\n",
            "68th pred 7 ans 6\n"
          ]
        },
        {
          "name": "stderr",
          "output_type": "stream",
          "text": [
            "Setting `pad_token_id` to `eos_token_id`:128001 for open-end generation.\n",
            "Setting `pad_token_id` to `eos_token_id`:128001 for open-end generation.\n",
            "Setting `pad_token_id` to `eos_token_id`:128001 for open-end generation.\n",
            "Setting `pad_token_id` to `eos_token_id`:128001 for open-end generation.\n"
          ]
        },
        {
          "name": "stdout",
          "output_type": "stream",
          "text": [
            "69th pred 7 ans 3\n",
            "70th pred 8 ans 5\n",
            "71th pred 8 ans 5\n",
            "72th pred 8 ans 9\n"
          ]
        },
        {
          "name": "stderr",
          "output_type": "stream",
          "text": [
            "Setting `pad_token_id` to `eos_token_id`:128001 for open-end generation.\n",
            "Setting `pad_token_id` to `eos_token_id`:128001 for open-end generation.\n",
            "Setting `pad_token_id` to `eos_token_id`:128001 for open-end generation.\n",
            "Setting `pad_token_id` to `eos_token_id`:128001 for open-end generation.\n"
          ]
        },
        {
          "name": "stdout",
          "output_type": "stream",
          "text": [
            "73th pred 8 ans 6\n",
            "74th pred 8 ans 5\n",
            "75th pred 7 ans 10\n",
            "76th pred 8 ans 9\n"
          ]
        },
        {
          "name": "stderr",
          "output_type": "stream",
          "text": [
            "Setting `pad_token_id` to `eos_token_id`:128001 for open-end generation.\n",
            "Setting `pad_token_id` to `eos_token_id`:128001 for open-end generation.\n",
            "Setting `pad_token_id` to `eos_token_id`:128001 for open-end generation.\n"
          ]
        },
        {
          "name": "stdout",
          "output_type": "stream",
          "text": [
            "Skipping index 90 prompt You are a book recommender and your job is to predict a user's rating (ranging from 1 to 10, with 10 being the highest) on a book, based on that user's previous ratings.\n",
            "\n",
            "User 12388 has rated the following books:\n",
            "\n",
            "\"Zen Mind, Beginner's Mind\" 8\n",
            "\"Built to Last: Successful Habits of Visionary Companies\" 9\n",
            "\"The Information\" 5\n",
            "\"The Discoverers: A History of Man's Search to Know His World and Himself\" 7\n",
            "\n",
            "Predict the user's rating on \"The Salon.Com Reader's Guide to Contemporary Authors\". Output the rating score only. Do not include other text. reponse 7 due to error: invalid literal for int() with base 10: '7.5'\n",
            "77th pred 7 ans 8\n",
            "78th pred 8 ans 7\n"
          ]
        },
        {
          "name": "stderr",
          "output_type": "stream",
          "text": [
            "Setting `pad_token_id` to `eos_token_id`:128001 for open-end generation.\n",
            "Setting `pad_token_id` to `eos_token_id`:128001 for open-end generation.\n",
            "Setting `pad_token_id` to `eos_token_id`:128001 for open-end generation.\n",
            "Setting `pad_token_id` to `eos_token_id`:128001 for open-end generation.\n"
          ]
        },
        {
          "name": "stdout",
          "output_type": "stream",
          "text": [
            "Skipping index 93 prompt You are a book recommender and your job is to predict a user's rating (ranging from 1 to 10, with 10 being the highest) on a book, based on that user's previous ratings.\n",
            "\n",
            "User 12754 has rated the following books:\n",
            "\n",
            "\"Garnethill: A Novel of Crime\" 8\n",
            "\"HIGH EXPOSURE : An Enduring Passion for Everest and Unforgiving Places\" 8\n",
            "\"Resurrection Angel: A Denton Ward and Monty Crocetti Mystery (Denton Ward and Monty Crocetti Mysteries)\" 6\n",
            "\"Raveling\" 7\n",
            "\n",
            "Predict the user's rating on \"Blue Light\". Output the rating score only. Do not include other text. reponse 7 due to error: invalid literal for int() with base 10: '7.5'\n",
            "79th pred 7 ans 8\n",
            "80th pred 7 ans 9\n",
            "81th pred 8 ans 5\n"
          ]
        },
        {
          "name": "stderr",
          "output_type": "stream",
          "text": [
            "Setting `pad_token_id` to `eos_token_id`:128001 for open-end generation.\n",
            "Setting `pad_token_id` to `eos_token_id`:128001 for open-end generation.\n",
            "Setting `pad_token_id` to `eos_token_id`:128001 for open-end generation.\n",
            "Setting `pad_token_id` to `eos_token_id`:128001 for open-end generation.\n"
          ]
        },
        {
          "name": "stdout",
          "output_type": "stream",
          "text": [
            "Skipping index 97 prompt You are a book recommender and your job is to predict a user's rating (ranging from 1 to 10, with 10 being the highest) on a book, based on that user's previous ratings.\n",
            "\n",
            "User 14201 has rated the following books:\n",
            "\n",
            "\"Best Places Portland\" 5\n",
            "\"Into Thin Air : A Personal Account of the Mt. Everest Disaster\" 7\n",
            "\"Jack London: A Life\" 8\n",
            "\"Better Than Life (Red Dwarf Series)\" 8\n",
            "\n",
            "Predict the user's rating on \"Sister of My Heart\". Output the rating score only. Do not include other text. reponse 7 due to error: invalid literal for int() with base 10: '8.4'\n",
            "82th pred 8 ans 5\n",
            "83th pred 7 ans 8\n",
            "84th pred 7 ans 10\n"
          ]
        },
        {
          "name": "stderr",
          "output_type": "stream",
          "text": [
            "Setting `pad_token_id` to `eos_token_id`:128001 for open-end generation.\n",
            "Setting `pad_token_id` to `eos_token_id`:128001 for open-end generation.\n",
            "Setting `pad_token_id` to `eos_token_id`:128001 for open-end generation.\n"
          ]
        },
        {
          "name": "stdout",
          "output_type": "stream",
          "text": [
            "85th pred 7 ans 6\n",
            "Skipping index 102 prompt You are a book recommender and your job is to predict a user's rating (ranging from 1 to 10, with 10 being the highest) on a book, based on that user's previous ratings.\n",
            "\n",
            "User 14965 has rated the following books:\n",
            "\n",
            "\"A Little Yellow Dog: An Easy Rawlins Mystery (Easy Rawlins Mysteries (Hardcover))\" 7\n",
            "\"Beloved\" 8\n",
            "\"Cuba Libre\" 7\n",
            "\"WHITE BUTTERFLY : Featuring an Original Easy Rawlins Short Story \\Lavender\\\" (Easy Rawlins Mysteries (Paperback))\"\" 6\n",
            "\n",
            "Predict the user's rating on \"The Sexual Outlaw: A Documentary\". Output the rating score only. Do not include other text. reponse 7 due to error: invalid literal for int() with base 10: '6.3'\n",
            "86th pred 7 ans 4\n"
          ]
        },
        {
          "name": "stderr",
          "output_type": "stream",
          "text": [
            "Setting `pad_token_id` to `eos_token_id`:128001 for open-end generation.\n",
            "Setting `pad_token_id` to `eos_token_id`:128001 for open-end generation.\n",
            "Setting `pad_token_id` to `eos_token_id`:128001 for open-end generation.\n",
            "Setting `pad_token_id` to `eos_token_id`:128001 for open-end generation.\n"
          ]
        },
        {
          "name": "stdout",
          "output_type": "stream",
          "text": [
            "87th pred 9 ans 10\n",
            "88th pred 7 ans 7\n",
            "89th pred 7 ans 9\n",
            "90th pred 8 ans 2\n"
          ]
        },
        {
          "name": "stderr",
          "output_type": "stream",
          "text": [
            "Setting `pad_token_id` to `eos_token_id`:128001 for open-end generation.\n",
            "Setting `pad_token_id` to `eos_token_id`:128001 for open-end generation.\n",
            "Setting `pad_token_id` to `eos_token_id`:128001 for open-end generation.\n",
            "Setting `pad_token_id` to `eos_token_id`:128001 for open-end generation.\n"
          ]
        },
        {
          "name": "stdout",
          "output_type": "stream",
          "text": [
            "Skipping index 108 prompt You are a book recommender and your job is to predict a user's rating (ranging from 1 to 10, with 10 being the highest) on a book, based on that user's previous ratings.\n",
            "\n",
            "User 15922 has rated the following books:\n",
            "\n",
            "\"Les rÃ?Âªves des autres\" 5\n",
            "\"Comment je suis devenu stupide\" 8\n",
            "\"La PissotiÃ?Â¨re\" 7\n",
            "\"Mensonges mensonges\" 8\n",
            "\n",
            "Predict the user's rating on \"Contes Ã?Â faire rougir les petits chaperons\". Output the rating score only. Do not include other text. reponse 7 due to error: invalid literal for int() with base 10: '7.5'\n",
            "91th pred 7 ans 6\n",
            "92th pred 8 ans 4\n",
            "93th pred 7 ans 8\n"
          ]
        },
        {
          "name": "stderr",
          "output_type": "stream",
          "text": [
            "Setting `pad_token_id` to `eos_token_id`:128001 for open-end generation.\n",
            "Setting `pad_token_id` to `eos_token_id`:128001 for open-end generation.\n",
            "Setting `pad_token_id` to `eos_token_id`:128001 for open-end generation.\n"
          ]
        },
        {
          "name": "stdout",
          "output_type": "stream",
          "text": [
            "Skipping index 112 prompt You are a book recommender and your job is to predict a user's rating (ranging from 1 to 10, with 10 being the highest) on a book, based on that user's previous ratings.\n",
            "\n",
            "User 16137 has rated the following books:\n",
            "\n",
            "\"Star Trek Memories\" 9\n",
            "\"Use the News: How to Separate the Noise from the Investment Nuggets and Make Money in Any Econony\" 7\n",
            "\"Dave Barry's Complete Guide to Guys\" 5\n",
            "\"The Fannie Farmer Cookbook\" 8\n",
            "\n",
            "Predict the user's rating on \"The Power of Intention: Learning to Co-Create Your World Your Way\". Output the rating score only. Do not include other text. reponse 7 due to error: invalid literal for int() with base 10: '7.5'\n",
            "94th pred 8 ans 2\n",
            "95th pred 7 ans 5\n"
          ]
        },
        {
          "name": "stderr",
          "output_type": "stream",
          "text": [
            "Setting `pad_token_id` to `eos_token_id`:128001 for open-end generation.\n",
            "Setting `pad_token_id` to `eos_token_id`:128001 for open-end generation.\n",
            "Setting `pad_token_id` to `eos_token_id`:128001 for open-end generation.\n"
          ]
        },
        {
          "name": "stdout",
          "output_type": "stream",
          "text": [
            "Skipping index 115 prompt You are a book recommender and your job is to predict a user's rating (ranging from 1 to 10, with 10 being the highest) on a book, based on that user's previous ratings.\n",
            "\n",
            "User 16492 has rated the following books:\n",
            "\n",
            "\"Deception Point\" 8\n",
            "\"Theodore Roosevelt\" 6\n",
            "\"No Certain Rest : A Novel\" 7\n",
            "\"Baudolino\" 7\n",
            "\n",
            "Predict the user's rating on \"The Great Unraveling: Losing Our Way in the New Century\". Output the rating score only. Do not include other text. reponse 7 due to error: invalid literal for int() with base 10: '7.5'\n",
            "96th pred 8 ans 7\n",
            "Skipping index 117 prompt You are a book recommender and your job is to predict a user's rating (ranging from 1 to 10, with 10 being the highest) on a book, based on that user's previous ratings.\n",
            "\n",
            "User 16798 has rated the following books:\n",
            "\n",
            "\"FIRST WIVES CLUB\" 10\n",
            "\"East of the Mountains\" 7\n",
            "\"Pandora: New Tales of the Vampires (New Tales of the Vampires)\" 8\n",
            "\"Hard Eight : A Stephanie Plum Novel (A Stephanie Plum Novel)\" 10\n",
            "\n",
            "Predict the user's rating on \"Beloved: A Novel (Plume Contemporary Fiction)\". Output the rating score only. Do not include other text. reponse 7 due to error: invalid literal for int() with base 10: '8.5'\n"
          ]
        },
        {
          "name": "stderr",
          "output_type": "stream",
          "text": [
            "Setting `pad_token_id` to `eos_token_id`:128001 for open-end generation.\n",
            "Setting `pad_token_id` to `eos_token_id`:128001 for open-end generation.\n",
            "Setting `pad_token_id` to `eos_token_id`:128001 for open-end generation.\n",
            "Setting `pad_token_id` to `eos_token_id`:128001 for open-end generation.\n"
          ]
        },
        {
          "name": "stdout",
          "output_type": "stream",
          "text": [
            "97th pred 7 ans 4\n",
            "98th pred 7 ans 10\n",
            "99th pred 6 ans 5\n",
            "100th pred 8 ans 9\n"
          ]
        },
        {
          "name": "stderr",
          "output_type": "stream",
          "text": [
            "Setting `pad_token_id` to `eos_token_id`:128001 for open-end generation.\n",
            "Setting `pad_token_id` to `eos_token_id`:128001 for open-end generation.\n",
            "Setting `pad_token_id` to `eos_token_id`:128001 for open-end generation.\n",
            "Setting `pad_token_id` to `eos_token_id`:128001 for open-end generation.\n"
          ]
        },
        {
          "name": "stdout",
          "output_type": "stream",
          "text": [
            "101th pred 7 ans 6\n",
            "102th pred 8 ans 3\n",
            "103th pred 8 ans 6\n",
            "104th pred 8 ans 9\n"
          ]
        },
        {
          "name": "stderr",
          "output_type": "stream",
          "text": [
            "Setting `pad_token_id` to `eos_token_id`:128001 for open-end generation.\n",
            "Setting `pad_token_id` to `eos_token_id`:128001 for open-end generation.\n",
            "Setting `pad_token_id` to `eos_token_id`:128001 for open-end generation.\n"
          ]
        },
        {
          "name": "stdout",
          "output_type": "stream",
          "text": [
            "Skipping index 126 prompt You are a book recommender and your job is to predict a user's rating (ranging from 1 to 10, with 10 being the highest) on a book, based on that user's previous ratings.\n",
            "\n",
            "User 17277 has rated the following books:\n",
            "\n",
            "\"Dead Sleep\" 8\n",
            "\"Anyone You Want Me to Be : A True Story of Sex and Death on the Internet\" 6\n",
            "\"Drowning Ruth\" 9\n",
            "\"Confessions of a Shopaholic\" 7\n",
            "\n",
            "Predict the user's rating on \"High Country\". Output the rating score only. Do not include other text. reponse 7 due to error: invalid literal for int() with base 10: '7.5'\n",
            "Skipping index 127 prompt You are a book recommender and your job is to predict a user's rating (ranging from 1 to 10, with 10 being the highest) on a book, based on that user's previous ratings.\n",
            "\n",
            "User 17453 has rated the following books:\n",
            "\n",
            "\"A Room for the Dead\" 8\n",
            "\"Stalkers\" 9\n",
            "\"DYING DREAMS\" 7\n",
            "\"Apocalypse Wow\" 5\n",
            "\n",
            "Predict the user's rating on \"A Time to Kill\". Output the rating score only. Do not include other text. reponse 7 due to error: invalid literal for int() with base 10: '8.5'\n",
            "105th pred 7 ans 7\n"
          ]
        },
        {
          "name": "stderr",
          "output_type": "stream",
          "text": [
            "Setting `pad_token_id` to `eos_token_id`:128001 for open-end generation.\n",
            "Setting `pad_token_id` to `eos_token_id`:128001 for open-end generation.\n",
            "Setting `pad_token_id` to `eos_token_id`:128001 for open-end generation.\n",
            "Setting `pad_token_id` to `eos_token_id`:128001 for open-end generation.\n"
          ]
        },
        {
          "name": "stdout",
          "output_type": "stream",
          "text": [
            "106th pred 9 ans 10\n",
            "107th pred 7 ans 5\n",
            "108th pred 7 ans 9\n",
            "109th pred 8 ans 7\n"
          ]
        },
        {
          "name": "stderr",
          "output_type": "stream",
          "text": [
            "Setting `pad_token_id` to `eos_token_id`:128001 for open-end generation.\n",
            "Setting `pad_token_id` to `eos_token_id`:128001 for open-end generation.\n",
            "Setting `pad_token_id` to `eos_token_id`:128001 for open-end generation.\n",
            "Setting `pad_token_id` to `eos_token_id`:128001 for open-end generation.\n"
          ]
        },
        {
          "name": "stdout",
          "output_type": "stream",
          "text": [
            "110th pred 8 ans 8\n",
            "111th pred 8 ans 6\n",
            "112th pred 10 ans 10\n",
            "113th pred 7 ans 10\n"
          ]
        },
        {
          "name": "stderr",
          "output_type": "stream",
          "text": [
            "Setting `pad_token_id` to `eos_token_id`:128001 for open-end generation.\n",
            "Setting `pad_token_id` to `eos_token_id`:128001 for open-end generation.\n",
            "Setting `pad_token_id` to `eos_token_id`:128001 for open-end generation.\n",
            "Setting `pad_token_id` to `eos_token_id`:128001 for open-end generation.\n"
          ]
        },
        {
          "name": "stdout",
          "output_type": "stream",
          "text": [
            "114th pred 8 ans 8\n",
            "115th pred 9 ans 9\n",
            "116th pred 9 ans 10\n",
            "117th pred 8 ans 9\n"
          ]
        },
        {
          "name": "stderr",
          "output_type": "stream",
          "text": [
            "Setting `pad_token_id` to `eos_token_id`:128001 for open-end generation.\n",
            "Setting `pad_token_id` to `eos_token_id`:128001 for open-end generation.\n",
            "Setting `pad_token_id` to `eos_token_id`:128001 for open-end generation.\n",
            "Setting `pad_token_id` to `eos_token_id`:128001 for open-end generation.\n"
          ]
        },
        {
          "name": "stdout",
          "output_type": "stream",
          "text": [
            "118th pred 8 ans 9\n",
            "119th pred 9 ans 10\n",
            "120th pred 8 ans 10\n",
            "121th pred 8 ans 8\n"
          ]
        },
        {
          "name": "stderr",
          "output_type": "stream",
          "text": [
            "Setting `pad_token_id` to `eos_token_id`:128001 for open-end generation.\n",
            "Setting `pad_token_id` to `eos_token_id`:128001 for open-end generation.\n",
            "Setting `pad_token_id` to `eos_token_id`:128001 for open-end generation.\n",
            "Setting `pad_token_id` to `eos_token_id`:128001 for open-end generation.\n"
          ]
        },
        {
          "name": "stdout",
          "output_type": "stream",
          "text": [
            "Skipping index 145 prompt You are a book recommender and your job is to predict a user's rating (ranging from 1 to 10, with 10 being the highest) on a book, based on that user's previous ratings.\n",
            "\n",
            "User 20126 has rated the following books:\n",
            "\n",
            "\"Absolute Zero\" 8\n",
            "\"The Mulberry Tree\" 8\n",
            "\"Safe Harbor\" 9\n",
            "\"The Harbor\" 8\n",
            "\n",
            "Predict the user's rating on \"Breathing Room (Avon Romance)\". Output the rating score only. Do not include other text. reponse 7 due to error: invalid literal for int() with base 10: '7.5'\n",
            "122th pred 8 ans 8\n",
            "123th pred 7 ans 6\n",
            "124th pred 8 ans 7\n"
          ]
        },
        {
          "name": "stderr",
          "output_type": "stream",
          "text": [
            "Setting `pad_token_id` to `eos_token_id`:128001 for open-end generation.\n",
            "Setting `pad_token_id` to `eos_token_id`:128001 for open-end generation.\n",
            "Setting `pad_token_id` to `eos_token_id`:128001 for open-end generation.\n"
          ]
        },
        {
          "name": "stdout",
          "output_type": "stream",
          "text": [
            "125th pred 7 ans 9\n",
            "126th pred 8 ans 5\n",
            "127th pred 7 ans 6\n"
          ]
        },
        {
          "name": "stderr",
          "output_type": "stream",
          "text": [
            "Setting `pad_token_id` to `eos_token_id`:128001 for open-end generation.\n",
            "Setting `pad_token_id` to `eos_token_id`:128001 for open-end generation.\n",
            "Setting `pad_token_id` to `eos_token_id`:128001 for open-end generation.\n"
          ]
        },
        {
          "name": "stdout",
          "output_type": "stream",
          "text": [
            "Skipping index 152 prompt You are a book recommender and your job is to predict a user's rating (ranging from 1 to 10, with 10 being the highest) on a book, based on that user's previous ratings.\n",
            "\n",
            "User 20995 has rated the following books:\n",
            "\n",
            "\"Chopping Spree\" 10\n",
            "\"The Cobra Event\" 10\n",
            "\"Death by the Light of the Moon (Claire Malloy Mysteries (Paperback))\" 10\n",
            "\"The Patient\" 10\n",
            "\n",
            "Predict the user's rating on \"Blood of Victory: A Novel\". Output the rating score only. Do not include other text. reponse 7 due to error: invalid literal for int() with base 10: '9.5'\n",
            "Skipping index 153 prompt You are a book recommender and your job is to predict a user's rating (ranging from 1 to 10, with 10 being the highest) on a book, based on that user's previous ratings.\n",
            "\n",
            "User 21070 has rated the following books:\n",
            "\n",
            "\"Die Jury\" 9\n",
            "\"Jim Knopf und die Wilde 13. ( Ab 8 J.).\" 10\n",
            "\"Das Leben ist schÃ?Â¶n.\" 10\n",
            "\"MÃ?Â¤nner wollen nur das Eine und Frauen reden sowieso zu viel. Eine Faktensammlung.\" 10\n",
            "\n",
            "Predict the user's rating on \"Der Englishche Patient\". Output the rating score only. Do not include other text. reponse 7 due to error: invalid literal for int() with base 10: '8.5'\n",
            "128th pred 7 ans 8\n"
          ]
        },
        {
          "name": "stderr",
          "output_type": "stream",
          "text": [
            "Setting `pad_token_id` to `eos_token_id`:128001 for open-end generation.\n",
            "Setting `pad_token_id` to `eos_token_id`:128001 for open-end generation.\n",
            "Setting `pad_token_id` to `eos_token_id`:128001 for open-end generation.\n",
            "Setting `pad_token_id` to `eos_token_id`:128001 for open-end generation.\n"
          ]
        },
        {
          "name": "stdout",
          "output_type": "stream",
          "text": [
            "129th pred 8 ans 8\n",
            "130th pred 8 ans 7\n",
            "131th pred 8 ans 10\n",
            "132th pred 7 ans 7\n"
          ]
        },
        {
          "name": "stderr",
          "output_type": "stream",
          "text": [
            "Setting `pad_token_id` to `eos_token_id`:128001 for open-end generation.\n",
            "Setting `pad_token_id` to `eos_token_id`:128001 for open-end generation.\n",
            "Setting `pad_token_id` to `eos_token_id`:128001 for open-end generation.\n",
            "Setting `pad_token_id` to `eos_token_id`:128001 for open-end generation.\n"
          ]
        },
        {
          "name": "stdout",
          "output_type": "stream",
          "text": [
            "133th pred 7 ans 10\n",
            "134th pred 8 ans 7\n",
            "135th pred 6 ans 6\n",
            "136th pred 8 ans 7\n"
          ]
        },
        {
          "name": "stderr",
          "output_type": "stream",
          "text": [
            "Setting `pad_token_id` to `eos_token_id`:128001 for open-end generation.\n",
            "Setting `pad_token_id` to `eos_token_id`:128001 for open-end generation.\n",
            "Setting `pad_token_id` to `eos_token_id`:128001 for open-end generation.\n",
            "Setting `pad_token_id` to `eos_token_id`:128001 for open-end generation.\n"
          ]
        },
        {
          "name": "stdout",
          "output_type": "stream",
          "text": [
            "137th pred 8 ans 7\n",
            "138th pred 7 ans 6\n",
            "139th pred 8 ans 8\n",
            "140th pred 8 ans 9\n"
          ]
        },
        {
          "name": "stderr",
          "output_type": "stream",
          "text": [
            "Setting `pad_token_id` to `eos_token_id`:128001 for open-end generation.\n",
            "Setting `pad_token_id` to `eos_token_id`:128001 for open-end generation.\n",
            "Setting `pad_token_id` to `eos_token_id`:128001 for open-end generation.\n",
            "Setting `pad_token_id` to `eos_token_id`:128001 for open-end generation.\n"
          ]
        },
        {
          "name": "stdout",
          "output_type": "stream",
          "text": [
            "141th pred 8 ans 5\n",
            "142th pred 8 ans 7\n",
            "143th pred 7 ans 7\n",
            "144th pred 7 ans 6\n"
          ]
        },
        {
          "name": "stderr",
          "output_type": "stream",
          "text": [
            "Setting `pad_token_id` to `eos_token_id`:128001 for open-end generation.\n",
            "Setting `pad_token_id` to `eos_token_id`:128001 for open-end generation.\n",
            "Setting `pad_token_id` to `eos_token_id`:128001 for open-end generation.\n",
            "Setting `pad_token_id` to `eos_token_id`:128001 for open-end generation.\n"
          ]
        },
        {
          "name": "stdout",
          "output_type": "stream",
          "text": [
            "145th pred 8 ans 9\n",
            "146th pred 9 ans 6\n",
            "147th pred 8 ans 8\n",
            "148th pred 8 ans 6\n"
          ]
        },
        {
          "name": "stderr",
          "output_type": "stream",
          "text": [
            "Setting `pad_token_id` to `eos_token_id`:128001 for open-end generation.\n",
            "Setting `pad_token_id` to `eos_token_id`:128001 for open-end generation.\n",
            "Setting `pad_token_id` to `eos_token_id`:128001 for open-end generation.\n"
          ]
        },
        {
          "name": "stdout",
          "output_type": "stream",
          "text": [
            "149th pred 8 ans 8\n",
            "150th pred 8 ans 8\n",
            "Skipping index 177 prompt You are a book recommender and your job is to predict a user's rating (ranging from 1 to 10, with 10 being the highest) on a book, based on that user's previous ratings.\n",
            "\n",
            "User 23725 has rated the following books:\n",
            "\n",
            "\"O Viajante Imovel: Machado de Assis E O Rio de Janeiro de Seu Tempo\" 9\n",
            "\"Pau-Brasil (Obras completas de Oswald de Andrade)\" 10\n",
            "\"Os melhores poemas de JoÃ£o Cabral de Melo Neto (Os Melhores poemas)\" 10\n",
            "\"Secreta mirada\" 10\n",
            "\n",
            "Predict the user's rating on \"O retorno e terno--\". Output the rating score only. Do not include other text. reponse 7 due to error: invalid literal for int() with base 10: '8.5'\n"
          ]
        },
        {
          "name": "stderr",
          "output_type": "stream",
          "text": [
            "Setting `pad_token_id` to `eos_token_id`:128001 for open-end generation.\n",
            "Setting `pad_token_id` to `eos_token_id`:128001 for open-end generation.\n",
            "Setting `pad_token_id` to `eos_token_id`:128001 for open-end generation.\n",
            "Setting `pad_token_id` to `eos_token_id`:128001 for open-end generation.\n"
          ]
        },
        {
          "name": "stdout",
          "output_type": "stream",
          "text": [
            "151th pred 10 ans 10\n",
            "152th pred 7 ans 8\n",
            "153th pred 8 ans 5\n",
            "154th pred 8 ans 5\n"
          ]
        },
        {
          "name": "stderr",
          "output_type": "stream",
          "text": [
            "Setting `pad_token_id` to `eos_token_id`:128001 for open-end generation.\n",
            "Setting `pad_token_id` to `eos_token_id`:128001 for open-end generation.\n",
            "Setting `pad_token_id` to `eos_token_id`:128001 for open-end generation.\n",
            "Setting `pad_token_id` to `eos_token_id`:128001 for open-end generation.\n"
          ]
        },
        {
          "name": "stdout",
          "output_type": "stream",
          "text": [
            "155th pred 8 ans 5\n",
            "156th pred 8 ans 8\n",
            "157th pred 8 ans 9\n",
            "158th pred 8 ans 10\n"
          ]
        },
        {
          "name": "stderr",
          "output_type": "stream",
          "text": [
            "Setting `pad_token_id` to `eos_token_id`:128001 for open-end generation.\n",
            "Setting `pad_token_id` to `eos_token_id`:128001 for open-end generation.\n",
            "Setting `pad_token_id` to `eos_token_id`:128001 for open-end generation.\n",
            "Setting `pad_token_id` to `eos_token_id`:128001 for open-end generation.\n"
          ]
        },
        {
          "name": "stdout",
          "output_type": "stream",
          "text": [
            "Skipping index 186 prompt You are a book recommender and your job is to predict a user's rating (ranging from 1 to 10, with 10 being the highest) on a book, based on that user's previous ratings.\n",
            "\n",
            "User 24642 has rated the following books:\n",
            "\n",
            "\"The Red Tent (Bestselling Backlist)\" 4\n",
            "\"Disappearing Acts\" 8\n",
            "\"Quentins\" 6\n",
            "\"MAMA : Using the Power of Pleasure to Have Your Way with the World\" 7\n",
            "\n",
            "Predict the user's rating on \"Concubines Children\". Output the rating score only. Do not include other text. reponse 7 due to error: invalid literal for int() with base 10: '7.25'\n",
            "159th pred 7 ans 7\n",
            "160th pred 8 ans 6\n",
            "161th pred 9 ans 8\n"
          ]
        },
        {
          "name": "stderr",
          "output_type": "stream",
          "text": [
            "Setting `pad_token_id` to `eos_token_id`:128001 for open-end generation.\n",
            "Setting `pad_token_id` to `eos_token_id`:128001 for open-end generation.\n",
            "Setting `pad_token_id` to `eos_token_id`:128001 for open-end generation.\n",
            "Setting `pad_token_id` to `eos_token_id`:128001 for open-end generation.\n"
          ]
        },
        {
          "name": "stdout",
          "output_type": "stream",
          "text": [
            "162th pred 8 ans 7\n",
            "163th pred 8 ans 8\n",
            "164th pred 7 ans 8\n",
            "165th pred 8 ans 8\n"
          ]
        },
        {
          "name": "stderr",
          "output_type": "stream",
          "text": [
            "Setting `pad_token_id` to `eos_token_id`:128001 for open-end generation.\n",
            "Setting `pad_token_id` to `eos_token_id`:128001 for open-end generation.\n",
            "Setting `pad_token_id` to `eos_token_id`:128001 for open-end generation.\n",
            "Setting `pad_token_id` to `eos_token_id`:128001 for open-end generation.\n"
          ]
        },
        {
          "name": "stdout",
          "output_type": "stream",
          "text": [
            "166th pred 6 ans 10\n",
            "167th pred 7 ans 6\n",
            "168th pred 7 ans 5\n",
            "169th pred 7 ans 5\n"
          ]
        },
        {
          "name": "stderr",
          "output_type": "stream",
          "text": [
            "Setting `pad_token_id` to `eos_token_id`:128001 for open-end generation.\n",
            "Setting `pad_token_id` to `eos_token_id`:128001 for open-end generation.\n",
            "Setting `pad_token_id` to `eos_token_id`:128001 for open-end generation.\n",
            "Setting `pad_token_id` to `eos_token_id`:128001 for open-end generation.\n"
          ]
        },
        {
          "name": "stdout",
          "output_type": "stream",
          "text": [
            "170th pred 7 ans 7\n",
            "171th pred 9 ans 9\n",
            "172th pred 9 ans 9\n",
            "173th pred 8 ans 9\n"
          ]
        },
        {
          "name": "stderr",
          "output_type": "stream",
          "text": [
            "Setting `pad_token_id` to `eos_token_id`:128001 for open-end generation.\n",
            "Setting `pad_token_id` to `eos_token_id`:128001 for open-end generation.\n",
            "Setting `pad_token_id` to `eos_token_id`:128001 for open-end generation.\n",
            "Setting `pad_token_id` to `eos_token_id`:128001 for open-end generation.\n"
          ]
        },
        {
          "name": "stdout",
          "output_type": "stream",
          "text": [
            "174th pred 8 ans 10\n",
            "175th pred 8 ans 6\n",
            "176th pred 8 ans 4\n",
            "177th pred 8 ans 7\n"
          ]
        },
        {
          "name": "stderr",
          "output_type": "stream",
          "text": [
            "Setting `pad_token_id` to `eos_token_id`:128001 for open-end generation.\n",
            "Setting `pad_token_id` to `eos_token_id`:128001 for open-end generation.\n",
            "Setting `pad_token_id` to `eos_token_id`:128001 for open-end generation.\n",
            "Setting `pad_token_id` to `eos_token_id`:128001 for open-end generation.\n"
          ]
        },
        {
          "name": "stdout",
          "output_type": "stream",
          "text": [
            "Skipping index 206 prompt You are a book recommender and your job is to predict a user's rating (ranging from 1 to 10, with 10 being the highest) on a book, based on that user's previous ratings.\n",
            "\n",
            "User 27222 has rated the following books:\n",
            "\n",
            "\"Chasing the Dime\" 7\n",
            "\"The Murder Book\" 8\n",
            "\"First Lady\" 7\n",
            "\"Deepsix\" 8\n",
            "\n",
            "Predict the user's rating on \"Stone Kiss (Peter Decker &amp; Rina Lazarus Novels (Hardcover))\". Output the rating score only. Do not include other text. reponse 7 due to error: invalid literal for int() with base 10: '8.5'\n",
            "178th pred 8 ans 3\n",
            "179th pred 8 ans 10\n",
            "180th pred 8 ans 5\n"
          ]
        },
        {
          "name": "stderr",
          "output_type": "stream",
          "text": [
            "Setting `pad_token_id` to `eos_token_id`:128001 for open-end generation.\n",
            "Setting `pad_token_id` to `eos_token_id`:128001 for open-end generation.\n",
            "Setting `pad_token_id` to `eos_token_id`:128001 for open-end generation.\n",
            "Setting `pad_token_id` to `eos_token_id`:128001 for open-end generation.\n"
          ]
        },
        {
          "name": "stdout",
          "output_type": "stream",
          "text": [
            "181th pred 7 ans 8\n",
            "182th pred 7 ans 7\n",
            "183th pred 8 ans 5\n",
            "184th pred 8 ans 8\n"
          ]
        },
        {
          "name": "stderr",
          "output_type": "stream",
          "text": [
            "Setting `pad_token_id` to `eos_token_id`:128001 for open-end generation.\n",
            "Setting `pad_token_id` to `eos_token_id`:128001 for open-end generation.\n",
            "Setting `pad_token_id` to `eos_token_id`:128001 for open-end generation.\n",
            "Setting `pad_token_id` to `eos_token_id`:128001 for open-end generation.\n"
          ]
        },
        {
          "name": "stdout",
          "output_type": "stream",
          "text": [
            "185th pred 7 ans 6\n",
            "186th pred 8 ans 4\n",
            "187th pred 9 ans 9\n",
            "188th pred 9 ans 6\n"
          ]
        },
        {
          "name": "stderr",
          "output_type": "stream",
          "text": [
            "Setting `pad_token_id` to `eos_token_id`:128001 for open-end generation.\n",
            "Setting `pad_token_id` to `eos_token_id`:128001 for open-end generation.\n",
            "Setting `pad_token_id` to `eos_token_id`:128001 for open-end generation.\n",
            "Setting `pad_token_id` to `eos_token_id`:128001 for open-end generation.\n"
          ]
        },
        {
          "name": "stdout",
          "output_type": "stream",
          "text": [
            "189th pred 7 ans 9\n",
            "190th pred 8 ans 9\n",
            "191th pred 8 ans 8\n",
            "192th pred 8 ans 7\n"
          ]
        },
        {
          "name": "stderr",
          "output_type": "stream",
          "text": [
            "Setting `pad_token_id` to `eos_token_id`:128001 for open-end generation.\n",
            "Setting `pad_token_id` to `eos_token_id`:128001 for open-end generation.\n",
            "Setting `pad_token_id` to `eos_token_id`:128001 for open-end generation.\n",
            "Setting `pad_token_id` to `eos_token_id`:128001 for open-end generation.\n"
          ]
        },
        {
          "name": "stdout",
          "output_type": "stream",
          "text": [
            "193th pred 9 ans 8\n",
            "194th pred 8 ans 6\n",
            "195th pred 8 ans 8\n",
            "196th pred 8 ans 10\n"
          ]
        },
        {
          "name": "stderr",
          "output_type": "stream",
          "text": [
            "Setting `pad_token_id` to `eos_token_id`:128001 for open-end generation.\n",
            "Setting `pad_token_id` to `eos_token_id`:128001 for open-end generation.\n",
            "Setting `pad_token_id` to `eos_token_id`:128001 for open-end generation.\n",
            "Setting `pad_token_id` to `eos_token_id`:128001 for open-end generation.\n"
          ]
        },
        {
          "name": "stdout",
          "output_type": "stream",
          "text": [
            "Skipping index 226 prompt You are a book recommender and your job is to predict a user's rating (ranging from 1 to 10, with 10 being the highest) on a book, based on that user's previous ratings.\n",
            "\n",
            "User 30183 has rated the following books:\n",
            "\n",
            "\"Inventing the Abbotts\" 7\n",
            "\"A Virtuous Woman (Oprah's Book Club (Paperback))\" 8\n",
            "\"Object Lessons (Ballantine Reader's Circle)\" 9\n",
            "\"The Perfect Storm: A True Story of Men Against the Sea\" 10\n",
            "\n",
            "Predict the user's rating on \"The Terrible Hours\". Output the rating score only. Do not include other text. reponse 7 due to error: invalid literal for int() with base 10: '8.5'\n",
            "197th pred 6 ans 8\n",
            "198th pred 7 ans 10\n",
            "199th pred 6 ans 7\n"
          ]
        },
        {
          "name": "stderr",
          "output_type": "stream",
          "text": [
            "Setting `pad_token_id` to `eos_token_id`:128001 for open-end generation.\n",
            "Setting `pad_token_id` to `eos_token_id`:128001 for open-end generation.\n",
            "Setting `pad_token_id` to `eos_token_id`:128001 for open-end generation.\n"
          ]
        },
        {
          "name": "stdout",
          "output_type": "stream",
          "text": [
            "200th pred 7 ans 5\n",
            "Skipping index 231 prompt You are a book recommender and your job is to predict a user's rating (ranging from 1 to 10, with 10 being the highest) on a book, based on that user's previous ratings.\n",
            "\n",
            "User 30744 has rated the following books:\n",
            "\n",
            "\"Mother of the Bride\" 8\n",
            "\"On the Edge\" 6\n",
            "\"What to Do About Annie\" 5\n",
            "\"Substitute Father (Marriage Of Inconvenience) (Harlequin Super Romance)\" 7\n",
            "\n",
            "Predict the user's rating on \"Take Me, I'm Yours (Avon Light Contemporary Romances)\". Output the rating score only. Do not include other text. reponse 7 due to error: invalid literal for int() with base 10: '7.5'\n",
            "201th pred 8 ans 10\n"
          ]
        },
        {
          "name": "stderr",
          "output_type": "stream",
          "text": [
            "Setting `pad_token_id` to `eos_token_id`:128001 for open-end generation.\n",
            "Setting `pad_token_id` to `eos_token_id`:128001 for open-end generation.\n",
            "Setting `pad_token_id` to `eos_token_id`:128001 for open-end generation.\n"
          ]
        },
        {
          "name": "stdout",
          "output_type": "stream",
          "text": [
            "202th pred 7 ans 10\n",
            "203th pred 8 ans 8\n",
            "Skipping index 235 prompt You are a book recommender and your job is to predict a user's rating (ranging from 1 to 10, with 10 being the highest) on a book, based on that user's previous ratings.\n",
            "\n",
            "User 31006 has rated the following books:\n",
            "\n",
            "\"The Nanny Diaries: A Novel\" 7\n",
            "\"The Blessing Way (Joe Leaphorn Novels)\" 8\n",
            "\"Jackdaws\" 5\n",
            "\"The PMS Outlaws : An Elizabeth MacPherson Novel\" 6\n",
            "\n",
            "Predict the user's rating on \"Losing Gemma\". Output the rating score only. Do not include other text. reponse 7 due to error: invalid literal for int() with base 10: '8.4'\n"
          ]
        },
        {
          "name": "stderr",
          "output_type": "stream",
          "text": [
            "Setting `pad_token_id` to `eos_token_id`:128001 for open-end generation.\n",
            "Setting `pad_token_id` to `eos_token_id`:128001 for open-end generation.\n",
            "Setting `pad_token_id` to `eos_token_id`:128001 for open-end generation.\n"
          ]
        },
        {
          "name": "stdout",
          "output_type": "stream",
          "text": [
            "204th pred 7 ans 5\n",
            "Skipping index 237 prompt You are a book recommender and your job is to predict a user's rating (ranging from 1 to 10, with 10 being the highest) on a book, based on that user's previous ratings.\n",
            "\n",
            "User 31278 has rated the following books:\n",
            "\n",
            "\"Crazy Ladies : A Novel\" 8\n",
            "\"Gap Creek: The Story of a Marriage\" 9\n",
            "\"An ACTUAL LIFE\" 10\n",
            "\"Life Isn't All Ha Ha Hee Hee\" 9\n",
            "\n",
            "Predict the user's rating on \"In Sunlight, in a Beautiful Garden : A Novel\". Output the rating score only. Do not include other text. reponse 7 due to error: invalid literal for int() with base 10: '8.5'\n",
            "205th pred 9 ans 9\n"
          ]
        },
        {
          "name": "stderr",
          "output_type": "stream",
          "text": [
            "Setting `pad_token_id` to `eos_token_id`:128001 for open-end generation.\n",
            "Setting `pad_token_id` to `eos_token_id`:128001 for open-end generation.\n",
            "Setting `pad_token_id` to `eos_token_id`:128001 for open-end generation.\n"
          ]
        },
        {
          "name": "stdout",
          "output_type": "stream",
          "text": [
            "206th pred 8 ans 8\n",
            "207th pred 7 ans 6\n",
            "Skipping index 241 prompt You are a book recommender and your job is to predict a user's rating (ranging from 1 to 10, with 10 being the highest) on a book, based on that user's previous ratings.\n",
            "\n",
            "User 31841 has rated the following books:\n",
            "\n",
            "\"Words to Live By: The Origins of Conventional Wisdom and Commonsense Advice\" 8\n",
            "\"Non Campus Mentis: World History According to College Students\" 7\n",
            "\"Cat in Glass and Other Tales of the Unnatural\" 9\n",
            "\"Utopia: A Revised Translation Backgrounds Criticism (Norton Critical Edition)\" 4\n",
            "\n",
            "Predict the user's rating on \"The Handmaid's Tale\". Output the rating score only. Do not include other text. reponse 7 due to error: invalid literal for int() with base 10: '8.5'\n"
          ]
        },
        {
          "name": "stderr",
          "output_type": "stream",
          "text": [
            "Setting `pad_token_id` to `eos_token_id`:128001 for open-end generation.\n",
            "Setting `pad_token_id` to `eos_token_id`:128001 for open-end generation.\n",
            "Setting `pad_token_id` to `eos_token_id`:128001 for open-end generation.\n",
            "Setting `pad_token_id` to `eos_token_id`:128001 for open-end generation.\n"
          ]
        },
        {
          "name": "stdout",
          "output_type": "stream",
          "text": [
            "208th pred 6 ans 8\n",
            "209th pred 6 ans 7\n",
            "210th pred 7 ans 6\n",
            "211th pred 8 ans 5\n"
          ]
        },
        {
          "name": "stderr",
          "output_type": "stream",
          "text": [
            "Setting `pad_token_id` to `eos_token_id`:128001 for open-end generation.\n",
            "Setting `pad_token_id` to `eos_token_id`:128001 for open-end generation.\n",
            "Setting `pad_token_id` to `eos_token_id`:128001 for open-end generation.\n",
            "Setting `pad_token_id` to `eos_token_id`:128001 for open-end generation.\n"
          ]
        },
        {
          "name": "stdout",
          "output_type": "stream",
          "text": [
            "212th pred 8 ans 10\n",
            "213th pred 6 ans 8\n",
            "214th pred 7 ans 7\n",
            "215th pred 7 ans 9\n"
          ]
        },
        {
          "name": "stderr",
          "output_type": "stream",
          "text": [
            "Setting `pad_token_id` to `eos_token_id`:128001 for open-end generation.\n",
            "Setting `pad_token_id` to `eos_token_id`:128001 for open-end generation.\n",
            "Setting `pad_token_id` to `eos_token_id`:128001 for open-end generation.\n",
            "Setting `pad_token_id` to `eos_token_id`:128001 for open-end generation.\n"
          ]
        },
        {
          "name": "stdout",
          "output_type": "stream",
          "text": [
            "216th pred 9 ans 9\n",
            "217th pred 8 ans 10\n",
            "218th pred 7 ans 6\n",
            "219th pred 7 ans 8\n"
          ]
        },
        {
          "name": "stderr",
          "output_type": "stream",
          "text": [
            "Setting `pad_token_id` to `eos_token_id`:128001 for open-end generation.\n",
            "Setting `pad_token_id` to `eos_token_id`:128001 for open-end generation.\n",
            "Setting `pad_token_id` to `eos_token_id`:128001 for open-end generation.\n",
            "Setting `pad_token_id` to `eos_token_id`:128001 for open-end generation.\n"
          ]
        },
        {
          "name": "stdout",
          "output_type": "stream",
          "text": [
            "220th pred 7 ans 5\n",
            "221th pred 7 ans 10\n",
            "222th pred 6 ans 10\n",
            "223th pred 7 ans 9\n"
          ]
        },
        {
          "name": "stderr",
          "output_type": "stream",
          "text": [
            "Setting `pad_token_id` to `eos_token_id`:128001 for open-end generation.\n",
            "Setting `pad_token_id` to `eos_token_id`:128001 for open-end generation.\n",
            "Setting `pad_token_id` to `eos_token_id`:128001 for open-end generation.\n",
            "Setting `pad_token_id` to `eos_token_id`:128001 for open-end generation.\n"
          ]
        },
        {
          "name": "stdout",
          "output_type": "stream",
          "text": [
            "Skipping index 258 prompt You are a book recommender and your job is to predict a user's rating (ranging from 1 to 10, with 10 being the highest) on a book, based on that user's previous ratings.\n",
            "\n",
            "User 35179 has rated the following books:\n",
            "\n",
            "\"The Rainbow\" 10\n",
            "\"Belshazzar's Daughter\" 7\n",
            "\"Shipping News\" 8\n",
            "\"My Family and Other Animals.\" 8\n",
            "\n",
            "Predict the user's rating on \"Three Men in a Boat: To Say Nothing of the Dog!\". Output the rating score only. Do not include other text. reponse 7 due to error: invalid literal for int() with base 10: '8.5'\n",
            "224th pred 8 ans 8\n",
            "225th pred 8 ans 8\n",
            "226th pred 7 ans 10\n"
          ]
        },
        {
          "name": "stderr",
          "output_type": "stream",
          "text": [
            "Setting `pad_token_id` to `eos_token_id`:128001 for open-end generation.\n",
            "Setting `pad_token_id` to `eos_token_id`:128001 for open-end generation.\n",
            "Setting `pad_token_id` to `eos_token_id`:128001 for open-end generation.\n"
          ]
        },
        {
          "name": "stdout",
          "output_type": "stream",
          "text": [
            "227th pred 6 ans 8\n",
            "Skipping index 263 prompt You are a book recommender and your job is to predict a user's rating (ranging from 1 to 10, with 10 being the highest) on a book, based on that user's previous ratings.\n",
            "\n",
            "User 35842 has rated the following books:\n",
            "\n",
            "\"From the Corner of His Eye\" 8\n",
            "\"The Bottoms\" 9\n",
            "\"The Last Coyote (Last Coyote)\" 8\n",
            "\"Why Me\" 7\n",
            "\n",
            "Predict the user's rating on \"A Fine Balance\". Output the rating score only. Do not include other text. reponse 7 due to error: invalid literal for int() with base 10: '7.5'\n",
            "228th pred 8 ans 7\n"
          ]
        },
        {
          "name": "stderr",
          "output_type": "stream",
          "text": [
            "Setting `pad_token_id` to `eos_token_id`:128001 for open-end generation.\n",
            "Setting `pad_token_id` to `eos_token_id`:128001 for open-end generation.\n",
            "Setting `pad_token_id` to `eos_token_id`:128001 for open-end generation.\n",
            "Setting `pad_token_id` to `eos_token_id`:128001 for open-end generation.\n"
          ]
        },
        {
          "name": "stdout",
          "output_type": "stream",
          "text": [
            "229th pred 8 ans 5\n",
            "230th pred 8 ans 7\n",
            "231th pred 7 ans 9\n",
            "232th pred 6 ans 8\n"
          ]
        },
        {
          "name": "stderr",
          "output_type": "stream",
          "text": [
            "Setting `pad_token_id` to `eos_token_id`:128001 for open-end generation.\n",
            "Setting `pad_token_id` to `eos_token_id`:128001 for open-end generation.\n",
            "Setting `pad_token_id` to `eos_token_id`:128001 for open-end generation.\n"
          ]
        },
        {
          "name": "stdout",
          "output_type": "stream",
          "text": [
            "233th pred 8 ans 7\n",
            "234th pred 8 ans 7\n",
            "Skipping index 271 prompt You are a book recommender and your job is to predict a user's rating (ranging from 1 to 10, with 10 being the highest) on a book, based on that user's previous ratings.\n",
            "\n",
            "User 36613 has rated the following books:\n",
            "\n",
            "\"Treasury Of Southern Folklore\" 7\n",
            "\"The Greatest Generation\" 6\n",
            "\"The Brontes: Charlotte Bronte and Her Family\" 5\n",
            "\"Mary Queen of Scotland and the Isles\" 8\n",
            "\n",
            "Predict the user's rating on \"The Bullfighter Checks Her Makeup: My Encounters With Extraordinary People\". Output the rating score only. Do not include other text. reponse 7 due to error: invalid literal for int() with base 10: '8.5'\n"
          ]
        },
        {
          "name": "stderr",
          "output_type": "stream",
          "text": [
            "Setting `pad_token_id` to `eos_token_id`:128001 for open-end generation.\n",
            "Setting `pad_token_id` to `eos_token_id`:128001 for open-end generation.\n",
            "Setting `pad_token_id` to `eos_token_id`:128001 for open-end generation.\n",
            "Setting `pad_token_id` to `eos_token_id`:128001 for open-end generation.\n"
          ]
        },
        {
          "name": "stdout",
          "output_type": "stream",
          "text": [
            "235th pred 8 ans 5\n",
            "236th pred 7 ans 10\n",
            "237th pred 6 ans 5\n",
            "238th pred 8 ans 7\n"
          ]
        },
        {
          "name": "stderr",
          "output_type": "stream",
          "text": [
            "Setting `pad_token_id` to `eos_token_id`:128001 for open-end generation.\n",
            "Setting `pad_token_id` to `eos_token_id`:128001 for open-end generation.\n",
            "Setting `pad_token_id` to `eos_token_id`:128001 for open-end generation.\n"
          ]
        },
        {
          "name": "stdout",
          "output_type": "stream",
          "text": [
            "239th pred 6 ans 6\n",
            "Skipping index 277 prompt You are a book recommender and your job is to predict a user's rating (ranging from 1 to 10, with 10 being the highest) on a book, based on that user's previous ratings.\n",
            "\n",
            "User 37341 has rated the following books:\n",
            "\n",
            "\"L'AliÃ?Â©niste\" 8\n",
            "\"La SorciÃ?Â¨re rousse\" 7\n",
            "\"L'Ange des tÃ?Â©nÃ?Â¨bres\" 7\n",
            "\"Le Fou et le professeur\" 9\n",
            "\n",
            "Predict the user's rating on \"L'Ã?Â©chelle des anges, un art de penser\". Output the rating score only. Do not include other text. reponse 7 due to error: invalid literal for int() with base 10: '8.4'\n",
            "240th pred 8 ans 7\n"
          ]
        },
        {
          "name": "stderr",
          "output_type": "stream",
          "text": [
            "Setting `pad_token_id` to `eos_token_id`:128001 for open-end generation.\n",
            "Setting `pad_token_id` to `eos_token_id`:128001 for open-end generation.\n",
            "Setting `pad_token_id` to `eos_token_id`:128001 for open-end generation.\n"
          ]
        },
        {
          "name": "stdout",
          "output_type": "stream",
          "text": [
            "241th pred 7 ans 9\n",
            "Skipping index 280 prompt You are a book recommender and your job is to predict a user's rating (ranging from 1 to 10, with 10 being the highest) on a book, based on that user's previous ratings.\n",
            "\n",
            "User 37586 has rated the following books:\n",
            "\n",
            "\"The Noonday Demon: An Atlas of Depression\" 6\n",
            "\"The Crimson Petal and the White\" 8\n",
            "\"The Ashes of Eden (Star Trek)\" 5\n",
            "\"Ava's Man\" 7\n",
            "\n",
            "Predict the user's rating on \"The Hours : A Novel\". Output the rating score only. Do not include other text. reponse 7 due to error: invalid literal for int() with base 10: '7.3'\n",
            "242th pred 8 ans 6\n"
          ]
        },
        {
          "name": "stderr",
          "output_type": "stream",
          "text": [
            "Setting `pad_token_id` to `eos_token_id`:128001 for open-end generation.\n",
            "Setting `pad_token_id` to `eos_token_id`:128001 for open-end generation.\n",
            "Setting `pad_token_id` to `eos_token_id`:128001 for open-end generation.\n"
          ]
        },
        {
          "name": "stdout",
          "output_type": "stream",
          "text": [
            "243th pred 7 ans 9\n",
            "244th pred 7 ans 9\n",
            "Skipping index 284 prompt You are a book recommender and your job is to predict a user's rating (ranging from 1 to 10, with 10 being the highest) on a book, based on that user's previous ratings.\n",
            "\n",
            "User 37957 has rated the following books:\n",
            "\n",
            "\"Murder of a Sweet Old Lady\" 7\n",
            "\"The MUSIC OF LIGHT : THE EXTRAORDINARY STORY OF HIKARI AND KENZABURO OE\" 8\n",
            "\"The best of Berry: Selected stories of Dornford Yates ; edited by Jack Adrian (Classic thrillers)\" 5\n",
            "\"Murder to Music: Musical Mysteries from Ellery Queen's Mystery Magazine and Alfred Hitchcock Mystery Magazine\" 7\n",
            "\n",
            "Predict the user's rating on \"The FACE IN THE ABYSS (Collier Nucleus Science Fiction Classic)\". Output the rating score only. Do not include other text. reponse 7 due to error: invalid literal for int() with base 10: '7.5'\n"
          ]
        },
        {
          "name": "stderr",
          "output_type": "stream",
          "text": [
            "Setting `pad_token_id` to `eos_token_id`:128001 for open-end generation.\n",
            "Setting `pad_token_id` to `eos_token_id`:128001 for open-end generation.\n",
            "Setting `pad_token_id` to `eos_token_id`:128001 for open-end generation.\n",
            "Setting `pad_token_id` to `eos_token_id`:128001 for open-end generation.\n"
          ]
        },
        {
          "name": "stdout",
          "output_type": "stream",
          "text": [
            "245th pred 8 ans 8\n",
            "246th pred 6 ans 8\n",
            "247th pred 8 ans 9\n",
            "248th pred 7 ans 9\n"
          ]
        },
        {
          "name": "stderr",
          "output_type": "stream",
          "text": [
            "Setting `pad_token_id` to `eos_token_id`:128001 for open-end generation.\n",
            "Setting `pad_token_id` to `eos_token_id`:128001 for open-end generation.\n",
            "Setting `pad_token_id` to `eos_token_id`:128001 for open-end generation.\n",
            "Setting `pad_token_id` to `eos_token_id`:128001 for open-end generation.\n"
          ]
        },
        {
          "name": "stdout",
          "output_type": "stream",
          "text": [
            "Skipping index 289 prompt You are a book recommender and your job is to predict a user's rating (ranging from 1 to 10, with 10 being the highest) on a book, based on that user's previous ratings.\n",
            "\n",
            "User 38589 has rated the following books:\n",
            "\n",
            "\"La Carta Esferica\" 8\n",
            "\"Cuentos (Biblioteca Didactica Anaya)\" 8\n",
            "\"Eva Luna\" 7\n",
            "\"No Digas Que Fue Un Sueo\" 7\n",
            "\n",
            "Predict the user's rating on \"Usted puede sanar su vida\". Output the rating score only. Do not include other text. reponse 7 due to error: invalid literal for int() with base 10: '7.5'\n",
            "249th pred 6 ans 8\n",
            "250th pred 8 ans 8\n",
            "251th pred 8 ans 9\n"
          ]
        },
        {
          "name": "stderr",
          "output_type": "stream",
          "text": [
            "Setting `pad_token_id` to `eos_token_id`:128001 for open-end generation.\n",
            "Setting `pad_token_id` to `eos_token_id`:128001 for open-end generation.\n",
            "Setting `pad_token_id` to `eos_token_id`:128001 for open-end generation.\n"
          ]
        },
        {
          "name": "stdout",
          "output_type": "stream",
          "text": [
            "Skipping index 293 prompt You are a book recommender and your job is to predict a user's rating (ranging from 1 to 10, with 10 being the highest) on a book, based on that user's previous ratings.\n",
            "\n",
            "User 38991 has rated the following books:\n",
            "\n",
            "\"Beyond Eden\" 6\n",
            "\"Carolina Moon\" 7\n",
            "\"The Testament\" 8\n",
            "\"Roses Are Red (Alex Cross Novels)\" 7\n",
            "\n",
            "Predict the user's rating on \"Midnight in Ruby Bayou\". Output the rating score only. Do not include other text. reponse 7 due to error: invalid literal for int() with base 10: '7.4'\n",
            "Skipping index 294 prompt You are a book recommender and your job is to predict a user's rating (ranging from 1 to 10, with 10 being the highest) on a book, based on that user's previous ratings.\n",
            "\n",
            "User 39241 has rated the following books:\n",
            "\n",
            "\"The Art of Raising a Puppy\" 9\n",
            "\"The Hunt for Red October\" 10\n",
            "\"The Rickover Effect: How One Man Made a Difference\" 8\n",
            "\"Blind Man's Bluff: The Untold Story of American Submarine Espionage\" 7\n",
            "\n",
            "Predict the user's rating on \"When God Whispers Your Name\". Output the rating score only. Do not include other text. reponse 7 due to error: invalid literal for int() with base 10: '8.5'\n",
            "252th pred 7 ans 8\n"
          ]
        },
        {
          "name": "stderr",
          "output_type": "stream",
          "text": [
            "Setting `pad_token_id` to `eos_token_id`:128001 for open-end generation.\n",
            "Setting `pad_token_id` to `eos_token_id`:128001 for open-end generation.\n",
            "Setting `pad_token_id` to `eos_token_id`:128001 for open-end generation.\n",
            "Setting `pad_token_id` to `eos_token_id`:128001 for open-end generation.\n"
          ]
        },
        {
          "name": "stdout",
          "output_type": "stream",
          "text": [
            "253th pred 7 ans 7\n",
            "254th pred 7 ans 5\n",
            "255th pred 7 ans 5\n",
            "256th pred 9 ans 7\n"
          ]
        },
        {
          "name": "stderr",
          "output_type": "stream",
          "text": [
            "Setting `pad_token_id` to `eos_token_id`:128001 for open-end generation.\n",
            "Setting `pad_token_id` to `eos_token_id`:128001 for open-end generation.\n",
            "Setting `pad_token_id` to `eos_token_id`:128001 for open-end generation.\n"
          ]
        },
        {
          "name": "stdout",
          "output_type": "stream",
          "text": [
            "257th pred 7 ans 6\n",
            "258th pred 7 ans 5\n",
            "Skipping index 302 prompt You are a book recommender and your job is to predict a user's rating (ranging from 1 to 10, with 10 being the highest) on a book, based on that user's previous ratings.\n",
            "\n",
            "User 39664 has rated the following books:\n",
            "\n",
            "\"Plain Truth\" 10\n",
            "\"Where the Heart Is (Oprah's Book Club (Paperback))\" 7\n",
            "\"A Time for Anger: The Myth of Neutrality\" 8\n",
            "\"Murder With Puffins : A Meg Langslow Mystery (A Meg Lanslow Mystery)\" 9\n",
            "\n",
            "Predict the user's rating on \"For Love Alone\". Output the rating score only. Do not include other text. reponse 7 due to error: invalid literal for int() with base 10: '8.4'\n"
          ]
        },
        {
          "name": "stderr",
          "output_type": "stream",
          "text": [
            "Setting `pad_token_id` to `eos_token_id`:128001 for open-end generation.\n",
            "Setting `pad_token_id` to `eos_token_id`:128001 for open-end generation.\n",
            "Setting `pad_token_id` to `eos_token_id`:128001 for open-end generation.\n"
          ]
        },
        {
          "name": "stdout",
          "output_type": "stream",
          "text": [
            "259th pred 8 ans 8\n",
            "Skipping index 304 prompt You are a book recommender and your job is to predict a user's rating (ranging from 1 to 10, with 10 being the highest) on a book, based on that user's previous ratings.\n",
            "\n",
            "User 39928 has rated the following books:\n",
            "\n",
            "\"No Greater Love\" 9\n",
            "\"Lake News\" 9\n",
            "\"The Klone and I: A High-Tech Love Story\" 7\n",
            "\"Bridget Jones's Diary\" 8\n",
            "\n",
            "Predict the user's rating on \"The Wedding\". Output the rating score only. Do not include other text. reponse 7 due to error: invalid literal for int() with base 10: '8.5'\n",
            "260th pred 9 ans 5\n"
          ]
        },
        {
          "name": "stderr",
          "output_type": "stream",
          "text": [
            "Setting `pad_token_id` to `eos_token_id`:128001 for open-end generation.\n",
            "Setting `pad_token_id` to `eos_token_id`:128001 for open-end generation.\n",
            "Setting `pad_token_id` to `eos_token_id`:128001 for open-end generation.\n"
          ]
        },
        {
          "name": "stdout",
          "output_type": "stream",
          "text": [
            "261th pred 8 ans 3\n",
            "262th pred 7 ans 9\n",
            "263th pred 8 ans 10\n"
          ]
        },
        {
          "name": "stderr",
          "output_type": "stream",
          "text": [
            "Setting `pad_token_id` to `eos_token_id`:128001 for open-end generation.\n",
            "Setting `pad_token_id` to `eos_token_id`:128001 for open-end generation.\n",
            "Setting `pad_token_id` to `eos_token_id`:128001 for open-end generation.\n",
            "Setting `pad_token_id` to `eos_token_id`:128001 for open-end generation.\n"
          ]
        },
        {
          "name": "stdout",
          "output_type": "stream",
          "text": [
            "Skipping index 309 prompt You are a book recommender and your job is to predict a user's rating (ranging from 1 to 10, with 10 being the highest) on a book, based on that user's previous ratings.\n",
            "\n",
            "User 40446 has rated the following books:\n",
            "\n",
            "\"A Thousand Acres (Ballantine Reader's Circle)\" 7\n",
            "\"Slammerkin\" 6\n",
            "\"Vanished\" 6\n",
            "\"House of Sand and Fog\" 7\n",
            "\n",
            "Predict the user's rating on \"A Severed Head\". Output the rating score only. Do not include other text. reponse 7 due to error: invalid literal for int() with base 10: '7.5'\n",
            "264th pred 9 ans 7\n",
            "265th pred 8 ans 10\n",
            "266th pred 6 ans 10\n"
          ]
        },
        {
          "name": "stderr",
          "output_type": "stream",
          "text": [
            "Setting `pad_token_id` to `eos_token_id`:128001 for open-end generation.\n",
            "Setting `pad_token_id` to `eos_token_id`:128001 for open-end generation.\n",
            "Setting `pad_token_id` to `eos_token_id`:128001 for open-end generation.\n",
            "Setting `pad_token_id` to `eos_token_id`:128001 for open-end generation.\n"
          ]
        },
        {
          "name": "stdout",
          "output_type": "stream",
          "text": [
            "267th pred 9 ans 10\n",
            "268th pred 7 ans 8\n",
            "269th pred 7 ans 7\n",
            "270th pred 9 ans 5\n"
          ]
        },
        {
          "name": "stderr",
          "output_type": "stream",
          "text": [
            "Setting `pad_token_id` to `eos_token_id`:128001 for open-end generation.\n",
            "Setting `pad_token_id` to `eos_token_id`:128001 for open-end generation.\n",
            "Setting `pad_token_id` to `eos_token_id`:128001 for open-end generation.\n",
            "Setting `pad_token_id` to `eos_token_id`:128001 for open-end generation.\n"
          ]
        },
        {
          "name": "stdout",
          "output_type": "stream",
          "text": [
            "Skipping index 317 prompt You are a book recommender and your job is to predict a user's rating (ranging from 1 to 10, with 10 being the highest) on a book, based on that user's previous ratings.\n",
            "\n",
            "User 41586 has rated the following books:\n",
            "\n",
            "\"Aunt Dimity Beats the Devil (Aunt Dimity (Hardcover))\" 8\n",
            "\"Amazing Gracie\" 9\n",
            "\"Crazybone\" 8\n",
            "\"Songs of the Gorilla Nation : My Journey Through Autism\" 8\n",
            "\n",
            "Predict the user's rating on \"A Century of Mystery 1980-1989\". Output the rating score only. Do not include other text. reponse 7 due to error: invalid literal for int() with base 10: '7.5'\n",
            "271th pred 7 ans 10\n",
            "272th pred 7 ans 6\n",
            "273th pred 8 ans 7\n"
          ]
        },
        {
          "name": "stderr",
          "output_type": "stream",
          "text": [
            "Setting `pad_token_id` to `eos_token_id`:128001 for open-end generation.\n",
            "Setting `pad_token_id` to `eos_token_id`:128001 for open-end generation.\n",
            "Setting `pad_token_id` to `eos_token_id`:128001 for open-end generation.\n"
          ]
        },
        {
          "name": "stdout",
          "output_type": "stream",
          "text": [
            "274th pred 8 ans 7\n",
            "Skipping index 322 prompt You are a book recommender and your job is to predict a user's rating (ranging from 1 to 10, with 10 being the highest) on a book, based on that user's previous ratings.\n",
            "\n",
            "User 42143 has rated the following books:\n",
            "\n",
            "\"Venus in Furs, a Novel: Letters of Leopold Von Sacher-Masoch and Emilie Mataja\" 6\n",
            "\"The Quiet American\" 7\n",
            "\"Turn of the Screw and Other Short Novels\" 8\n",
            "\"Where the Wild Things Are\" 7\n",
            "\n",
            "Predict the user's rating on \"Memnoch the Devil (Rice, Anne, Vampire Chronicles, 5th Bk.)\". Output the rating score only. Do not include other text. reponse 7 due to error: invalid literal for int() with base 10: '8.3'\n",
            "275th pred 8 ans 9\n"
          ]
        },
        {
          "name": "stderr",
          "output_type": "stream",
          "text": [
            "Setting `pad_token_id` to `eos_token_id`:128001 for open-end generation.\n",
            "Setting `pad_token_id` to `eos_token_id`:128001 for open-end generation.\n",
            "Setting `pad_token_id` to `eos_token_id`:128001 for open-end generation.\n",
            "Setting `pad_token_id` to `eos_token_id`:128001 for open-end generation.\n"
          ]
        },
        {
          "name": "stdout",
          "output_type": "stream",
          "text": [
            "Skipping index 324 prompt You are a book recommender and your job is to predict a user's rating (ranging from 1 to 10, with 10 being the highest) on a book, based on that user's previous ratings.\n",
            "\n",
            "User 42491 has rated the following books:\n",
            "\n",
            "\"The MOON AND THE SUN\" 8\n",
            "\"How to Buy a Condominium or Townhome: With Sample Forms and Worksheets (How to Buy a Condominium or Townhome)\" 7\n",
            "\"TUMBLING\" 8\n",
            "\"I Was Amelia Earhart\" 6\n",
            "\n",
            "Predict the user's rating on \"Clipjoint\". Output the rating score only. Do not include other text. reponse 7 due to error: invalid literal for int() with base 10: '7.2'\n",
            "276th pred 8 ans 9\n",
            "277th pred 6 ans 5\n",
            "278th pred 10 ans 10\n"
          ]
        },
        {
          "name": "stderr",
          "output_type": "stream",
          "text": [
            "Setting `pad_token_id` to `eos_token_id`:128001 for open-end generation.\n",
            "Setting `pad_token_id` to `eos_token_id`:128001 for open-end generation.\n",
            "Setting `pad_token_id` to `eos_token_id`:128001 for open-end generation.\n",
            "Setting `pad_token_id` to `eos_token_id`:128001 for open-end generation.\n"
          ]
        },
        {
          "name": "stdout",
          "output_type": "stream",
          "text": [
            "279th pred 7 ans 9\n",
            "280th pred 7 ans 8\n",
            "281th pred 9 ans 7\n",
            "282th pred 7 ans 6\n"
          ]
        },
        {
          "name": "stderr",
          "output_type": "stream",
          "text": [
            "Setting `pad_token_id` to `eos_token_id`:128001 for open-end generation.\n",
            "Setting `pad_token_id` to `eos_token_id`:128001 for open-end generation.\n",
            "Setting `pad_token_id` to `eos_token_id`:128001 for open-end generation.\n"
          ]
        },
        {
          "name": "stdout",
          "output_type": "stream",
          "text": [
            "283th pred 6 ans 5\n",
            "284th pred 9 ans 10\n",
            "285th pred 8 ans 5\n"
          ]
        },
        {
          "name": "stderr",
          "output_type": "stream",
          "text": [
            "Setting `pad_token_id` to `eos_token_id`:128001 for open-end generation.\n",
            "Setting `pad_token_id` to `eos_token_id`:128001 for open-end generation.\n",
            "Setting `pad_token_id` to `eos_token_id`:128001 for open-end generation.\n",
            "Setting `pad_token_id` to `eos_token_id`:128001 for open-end generation.\n"
          ]
        },
        {
          "name": "stdout",
          "output_type": "stream",
          "text": [
            "Skipping index 335 prompt You are a book recommender and your job is to predict a user's rating (ranging from 1 to 10, with 10 being the highest) on a book, based on that user's previous ratings.\n",
            "\n",
            "User 43639 has rated the following books:\n",
            "\n",
            "\"Thursday'S At Eight\" 10\n",
            "\"The Horse Whisperer\" 9\n",
            "\"Circle of Friends\" 8\n",
            "\"Angels Everywhere: A Season of Angels/Touched by Angels (Avon Romance)\" 9\n",
            "\n",
            "Predict the user's rating on \"Montana\". Output the rating score only. Do not include other text. reponse 7 due to error: invalid literal for int() with base 10: '8.2'\n",
            "286th pred 7 ans 5\n",
            "287th pred 7 ans 5\n",
            "288th pred 8 ans 8\n"
          ]
        },
        {
          "name": "stderr",
          "output_type": "stream",
          "text": [
            "Setting `pad_token_id` to `eos_token_id`:128001 for open-end generation.\n",
            "Setting `pad_token_id` to `eos_token_id`:128001 for open-end generation.\n",
            "Setting `pad_token_id` to `eos_token_id`:128001 for open-end generation.\n",
            "Setting `pad_token_id` to `eos_token_id`:128001 for open-end generation.\n"
          ]
        },
        {
          "name": "stdout",
          "output_type": "stream",
          "text": [
            "289th pred 8 ans 10\n",
            "290th pred 7 ans 7\n",
            "291th pred 9 ans 10\n",
            "292th pred 6 ans 5\n"
          ]
        },
        {
          "name": "stderr",
          "output_type": "stream",
          "text": [
            "Setting `pad_token_id` to `eos_token_id`:128001 for open-end generation.\n",
            "Setting `pad_token_id` to `eos_token_id`:128001 for open-end generation.\n",
            "Setting `pad_token_id` to `eos_token_id`:128001 for open-end generation.\n",
            "Setting `pad_token_id` to `eos_token_id`:128001 for open-end generation.\n"
          ]
        },
        {
          "name": "stdout",
          "output_type": "stream",
          "text": [
            "293th pred 8 ans 7\n",
            "294th pred 6 ans 8\n",
            "295th pred 7 ans 5\n",
            "296th pred 8 ans 7\n"
          ]
        },
        {
          "name": "stderr",
          "output_type": "stream",
          "text": [
            "Setting `pad_token_id` to `eos_token_id`:128001 for open-end generation.\n",
            "Setting `pad_token_id` to `eos_token_id`:128001 for open-end generation.\n",
            "Setting `pad_token_id` to `eos_token_id`:128001 for open-end generation.\n"
          ]
        },
        {
          "name": "stdout",
          "output_type": "stream",
          "text": [
            "297th pred 8 ans 6\n",
            "298th pred 7 ans 7\n",
            "299th pred 7 ans 8\n"
          ]
        },
        {
          "name": "stderr",
          "output_type": "stream",
          "text": [
            "Setting `pad_token_id` to `eos_token_id`:128001 for open-end generation.\n",
            "Setting `pad_token_id` to `eos_token_id`:128001 for open-end generation.\n",
            "Setting `pad_token_id` to `eos_token_id`:128001 for open-end generation.\n",
            "Setting `pad_token_id` to `eos_token_id`:128001 for open-end generation.\n"
          ]
        },
        {
          "name": "stdout",
          "output_type": "stream",
          "text": [
            "Skipping index 350 prompt You are a book recommender and your job is to predict a user's rating (ranging from 1 to 10, with 10 being the highest) on a book, based on that user's previous ratings.\n",
            "\n",
            "User 46139 has rated the following books:\n",
            "\n",
            "\"Prey\" 9\n",
            "\"A Town Like Alice\" 10\n",
            "\"Greenmantle\" 7\n",
            "\"Seabiscuit: An American Legend\" 9\n",
            "\n",
            "Predict the user's rating on \"Portrait of a Killer: Jack the Ripper-- Case Closed (Berkley True Crime)\". Output the rating score only. Do not include other text. reponse 7 due to error: invalid literal for int() with base 10: '8.33'\n",
            "300th pred 8 ans 8\n",
            "301th pred 6 ans 7\n",
            "302th pred 6 ans 10\n"
          ]
        },
        {
          "name": "stderr",
          "output_type": "stream",
          "text": [
            "Setting `pad_token_id` to `eos_token_id`:128001 for open-end generation.\n",
            "Setting `pad_token_id` to `eos_token_id`:128001 for open-end generation.\n",
            "Setting `pad_token_id` to `eos_token_id`:128001 for open-end generation.\n"
          ]
        },
        {
          "name": "stdout",
          "output_type": "stream",
          "text": [
            "303th pred 8 ans 9\n",
            "Skipping index 355 prompt You are a book recommender and your job is to predict a user's rating (ranging from 1 to 10, with 10 being the highest) on a book, based on that user's previous ratings.\n",
            "\n",
            "User 46490 has rated the following books:\n",
            "\n",
            "\"Come and Hug Me\" 9\n",
            "\"Toujours rien?\" 9\n",
            "\"The Soul Bird\" 9\n",
            "\"I Love You So Much\" 8\n",
            "\n",
            "Predict the user's rating on \"De la petite taupe qui voulait savoir qui lui avait fait sur la tÃ?Âªte\". Output the rating score only. Do not include other text. reponse 7 due to error: invalid literal for int() with base 10: '8.5'\n",
            "304th pred 7 ans 6\n"
          ]
        },
        {
          "name": "stderr",
          "output_type": "stream",
          "text": [
            "Setting `pad_token_id` to `eos_token_id`:128001 for open-end generation.\n",
            "Setting `pad_token_id` to `eos_token_id`:128001 for open-end generation.\n",
            "Setting `pad_token_id` to `eos_token_id`:128001 for open-end generation.\n",
            "Setting `pad_token_id` to `eos_token_id`:128001 for open-end generation.\n"
          ]
        },
        {
          "name": "stdout",
          "output_type": "stream",
          "text": [
            "305th pred 9 ans 8\n",
            "306th pred 7 ans 10\n",
            "307th pred 7 ans 6\n",
            "308th pred 8 ans 9\n"
          ]
        },
        {
          "name": "stderr",
          "output_type": "stream",
          "text": [
            "Setting `pad_token_id` to `eos_token_id`:128001 for open-end generation.\n",
            "Setting `pad_token_id` to `eos_token_id`:128001 for open-end generation.\n",
            "Setting `pad_token_id` to `eos_token_id`:128001 for open-end generation.\n",
            "Setting `pad_token_id` to `eos_token_id`:128001 for open-end generation.\n"
          ]
        },
        {
          "name": "stdout",
          "output_type": "stream",
          "text": [
            "309th pred 6 ans 10\n",
            "310th pred 8 ans 7\n",
            "311th pred 7 ans 5\n",
            "312th pred 7 ans 7\n"
          ]
        },
        {
          "name": "stderr",
          "output_type": "stream",
          "text": [
            "Setting `pad_token_id` to `eos_token_id`:128001 for open-end generation.\n",
            "Setting `pad_token_id` to `eos_token_id`:128001 for open-end generation.\n",
            "Setting `pad_token_id` to `eos_token_id`:128001 for open-end generation.\n"
          ]
        },
        {
          "name": "stdout",
          "output_type": "stream",
          "text": [
            "313th pred 7 ans 7\n",
            "Skipping index 366 prompt You are a book recommender and your job is to predict a user's rating (ranging from 1 to 10, with 10 being the highest) on a book, based on that user's previous ratings.\n",
            "\n",
            "User 48899 has rated the following books:\n",
            "\n",
            "\"Grimms' Fairy Tales (Illustrated Junior Library)\" 10\n",
            "\"Behind the Attic Wall (Avon Camelot Books (Paperback))\" 9\n",
            "\"Harry Potter and the Chamber of Secrets (Book 2)\" 8\n",
            "\"And Now Miguel (The Literature Experience 1991 Series)\" 6\n",
            "\n",
            "Predict the user's rating on \"Harry Potter and the Sorcerer's Stone (Harry Potter (Paperback))\". Output the rating score only. Do not include other text. reponse 7 due to error: invalid literal for int() with base 10: '8.5'\n",
            "314th pred 8 ans 6\n"
          ]
        },
        {
          "name": "stderr",
          "output_type": "stream",
          "text": [
            "Setting `pad_token_id` to `eos_token_id`:128001 for open-end generation.\n",
            "Setting `pad_token_id` to `eos_token_id`:128001 for open-end generation.\n",
            "Setting `pad_token_id` to `eos_token_id`:128001 for open-end generation.\n",
            "Setting `pad_token_id` to `eos_token_id`:128001 for open-end generation.\n"
          ]
        },
        {
          "name": "stdout",
          "output_type": "stream",
          "text": [
            "315th pred 9 ans 9\n",
            "316th pred 4 ans 7\n",
            "317th pred 8 ans 10\n",
            "318th pred 7 ans 5\n"
          ]
        },
        {
          "name": "stderr",
          "output_type": "stream",
          "text": [
            "Setting `pad_token_id` to `eos_token_id`:128001 for open-end generation.\n",
            "Setting `pad_token_id` to `eos_token_id`:128001 for open-end generation.\n",
            "Setting `pad_token_id` to `eos_token_id`:128001 for open-end generation.\n",
            "Setting `pad_token_id` to `eos_token_id`:128001 for open-end generation.\n"
          ]
        },
        {
          "name": "stdout",
          "output_type": "stream",
          "text": [
            "319th pred 9 ans 7\n",
            "320th pred 8 ans 5\n",
            "321th pred 8 ans 8\n",
            "322th pred 8 ans 7\n"
          ]
        },
        {
          "name": "stderr",
          "output_type": "stream",
          "text": [
            "Setting `pad_token_id` to `eos_token_id`:128001 for open-end generation.\n",
            "Setting `pad_token_id` to `eos_token_id`:128001 for open-end generation.\n",
            "Setting `pad_token_id` to `eos_token_id`:128001 for open-end generation.\n",
            "Setting `pad_token_id` to `eos_token_id`:128001 for open-end generation.\n"
          ]
        },
        {
          "name": "stdout",
          "output_type": "stream",
          "text": [
            "323th pred 6 ans 8\n",
            "324th pred 7 ans 10\n",
            "325th pred 8 ans 8\n",
            "326th pred 8 ans 7\n"
          ]
        },
        {
          "name": "stderr",
          "output_type": "stream",
          "text": [
            "Setting `pad_token_id` to `eos_token_id`:128001 for open-end generation.\n",
            "Setting `pad_token_id` to `eos_token_id`:128001 for open-end generation.\n",
            "Setting `pad_token_id` to `eos_token_id`:128001 for open-end generation.\n",
            "Setting `pad_token_id` to `eos_token_id`:128001 for open-end generation.\n"
          ]
        },
        {
          "name": "stdout",
          "output_type": "stream",
          "text": [
            "327th pred 7 ans 8\n",
            "328th pred 9 ans 8\n",
            "329th pred 8 ans 6\n",
            "330th pred 8 ans 7\n"
          ]
        },
        {
          "name": "stderr",
          "output_type": "stream",
          "text": [
            "Setting `pad_token_id` to `eos_token_id`:128001 for open-end generation.\n",
            "Setting `pad_token_id` to `eos_token_id`:128001 for open-end generation.\n",
            "Setting `pad_token_id` to `eos_token_id`:128001 for open-end generation.\n",
            "Setting `pad_token_id` to `eos_token_id`:128001 for open-end generation.\n"
          ]
        },
        {
          "name": "stdout",
          "output_type": "stream",
          "text": [
            "331th pred 9 ans 10\n",
            "332th pred 8 ans 10\n",
            "333th pred 8 ans 6\n",
            "334th pred 6 ans 5\n"
          ]
        },
        {
          "name": "stderr",
          "output_type": "stream",
          "text": [
            "Setting `pad_token_id` to `eos_token_id`:128001 for open-end generation.\n",
            "Setting `pad_token_id` to `eos_token_id`:128001 for open-end generation.\n",
            "Setting `pad_token_id` to `eos_token_id`:128001 for open-end generation.\n",
            "Setting `pad_token_id` to `eos_token_id`:128001 for open-end generation.\n"
          ]
        },
        {
          "name": "stdout",
          "output_type": "stream",
          "text": [
            "335th pred 7 ans 4\n",
            "336th pred 7 ans 8\n",
            "337th pred 9 ans 8\n",
            "338th pred 7 ans 7\n"
          ]
        },
        {
          "name": "stderr",
          "output_type": "stream",
          "text": [
            "Setting `pad_token_id` to `eos_token_id`:128001 for open-end generation.\n",
            "Setting `pad_token_id` to `eos_token_id`:128001 for open-end generation.\n",
            "Setting `pad_token_id` to `eos_token_id`:128001 for open-end generation.\n",
            "Setting `pad_token_id` to `eos_token_id`:128001 for open-end generation.\n"
          ]
        },
        {
          "name": "stdout",
          "output_type": "stream",
          "text": [
            "339th pred 7 ans 8\n",
            "340th pred 8 ans 8\n",
            "341th pred 7 ans 10\n",
            "342th pred 7 ans 8\n"
          ]
        },
        {
          "name": "stderr",
          "output_type": "stream",
          "text": [
            "Setting `pad_token_id` to `eos_token_id`:128001 for open-end generation.\n",
            "Setting `pad_token_id` to `eos_token_id`:128001 for open-end generation.\n",
            "Setting `pad_token_id` to `eos_token_id`:128001 for open-end generation.\n"
          ]
        },
        {
          "name": "stdout",
          "output_type": "stream",
          "text": [
            "Skipping index 396 prompt You are a book recommender and your job is to predict a user's rating (ranging from 1 to 10, with 10 being the highest) on a book, based on that user's previous ratings.\n",
            "\n",
            "User 53420 has rated the following books:\n",
            "\n",
            "\"Hollywood at Home: A Family Album 1950-1965\" 5\n",
            "\"Who Wants to Be Me?\" 7\n",
            "\"House of Sand and Fog\" 5\n",
            "\"The First Third &amp; Other Writings\" 8\n",
            "\n",
            "Predict the user's rating on \"Beaming Sonny Home\". Output the rating score only. Do not include other text. reponse 7 due to error: invalid literal for int() with base 10: '6.5'\n",
            "343th pred 8 ans 3\n",
            "344th pred 8 ans 8\n"
          ]
        },
        {
          "name": "stderr",
          "output_type": "stream",
          "text": [
            "Setting `pad_token_id` to `eos_token_id`:128001 for open-end generation.\n",
            "Setting `pad_token_id` to `eos_token_id`:128001 for open-end generation.\n",
            "Setting `pad_token_id` to `eos_token_id`:128001 for open-end generation.\n",
            "Setting `pad_token_id` to `eos_token_id`:128001 for open-end generation.\n"
          ]
        },
        {
          "name": "stdout",
          "output_type": "stream",
          "text": [
            "Skipping index 399 prompt You are a book recommender and your job is to predict a user's rating (ranging from 1 to 10, with 10 being the highest) on a book, based on that user's previous ratings.\n",
            "\n",
            "User 53557 has rated the following books:\n",
            "\n",
            "\"Signature Killers\" 10\n",
            "\"After the Fire\" 5\n",
            "\"A Jest of God\" 8\n",
            "\"Sir Gawain and the Green Knight\" 6\n",
            "\n",
            "Predict the user's rating on \"Silas Marner: The Weaver of Raveloe (Penguin Classics)\". Output the rating score only. Do not include other text. reponse 7 due to error: invalid literal for int() with base 10: '7.5'\n",
            "345th pred 9 ans 10\n",
            "346th pred 8 ans 9\n",
            "347th pred 8 ans 7\n"
          ]
        },
        {
          "name": "stderr",
          "output_type": "stream",
          "text": [
            "Setting `pad_token_id` to `eos_token_id`:128001 for open-end generation.\n",
            "Setting `pad_token_id` to `eos_token_id`:128001 for open-end generation.\n",
            "Setting `pad_token_id` to `eos_token_id`:128001 for open-end generation.\n",
            "Setting `pad_token_id` to `eos_token_id`:128001 for open-end generation.\n"
          ]
        },
        {
          "name": "stdout",
          "output_type": "stream",
          "text": [
            "348th pred 8 ans 7\n",
            "349th pred 7 ans 4\n",
            "350th pred 8 ans 7\n",
            "351th pred 8 ans 3\n"
          ]
        },
        {
          "name": "stderr",
          "output_type": "stream",
          "text": [
            "Setting `pad_token_id` to `eos_token_id`:128001 for open-end generation.\n",
            "Setting `pad_token_id` to `eos_token_id`:128001 for open-end generation.\n",
            "Setting `pad_token_id` to `eos_token_id`:128001 for open-end generation.\n"
          ]
        },
        {
          "name": "stdout",
          "output_type": "stream",
          "text": [
            "Skipping index 407 prompt You are a book recommender and your job is to predict a user's rating (ranging from 1 to 10, with 10 being the highest) on a book, based on that user's previous ratings.\n",
            "\n",
            "User 54740 has rated the following books:\n",
            "\n",
            "\"The Tortilla Curtain\" 8\n",
            "\"Bare Necessity\" 9\n",
            "\"Mr. Maybe\" 8\n",
            "\"Dating Big Bird\" 4\n",
            "\n",
            "Predict the user's rating on \"Flash Fiction (Cloth)\". Output the rating score only. Do not include other text. reponse 7 due to error: invalid literal for int() with base 10: '8.5'\n",
            "Skipping index 408 prompt You are a book recommender and your job is to predict a user's rating (ranging from 1 to 10, with 10 being the highest) on a book, based on that user's previous ratings.\n",
            "\n",
            "User 54812 has rated the following books:\n",
            "\n",
            "\"A Wrinkle in Time\" 10\n",
            "\"Love Must Be Tough\" 7\n",
            "\"The Christmas Box (Christmas Box Trilogy)\" 8\n",
            "\"Belgrave Square\" 7\n",
            "\n",
            "Predict the user's rating on \"DOLPHIN LUCK\". Output the rating score only. Do not include other text. reponse 7 due to error: invalid literal for int() with base 10: '6.5'\n",
            "352th pred 8 ans 10\n"
          ]
        },
        {
          "name": "stderr",
          "output_type": "stream",
          "text": [
            "Setting `pad_token_id` to `eos_token_id`:128001 for open-end generation.\n",
            "Setting `pad_token_id` to `eos_token_id`:128001 for open-end generation.\n",
            "Setting `pad_token_id` to `eos_token_id`:128001 for open-end generation.\n"
          ]
        },
        {
          "name": "stdout",
          "output_type": "stream",
          "text": [
            "353th pred 8 ans 8\n",
            "354th pred 7 ans 8\n",
            "355th pred 8 ans 7\n"
          ]
        },
        {
          "name": "stderr",
          "output_type": "stream",
          "text": [
            "Setting `pad_token_id` to `eos_token_id`:128001 for open-end generation.\n",
            "Setting `pad_token_id` to `eos_token_id`:128001 for open-end generation.\n",
            "Setting `pad_token_id` to `eos_token_id`:128001 for open-end generation.\n"
          ]
        },
        {
          "name": "stdout",
          "output_type": "stream",
          "text": [
            "Skipping index 413 prompt You are a book recommender and your job is to predict a user's rating (ranging from 1 to 10, with 10 being the highest) on a book, based on that user's previous ratings.\n",
            "\n",
            "User 55511 has rated the following books:\n",
            "\n",
            "\"Deep Thoughts\" 7\n",
            "\"Pools of Lodging for the Moon: Strategy for a Positive Life-Style\" 8\n",
            "\"A thousand waves: A sensible life style for sensitive people\" 8\n",
            "\"Long Walk to Freedom : The Autobiography of Nelson Mandela Tag: The International Bestseller\" 9\n",
            "\n",
            "Predict the user's rating on \"Even in Summer the Ice Doesn't Melt\". Output the rating score only. Do not include other text. reponse 7 due to error: invalid literal for int() with base 10: '8.4'\n",
            "356th pred 8 ans 5\n",
            "Skipping index 415 prompt You are a book recommender and your job is to predict a user's rating (ranging from 1 to 10, with 10 being the highest) on a book, based on that user's previous ratings.\n",
            "\n",
            "User 55665 has rated the following books:\n",
            "\n",
            "\"North Of Clever\" 7\n",
            "\"Love In Bloom's\" 6\n",
            "\"Now All We Need Is a Title: Famous Book Titles and How They Got That Way\" 9\n",
            "\"New Attitude\" 8\n",
            "\n",
            "Predict the user's rating on \"West Of Bliss\". Output the rating score only. Do not include other text. reponse 7 due to error: invalid literal for int() with base 10: '8.4'\n"
          ]
        },
        {
          "name": "stderr",
          "output_type": "stream",
          "text": [
            "Setting `pad_token_id` to `eos_token_id`:128001 for open-end generation.\n",
            "Setting `pad_token_id` to `eos_token_id`:128001 for open-end generation.\n",
            "Setting `pad_token_id` to `eos_token_id`:128001 for open-end generation.\n"
          ]
        },
        {
          "name": "stdout",
          "output_type": "stream",
          "text": [
            "357th pred 8 ans 7\n",
            "Skipping index 417 prompt You are a book recommender and your job is to predict a user's rating (ranging from 1 to 10, with 10 being the highest) on a book, based on that user's previous ratings.\n",
            "\n",
            "User 56066 has rated the following books:\n",
            "\n",
            "\"Breakout! (Left Behind. the Kids)\" 8\n",
            "\"War of the Dragon (Left Behind: The Kids #32)\" 8\n",
            "\"Loves Music, Loves to Dance\" 7\n",
            "\"First to Fight\" 8\n",
            "\n",
            "Predict the user's rating on \"Left Behind: A Novel of the Earth's Last Days (Left Behind #1)\". Output the rating score only. Do not include other text. reponse 7 due to error: invalid literal for int() with base 10: '8.5'\n",
            "358th pred 8 ans 10\n"
          ]
        },
        {
          "name": "stderr",
          "output_type": "stream",
          "text": [
            "Setting `pad_token_id` to `eos_token_id`:128001 for open-end generation.\n",
            "Setting `pad_token_id` to `eos_token_id`:128001 for open-end generation.\n",
            "Setting `pad_token_id` to `eos_token_id`:128001 for open-end generation.\n",
            "Setting `pad_token_id` to `eos_token_id`:128001 for open-end generation.\n"
          ]
        },
        {
          "name": "stdout",
          "output_type": "stream",
          "text": [
            "359th pred 7 ans 6\n",
            "360th pred 8 ans 6\n",
            "361th pred 8 ans 7\n",
            "362th pred 7 ans 7\n"
          ]
        },
        {
          "name": "stderr",
          "output_type": "stream",
          "text": [
            "Setting `pad_token_id` to `eos_token_id`:128001 for open-end generation.\n",
            "Setting `pad_token_id` to `eos_token_id`:128001 for open-end generation.\n",
            "Setting `pad_token_id` to `eos_token_id`:128001 for open-end generation.\n"
          ]
        },
        {
          "name": "stdout",
          "output_type": "stream",
          "text": [
            "Skipping index 423 prompt You are a book recommender and your job is to predict a user's rating (ranging from 1 to 10, with 10 being the highest) on a book, based on that user's previous ratings.\n",
            "\n",
            "User 56797 has rated the following books:\n",
            "\n",
            "\"Science and Health with Key to the Scriptures (W.M.B.E.)\" 9\n",
            "\"Science and Health With Key to the Scriptu\" 9\n",
            "\"Ayurveda the Ancient Indian Healing Art\" 8\n",
            "\"Tangled Autumn  (Reader's Choice)  (Harlequin Romance,  1569)\" 7\n",
            "\n",
            "Predict the user's rating on \"Riley in the Morning\". Output the rating score only. Do not include other text. reponse 7 due to error: invalid literal for int() with base 10: '8.5'\n",
            "Skipping index 424 prompt You are a book recommender and your job is to predict a user's rating (ranging from 1 to 10, with 10 being the highest) on a book, based on that user's previous ratings.\n",
            "\n",
            "User 57109 has rated the following books:\n",
            "\n",
            "\"The Beast from the East (Goosebumps, No 43)\" 7\n",
            "\"Trapped Fear Street 51\" 10\n",
            "\"Great American Short Stories (Watermill Classics)\" 8\n",
            "\"Wishbone Classic #03 Romeo and Juliet (Wishbone Classics)\" 8\n",
            "\n",
            "Predict the user's rating on \"Heather Takes the Reins\". Output the rating score only. Do not include other text. reponse 7 due to error: invalid literal for int() with base 10: '8.5'\n",
            "363th pred 7 ans 6\n"
          ]
        },
        {
          "name": "stderr",
          "output_type": "stream",
          "text": [
            "Setting `pad_token_id` to `eos_token_id`:128001 for open-end generation.\n",
            "Setting `pad_token_id` to `eos_token_id`:128001 for open-end generation.\n",
            "Setting `pad_token_id` to `eos_token_id`:128001 for open-end generation.\n"
          ]
        },
        {
          "name": "stdout",
          "output_type": "stream",
          "text": [
            "364th pred 9 ans 9\n",
            "365th pred 8 ans 8\n",
            "Skipping index 428 prompt You are a book recommender and your job is to predict a user's rating (ranging from 1 to 10, with 10 being the highest) on a book, based on that user's previous ratings.\n",
            "\n",
            "User 57247 has rated the following books:\n",
            "\n",
            "\"Dead Sleep\" 8\n",
            "\"The Progress of Love\" 7\n",
            "\"Suzanne's Diary for Nicholas\" 8\n",
            "\"Island Justice: A Novel\" 8\n",
            "\n",
            "Predict the user's rating on \"The Best of Friends: Joanna Trollope\". Output the rating score only. Do not include other text. reponse 7 due to error: invalid literal for int() with base 10: '7.5'\n"
          ]
        },
        {
          "name": "stderr",
          "output_type": "stream",
          "text": [
            "Setting `pad_token_id` to `eos_token_id`:128001 for open-end generation.\n",
            "Setting `pad_token_id` to `eos_token_id`:128001 for open-end generation.\n",
            "Setting `pad_token_id` to `eos_token_id`:128001 for open-end generation.\n",
            "Setting `pad_token_id` to `eos_token_id`:128001 for open-end generation.\n"
          ]
        },
        {
          "name": "stdout",
          "output_type": "stream",
          "text": [
            "366th pred 7 ans 9\n",
            "367th pred 7 ans 8\n",
            "368th pred 7 ans 8\n",
            "369th pred 8 ans 5\n"
          ]
        },
        {
          "name": "stderr",
          "output_type": "stream",
          "text": [
            "Setting `pad_token_id` to `eos_token_id`:128001 for open-end generation.\n",
            "Setting `pad_token_id` to `eos_token_id`:128001 for open-end generation.\n",
            "Setting `pad_token_id` to `eos_token_id`:128001 for open-end generation.\n",
            "Setting `pad_token_id` to `eos_token_id`:128001 for open-end generation.\n"
          ]
        },
        {
          "name": "stdout",
          "output_type": "stream",
          "text": [
            "370th pred 7 ans 8\n",
            "371th pred 9 ans 9\n",
            "372th pred 8 ans 5\n",
            "373th pred 8 ans 5\n"
          ]
        },
        {
          "name": "stderr",
          "output_type": "stream",
          "text": [
            "Setting `pad_token_id` to `eos_token_id`:128001 for open-end generation.\n",
            "Setting `pad_token_id` to `eos_token_id`:128001 for open-end generation.\n",
            "Setting `pad_token_id` to `eos_token_id`:128001 for open-end generation.\n"
          ]
        },
        {
          "name": "stdout",
          "output_type": "stream",
          "text": [
            "374th pred 7 ans 5\n",
            "Skipping index 438 prompt You are a book recommender and your job is to predict a user's rating (ranging from 1 to 10, with 10 being the highest) on a book, based on that user's previous ratings.\n",
            "\n",
            "User 57999 has rated the following books:\n",
            "\n",
            "\"The Cat Who Wasn't There\" 8\n",
            "\"About a Boy (Movie Tie-In)\" 10\n",
            "\"Fractured Fairy Tales\" 9\n",
            "\"The Green Mile\" 9\n",
            "\n",
            "Predict the user's rating on \"And Still We Rise: The Trials and Triumphs of Twelve Gifted Inner-City Students\". Output the rating score only. Do not include other text. reponse 7 due to error: invalid literal for int() with base 10: '8.5'\n",
            "375th pred 8 ans 8\n"
          ]
        },
        {
          "name": "stderr",
          "output_type": "stream",
          "text": [
            "Setting `pad_token_id` to `eos_token_id`:128001 for open-end generation.\n",
            "Setting `pad_token_id` to `eos_token_id`:128001 for open-end generation.\n",
            "Setting `pad_token_id` to `eos_token_id`:128001 for open-end generation.\n"
          ]
        },
        {
          "name": "stdout",
          "output_type": "stream",
          "text": [
            "376th pred 8 ans 7\n",
            "Skipping index 441 prompt You are a book recommender and your job is to predict a user's rating (ranging from 1 to 10, with 10 being the highest) on a book, based on that user's previous ratings.\n",
            "\n",
            "User 58167 has rated the following books:\n",
            "\n",
            "\"Fields of Fire\" 7\n",
            "\"Sleep No More\" 6\n",
            "\"The Snow Garden\" 6\n",
            "\"Artemis Fowl (Artemis Fowl, Book 1)\" 8\n",
            "\n",
            "Predict the user's rating on \"A Thin Dark Line (Mysteries &amp; Horror)\". Output the rating score only. Do not include other text. reponse 7 due to error: invalid literal for int() with base 10: '7.4'\n",
            "377th pred 8 ans 8\n"
          ]
        },
        {
          "name": "stderr",
          "output_type": "stream",
          "text": [
            "Setting `pad_token_id` to `eos_token_id`:128001 for open-end generation.\n",
            "Setting `pad_token_id` to `eos_token_id`:128001 for open-end generation.\n",
            "Setting `pad_token_id` to `eos_token_id`:128001 for open-end generation.\n"
          ]
        },
        {
          "name": "stdout",
          "output_type": "stream",
          "text": [
            "378th pred 7 ans 7\n",
            "Skipping index 444 prompt You are a book recommender and your job is to predict a user's rating (ranging from 1 to 10, with 10 being the highest) on a book, based on that user's previous ratings.\n",
            "\n",
            "User 58724 has rated the following books:\n",
            "\n",
            "\"Entrevista con el vampiro\" 7\n",
            "\"Los hechos del Rey Arturo y sus nobles caballeros\" 8\n",
            "\"The Vagina Monologues: The V-Day Edition\" 7\n",
            "\"El Codigo Da Vinci / The Da Vinci Code\" 9\n",
            "\n",
            "Predict the user's rating on \"Harry Potter y la cÃ¡mara secreta\". Output the rating score only. Do not include other text. reponse 7 due to error: invalid literal for int() with base 10: '8.2'\n",
            "379th pred 8 ans 4\n"
          ]
        },
        {
          "name": "stderr",
          "output_type": "stream",
          "text": [
            "Setting `pad_token_id` to `eos_token_id`:128001 for open-end generation.\n",
            "Setting `pad_token_id` to `eos_token_id`:128001 for open-end generation.\n",
            "Setting `pad_token_id` to `eos_token_id`:128001 for open-end generation.\n",
            "Setting `pad_token_id` to `eos_token_id`:128001 for open-end generation.\n"
          ]
        },
        {
          "name": "stdout",
          "output_type": "stream",
          "text": [
            "380th pred 8 ans 8\n",
            "381th pred 7 ans 8\n",
            "382th pred 8 ans 9\n",
            "383th pred 6 ans 7\n"
          ]
        },
        {
          "name": "stderr",
          "output_type": "stream",
          "text": [
            "Setting `pad_token_id` to `eos_token_id`:128001 for open-end generation.\n",
            "Setting `pad_token_id` to `eos_token_id`:128001 for open-end generation.\n",
            "Setting `pad_token_id` to `eos_token_id`:128001 for open-end generation.\n",
            "Setting `pad_token_id` to `eos_token_id`:128001 for open-end generation.\n"
          ]
        },
        {
          "name": "stdout",
          "output_type": "stream",
          "text": [
            "384th pred 7 ans 3\n",
            "385th pred 8 ans 5\n",
            "386th pred 6 ans 5\n",
            "387th pred 9 ans 5\n"
          ]
        },
        {
          "name": "stderr",
          "output_type": "stream",
          "text": [
            "Setting `pad_token_id` to `eos_token_id`:128001 for open-end generation.\n",
            "Setting `pad_token_id` to `eos_token_id`:128001 for open-end generation.\n",
            "Setting `pad_token_id` to `eos_token_id`:128001 for open-end generation.\n"
          ]
        },
        {
          "name": "stdout",
          "output_type": "stream",
          "text": [
            "Skipping index 454 prompt You are a book recommender and your job is to predict a user's rating (ranging from 1 to 10, with 10 being the highest) on a book, based on that user's previous ratings.\n",
            "\n",
            "User 59944 has rated the following books:\n",
            "\n",
            "\"Speaking in Tongues\" 7\n",
            "\"The Empty Chair\" 8\n",
            "\"Inferno (Mentor)\" 8\n",
            "\"Number the Stars (Yearling Newbery)\" 9\n",
            "\n",
            "Predict the user's rating on \"Guests of War Trilogy\". Output the rating score only. Do not include other text. reponse 7 due to error: invalid literal for int() with base 10: '8.3'\n",
            "388th pred 8 ans 10\n",
            "Skipping index 456 prompt You are a book recommender and your job is to predict a user's rating (ranging from 1 to 10, with 10 being the highest) on a book, based on that user's previous ratings.\n",
            "\n",
            "User 60083 has rated the following books:\n",
            "\n",
            "\"The Prodigal Hero (Signet Regency Romance)\" 7\n",
            "\"The Mackenzies: Cleve (Mackenzies)\" 8\n",
            "\"On the Street Where You Live\" 9\n",
            "\"Unspeakable\" 8\n",
            "\n",
            "Predict the user's rating on \"Brazen Virtue\". Output the rating score only. Do not include other text. reponse 7 due to error: invalid literal for int() with base 10: '8.5'\n"
          ]
        },
        {
          "name": "stderr",
          "output_type": "stream",
          "text": [
            "Setting `pad_token_id` to `eos_token_id`:128001 for open-end generation.\n",
            "Setting `pad_token_id` to `eos_token_id`:128001 for open-end generation.\n",
            "Setting `pad_token_id` to `eos_token_id`:128001 for open-end generation.\n"
          ]
        },
        {
          "name": "stdout",
          "output_type": "stream",
          "text": [
            "389th pred 9 ans 8\n",
            "390th pred 8 ans 8\n",
            "Skipping index 459 prompt You are a book recommender and your job is to predict a user's rating (ranging from 1 to 10, with 10 being the highest) on a book, based on that user's previous ratings.\n",
            "\n",
            "User 60146 has rated the following books:\n",
            "\n",
            "\"Tales of the City (Tales of the City Series, V. 1)\" 8\n",
            "\"Crystal Singer\" 7\n",
            "\"No Ordinary Genius: The Illustrated Richard Feynman\" 9\n",
            "\"Killashandra\" 7\n",
            "\n",
            "Predict the user's rating on \"Long Dark Tea Time of the Soul\". Output the rating score only. Do not include other text. reponse 7 due to error: invalid literal for int() with base 10: '7.5'\n"
          ]
        },
        {
          "name": "stderr",
          "output_type": "stream",
          "text": [
            "Setting `pad_token_id` to `eos_token_id`:128001 for open-end generation.\n",
            "Setting `pad_token_id` to `eos_token_id`:128001 for open-end generation.\n",
            "Setting `pad_token_id` to `eos_token_id`:128001 for open-end generation.\n",
            "Setting `pad_token_id` to `eos_token_id`:128001 for open-end generation.\n"
          ]
        },
        {
          "name": "stdout",
          "output_type": "stream",
          "text": [
            "391th pred 8 ans 8\n",
            "392th pred 9 ans 8\n",
            "393th pred 7 ans 8\n",
            "394th pred 8 ans 5\n"
          ]
        },
        {
          "name": "stderr",
          "output_type": "stream",
          "text": [
            "Setting `pad_token_id` to `eos_token_id`:128001 for open-end generation.\n",
            "Setting `pad_token_id` to `eos_token_id`:128001 for open-end generation.\n",
            "Setting `pad_token_id` to `eos_token_id`:128001 for open-end generation.\n",
            "Setting `pad_token_id` to `eos_token_id`:128001 for open-end generation.\n"
          ]
        },
        {
          "name": "stdout",
          "output_type": "stream",
          "text": [
            "395th pred 7 ans 4\n",
            "396th pred 7 ans 5\n",
            "397th pred 8 ans 9\n",
            "398th pred 7 ans 8\n"
          ]
        },
        {
          "name": "stderr",
          "output_type": "stream",
          "text": [
            "Setting `pad_token_id` to `eos_token_id`:128001 for open-end generation.\n",
            "Setting `pad_token_id` to `eos_token_id`:128001 for open-end generation.\n",
            "Setting `pad_token_id` to `eos_token_id`:128001 for open-end generation.\n",
            "Setting `pad_token_id` to `eos_token_id`:128001 for open-end generation.\n"
          ]
        },
        {
          "name": "stdout",
          "output_type": "stream",
          "text": [
            "Skipping index 468 prompt You are a book recommender and your job is to predict a user's rating (ranging from 1 to 10, with 10 being the highest) on a book, based on that user's previous ratings.\n",
            "\n",
            "User 61271 has rated the following books:\n",
            "\n",
            "\"Middle Son: A Novel\" 8\n",
            "\"Pigs in Heaven\" 8\n",
            "\"The Eleventh Summer\" 4\n",
            "\"Namedropper: A Novel\" 7\n",
            "\n",
            "Predict the user's rating on \"STONES FROM THE RIVER\". Output the rating score only. Do not include other text. reponse 7 due to error: invalid literal for int() with base 10: '7.5'\n",
            "399th pred 7 ans 8\n",
            "400th pred 8 ans 6\n",
            "401th pred 7 ans 7\n"
          ]
        },
        {
          "name": "stderr",
          "output_type": "stream",
          "text": [
            "Setting `pad_token_id` to `eos_token_id`:128001 for open-end generation.\n",
            "Setting `pad_token_id` to `eos_token_id`:128001 for open-end generation.\n",
            "Setting `pad_token_id` to `eos_token_id`:128001 for open-end generation.\n",
            "Setting `pad_token_id` to `eos_token_id`:128001 for open-end generation.\n"
          ]
        },
        {
          "name": "stdout",
          "output_type": "stream",
          "text": [
            "402th pred 9 ans 10\n",
            "403th pred 8 ans 9\n",
            "404th pred 7 ans 5\n",
            "405th pred 8 ans 7\n"
          ]
        },
        {
          "name": "stderr",
          "output_type": "stream",
          "text": [
            "Setting `pad_token_id` to `eos_token_id`:128001 for open-end generation.\n",
            "Setting `pad_token_id` to `eos_token_id`:128001 for open-end generation.\n",
            "Setting `pad_token_id` to `eos_token_id`:128001 for open-end generation.\n"
          ]
        },
        {
          "name": "stdout",
          "output_type": "stream",
          "text": [
            "406th pred 8 ans 4\n",
            "407th pred 7 ans 5\n",
            "408th pred 8 ans 9\n"
          ]
        },
        {
          "name": "stderr",
          "output_type": "stream",
          "text": [
            "Setting `pad_token_id` to `eos_token_id`:128001 for open-end generation.\n",
            "Setting `pad_token_id` to `eos_token_id`:128001 for open-end generation.\n",
            "Setting `pad_token_id` to `eos_token_id`:128001 for open-end generation.\n",
            "Setting `pad_token_id` to `eos_token_id`:128001 for open-end generation.\n"
          ]
        },
        {
          "name": "stdout",
          "output_type": "stream",
          "text": [
            "Skipping index 479 prompt You are a book recommender and your job is to predict a user's rating (ranging from 1 to 10, with 10 being the highest) on a book, based on that user's previous ratings.\n",
            "\n",
            "User 63404 has rated the following books:\n",
            "\n",
            "\"Good to Great: Why Some Companies Make the Leap... and Others Don't\" 9\n",
            "\"Moral Freedom: The Search for Virtue in a World of Choice\" 4\n",
            "\"The Spartan\" 8\n",
            "\"The Lobster Chronicles: Life on a Very Small Island\" 7\n",
            "\n",
            "Predict the user's rating on \"Pleasures and Pastimes in Tudor England\". Output the rating score only. Do not include other text. reponse 7 due to error: invalid literal for int() with base 10: '8.5'\n",
            "409th pred 8 ans 10\n",
            "410th pred 8 ans 8\n",
            "411th pred 6 ans 4\n"
          ]
        },
        {
          "name": "stderr",
          "output_type": "stream",
          "text": [
            "Setting `pad_token_id` to `eos_token_id`:128001 for open-end generation.\n",
            "Setting `pad_token_id` to `eos_token_id`:128001 for open-end generation.\n",
            "Setting `pad_token_id` to `eos_token_id`:128001 for open-end generation.\n",
            "Setting `pad_token_id` to `eos_token_id`:128001 for open-end generation.\n"
          ]
        },
        {
          "name": "stdout",
          "output_type": "stream",
          "text": [
            "Skipping index 483 prompt You are a book recommender and your job is to predict a user's rating (ranging from 1 to 10, with 10 being the highest) on a book, based on that user's previous ratings.\n",
            "\n",
            "User 63812 has rated the following books:\n",
            "\n",
            "\"Cuentos Por Telefono\" 8\n",
            "\"Las Palabras Andantes\" 8\n",
            "\"Con Buena Letra: Todas Las Canciones De Joaquin Sabina\" 9\n",
            "\"La Carta Esferica / The Nautical Chart (Spanish edition)\" 5\n",
            "\n",
            "Predict the user's rating on \"Sin Plumas\". Output the rating score only. Do not include other text. reponse 7 due to error: invalid literal for int() with base 10: '7.42'\n",
            "412th pred 8 ans 5\n",
            "413th pred 8 ans 5\n",
            "414th pred 7 ans 5\n"
          ]
        },
        {
          "name": "stderr",
          "output_type": "stream",
          "text": [
            "Setting `pad_token_id` to `eos_token_id`:128001 for open-end generation.\n",
            "Setting `pad_token_id` to `eos_token_id`:128001 for open-end generation.\n",
            "Setting `pad_token_id` to `eos_token_id`:128001 for open-end generation.\n"
          ]
        },
        {
          "name": "stdout",
          "output_type": "stream",
          "text": [
            "415th pred 8 ans 8\n",
            "416th pred 7 ans 6\n",
            "417th pred 7 ans 9\n"
          ]
        },
        {
          "name": "stderr",
          "output_type": "stream",
          "text": [
            "Setting `pad_token_id` to `eos_token_id`:128001 for open-end generation.\n",
            "Setting `pad_token_id` to `eos_token_id`:128001 for open-end generation.\n",
            "Setting `pad_token_id` to `eos_token_id`:128001 for open-end generation.\n"
          ]
        },
        {
          "name": "stdout",
          "output_type": "stream",
          "text": [
            "Skipping index 490 prompt You are a book recommender and your job is to predict a user's rating (ranging from 1 to 10, with 10 being the highest) on a book, based on that user's previous ratings.\n",
            "\n",
            "User 64183 has rated the following books:\n",
            "\n",
            "\"Sabriel (The Abhorsen Trilogy)\" 9\n",
            "\"The Sweet Trade\" 7\n",
            "\"The Forgotten Beasts of Eld\" 8\n",
            "\"My Heart Will Cross This Ocean : My Story, My Son, Amadou\" 6\n",
            "\n",
            "Predict the user's rating on \"Spirit Fox (Daw Book Collectors, No. 1105)\". Output the rating score only. Do not include other text. reponse 7 due to error: invalid literal for int() with base 10: '7.5'\n",
            "418th pred 7 ans 6\n",
            "Skipping index 492 prompt You are a book recommender and your job is to predict a user's rating (ranging from 1 to 10, with 10 being the highest) on a book, based on that user's previous ratings.\n",
            "\n",
            "User 64765 has rated the following books:\n",
            "\n",
            "\"The Alienist\" 8\n",
            "\"Midwives: A Novel\" 6\n",
            "\"The Odd Sea\" 5\n",
            "\"The Deep End of the Ocean (Oprah's Book Club (Hardcover))\" 7\n",
            "\n",
            "Predict the user's rating on \"The Reader\". Output the rating score only. Do not include other text. reponse 7 due to error: invalid literal for int() with base 10: '7.3'\n"
          ]
        },
        {
          "name": "stderr",
          "output_type": "stream",
          "text": [
            "Setting `pad_token_id` to `eos_token_id`:128001 for open-end generation.\n",
            "Setting `pad_token_id` to `eos_token_id`:128001 for open-end generation.\n",
            "Setting `pad_token_id` to `eos_token_id`:128001 for open-end generation.\n",
            "Setting `pad_token_id` to `eos_token_id`:128001 for open-end generation.\n"
          ]
        },
        {
          "name": "stdout",
          "output_type": "stream",
          "text": [
            "419th pred 9 ans 10\n",
            "420th pred 9 ans 8\n",
            "421th pred 7 ans 5\n",
            "422th pred 8 ans 7\n"
          ]
        },
        {
          "name": "stderr",
          "output_type": "stream",
          "text": [
            "Setting `pad_token_id` to `eos_token_id`:128001 for open-end generation.\n",
            "Setting `pad_token_id` to `eos_token_id`:128001 for open-end generation.\n",
            "Setting `pad_token_id` to `eos_token_id`:128001 for open-end generation.\n"
          ]
        },
        {
          "name": "stdout",
          "output_type": "stream",
          "text": [
            "423th pred 6 ans 5\n",
            "424th pred 8 ans 8\n",
            "425th pred 9 ans 10\n"
          ]
        },
        {
          "name": "stderr",
          "output_type": "stream",
          "text": [
            "Setting `pad_token_id` to `eos_token_id`:128001 for open-end generation.\n",
            "Setting `pad_token_id` to `eos_token_id`:128001 for open-end generation.\n",
            "Setting `pad_token_id` to `eos_token_id`:128001 for open-end generation.\n",
            "Setting `pad_token_id` to `eos_token_id`:128001 for open-end generation.\n"
          ]
        },
        {
          "name": "stdout",
          "output_type": "stream",
          "text": [
            "Skipping index 500 prompt You are a book recommender and your job is to predict a user's rating (ranging from 1 to 10, with 10 being the highest) on a book, based on that user's previous ratings.\n",
            "\n",
            "User 66370 has rated the following books:\n",
            "\n",
            "\"Ahab's Wife: Or, The Star-Gazer: A Novel\" 9\n",
            "\"The Horse Whisperer\" 6\n",
            "\"Songs from a Lead-Lined Room: Notes-High and Low-From My Journey Through Breast Cancer and Radiation\" 8\n",
            "\"Loving What Is: Four Questions That Can Change Your Life\" 7\n",
            "\n",
            "Predict the user's rating on \"Embers\". Output the rating score only. Do not include other text. reponse 7 due to error: invalid literal for int() with base 10: '7.3'\n",
            "426th pred 7 ans 4\n",
            "427th pred 8 ans 8\n",
            "428th pred 8 ans 8\n"
          ]
        },
        {
          "name": "stderr",
          "output_type": "stream",
          "text": [
            "Setting `pad_token_id` to `eos_token_id`:128001 for open-end generation.\n",
            "Setting `pad_token_id` to `eos_token_id`:128001 for open-end generation.\n",
            "Setting `pad_token_id` to `eos_token_id`:128001 for open-end generation.\n",
            "Setting `pad_token_id` to `eos_token_id`:128001 for open-end generation.\n"
          ]
        },
        {
          "name": "stdout",
          "output_type": "stream",
          "text": [
            "429th pred 7 ans 7\n",
            "430th pred 8 ans 9\n",
            "431th pred 7 ans 7\n",
            "432th pred 8 ans 7\n"
          ]
        },
        {
          "name": "stderr",
          "output_type": "stream",
          "text": [
            "Setting `pad_token_id` to `eos_token_id`:128001 for open-end generation.\n",
            "Setting `pad_token_id` to `eos_token_id`:128001 for open-end generation.\n",
            "Setting `pad_token_id` to `eos_token_id`:128001 for open-end generation.\n"
          ]
        },
        {
          "name": "stdout",
          "output_type": "stream",
          "text": [
            "433th pred 9 ans 10\n",
            "434th pred 7 ans 6\n",
            "435th pred 8 ans 6\n"
          ]
        },
        {
          "name": "stderr",
          "output_type": "stream",
          "text": [
            "Setting `pad_token_id` to `eos_token_id`:128001 for open-end generation.\n",
            "Setting `pad_token_id` to `eos_token_id`:128001 for open-end generation.\n",
            "Setting `pad_token_id` to `eos_token_id`:128001 for open-end generation.\n"
          ]
        },
        {
          "name": "stdout",
          "output_type": "stream",
          "text": [
            "Skipping index 511 prompt You are a book recommender and your job is to predict a user's rating (ranging from 1 to 10, with 10 being the highest) on a book, based on that user's previous ratings.\n",
            "\n",
            "User 68073 has rated the following books:\n",
            "\n",
            "\"Who Moved My Cheese? An Amazing Way to Deal with Change in Your Work and in Your Life\" 10\n",
            "\"The Tom Peters Seminar\" 10\n",
            "\"The Complete Book of Essential Oils and Aromatherapy\" 10\n",
            "\"NEW SENSUAL MASSAGE, THE\" 9\n",
            "\n",
            "Predict the user's rating on \"Women's Ways of Knowing: The Development of Self, Voice, and Mind\". Output the rating score only. Do not include other text. reponse 7 due to error: invalid literal for int() with base 10: '9.5'\n",
            "436th pred 8 ans 8\n",
            "Skipping index 513 prompt You are a book recommender and your job is to predict a user's rating (ranging from 1 to 10, with 10 being the highest) on a book, based on that user's previous ratings.\n",
            "\n",
            "User 68465 has rated the following books:\n",
            "\n",
            "\"Chopping Spree\" 7\n",
            "\"Picture Perfect\" 6\n",
            "\"A Patchwork Planet\" 8\n",
            "\"White Mountain\" 3\n",
            "\n",
            "Predict the user's rating on \"The Gazebo: A Novel\". Output the rating score only. Do not include other text. reponse 7 due to error: invalid literal for int() with base 10: '7.4'\n"
          ]
        },
        {
          "name": "stderr",
          "output_type": "stream",
          "text": [
            "Setting `pad_token_id` to `eos_token_id`:128001 for open-end generation.\n",
            "Setting `pad_token_id` to `eos_token_id`:128001 for open-end generation.\n",
            "Setting `pad_token_id` to `eos_token_id`:128001 for open-end generation.\n"
          ]
        },
        {
          "name": "stdout",
          "output_type": "stream",
          "text": [
            "437th pred 8 ans 10\n",
            "438th pred 8 ans 7\n",
            "439th pred 8 ans 6\n"
          ]
        },
        {
          "name": "stderr",
          "output_type": "stream",
          "text": [
            "Setting `pad_token_id` to `eos_token_id`:128001 for open-end generation.\n",
            "Setting `pad_token_id` to `eos_token_id`:128001 for open-end generation.\n",
            "Setting `pad_token_id` to `eos_token_id`:128001 for open-end generation.\n",
            "Setting `pad_token_id` to `eos_token_id`:128001 for open-end generation.\n"
          ]
        },
        {
          "name": "stdout",
          "output_type": "stream",
          "text": [
            "Skipping index 517 prompt You are a book recommender and your job is to predict a user's rating (ranging from 1 to 10, with 10 being the highest) on a book, based on that user's previous ratings.\n",
            "\n",
            "User 69945 has rated the following books:\n",
            "\n",
            "\"Dust to Dust\" 8\n",
            "\"Murder Under Blue Skies\" 8\n",
            "\"Sparkling Cyanide\" 5\n",
            "\"Maigret at the coroner's\" 7\n",
            "\n",
            "Predict the user's rating on \"Deception Point\". Output the rating score only. Do not include other text. reponse 7 due to error: invalid literal for int() with base 10: '7.5'\n",
            "440th pred 7 ans 5\n",
            "441th pred 7 ans 10\n",
            "442th pred 7 ans 10\n"
          ]
        },
        {
          "name": "stderr",
          "output_type": "stream",
          "text": [
            "Setting `pad_token_id` to `eos_token_id`:128001 for open-end generation.\n",
            "Setting `pad_token_id` to `eos_token_id`:128001 for open-end generation.\n",
            "Setting `pad_token_id` to `eos_token_id`:128001 for open-end generation.\n"
          ]
        },
        {
          "name": "stdout",
          "output_type": "stream",
          "text": [
            "443th pred 7 ans 8\n",
            "444th pred 9 ans 10\n",
            "Skipping index 523 prompt You are a book recommender and your job is to predict a user's rating (ranging from 1 to 10, with 10 being the highest) on a book, based on that user's previous ratings.\n",
            "\n",
            "User 70543 has rated the following books:\n",
            "\n",
            "\"Savage Thunder\" 8\n",
            "\"Always A Lady (Silhouette Promo)\" 9\n",
            "\"Remember Me\" 9\n",
            "\"Thursday's Child\" 10\n",
            "\n",
            "Predict the user's rating on \"Brazen Temptress\". Output the rating score only. Do not include other text. reponse 7 due to error: invalid literal for int() with base 10: '9.2'\n"
          ]
        },
        {
          "name": "stderr",
          "output_type": "stream",
          "text": [
            "Setting `pad_token_id` to `eos_token_id`:128001 for open-end generation.\n",
            "Setting `pad_token_id` to `eos_token_id`:128001 for open-end generation.\n",
            "Setting `pad_token_id` to `eos_token_id`:128001 for open-end generation.\n",
            "Setting `pad_token_id` to `eos_token_id`:128001 for open-end generation.\n"
          ]
        },
        {
          "name": "stdout",
          "output_type": "stream",
          "text": [
            "Skipping index 524 prompt You are a book recommender and your job is to predict a user's rating (ranging from 1 to 10, with 10 being the highest) on a book, based on that user's previous ratings.\n",
            "\n",
            "User 70772 has rated the following books:\n",
            "\n",
            "\"WITH THE LIGHTNINGS\" 4\n",
            "\"A Kiss of Shadows (Meredith Gentry Novels (Hardcover))\" 6\n",
            "\"Clive Barker's Books of Blood (Clive Barker's Books of Blood)\" 5\n",
            "\"Almost Adam\" 5\n",
            "\n",
            "Predict the user's rating on \"The Damnation Game\". Output the rating score only. Do not include other text. reponse 7 due to error: invalid literal for int() with base 10: '7.5'\n",
            "445th pred 8 ans 5\n",
            "446th pred 7 ans 9\n",
            "447th pred 6 ans 8\n"
          ]
        },
        {
          "name": "stderr",
          "output_type": "stream",
          "text": [
            "Setting `pad_token_id` to `eos_token_id`:128001 for open-end generation.\n",
            "Setting `pad_token_id` to `eos_token_id`:128001 for open-end generation.\n",
            "Setting `pad_token_id` to `eos_token_id`:128001 for open-end generation.\n"
          ]
        },
        {
          "name": "stdout",
          "output_type": "stream",
          "text": [
            "448th pred 8 ans 7\n",
            "Skipping index 529 prompt You are a book recommender and your job is to predict a user's rating (ranging from 1 to 10, with 10 being the highest) on a book, based on that user's previous ratings.\n",
            "\n",
            "User 71703 has rated the following books:\n",
            "\n",
            "\"Visions of Sugar Plums: A Stephanie Plum Holiday Novel\" 8\n",
            "\"Strangers\" 6\n",
            "\"The Curse of the Pharaohs\" 10\n",
            "\"The King's Buccaneer\" 7\n",
            "\n",
            "Predict the user's rating on \"Love Talker\". Output the rating score only. Do not include other text. reponse 7 due to error: invalid literal for int() with base 10: '7.4'\n",
            "449th pred 8 ans 10\n"
          ]
        },
        {
          "name": "stderr",
          "output_type": "stream",
          "text": [
            "Setting `pad_token_id` to `eos_token_id`:128001 for open-end generation.\n",
            "Setting `pad_token_id` to `eos_token_id`:128001 for open-end generation.\n",
            "Setting `pad_token_id` to `eos_token_id`:128001 for open-end generation.\n",
            "Setting `pad_token_id` to `eos_token_id`:128001 for open-end generation.\n"
          ]
        },
        {
          "name": "stdout",
          "output_type": "stream",
          "text": [
            "Skipping index 531 prompt You are a book recommender and your job is to predict a user's rating (ranging from 1 to 10, with 10 being the highest) on a book, based on that user's previous ratings.\n",
            "\n",
            "User 71761 has rated the following books:\n",
            "\n",
            "\"The New York Public Library's Books of the Century\" 6\n",
            "\"Longitude: The True Story of a Lone Genius Who Solved the Greatest Scientific Problem of His Time\" 8\n",
            "\"Spies: The Secret Agents Who Changed the Course of History\" 7\n",
            "\"Primary Crullers: A Robotman Book\" 5\n",
            "\n",
            "Predict the user's rating on \"The Five Minute Iliad Other Instant Classics : Great Books For The Short Attention Span\". Output the rating score only. Do not include other text. reponse 7 due to error: invalid literal for int() with base 10: '7.5'\n",
            "450th pred 7 ans 5\n",
            "451th pred 8 ans 6\n",
            "452th pred 8 ans 6\n"
          ]
        },
        {
          "name": "stderr",
          "output_type": "stream",
          "text": [
            "Setting `pad_token_id` to `eos_token_id`:128001 for open-end generation.\n",
            "Setting `pad_token_id` to `eos_token_id`:128001 for open-end generation.\n",
            "Setting `pad_token_id` to `eos_token_id`:128001 for open-end generation.\n"
          ]
        },
        {
          "name": "stdout",
          "output_type": "stream",
          "text": [
            "453th pred 7 ans 7\n",
            "454th pred 5 ans 7\n",
            "Skipping index 537 prompt You are a book recommender and your job is to predict a user's rating (ranging from 1 to 10, with 10 being the highest) on a book, based on that user's previous ratings.\n",
            "\n",
            "User 72999 has rated the following books:\n",
            "\n",
            "\"Ein kleiner Tod.\" 7\n",
            "\"Two Old Women\" 7\n",
            "\"Paddy Clarke Ha Ha Ha.\" 7\n",
            "\"Die New York- Trilogie.\" 8\n",
            "\n",
            "Predict the user's rating on \"Stories in an Almost Classical Mode\". Output the rating score only. Do not include other text. reponse 7 due to error: invalid literal for int() with base 10: '7.4'\n"
          ]
        },
        {
          "name": "stderr",
          "output_type": "stream",
          "text": [
            "Setting `pad_token_id` to `eos_token_id`:128001 for open-end generation.\n",
            "Setting `pad_token_id` to `eos_token_id`:128001 for open-end generation.\n",
            "Setting `pad_token_id` to `eos_token_id`:128001 for open-end generation.\n",
            "Setting `pad_token_id` to `eos_token_id`:128001 for open-end generation.\n"
          ]
        },
        {
          "name": "stdout",
          "output_type": "stream",
          "text": [
            "455th pred 8 ans 10\n",
            "456th pred 9 ans 7\n",
            "457th pred 8 ans 9\n",
            "458th pred 7 ans 10\n"
          ]
        },
        {
          "name": "stderr",
          "output_type": "stream",
          "text": [
            "Setting `pad_token_id` to `eos_token_id`:128001 for open-end generation.\n",
            "Setting `pad_token_id` to `eos_token_id`:128001 for open-end generation.\n",
            "Setting `pad_token_id` to `eos_token_id`:128001 for open-end generation.\n",
            "Setting `pad_token_id` to `eos_token_id`:128001 for open-end generation.\n"
          ]
        },
        {
          "name": "stdout",
          "output_type": "stream",
          "text": [
            "Skipping index 542 prompt You are a book recommender and your job is to predict a user's rating (ranging from 1 to 10, with 10 being the highest) on a book, based on that user's previous ratings.\n",
            "\n",
            "User 74088 has rated the following books:\n",
            "\n",
            "\"Maia\" 8\n",
            "\"Requiem for the Sun (The Symphony of Ages)\" 7\n",
            "\"The Complete Book of Herbs\" 10\n",
            "\"Bridge of Birds\" 7\n",
            "\n",
            "Predict the user's rating on \"Eight Skilled Gentlemen\". Output the rating score only. Do not include other text. reponse 7 due to error: invalid literal for int() with base 10: '7.5'\n",
            "459th pred 8 ans 9\n",
            "460th pred 8 ans 2\n",
            "461th pred 8 ans 8\n"
          ]
        },
        {
          "name": "stderr",
          "output_type": "stream",
          "text": [
            "Setting `pad_token_id` to `eos_token_id`:128001 for open-end generation.\n",
            "Setting `pad_token_id` to `eos_token_id`:128001 for open-end generation.\n",
            "Setting `pad_token_id` to `eos_token_id`:128001 for open-end generation.\n",
            "Setting `pad_token_id` to `eos_token_id`:128001 for open-end generation.\n"
          ]
        },
        {
          "name": "stdout",
          "output_type": "stream",
          "text": [
            "462th pred 7 ans 8\n",
            "463th pred 7 ans 7\n",
            "464th pred 8 ans 6\n",
            "465th pred 7 ans 7\n"
          ]
        },
        {
          "name": "stderr",
          "output_type": "stream",
          "text": [
            "Setting `pad_token_id` to `eos_token_id`:128001 for open-end generation.\n",
            "Setting `pad_token_id` to `eos_token_id`:128001 for open-end generation.\n",
            "Setting `pad_token_id` to `eos_token_id`:128001 for open-end generation.\n",
            "Setting `pad_token_id` to `eos_token_id`:128001 for open-end generation.\n"
          ]
        },
        {
          "name": "stdout",
          "output_type": "stream",
          "text": [
            "466th pred 7 ans 5\n",
            "467th pred 7 ans 7\n",
            "468th pred 8 ans 5\n",
            "469th pred 8 ans 9\n"
          ]
        },
        {
          "name": "stderr",
          "output_type": "stream",
          "text": [
            "Setting `pad_token_id` to `eos_token_id`:128001 for open-end generation.\n",
            "Setting `pad_token_id` to `eos_token_id`:128001 for open-end generation.\n",
            "Setting `pad_token_id` to `eos_token_id`:128001 for open-end generation.\n",
            "Setting `pad_token_id` to `eos_token_id`:128001 for open-end generation.\n"
          ]
        },
        {
          "name": "stdout",
          "output_type": "stream",
          "text": [
            "Skipping index 554 prompt You are a book recommender and your job is to predict a user's rating (ranging from 1 to 10, with 10 being the highest) on a book, based on that user's previous ratings.\n",
            "\n",
            "User 75691 has rated the following books:\n",
            "\n",
            "\"Mind Prey\" 9\n",
            "\"The Testament\" 9\n",
            "\"Wilderness\" 7\n",
            "\"Phantoms\" 8\n",
            "\n",
            "Predict the user's rating on \"Mortal Stakes\". Output the rating score only. Do not include other text. reponse 7 due to error: invalid literal for int() with base 10: '8.5'\n",
            "470th pred 8 ans 5\n",
            "471th pred 7 ans 5\n",
            "472th pred 8 ans 6\n"
          ]
        },
        {
          "name": "stderr",
          "output_type": "stream",
          "text": [
            "Setting `pad_token_id` to `eos_token_id`:128001 for open-end generation.\n",
            "Setting `pad_token_id` to `eos_token_id`:128001 for open-end generation.\n",
            "Setting `pad_token_id` to `eos_token_id`:128001 for open-end generation.\n",
            "Setting `pad_token_id` to `eos_token_id`:128001 for open-end generation.\n"
          ]
        },
        {
          "name": "stdout",
          "output_type": "stream",
          "text": [
            "473th pred 8 ans 9\n",
            "474th pred 8 ans 10\n",
            "475th pred 8 ans 7\n",
            "476th pred 8 ans 5\n"
          ]
        },
        {
          "name": "stderr",
          "output_type": "stream",
          "text": [
            "Setting `pad_token_id` to `eos_token_id`:128001 for open-end generation.\n",
            "Setting `pad_token_id` to `eos_token_id`:128001 for open-end generation.\n",
            "Setting `pad_token_id` to `eos_token_id`:128001 for open-end generation.\n"
          ]
        },
        {
          "name": "stdout",
          "output_type": "stream",
          "text": [
            "477th pred 7 ans 8\n",
            "478th pred 8 ans 9\n",
            "479th pred 6 ans 5\n"
          ]
        },
        {
          "name": "stderr",
          "output_type": "stream",
          "text": [
            "Setting `pad_token_id` to `eos_token_id`:128001 for open-end generation.\n",
            "Setting `pad_token_id` to `eos_token_id`:128001 for open-end generation.\n",
            "Setting `pad_token_id` to `eos_token_id`:128001 for open-end generation.\n"
          ]
        },
        {
          "name": "stdout",
          "output_type": "stream",
          "text": [
            "Skipping index 565 prompt You are a book recommender and your job is to predict a user's rating (ranging from 1 to 10, with 10 being the highest) on a book, based on that user's previous ratings.\n",
            "\n",
            "User 77710 has rated the following books:\n",
            "\n",
            "\"A Natural History of the Senses\" 7\n",
            "\"Neuromancer (Remembering Tomorrow)\" 8\n",
            "\"Being Peace\" 10\n",
            "\"A SPY IN THE HOUSE OF LOVE\" 10\n",
            "\n",
            "Predict the user's rating on \"Neverwhere\". Output the rating score only. Do not include other text. reponse 7 due to error: invalid literal for int() with base 10: '8.5'\n",
            "480th pred 6 ans 4\n",
            "Skipping index 567 prompt You are a book recommender and your job is to predict a user's rating (ranging from 1 to 10, with 10 being the highest) on a book, based on that user's previous ratings.\n",
            "\n",
            "User 77753 has rated the following books:\n",
            "\n",
            "\"How the Scots Invented the Modern World: The True Story of How Western Europe's Poorest Nation Created Our World &amp; Everything in It\" 8\n",
            "\"With My Face to the Enemy: Perspectives on the Civil War\" 8\n",
            "\"Trouble\" 8\n",
            "\"The Ninth Man (Collier Spymasters Series)\" 3\n",
            "\n",
            "Predict the user's rating on \"Aspects of Aristocracy: Grandeur and Decline in Modern Britain (Penguin History)\". Output the rating score only. Do not include other text. reponse 7 due to error: invalid literal for int() with base 10: '8.5'\n"
          ]
        },
        {
          "name": "stderr",
          "output_type": "stream",
          "text": [
            "Setting `pad_token_id` to `eos_token_id`:128001 for open-end generation.\n",
            "Setting `pad_token_id` to `eos_token_id`:128001 for open-end generation.\n",
            "Setting `pad_token_id` to `eos_token_id`:128001 for open-end generation.\n"
          ]
        },
        {
          "name": "stdout",
          "output_type": "stream",
          "text": [
            "481th pred 8 ans 7\n",
            "482th pred 7 ans 10\n",
            "Skipping index 570 prompt You are a book recommender and your job is to predict a user's rating (ranging from 1 to 10, with 10 being the highest) on a book, based on that user's previous ratings.\n",
            "\n",
            "User 77840 has rated the following books:\n",
            "\n",
            "\"Escape the Night\" 8\n",
            "\"Shadowfires\" 9\n",
            "\"The Other Side of Midnight\" 8\n",
            "\"BLOOD WILL TELL\" 8\n",
            "\n",
            "Predict the user's rating on \"Mortal Fear\". Output the rating score only. Do not include other text. reponse 7 due to error: invalid literal for int() with base 10: '8.5'\n"
          ]
        },
        {
          "name": "stderr",
          "output_type": "stream",
          "text": [
            "Setting `pad_token_id` to `eos_token_id`:128001 for open-end generation.\n",
            "Setting `pad_token_id` to `eos_token_id`:128001 for open-end generation.\n",
            "Setting `pad_token_id` to `eos_token_id`:128001 for open-end generation.\n"
          ]
        },
        {
          "name": "stdout",
          "output_type": "stream",
          "text": [
            "483th pred 8 ans 9\n",
            "484th pred 8 ans 7\n",
            "Skipping index 573 prompt You are a book recommender and your job is to predict a user's rating (ranging from 1 to 10, with 10 being the highest) on a book, based on that user's previous ratings.\n",
            "\n",
            "User 78236 has rated the following books:\n",
            "\n",
            "\"Girl with a Pearl Earring\" 7\n",
            "\"Homeplace\" 5\n",
            "\"FROM POTTER'S FIELD\" 5\n",
            "\"The Virgin Blue\" 8\n",
            "\n",
            "Predict the user's rating on \"The Secret Life of Bees\". Output the rating score only. Do not include other text. reponse 7 due to error: invalid literal for int() with base 10: '8.2'\n"
          ]
        },
        {
          "name": "stderr",
          "output_type": "stream",
          "text": [
            "Setting `pad_token_id` to `eos_token_id`:128001 for open-end generation.\n",
            "Setting `pad_token_id` to `eos_token_id`:128001 for open-end generation.\n",
            "Setting `pad_token_id` to `eos_token_id`:128001 for open-end generation.\n",
            "Setting `pad_token_id` to `eos_token_id`:128001 for open-end generation.\n"
          ]
        },
        {
          "name": "stdout",
          "output_type": "stream",
          "text": [
            "485th pred 8 ans 5\n",
            "486th pred 8 ans 5\n",
            "487th pred 9 ans 10\n",
            "488th pred 8 ans 3\n"
          ]
        },
        {
          "name": "stderr",
          "output_type": "stream",
          "text": [
            "Setting `pad_token_id` to `eos_token_id`:128001 for open-end generation.\n",
            "Setting `pad_token_id` to `eos_token_id`:128001 for open-end generation.\n",
            "Setting `pad_token_id` to `eos_token_id`:128001 for open-end generation.\n",
            "Setting `pad_token_id` to `eos_token_id`:128001 for open-end generation.\n"
          ]
        },
        {
          "name": "stdout",
          "output_type": "stream",
          "text": [
            "489th pred 7 ans 6\n",
            "490th pred 8 ans 10\n",
            "491th pred 6 ans 9\n",
            "492th pred 8 ans 6\n"
          ]
        },
        {
          "name": "stderr",
          "output_type": "stream",
          "text": [
            "Setting `pad_token_id` to `eos_token_id`:128001 for open-end generation.\n",
            "Setting `pad_token_id` to `eos_token_id`:128001 for open-end generation.\n",
            "Setting `pad_token_id` to `eos_token_id`:128001 for open-end generation.\n",
            "Setting `pad_token_id` to `eos_token_id`:128001 for open-end generation.\n"
          ]
        },
        {
          "name": "stdout",
          "output_type": "stream",
          "text": [
            "Skipping index 582 prompt You are a book recommender and your job is to predict a user's rating (ranging from 1 to 10, with 10 being the highest) on a book, based on that user's previous ratings.\n",
            "\n",
            "User 79997 has rated the following books:\n",
            "\n",
            "\"Wings of Madness : Alberto Santos-Dumont and the Invention of Flight\" 7\n",
            "\"The Story of Lucy Gault\" 8\n",
            "\"NTC's Super-Mini Basic Phrasal Verbs\" 9\n",
            "\"NTC's Super-Mini American Slang Dictionary\" 9\n",
            "\n",
            "Predict the user's rating on \"The Professor and the Madman: A Tale of Murder, Insanity, and the Making of The Oxford English Dictionary\". Output the rating score only. Do not include other text. reponse 7 due to error: invalid literal for int() with base 10: '8.5'\n",
            "493th pred 8 ans 9\n",
            "494th pred 8 ans 7\n",
            "495th pred 8 ans 8\n"
          ]
        },
        {
          "name": "stderr",
          "output_type": "stream",
          "text": [
            "Setting `pad_token_id` to `eos_token_id`:128001 for open-end generation.\n",
            "Setting `pad_token_id` to `eos_token_id`:128001 for open-end generation.\n",
            "Setting `pad_token_id` to `eos_token_id`:128001 for open-end generation.\n",
            "Setting `pad_token_id` to `eos_token_id`:128001 for open-end generation.\n"
          ]
        },
        {
          "name": "stdout",
          "output_type": "stream",
          "text": [
            "496th pred 8 ans 10\n",
            "497th pred 8 ans 5\n",
            "498th pred 8 ans 5\n",
            "499th pred 8 ans 7\n"
          ]
        },
        {
          "name": "stderr",
          "output_type": "stream",
          "text": [
            "Setting `pad_token_id` to `eos_token_id`:128001 for open-end generation.\n",
            "Setting `pad_token_id` to `eos_token_id`:128001 for open-end generation.\n",
            "Setting `pad_token_id` to `eos_token_id`:128001 for open-end generation.\n"
          ]
        },
        {
          "name": "stdout",
          "output_type": "stream",
          "text": [
            "500th pred 8 ans 10\n",
            "Skipping index 591 prompt You are a book recommender and your job is to predict a user's rating (ranging from 1 to 10, with 10 being the highest) on a book, based on that user's previous ratings.\n",
            "\n",
            "User 81689 has rated the following books:\n",
            "\n",
            "\"Vivir Para Contarla\" 8\n",
            "\"Poesias Completas (Selecciones austral)\" 7\n",
            "\"Nuestro Pueblo\" 5\n",
            "\"LA Guerra Del Fin Del Mundo\" 7\n",
            "\n",
            "Predict the user's rating on \"Viaje a la Alcarria: Las botas de siete leguas (ColecciÃ³n austral ; no. 1141)\". Output the rating score only. Do not include other text. reponse 7 due to error: invalid literal for int() with base 10: '8.4'\n",
            "501th pred 6 ans 8\n"
          ]
        },
        {
          "name": "stderr",
          "output_type": "stream",
          "text": [
            "Setting `pad_token_id` to `eos_token_id`:128001 for open-end generation.\n",
            "Setting `pad_token_id` to `eos_token_id`:128001 for open-end generation.\n",
            "Setting `pad_token_id` to `eos_token_id`:128001 for open-end generation.\n",
            "Setting `pad_token_id` to `eos_token_id`:128001 for open-end generation.\n"
          ]
        },
        {
          "name": "stdout",
          "output_type": "stream",
          "text": [
            "502th pred 8 ans 8\n",
            "503th pred 8 ans 10\n",
            "504th pred 8 ans 6\n",
            "505th pred 8 ans 8\n"
          ]
        },
        {
          "name": "stderr",
          "output_type": "stream",
          "text": [
            "Setting `pad_token_id` to `eos_token_id`:128001 for open-end generation.\n",
            "Setting `pad_token_id` to `eos_token_id`:128001 for open-end generation.\n",
            "Setting `pad_token_id` to `eos_token_id`:128001 for open-end generation.\n",
            "Setting `pad_token_id` to `eos_token_id`:128001 for open-end generation.\n"
          ]
        },
        {
          "name": "stdout",
          "output_type": "stream",
          "text": [
            "506th pred 8 ans 7\n",
            "507th pred 8 ans 5\n",
            "508th pred 7 ans 7\n",
            "509th pred 9 ans 9\n"
          ]
        },
        {
          "name": "stderr",
          "output_type": "stream",
          "text": [
            "Setting `pad_token_id` to `eos_token_id`:128001 for open-end generation.\n",
            "Setting `pad_token_id` to `eos_token_id`:128001 for open-end generation.\n",
            "Setting `pad_token_id` to `eos_token_id`:128001 for open-end generation.\n",
            "Setting `pad_token_id` to `eos_token_id`:128001 for open-end generation.\n"
          ]
        },
        {
          "name": "stdout",
          "output_type": "stream",
          "text": [
            "510th pred 8 ans 6\n",
            "511th pred 8 ans 9\n",
            "512th pred 8 ans 10\n",
            "513th pred 7 ans 5\n"
          ]
        },
        {
          "name": "stderr",
          "output_type": "stream",
          "text": [
            "Setting `pad_token_id` to `eos_token_id`:128001 for open-end generation.\n",
            "Setting `pad_token_id` to `eos_token_id`:128001 for open-end generation.\n",
            "Setting `pad_token_id` to `eos_token_id`:128001 for open-end generation.\n",
            "Setting `pad_token_id` to `eos_token_id`:128001 for open-end generation.\n"
          ]
        },
        {
          "name": "stdout",
          "output_type": "stream",
          "text": [
            "514th pred 8 ans 7\n",
            "515th pred 7 ans 4\n",
            "516th pred 7 ans 2\n",
            "517th pred 7 ans 7\n"
          ]
        },
        {
          "name": "stderr",
          "output_type": "stream",
          "text": [
            "Setting `pad_token_id` to `eos_token_id`:128001 for open-end generation.\n",
            "Setting `pad_token_id` to `eos_token_id`:128001 for open-end generation.\n",
            "Setting `pad_token_id` to `eos_token_id`:128001 for open-end generation.\n",
            "Setting `pad_token_id` to `eos_token_id`:128001 for open-end generation.\n"
          ]
        },
        {
          "name": "stdout",
          "output_type": "stream",
          "text": [
            "518th pred 8 ans 5\n",
            "519th pred 7 ans 5\n",
            "520th pred 8 ans 7\n",
            "521th pred 7 ans 8\n"
          ]
        },
        {
          "name": "stderr",
          "output_type": "stream",
          "text": [
            "Setting `pad_token_id` to `eos_token_id`:128001 for open-end generation.\n",
            "Setting `pad_token_id` to `eos_token_id`:128001 for open-end generation.\n",
            "Setting `pad_token_id` to `eos_token_id`:128001 for open-end generation.\n",
            "Setting `pad_token_id` to `eos_token_id`:128001 for open-end generation.\n"
          ]
        },
        {
          "name": "stdout",
          "output_type": "stream",
          "text": [
            "522th pred 7 ans 5\n",
            "523th pred 6 ans 8\n",
            "524th pred 8 ans 8\n",
            "525th pred 7 ans 6\n"
          ]
        },
        {
          "name": "stderr",
          "output_type": "stream",
          "text": [
            "Setting `pad_token_id` to `eos_token_id`:128001 for open-end generation.\n",
            "Setting `pad_token_id` to `eos_token_id`:128001 for open-end generation.\n",
            "Setting `pad_token_id` to `eos_token_id`:128001 for open-end generation.\n",
            "Setting `pad_token_id` to `eos_token_id`:128001 for open-end generation.\n"
          ]
        },
        {
          "name": "stdout",
          "output_type": "stream",
          "text": [
            "526th pred 8 ans 8\n",
            "527th pred 8 ans 8\n",
            "528th pred 8 ans 9\n",
            "529th pred 9 ans 5\n"
          ]
        },
        {
          "name": "stderr",
          "output_type": "stream",
          "text": [
            "Setting `pad_token_id` to `eos_token_id`:128001 for open-end generation.\n",
            "Setting `pad_token_id` to `eos_token_id`:128001 for open-end generation.\n",
            "Setting `pad_token_id` to `eos_token_id`:128001 for open-end generation.\n",
            "Setting `pad_token_id` to `eos_token_id`:128001 for open-end generation.\n"
          ]
        },
        {
          "name": "stdout",
          "output_type": "stream",
          "text": [
            "530th pred 8 ans 8\n",
            "531th pred 8 ans 5\n",
            "532th pred 8 ans 8\n",
            "533th pred 7 ans 8\n"
          ]
        },
        {
          "name": "stderr",
          "output_type": "stream",
          "text": [
            "Setting `pad_token_id` to `eos_token_id`:128001 for open-end generation.\n",
            "Setting `pad_token_id` to `eos_token_id`:128001 for open-end generation.\n",
            "Setting `pad_token_id` to `eos_token_id`:128001 for open-end generation.\n"
          ]
        },
        {
          "name": "stdout",
          "output_type": "stream",
          "text": [
            "534th pred 5 ans 3\n",
            "Skipping index 626 prompt You are a book recommender and your job is to predict a user's rating (ranging from 1 to 10, with 10 being the highest) on a book, based on that user's previous ratings.\n",
            "\n",
            "User 86219 has rated the following books:\n",
            "\n",
            "\"Die sieben DÃ?Â¤monen.\" 7\n",
            "\"Rosehill.\" 9\n",
            "\"Die Reise zum Mars.\" 7\n",
            "\"Eureka Street, Belfast. (Ã?Â¼bs. von Christa Schuenke)\" 8\n",
            "\n",
            "Predict the user's rating on \"Der blaue Stein.\". Output the rating score only. Do not include other text. reponse 7 due to error: invalid literal for int() with base 10: '8.5'\n",
            "535th pred 8 ans 3\n"
          ]
        },
        {
          "name": "stderr",
          "output_type": "stream",
          "text": [
            "Setting `pad_token_id` to `eos_token_id`:128001 for open-end generation.\n",
            "Setting `pad_token_id` to `eos_token_id`:128001 for open-end generation.\n",
            "Setting `pad_token_id` to `eos_token_id`:128001 for open-end generation.\n",
            "Setting `pad_token_id` to `eos_token_id`:128001 for open-end generation.\n"
          ]
        },
        {
          "name": "stdout",
          "output_type": "stream",
          "text": [
            "Skipping index 628 prompt You are a book recommender and your job is to predict a user's rating (ranging from 1 to 10, with 10 being the highest) on a book, based on that user's previous ratings.\n",
            "\n",
            "User 86463 has rated the following books:\n",
            "\n",
            "\"Tis: A Memoir\" 8\n",
            "\"Decorating on a Shoestring: You Can Create a Beautiful Home Without Spending a Fortune (The Shoestring Series)\" 8\n",
            "\"A Civil Action\" 9\n",
            "\"Friendship Cake: A Novel\" 10\n",
            "\n",
            "Predict the user's rating on \"Divine Secrets of the Ya-Ya Sisterhood: A Novel\". Output the rating score only. Do not include other text. reponse 7 due to error: invalid literal for int() with base 10: '7.6'\n",
            "536th pred 8 ans 10\n",
            "537th pred 7 ans 8\n",
            "538th pred 7 ans 8\n"
          ]
        },
        {
          "name": "stderr",
          "output_type": "stream",
          "text": [
            "Setting `pad_token_id` to `eos_token_id`:128001 for open-end generation.\n",
            "Setting `pad_token_id` to `eos_token_id`:128001 for open-end generation.\n",
            "Setting `pad_token_id` to `eos_token_id`:128001 for open-end generation.\n",
            "Setting `pad_token_id` to `eos_token_id`:128001 for open-end generation.\n"
          ]
        },
        {
          "name": "stdout",
          "output_type": "stream",
          "text": [
            "Skipping index 632 prompt You are a book recommender and your job is to predict a user's rating (ranging from 1 to 10, with 10 being the highest) on a book, based on that user's previous ratings.\n",
            "\n",
            "User 86849 has rated the following books:\n",
            "\n",
            "\"Harry Potter and the Order of the Phoenix (Book 5)\" 8\n",
            "\"Jewel\" 6\n",
            "\"Confessions of an Ugly Stepsister : A Novel\" 9\n",
            "\"Getting over Tom\" 7\n",
            "\n",
            "Predict the user's rating on \"A Cure for Dreams (Vintage Contemporaries)\". Output the rating score only. Do not include other text. reponse 7 due to error: invalid literal for int() with base 10: '8.3'\n",
            "539th pred 8 ans 7\n",
            "540th pred 7 ans 5\n",
            "541th pred 9 ans 9\n"
          ]
        },
        {
          "name": "stderr",
          "output_type": "stream",
          "text": [
            "Setting `pad_token_id` to `eos_token_id`:128001 for open-end generation.\n",
            "Setting `pad_token_id` to `eos_token_id`:128001 for open-end generation.\n",
            "Setting `pad_token_id` to `eos_token_id`:128001 for open-end generation.\n",
            "Setting `pad_token_id` to `eos_token_id`:128001 for open-end generation.\n"
          ]
        },
        {
          "name": "stdout",
          "output_type": "stream",
          "text": [
            "Skipping index 636 prompt You are a book recommender and your job is to predict a user's rating (ranging from 1 to 10, with 10 being the highest) on a book, based on that user's previous ratings.\n",
            "\n",
            "User 87776 has rated the following books:\n",
            "\n",
            "\"Las Olas (Fabula)\" 10\n",
            "\"Memoria del Flamenco\" 8\n",
            "\"Principe Feliz y Otros Cuentos, El\" 9\n",
            "\"Cien AÃ±os de Soledad\" 9\n",
            "\n",
            "Predict the user's rating on \"Lecciones Espirituales Para Los Jovenes Samurais\". Output the rating score only. Do not include other text. reponse 7 due to error: invalid literal for int() with base 10: '7.5'\n",
            "542th pred 8 ans 5\n",
            "543th pred 8 ans 9\n",
            "544th pred 7 ans 5\n"
          ]
        },
        {
          "name": "stderr",
          "output_type": "stream",
          "text": [
            "Setting `pad_token_id` to `eos_token_id`:128001 for open-end generation.\n",
            "Setting `pad_token_id` to `eos_token_id`:128001 for open-end generation.\n",
            "Setting `pad_token_id` to `eos_token_id`:128001 for open-end generation.\n"
          ]
        },
        {
          "name": "stdout",
          "output_type": "stream",
          "text": [
            "545th pred 8 ans 9\n",
            "Skipping index 641 prompt You are a book recommender and your job is to predict a user's rating (ranging from 1 to 10, with 10 being the highest) on a book, based on that user's previous ratings.\n",
            "\n",
            "User 88123 has rated the following books:\n",
            "\n",
            "\"Little Altars Everywhere\" 9\n",
            "\"The Oath\" 8\n",
            "\"Pop Goes the Weasel\" 9\n",
            "\"The Burning Road: A Novel\" 9\n",
            "\n",
            "Predict the user's rating on \"Portrait in Death\". Output the rating score only. Do not include other text. reponse 7 due to error: invalid literal for int() with base 10: '8.4'\n",
            "546th pred 7 ans 5\n"
          ]
        },
        {
          "name": "stderr",
          "output_type": "stream",
          "text": [
            "Setting `pad_token_id` to `eos_token_id`:128001 for open-end generation.\n",
            "Setting `pad_token_id` to `eos_token_id`:128001 for open-end generation.\n",
            "Setting `pad_token_id` to `eos_token_id`:128001 for open-end generation.\n",
            "Setting `pad_token_id` to `eos_token_id`:128001 for open-end generation.\n"
          ]
        },
        {
          "name": "stdout",
          "output_type": "stream",
          "text": [
            "547th pred 6 ans 7\n",
            "548th pred 8 ans 10\n",
            "549th pred 7 ans 10\n",
            "550th pred 8 ans 8\n"
          ]
        },
        {
          "name": "stderr",
          "output_type": "stream",
          "text": [
            "Setting `pad_token_id` to `eos_token_id`:128001 for open-end generation.\n",
            "Setting `pad_token_id` to `eos_token_id`:128001 for open-end generation.\n",
            "Setting `pad_token_id` to `eos_token_id`:128001 for open-end generation.\n",
            "Setting `pad_token_id` to `eos_token_id`:128001 for open-end generation.\n"
          ]
        },
        {
          "name": "stdout",
          "output_type": "stream",
          "text": [
            "551th pred 7 ans 7\n",
            "552th pred 8 ans 9\n",
            "553th pred 8 ans 8\n",
            "554th pred 9 ans 5\n"
          ]
        },
        {
          "name": "stderr",
          "output_type": "stream",
          "text": [
            "Setting `pad_token_id` to `eos_token_id`:128001 for open-end generation.\n",
            "Setting `pad_token_id` to `eos_token_id`:128001 for open-end generation.\n",
            "Setting `pad_token_id` to `eos_token_id`:128001 for open-end generation.\n"
          ]
        },
        {
          "name": "stdout",
          "output_type": "stream",
          "text": [
            "555th pred 7 ans 5\n",
            "556th pred 8 ans 9\n",
            "Skipping index 653 prompt You are a book recommender and your job is to predict a user's rating (ranging from 1 to 10, with 10 being the highest) on a book, based on that user's previous ratings.\n",
            "\n",
            "User 90259 has rated the following books:\n",
            "\n",
            "\"The Rapture of Canaan\" 3\n",
            "\"A Cold Heart (Alex Delaware Novels (Paperback))\" 8\n",
            "\"The Secret Life of Bees\" 8\n",
            "\"Birdy M/TV\" 7\n",
            "\n",
            "Predict the user's rating on \"Girl with a Pearl Earring\". Output the rating score only. Do not include other text. reponse 7 due to error: invalid literal for int() with base 10: '7.5'\n"
          ]
        },
        {
          "name": "stderr",
          "output_type": "stream",
          "text": [
            "Setting `pad_token_id` to `eos_token_id`:128001 for open-end generation.\n",
            "Setting `pad_token_id` to `eos_token_id`:128001 for open-end generation.\n",
            "Setting `pad_token_id` to `eos_token_id`:128001 for open-end generation.\n",
            "Setting `pad_token_id` to `eos_token_id`:128001 for open-end generation.\n"
          ]
        },
        {
          "name": "stdout",
          "output_type": "stream",
          "text": [
            "557th pred 9 ans 10\n",
            "558th pred 8 ans 9\n",
            "559th pred 8 ans 8\n",
            "560th pred 7 ans 4\n"
          ]
        },
        {
          "name": "stderr",
          "output_type": "stream",
          "text": [
            "Setting `pad_token_id` to `eos_token_id`:128001 for open-end generation.\n",
            "Setting `pad_token_id` to `eos_token_id`:128001 for open-end generation.\n",
            "Setting `pad_token_id` to `eos_token_id`:128001 for open-end generation.\n",
            "Setting `pad_token_id` to `eos_token_id`:128001 for open-end generation.\n"
          ]
        },
        {
          "name": "stdout",
          "output_type": "stream",
          "text": [
            "561th pred 9 ans 10\n",
            "562th pred 8 ans 7\n",
            "563th pred 8 ans 4\n",
            "564th pred 8 ans 7\n"
          ]
        },
        {
          "name": "stderr",
          "output_type": "stream",
          "text": [
            "Setting `pad_token_id` to `eos_token_id`:128001 for open-end generation.\n",
            "Setting `pad_token_id` to `eos_token_id`:128001 for open-end generation.\n",
            "Setting `pad_token_id` to `eos_token_id`:128001 for open-end generation.\n",
            "Setting `pad_token_id` to `eos_token_id`:128001 for open-end generation.\n"
          ]
        },
        {
          "name": "stdout",
          "output_type": "stream",
          "text": [
            "565th pred 8 ans 8\n",
            "566th pred 7 ans 8\n",
            "567th pred 8 ans 8\n",
            "568th pred 7 ans 5\n"
          ]
        },
        {
          "name": "stderr",
          "output_type": "stream",
          "text": [
            "Setting `pad_token_id` to `eos_token_id`:128001 for open-end generation.\n",
            "Setting `pad_token_id` to `eos_token_id`:128001 for open-end generation.\n"
          ]
        },
        {
          "name": "stdout",
          "output_type": "stream",
          "text": [
            "569th pred 8 ans 10\n",
            "Skipping index 667 prompt You are a book recommender and your job is to predict a user's rating (ranging from 1 to 10, with 10 being the highest) on a book, based on that user's previous ratings.\n",
            "\n",
            "User 92278 has rated the following books:\n",
            "\n",
            "\"Silent Witness\" 7\n",
            "\"Where the Heart Is (Oprah's Book Club (Paperback))\" 8\n",
            "\"Angela's Ashes (MMP) : A Memoir\" 10\n",
            "\"The Final Judgment\" 6\n",
            "\n",
            "Predict the user's rating on \"A Painted House\". Output the rating score only. Do not include other text. reponse 7 due to error: invalid literal for int() with base 10: '8.5'\n"
          ]
        },
        {
          "name": "stderr",
          "output_type": "stream",
          "text": [
            "Setting `pad_token_id` to `eos_token_id`:128001 for open-end generation.\n",
            "Setting `pad_token_id` to `eos_token_id`:128001 for open-end generation.\n",
            "Setting `pad_token_id` to `eos_token_id`:128001 for open-end generation.\n"
          ]
        },
        {
          "name": "stdout",
          "output_type": "stream",
          "text": [
            "Skipping index 668 prompt You are a book recommender and your job is to predict a user's rating (ranging from 1 to 10, with 10 being the highest) on a book, based on that user's previous ratings.\n",
            "\n",
            "User 92388 has rated the following books:\n",
            "\n",
            "\"You Know You're an E-mail Addict When... (Summersdale Humour: You Know You're A...)\" 6\n",
            "\"The Book of Lies\" 5\n",
            "\"Tudors (History in a Hurry)\" 6\n",
            "\"Worst Case Scenario Survival Handbook: Travel\" 7\n",
            "\n",
            "Predict the user's rating on \"The Silence of the Lambs\". Output the rating score only. Do not include other text. reponse 7 due to error: invalid literal for int() with base 10: '7.5'\n",
            "570th pred 8 ans 8\n",
            "Skipping index 670 prompt You are a book recommender and your job is to predict a user's rating (ranging from 1 to 10, with 10 being the highest) on a book, based on that user's previous ratings.\n",
            "\n",
            "User 92724 has rated the following books:\n",
            "\n",
            "\"Bel Canto: A Novel\" 9\n",
            "\"Angry Housewives Eating Bon Bons (Ballantine Reader's Circle)\" 8\n",
            "\"Scottish Girls About Town : And sixteen other Scottish women authors\" 7\n",
            "\"The Secret Life of Bees\" 10\n",
            "\n",
            "Predict the user's rating on \"God Save the Sweet Potato Queens\". Output the rating score only. Do not include other text. reponse 7 due to error: invalid literal for int() with base 10: '8.5'\n"
          ]
        },
        {
          "name": "stderr",
          "output_type": "stream",
          "text": [
            "Setting `pad_token_id` to `eos_token_id`:128001 for open-end generation.\n",
            "Setting `pad_token_id` to `eos_token_id`:128001 for open-end generation.\n",
            "Setting `pad_token_id` to `eos_token_id`:128001 for open-end generation.\n",
            "Setting `pad_token_id` to `eos_token_id`:128001 for open-end generation.\n"
          ]
        },
        {
          "name": "stdout",
          "output_type": "stream",
          "text": [
            "571th pred 9 ans 9\n",
            "572th pred 8 ans 7\n",
            "573th pred 9 ans 10\n",
            "574th pred 7 ans 6\n"
          ]
        },
        {
          "name": "stderr",
          "output_type": "stream",
          "text": [
            "Setting `pad_token_id` to `eos_token_id`:128001 for open-end generation.\n",
            "Setting `pad_token_id` to `eos_token_id`:128001 for open-end generation.\n",
            "Setting `pad_token_id` to `eos_token_id`:128001 for open-end generation.\n",
            "Setting `pad_token_id` to `eos_token_id`:128001 for open-end generation.\n"
          ]
        },
        {
          "name": "stdout",
          "output_type": "stream",
          "text": [
            "575th pred 9 ans 7\n",
            "576th pred 8 ans 10\n",
            "577th pred 8 ans 9\n",
            "578th pred 8 ans 10\n"
          ]
        },
        {
          "name": "stderr",
          "output_type": "stream",
          "text": [
            "Setting `pad_token_id` to `eos_token_id`:128001 for open-end generation.\n",
            "Setting `pad_token_id` to `eos_token_id`:128001 for open-end generation.\n",
            "Setting `pad_token_id` to `eos_token_id`:128001 for open-end generation.\n",
            "Setting `pad_token_id` to `eos_token_id`:128001 for open-end generation.\n"
          ]
        },
        {
          "name": "stdout",
          "output_type": "stream",
          "text": [
            "579th pred 8 ans 8\n",
            "580th pred 8 ans 7\n",
            "581th pred 8 ans 10\n",
            "582th pred 8 ans 9\n"
          ]
        },
        {
          "name": "stderr",
          "output_type": "stream",
          "text": [
            "Setting `pad_token_id` to `eos_token_id`:128001 for open-end generation.\n",
            "Setting `pad_token_id` to `eos_token_id`:128001 for open-end generation.\n",
            "Setting `pad_token_id` to `eos_token_id`:128001 for open-end generation.\n"
          ]
        },
        {
          "name": "stdout",
          "output_type": "stream",
          "text": [
            "583th pred 8 ans 8\n",
            "584th pred 8 ans 9\n",
            "Skipping index 685 prompt You are a book recommender and your job is to predict a user's rating (ranging from 1 to 10, with 10 being the highest) on a book, based on that user's previous ratings.\n",
            "\n",
            "User 94639 has rated the following books:\n",
            "\n",
            "\"Wickerby\" 7\n",
            "\"The Name of the World\" 6\n",
            "\"Lord of the Flies\" 8\n",
            "\"One Hundred Years of Solitude\" 9\n",
            "\n",
            "Predict the user's rating on \"The Lovely Bones: A Novel\". Output the rating score only. Do not include other text. reponse 7 due to error: invalid literal for int() with base 10: '8.2'\n"
          ]
        },
        {
          "name": "stderr",
          "output_type": "stream",
          "text": [
            "Setting `pad_token_id` to `eos_token_id`:128001 for open-end generation.\n",
            "Setting `pad_token_id` to `eos_token_id`:128001 for open-end generation.\n",
            "Setting `pad_token_id` to `eos_token_id`:128001 for open-end generation.\n",
            "Setting `pad_token_id` to `eos_token_id`:128001 for open-end generation.\n"
          ]
        },
        {
          "name": "stdout",
          "output_type": "stream",
          "text": [
            "585th pred 8 ans 2\n",
            "586th pred 9 ans 9\n",
            "587th pred 7 ans 5\n",
            "588th pred 8 ans 6\n"
          ]
        },
        {
          "name": "stderr",
          "output_type": "stream",
          "text": [
            "Setting `pad_token_id` to `eos_token_id`:128001 for open-end generation.\n",
            "Setting `pad_token_id` to `eos_token_id`:128001 for open-end generation.\n"
          ]
        },
        {
          "name": "stdout",
          "output_type": "stream",
          "text": [
            "589th pred 6 ans 5\n",
            "Skipping index 691 prompt You are a book recommender and your job is to predict a user's rating (ranging from 1 to 10, with 10 being the highest) on a book, based on that user's previous ratings.\n",
            "\n",
            "User 95269 has rated the following books:\n",
            "\n",
            "\"Thinner\" 6\n",
            "\"Bridget Jones's Diary\" 6\n",
            "\"Needful Things\" 7\n",
            "\"Toward Amnesia\" 5\n",
            "\n",
            "Predict the user's rating on \"A Woman of Independent Means\". Output the rating score only. Do not include other text. reponse 7 due to error: invalid literal for int() with base 10: '7.5'\n"
          ]
        },
        {
          "name": "stderr",
          "output_type": "stream",
          "text": [
            "Setting `pad_token_id` to `eos_token_id`:128001 for open-end generation.\n",
            "Setting `pad_token_id` to `eos_token_id`:128001 for open-end generation.\n",
            "Setting `pad_token_id` to `eos_token_id`:128001 for open-end generation.\n",
            "Setting `pad_token_id` to `eos_token_id`:128001 for open-end generation.\n"
          ]
        },
        {
          "name": "stdout",
          "output_type": "stream",
          "text": [
            "Skipping index 692 prompt You are a book recommender and your job is to predict a user's rating (ranging from 1 to 10, with 10 being the highest) on a book, based on that user's previous ratings.\n",
            "\n",
            "User 95287 has rated the following books:\n",
            "\n",
            "\"The Phantom of the Opera (Signet Classics (Paperback))\" 7\n",
            "\"Uncle Fred in the Springtime\" 8\n",
            "\"The Scarlet Letter\" 5\n",
            "\"Jeeves in the morning (Perennial library)\" 8\n",
            "\n",
            "Predict the user's rating on \"The Chronicles of Chrestomanci, Volume 1: Charmed Life / The Lives of Christopher Chant\". Output the rating score only. Do not include other text. reponse 7 due to error: invalid literal for int() with base 10: '8.3'\n",
            "590th pred 9 ans 10\n",
            "591th pred 8 ans 8\n",
            "592th pred 6 ans 6\n"
          ]
        },
        {
          "name": "stderr",
          "output_type": "stream",
          "text": [
            "Setting `pad_token_id` to `eos_token_id`:128001 for open-end generation.\n",
            "Setting `pad_token_id` to `eos_token_id`:128001 for open-end generation.\n",
            "Setting `pad_token_id` to `eos_token_id`:128001 for open-end generation.\n",
            "Setting `pad_token_id` to `eos_token_id`:128001 for open-end generation.\n"
          ]
        },
        {
          "name": "stdout",
          "output_type": "stream",
          "text": [
            "593th pred 8 ans 5\n",
            "594th pred 9 ans 10\n",
            "595th pred 7 ans 6\n",
            "596th pred 7 ans 5\n"
          ]
        },
        {
          "name": "stderr",
          "output_type": "stream",
          "text": [
            "Setting `pad_token_id` to `eos_token_id`:128001 for open-end generation.\n",
            "Setting `pad_token_id` to `eos_token_id`:128001 for open-end generation.\n",
            "Setting `pad_token_id` to `eos_token_id`:128001 for open-end generation.\n",
            "Setting `pad_token_id` to `eos_token_id`:128001 for open-end generation.\n"
          ]
        },
        {
          "name": "stdout",
          "output_type": "stream",
          "text": [
            "Skipping index 700 prompt You are a book recommender and your job is to predict a user's rating (ranging from 1 to 10, with 10 being the highest) on a book, based on that user's previous ratings.\n",
            "\n",
            "User 96103 has rated the following books:\n",
            "\n",
            "\"The Choice\" 8\n",
            "\"The Client\" 9\n",
            "\"Key Witness\" 9\n",
            "\"The Simple Truth\" 9\n",
            "\n",
            "Predict the user's rating on \"T-FACTOR DIET, THE\". Output the rating score only. Do not include other text. reponse 7 due to error: invalid literal for int() with base 10: '8.2'\n",
            "597th pred 7 ans 7\n",
            "598th pred 8 ans 8\n",
            "599th pred 8 ans 9\n"
          ]
        },
        {
          "name": "stderr",
          "output_type": "stream",
          "text": [
            "Setting `pad_token_id` to `eos_token_id`:128001 for open-end generation.\n",
            "Setting `pad_token_id` to `eos_token_id`:128001 for open-end generation.\n",
            "Setting `pad_token_id` to `eos_token_id`:128001 for open-end generation.\n",
            "Setting `pad_token_id` to `eos_token_id`:128001 for open-end generation.\n"
          ]
        },
        {
          "name": "stdout",
          "output_type": "stream",
          "text": [
            "600th pred 8 ans 4\n",
            "601th pred 7 ans 6\n",
            "602th pred 6 ans 2\n",
            "603th pred 9 ans 9\n"
          ]
        },
        {
          "name": "stderr",
          "output_type": "stream",
          "text": [
            "Setting `pad_token_id` to `eos_token_id`:128001 for open-end generation.\n",
            "Setting `pad_token_id` to `eos_token_id`:128001 for open-end generation.\n",
            "Setting `pad_token_id` to `eos_token_id`:128001 for open-end generation.\n",
            "Setting `pad_token_id` to `eos_token_id`:128001 for open-end generation.\n"
          ]
        },
        {
          "name": "stdout",
          "output_type": "stream",
          "text": [
            "604th pred 8 ans 6\n",
            "605th pred 8 ans 8\n",
            "606th pred 8 ans 9\n",
            "607th pred 8 ans 5\n"
          ]
        },
        {
          "name": "stderr",
          "output_type": "stream",
          "text": [
            "Setting `pad_token_id` to `eos_token_id`:128001 for open-end generation.\n",
            "Setting `pad_token_id` to `eos_token_id`:128001 for open-end generation.\n",
            "Setting `pad_token_id` to `eos_token_id`:128001 for open-end generation.\n",
            "Setting `pad_token_id` to `eos_token_id`:128001 for open-end generation.\n"
          ]
        },
        {
          "name": "stdout",
          "output_type": "stream",
          "text": [
            "608th pred 7 ans 10\n",
            "609th pred 8 ans 5\n",
            "610th pred 8 ans 9\n",
            "611th pred 8 ans 5\n"
          ]
        },
        {
          "name": "stderr",
          "output_type": "stream",
          "text": [
            "Setting `pad_token_id` to `eos_token_id`:128001 for open-end generation.\n",
            "Setting `pad_token_id` to `eos_token_id`:128001 for open-end generation.\n",
            "Setting `pad_token_id` to `eos_token_id`:128001 for open-end generation.\n",
            "Setting `pad_token_id` to `eos_token_id`:128001 for open-end generation.\n"
          ]
        },
        {
          "name": "stdout",
          "output_type": "stream",
          "text": [
            "612th pred 8 ans 8\n",
            "613th pred 8 ans 7\n",
            "614th pred 8 ans 9\n",
            "615th pred 7 ans 9\n"
          ]
        },
        {
          "name": "stderr",
          "output_type": "stream",
          "text": [
            "Setting `pad_token_id` to `eos_token_id`:128001 for open-end generation.\n",
            "Setting `pad_token_id` to `eos_token_id`:128001 for open-end generation.\n",
            "Setting `pad_token_id` to `eos_token_id`:128001 for open-end generation.\n",
            "Setting `pad_token_id` to `eos_token_id`:128001 for open-end generation.\n"
          ]
        },
        {
          "name": "stdout",
          "output_type": "stream",
          "text": [
            "616th pred 7 ans 10\n",
            "617th pred 7 ans 6\n",
            "618th pred 6 ans 7\n",
            "619th pred 8 ans 7\n"
          ]
        },
        {
          "name": "stderr",
          "output_type": "stream",
          "text": [
            "Setting `pad_token_id` to `eos_token_id`:128001 for open-end generation.\n",
            "Setting `pad_token_id` to `eos_token_id`:128001 for open-end generation.\n",
            "Setting `pad_token_id` to `eos_token_id`:128001 for open-end generation.\n"
          ]
        },
        {
          "name": "stdout",
          "output_type": "stream",
          "text": [
            "620th pred 8 ans 8\n",
            "Skipping index 725 prompt You are a book recommender and your job is to predict a user's rating (ranging from 1 to 10, with 10 being the highest) on a book, based on that user's previous ratings.\n",
            "\n",
            "User 99954 has rated the following books:\n",
            "\n",
            "\"DNA for Beginners\" 7\n",
            "\"Do Penguins Have Knees?\" 8\n",
            "\"A Woman's Guide to Loving Sex\" 5\n",
            "\"A Case of Need\" 6\n",
            "\n",
            "Predict the user's rating on \"The Day of the Triffids\". Output the rating score only. Do not include other text. reponse 7 due to error: invalid literal for int() with base 10: '6.5'\n",
            "621th pred 8 ans 7\n"
          ]
        },
        {
          "name": "stderr",
          "output_type": "stream",
          "text": [
            "Setting `pad_token_id` to `eos_token_id`:128001 for open-end generation.\n",
            "Setting `pad_token_id` to `eos_token_id`:128001 for open-end generation.\n",
            "Setting `pad_token_id` to `eos_token_id`:128001 for open-end generation.\n"
          ]
        },
        {
          "name": "stdout",
          "output_type": "stream",
          "text": [
            "622th pred 7 ans 7\n",
            "623th pred 7 ans 4\n",
            "Skipping index 729 prompt You are a book recommender and your job is to predict a user's rating (ranging from 1 to 10, with 10 being the highest) on a book, based on that user's previous ratings.\n",
            "\n",
            "User 100575 has rated the following books:\n",
            "\n",
            "\"Path Between The Seas : The Creation of the Panama Canal, 1870-1914\" 5\n",
            "\"All the Pretty Horses (The Border Trilogy, Vol 1)\" 8\n",
            "\"The Plague (Vintage International)\" 9\n",
            "\"Having Our Say : The Delany Sisters' First 100 Years\" 8\n",
            "\n",
            "Predict the user's rating on \"White Fang ;: And Call of the wild\". Output the rating score only. Do not include other text. reponse 7 due to error: invalid literal for int() with base 10: '7.3'\n"
          ]
        },
        {
          "name": "stderr",
          "output_type": "stream",
          "text": [
            "Setting `pad_token_id` to `eos_token_id`:128001 for open-end generation.\n",
            "Setting `pad_token_id` to `eos_token_id`:128001 for open-end generation.\n",
            "Setting `pad_token_id` to `eos_token_id`:128001 for open-end generation.\n"
          ]
        },
        {
          "name": "stdout",
          "output_type": "stream",
          "text": [
            "624th pred 7 ans 5\n",
            "625th pred 8 ans 8\n",
            "626th pred 8 ans 8\n"
          ]
        },
        {
          "name": "stderr",
          "output_type": "stream",
          "text": [
            "Setting `pad_token_id` to `eos_token_id`:128001 for open-end generation.\n",
            "Setting `pad_token_id` to `eos_token_id`:128001 for open-end generation.\n",
            "Setting `pad_token_id` to `eos_token_id`:128001 for open-end generation.\n",
            "Setting `pad_token_id` to `eos_token_id`:128001 for open-end generation.\n"
          ]
        },
        {
          "name": "stdout",
          "output_type": "stream",
          "text": [
            "Skipping index 733 prompt You are a book recommender and your job is to predict a user's rating (ranging from 1 to 10, with 10 being the highest) on a book, based on that user's previous ratings.\n",
            "\n",
            "User 101150 has rated the following books:\n",
            "\n",
            "\"Daughter of Fortune\" 5\n",
            "\"The Heart of a Woman\" 7\n",
            "\"Girl in Hyacinth Blue\" 8\n",
            "\"In the Lake of the Woods\" 8\n",
            "\n",
            "Predict the user's rating on \"Mutant Message Down Under\". Output the rating score only. Do not include other text. reponse 7 due to error: invalid literal for int() with base 10: '7.3'\n",
            "627th pred 8 ans 9\n",
            "628th pred 7 ans 10\n",
            "629th pred 8 ans 6\n"
          ]
        },
        {
          "name": "stderr",
          "output_type": "stream",
          "text": [
            "Setting `pad_token_id` to `eos_token_id`:128001 for open-end generation.\n",
            "Setting `pad_token_id` to `eos_token_id`:128001 for open-end generation.\n",
            "Setting `pad_token_id` to `eos_token_id`:128001 for open-end generation.\n",
            "Setting `pad_token_id` to `eos_token_id`:128001 for open-end generation.\n"
          ]
        },
        {
          "name": "stdout",
          "output_type": "stream",
          "text": [
            "630th pred 7 ans 10\n",
            "631th pred 8 ans 7\n",
            "632th pred 8 ans 6\n",
            "633th pred 8 ans 8\n"
          ]
        },
        {
          "name": "stderr",
          "output_type": "stream",
          "text": [
            "Setting `pad_token_id` to `eos_token_id`:128001 for open-end generation.\n",
            "Setting `pad_token_id` to `eos_token_id`:128001 for open-end generation.\n",
            "Setting `pad_token_id` to `eos_token_id`:128001 for open-end generation.\n",
            "Setting `pad_token_id` to `eos_token_id`:128001 for open-end generation.\n"
          ]
        },
        {
          "name": "stdout",
          "output_type": "stream",
          "text": [
            "634th pred 8 ans 7\n",
            "635th pred 8 ans 7\n",
            "636th pred 8 ans 9\n",
            "637th pred 6 ans 5\n"
          ]
        },
        {
          "name": "stderr",
          "output_type": "stream",
          "text": [
            "Setting `pad_token_id` to `eos_token_id`:128001 for open-end generation.\n",
            "Setting `pad_token_id` to `eos_token_id`:128001 for open-end generation.\n",
            "Setting `pad_token_id` to `eos_token_id`:128001 for open-end generation.\n"
          ]
        },
        {
          "name": "stdout",
          "output_type": "stream",
          "text": [
            "638th pred 8 ans 7\n",
            "639th pred 8 ans 7\n",
            "640th pred 6 ans 5\n"
          ]
        },
        {
          "name": "stderr",
          "output_type": "stream",
          "text": [
            "Setting `pad_token_id` to `eos_token_id`:128001 for open-end generation.\n",
            "Setting `pad_token_id` to `eos_token_id`:128001 for open-end generation.\n",
            "Setting `pad_token_id` to `eos_token_id`:128001 for open-end generation.\n",
            "Setting `pad_token_id` to `eos_token_id`:128001 for open-end generation.\n"
          ]
        },
        {
          "name": "stdout",
          "output_type": "stream",
          "text": [
            "Skipping index 748 prompt You are a book recommender and your job is to predict a user's rating (ranging from 1 to 10, with 10 being the highest) on a book, based on that user's previous ratings.\n",
            "\n",
            "User 103828 has rated the following books:\n",
            "\n",
            "\"Beyond News of the Weird\" 8\n",
            "\"A Child Called \\It\\\": One Child's Courage to Survive\"\" 9\n",
            "\"Chocolat\" 7\n",
            "\"Girlfriends Talk About Men: Sharing Secrets for a Great Relationship\" 5\n",
            "\n",
            "Predict the user's rating on \"A Map of the World\". Output the rating score only. Do not include other text. reponse 7 due to error: invalid literal for int() with base 10: '8.4'\n",
            "641th pred 8 ans 8\n",
            "642th pred 7 ans 9\n",
            "643th pred 8 ans 8\n"
          ]
        },
        {
          "name": "stderr",
          "output_type": "stream",
          "text": [
            "Setting `pad_token_id` to `eos_token_id`:128001 for open-end generation.\n",
            "Setting `pad_token_id` to `eos_token_id`:128001 for open-end generation.\n",
            "Setting `pad_token_id` to `eos_token_id`:128001 for open-end generation.\n"
          ]
        },
        {
          "name": "stdout",
          "output_type": "stream",
          "text": [
            "644th pred 7 ans 7\n",
            "Skipping index 753 prompt You are a book recommender and your job is to predict a user's rating (ranging from 1 to 10, with 10 being the highest) on a book, based on that user's previous ratings.\n",
            "\n",
            "User 104469 has rated the following books:\n",
            "\n",
            "\"The Jury\" 7\n",
            "\"The Arraignment\" 8\n",
            "\"The Spire\" 4\n",
            "\"Unfit to Practice\" 8\n",
            "\n",
            "Predict the user's rating on \"The Beach House\". Output the rating score only. Do not include other text. reponse 7 due to error: invalid literal for int() with base 10: '7.2'\n",
            "645th pred 8 ans 7\n"
          ]
        },
        {
          "name": "stderr",
          "output_type": "stream",
          "text": [
            "Setting `pad_token_id` to `eos_token_id`:128001 for open-end generation.\n",
            "Setting `pad_token_id` to `eos_token_id`:128001 for open-end generation.\n",
            "Setting `pad_token_id` to `eos_token_id`:128001 for open-end generation.\n"
          ]
        },
        {
          "name": "stdout",
          "output_type": "stream",
          "text": [
            "646th pred 7 ans 6\n",
            "647th pred 9 ans 10\n",
            "648th pred 8 ans 10\n"
          ]
        },
        {
          "name": "stderr",
          "output_type": "stream",
          "text": [
            "Setting `pad_token_id` to `eos_token_id`:128001 for open-end generation.\n",
            "Setting `pad_token_id` to `eos_token_id`:128001 for open-end generation.\n",
            "Setting `pad_token_id` to `eos_token_id`:128001 for open-end generation.\n",
            "Setting `pad_token_id` to `eos_token_id`:128001 for open-end generation.\n"
          ]
        },
        {
          "name": "stdout",
          "output_type": "stream",
          "text": [
            "Skipping index 758 prompt You are a book recommender and your job is to predict a user's rating (ranging from 1 to 10, with 10 being the highest) on a book, based on that user's previous ratings.\n",
            "\n",
            "User 105175 has rated the following books:\n",
            "\n",
            "\"Die Schlange.\" 3\n",
            "\"JAVA als erste Programmiersprache. - vom Einsteiger zum Profi\" 7\n",
            "\"Die groÃ?Â?en Vier.\" 8\n",
            "\"Die Schattenhand.\" 6\n",
            "\n",
            "Predict the user's rating on \"September\". Output the rating score only. Do not include other text. reponse 7 due to error: invalid literal for int() with base 10: '6.5'\n",
            "649th pred 8 ans 8\n",
            "650th pred 7 ans 5\n",
            "651th pred 8 ans 9\n"
          ]
        },
        {
          "name": "stderr",
          "output_type": "stream",
          "text": [
            "Setting `pad_token_id` to `eos_token_id`:128001 for open-end generation.\n",
            "Setting `pad_token_id` to `eos_token_id`:128001 for open-end generation.\n",
            "Setting `pad_token_id` to `eos_token_id`:128001 for open-end generation.\n",
            "Setting `pad_token_id` to `eos_token_id`:128001 for open-end generation.\n"
          ]
        },
        {
          "name": "stdout",
          "output_type": "stream",
          "text": [
            "Skipping index 762 prompt You are a book recommender and your job is to predict a user's rating (ranging from 1 to 10, with 10 being the highest) on a book, based on that user's previous ratings.\n",
            "\n",
            "User 105450 has rated the following books:\n",
            "\n",
            "\"Jetcat Clubhouse\" 8\n",
            "\"Asterix and the Great Divide (Asterix Comic)\" 10\n",
            "\"Asterix and the Laurel Wreath\" 9\n",
            "\"Asterix in Switzerland\" 9\n",
            "\n",
            "Predict the user's rating on \"Fireworks 3 Bible (with CD-ROM)\". Output the rating score only. Do not include other text. reponse 7 due to error: invalid literal for int() with base 10: '8.5'\n",
            "652th pred 8 ans 7\n",
            "653th pred 7 ans 8\n",
            "654th pred 7 ans 9\n"
          ]
        },
        {
          "name": "stderr",
          "output_type": "stream",
          "text": [
            "Setting `pad_token_id` to `eos_token_id`:128001 for open-end generation.\n",
            "Setting `pad_token_id` to `eos_token_id`:128001 for open-end generation.\n",
            "Setting `pad_token_id` to `eos_token_id`:128001 for open-end generation.\n",
            "Setting `pad_token_id` to `eos_token_id`:128001 for open-end generation.\n"
          ]
        },
        {
          "name": "stdout",
          "output_type": "stream",
          "text": [
            "655th pred 7 ans 6\n",
            "656th pred 7 ans 5\n",
            "657th pred 7 ans 5\n",
            "658th pred 9 ans 6\n"
          ]
        },
        {
          "name": "stderr",
          "output_type": "stream",
          "text": [
            "Setting `pad_token_id` to `eos_token_id`:128001 for open-end generation.\n",
            "Setting `pad_token_id` to `eos_token_id`:128001 for open-end generation.\n",
            "Setting `pad_token_id` to `eos_token_id`:128001 for open-end generation.\n",
            "Setting `pad_token_id` to `eos_token_id`:128001 for open-end generation.\n"
          ]
        },
        {
          "name": "stdout",
          "output_type": "stream",
          "text": [
            "659th pred 10 ans 10\n",
            "660th pred 8 ans 8\n",
            "661th pred 8 ans 5\n",
            "662th pred 8 ans 10\n"
          ]
        },
        {
          "name": "stderr",
          "output_type": "stream",
          "text": [
            "Setting `pad_token_id` to `eos_token_id`:128001 for open-end generation.\n",
            "Setting `pad_token_id` to `eos_token_id`:128001 for open-end generation.\n",
            "Setting `pad_token_id` to `eos_token_id`:128001 for open-end generation.\n",
            "Setting `pad_token_id` to `eos_token_id`:128001 for open-end generation.\n"
          ]
        },
        {
          "name": "stdout",
          "output_type": "stream",
          "text": [
            "663th pred 7 ans 7\n",
            "664th pred 8 ans 8\n",
            "665th pred 8 ans 9\n",
            "666th pred 7 ans 8\n"
          ]
        },
        {
          "name": "stderr",
          "output_type": "stream",
          "text": [
            "Setting `pad_token_id` to `eos_token_id`:128001 for open-end generation.\n",
            "Setting `pad_token_id` to `eos_token_id`:128001 for open-end generation.\n",
            "Setting `pad_token_id` to `eos_token_id`:128001 for open-end generation.\n"
          ]
        },
        {
          "name": "stdout",
          "output_type": "stream",
          "text": [
            "667th pred 8 ans 6\n",
            "668th pred 6 ans 5\n",
            "669th pred 8 ans 7\n"
          ]
        },
        {
          "name": "stderr",
          "output_type": "stream",
          "text": [
            "Setting `pad_token_id` to `eos_token_id`:128001 for open-end generation.\n",
            "Setting `pad_token_id` to `eos_token_id`:128001 for open-end generation.\n",
            "Setting `pad_token_id` to `eos_token_id`:128001 for open-end generation.\n",
            "Setting `pad_token_id` to `eos_token_id`:128001 for open-end generation.\n"
          ]
        },
        {
          "name": "stdout",
          "output_type": "stream",
          "text": [
            "Skipping index 781 prompt You are a book recommender and your job is to predict a user's rating (ranging from 1 to 10, with 10 being the highest) on a book, based on that user's previous ratings.\n",
            "\n",
            "User 107140 has rated the following books:\n",
            "\n",
            "\"Cold Mountain\" 8\n",
            "\"The Street Lawyer\" 8\n",
            "\"Reversible Errors: A Novel\" 9\n",
            "\"The Running Mate\" 8\n",
            "\n",
            "Predict the user's rating on \"The Client (Large Print)\". Output the rating score only. Do not include other text. reponse 7 due to error: invalid literal for int() with base 10: '8.5'\n",
            "670th pred 8 ans 9\n",
            "671th pred 7 ans 6\n",
            "672th pred 8 ans 8\n"
          ]
        },
        {
          "name": "stderr",
          "output_type": "stream",
          "text": [
            "Setting `pad_token_id` to `eos_token_id`:128001 for open-end generation.\n",
            "Setting `pad_token_id` to `eos_token_id`:128001 for open-end generation.\n",
            "Setting `pad_token_id` to `eos_token_id`:128001 for open-end generation.\n",
            "Setting `pad_token_id` to `eos_token_id`:128001 for open-end generation.\n"
          ]
        },
        {
          "name": "stdout",
          "output_type": "stream",
          "text": [
            "673th pred 8 ans 10\n",
            "674th pred 8 ans 10\n",
            "675th pred 8 ans 9\n",
            "676th pred 7 ans 10\n"
          ]
        },
        {
          "name": "stderr",
          "output_type": "stream",
          "text": [
            "Setting `pad_token_id` to `eos_token_id`:128001 for open-end generation.\n",
            "Setting `pad_token_id` to `eos_token_id`:128001 for open-end generation.\n",
            "Setting `pad_token_id` to `eos_token_id`:128001 for open-end generation.\n",
            "Setting `pad_token_id` to `eos_token_id`:128001 for open-end generation.\n"
          ]
        },
        {
          "name": "stdout",
          "output_type": "stream",
          "text": [
            "677th pred 8 ans 5\n",
            "678th pred 8 ans 7\n",
            "679th pred 6 ans 7\n",
            "680th pred 8 ans 8\n"
          ]
        },
        {
          "name": "stderr",
          "output_type": "stream",
          "text": [
            "Setting `pad_token_id` to `eos_token_id`:128001 for open-end generation.\n",
            "Setting `pad_token_id` to `eos_token_id`:128001 for open-end generation.\n",
            "Setting `pad_token_id` to `eos_token_id`:128001 for open-end generation.\n",
            "Setting `pad_token_id` to `eos_token_id`:128001 for open-end generation.\n"
          ]
        },
        {
          "name": "stdout",
          "output_type": "stream",
          "text": [
            "681th pred 7 ans 7\n",
            "682th pred 8 ans 10\n",
            "683th pred 9 ans 8\n",
            "684th pred 8 ans 5\n"
          ]
        },
        {
          "name": "stderr",
          "output_type": "stream",
          "text": [
            "Setting `pad_token_id` to `eos_token_id`:128001 for open-end generation.\n",
            "Setting `pad_token_id` to `eos_token_id`:128001 for open-end generation.\n",
            "Setting `pad_token_id` to `eos_token_id`:128001 for open-end generation.\n",
            "Setting `pad_token_id` to `eos_token_id`:128001 for open-end generation.\n"
          ]
        },
        {
          "name": "stdout",
          "output_type": "stream",
          "text": [
            "685th pred 7 ans 6\n",
            "686th pred 8 ans 5\n",
            "687th pred 8 ans 7\n",
            "688th pred 9 ans 10\n"
          ]
        },
        {
          "name": "stderr",
          "output_type": "stream",
          "text": [
            "Setting `pad_token_id` to `eos_token_id`:128001 for open-end generation.\n",
            "Setting `pad_token_id` to `eos_token_id`:128001 for open-end generation.\n",
            "Setting `pad_token_id` to `eos_token_id`:128001 for open-end generation.\n",
            "Setting `pad_token_id` to `eos_token_id`:128001 for open-end generation.\n"
          ]
        },
        {
          "name": "stdout",
          "output_type": "stream",
          "text": [
            "689th pred 7 ans 7\n",
            "690th pred 7 ans 7\n",
            "691th pred 7 ans 1\n",
            "692th pred 7 ans 7\n"
          ]
        },
        {
          "name": "stderr",
          "output_type": "stream",
          "text": [
            "Setting `pad_token_id` to `eos_token_id`:128001 for open-end generation.\n",
            "Setting `pad_token_id` to `eos_token_id`:128001 for open-end generation.\n",
            "Setting `pad_token_id` to `eos_token_id`:128001 for open-end generation.\n"
          ]
        },
        {
          "name": "stdout",
          "output_type": "stream",
          "text": [
            "693th pred 8 ans 10\n",
            "694th pred 8 ans 5\n",
            "695th pred 8 ans 9\n"
          ]
        },
        {
          "name": "stderr",
          "output_type": "stream",
          "text": [
            "Setting `pad_token_id` to `eos_token_id`:128001 for open-end generation.\n",
            "Setting `pad_token_id` to `eos_token_id`:128001 for open-end generation.\n",
            "Setting `pad_token_id` to `eos_token_id`:128001 for open-end generation.\n",
            "Setting `pad_token_id` to `eos_token_id`:128001 for open-end generation.\n"
          ]
        },
        {
          "name": "stdout",
          "output_type": "stream",
          "text": [
            "Skipping index 808 prompt You are a book recommender and your job is to predict a user's rating (ranging from 1 to 10, with 10 being the highest) on a book, based on that user's previous ratings.\n",
            "\n",
            "User 110988 has rated the following books:\n",
            "\n",
            "\"Terminal\" 7\n",
            "\"Angela's Ashes (Wheeler Large Print Press (large print paper))\" 7\n",
            "\"The Persecutor\" 8\n",
            "\"Another Homecoming\" 7\n",
            "\n",
            "Predict the user's rating on \"Coma (Signet Books)\". Output the rating score only. Do not include other text. reponse 7 due to error: invalid literal for int() with base 10: '6.5'\n",
            "696th pred 7 ans 9\n",
            "697th pred 7 ans 9\n",
            "698th pred 8 ans 5\n"
          ]
        },
        {
          "name": "stderr",
          "output_type": "stream",
          "text": [
            "Setting `pad_token_id` to `eos_token_id`:128001 for open-end generation.\n",
            "Setting `pad_token_id` to `eos_token_id`:128001 for open-end generation.\n",
            "Setting `pad_token_id` to `eos_token_id`:128001 for open-end generation.\n",
            "Setting `pad_token_id` to `eos_token_id`:128001 for open-end generation.\n"
          ]
        },
        {
          "name": "stdout",
          "output_type": "stream",
          "text": [
            "699th pred 8 ans 9\n",
            "700th pred 7 ans 9\n",
            "701th pred 7 ans 7\n",
            "702th pred 7 ans 5\n"
          ]
        },
        {
          "name": "stderr",
          "output_type": "stream",
          "text": [
            "Setting `pad_token_id` to `eos_token_id`:128001 for open-end generation.\n",
            "Setting `pad_token_id` to `eos_token_id`:128001 for open-end generation.\n",
            "Setting `pad_token_id` to `eos_token_id`:128001 for open-end generation.\n"
          ]
        },
        {
          "name": "stdout",
          "output_type": "stream",
          "text": [
            "703th pred 8 ans 7\n",
            "704th pred 8 ans 7\n",
            "Skipping index 818 prompt You are a book recommender and your job is to predict a user's rating (ranging from 1 to 10, with 10 being the highest) on a book, based on that user's previous ratings.\n",
            "\n",
            "User 111749 has rated the following books:\n",
            "\n",
            "\"Tenth Commandment\" 6\n",
            "\"A 3rd Serving of Chicken Soup for the Soul (Chicken Soup for the Soul Series (Paper))\" 7\n",
            "\"ANGELA'S ASHES\" 8\n",
            "\"The Kitchen God's Wife\" 7\n",
            "\n",
            "Predict the user's rating on \"The Joy of Not Working\". Output the rating score only. Do not include other text. reponse 7 due to error: invalid literal for int() with base 10: '7.5'\n"
          ]
        },
        {
          "name": "stderr",
          "output_type": "stream",
          "text": [
            "Setting `pad_token_id` to `eos_token_id`:128001 for open-end generation.\n",
            "Setting `pad_token_id` to `eos_token_id`:128001 for open-end generation.\n",
            "Setting `pad_token_id` to `eos_token_id`:128001 for open-end generation.\n",
            "Setting `pad_token_id` to `eos_token_id`:128001 for open-end generation.\n"
          ]
        },
        {
          "name": "stdout",
          "output_type": "stream",
          "text": [
            "705th pred 8 ans 8\n",
            "706th pred 7 ans 5\n",
            "707th pred 8 ans 8\n",
            "708th pred 7 ans 5\n"
          ]
        },
        {
          "name": "stderr",
          "output_type": "stream",
          "text": [
            "Setting `pad_token_id` to `eos_token_id`:128001 for open-end generation.\n",
            "Setting `pad_token_id` to `eos_token_id`:128001 for open-end generation.\n",
            "Setting `pad_token_id` to `eos_token_id`:128001 for open-end generation.\n"
          ]
        },
        {
          "name": "stdout",
          "output_type": "stream",
          "text": [
            "709th pred 8 ans 5\n",
            "710th pred 8 ans 8\n",
            "711th pred 8 ans 8\n"
          ]
        },
        {
          "name": "stderr",
          "output_type": "stream",
          "text": [
            "Setting `pad_token_id` to `eos_token_id`:128001 for open-end generation.\n",
            "Setting `pad_token_id` to `eos_token_id`:128001 for open-end generation.\n",
            "Setting `pad_token_id` to `eos_token_id`:128001 for open-end generation.\n"
          ]
        },
        {
          "name": "stdout",
          "output_type": "stream",
          "text": [
            "Skipping index 826 prompt You are a book recommender and your job is to predict a user's rating (ranging from 1 to 10, with 10 being the highest) on a book, based on that user's previous ratings.\n",
            "\n",
            "User 113203 has rated the following books:\n",
            "\n",
            "\"She Who Remembers\" 8\n",
            "\"Macbeth (New Penguin Shakespeare)\" 8\n",
            "\"The Little Prince\" 9\n",
            "\"Road Taken\" 8\n",
            "\n",
            "Predict the user's rating on \"Neuromancer (Remembering Tomorrow)\". Output the rating score only. Do not include other text. reponse 7 due to error: invalid literal for int() with base 10: '8.5'\n",
            "Skipping index 827 prompt You are a book recommender and your job is to predict a user's rating (ranging from 1 to 10, with 10 being the highest) on a book, based on that user's previous ratings.\n",
            "\n",
            "User 113328 has rated the following books:\n",
            "\n",
            "\"The Testament\" 10\n",
            "\"The Novel\" 8\n",
            "\"Timeline\" 9\n",
            "\"The Indwelling: The Beast Takes Possession (Left Behind #7)\" 10\n",
            "\n",
            "Predict the user's rating on \"Atlantis Found\". Output the rating score only. Do not include other text. reponse 7 due to error: invalid literal for int() with base 10: '8.5'\n",
            "712th pred 6 ans 7\n"
          ]
        },
        {
          "name": "stderr",
          "output_type": "stream",
          "text": [
            "Setting `pad_token_id` to `eos_token_id`:128001 for open-end generation.\n",
            "Setting `pad_token_id` to `eos_token_id`:128001 for open-end generation.\n",
            "Setting `pad_token_id` to `eos_token_id`:128001 for open-end generation.\n"
          ]
        },
        {
          "name": "stdout",
          "output_type": "stream",
          "text": [
            "713th pred 8 ans 5\n",
            "714th pred 9 ans 5\n",
            "715th pred 8 ans 9\n"
          ]
        },
        {
          "name": "stderr",
          "output_type": "stream",
          "text": [
            "Setting `pad_token_id` to `eos_token_id`:128001 for open-end generation.\n",
            "Setting `pad_token_id` to `eos_token_id`:128001 for open-end generation.\n",
            "Setting `pad_token_id` to `eos_token_id`:128001 for open-end generation.\n",
            "Setting `pad_token_id` to `eos_token_id`:128001 for open-end generation.\n"
          ]
        },
        {
          "name": "stdout",
          "output_type": "stream",
          "text": [
            "Skipping index 832 prompt You are a book recommender and your job is to predict a user's rating (ranging from 1 to 10, with 10 being the highest) on a book, based on that user's previous ratings.\n",
            "\n",
            "User 114483 has rated the following books:\n",
            "\n",
            "\"Mirror Image\" 8\n",
            "\"Sushi for Beginners\" 7\n",
            "\"The Gift\" 8\n",
            "\"Wings\" 8\n",
            "\n",
            "Predict the user's rating on \"The Long Road Home\". Output the rating score only. Do not include other text. reponse 7 due to error: invalid literal for int() with base 10: '8.4'\n",
            "716th pred 8 ans 10\n",
            "717th pred 8 ans 6\n",
            "718th pred 7 ans 7\n"
          ]
        },
        {
          "name": "stderr",
          "output_type": "stream",
          "text": [
            "Setting `pad_token_id` to `eos_token_id`:128001 for open-end generation.\n",
            "Setting `pad_token_id` to `eos_token_id`:128001 for open-end generation.\n",
            "Setting `pad_token_id` to `eos_token_id`:128001 for open-end generation.\n",
            "Setting `pad_token_id` to `eos_token_id`:128001 for open-end generation.\n"
          ]
        },
        {
          "name": "stdout",
          "output_type": "stream",
          "text": [
            "719th pred 8 ans 9\n",
            "720th pred 9 ans 8\n",
            "721th pred 7 ans 8\n",
            "722th pred 7 ans 7\n"
          ]
        },
        {
          "name": "stderr",
          "output_type": "stream",
          "text": [
            "Setting `pad_token_id` to `eos_token_id`:128001 for open-end generation.\n",
            "Setting `pad_token_id` to `eos_token_id`:128001 for open-end generation.\n",
            "Setting `pad_token_id` to `eos_token_id`:128001 for open-end generation.\n",
            "Setting `pad_token_id` to `eos_token_id`:128001 for open-end generation.\n"
          ]
        },
        {
          "name": "stdout",
          "output_type": "stream",
          "text": [
            "723th pred 7 ans 7\n",
            "724th pred 7 ans 9\n",
            "725th pred 9 ans 8\n",
            "726th pred 8 ans 10\n"
          ]
        },
        {
          "name": "stderr",
          "output_type": "stream",
          "text": [
            "Setting `pad_token_id` to `eos_token_id`:128001 for open-end generation.\n",
            "Setting `pad_token_id` to `eos_token_id`:128001 for open-end generation.\n",
            "Setting `pad_token_id` to `eos_token_id`:128001 for open-end generation.\n"
          ]
        },
        {
          "name": "stdout",
          "output_type": "stream",
          "text": [
            "727th pred 8 ans 4\n",
            "728th pred 6 ans 9\n",
            "Skipping index 846 prompt You are a book recommender and your job is to predict a user's rating (ranging from 1 to 10, with 10 being the highest) on a book, based on that user's previous ratings.\n",
            "\n",
            "User 115847 has rated the following books:\n",
            "\n",
            "\"Katherine\" 8\n",
            "\"Naked\" 9\n",
            "\"Horace Afoot\" 7\n",
            "\"Trash\" 8\n",
            "\n",
            "Predict the user's rating on \"The Bonesetter's Daughter\". Output the rating score only. Do not include other text. reponse 7 due to error: invalid literal for int() with base 10: '7.5'\n"
          ]
        },
        {
          "name": "stderr",
          "output_type": "stream",
          "text": [
            "Setting `pad_token_id` to `eos_token_id`:128001 for open-end generation.\n",
            "Setting `pad_token_id` to `eos_token_id`:128001 for open-end generation.\n",
            "Setting `pad_token_id` to `eos_token_id`:128001 for open-end generation.\n",
            "Setting `pad_token_id` to `eos_token_id`:128001 for open-end generation.\n"
          ]
        },
        {
          "name": "stdout",
          "output_type": "stream",
          "text": [
            "729th pred 7 ans 5\n",
            "730th pred 8 ans 7\n",
            "731th pred 8 ans 7\n",
            "732th pred 7 ans 6\n"
          ]
        },
        {
          "name": "stderr",
          "output_type": "stream",
          "text": [
            "Setting `pad_token_id` to `eos_token_id`:128001 for open-end generation.\n",
            "Setting `pad_token_id` to `eos_token_id`:128001 for open-end generation.\n",
            "Setting `pad_token_id` to `eos_token_id`:128001 for open-end generation.\n",
            "Setting `pad_token_id` to `eos_token_id`:128001 for open-end generation.\n"
          ]
        },
        {
          "name": "stdout",
          "output_type": "stream",
          "text": [
            "733th pred 9 ans 8\n",
            "734th pred 7 ans 7\n",
            "735th pred 8 ans 10\n",
            "736th pred 8 ans 6\n"
          ]
        },
        {
          "name": "stderr",
          "output_type": "stream",
          "text": [
            "Setting `pad_token_id` to `eos_token_id`:128001 for open-end generation.\n",
            "Setting `pad_token_id` to `eos_token_id`:128001 for open-end generation.\n"
          ]
        },
        {
          "name": "stdout",
          "output_type": "stream",
          "text": [
            "737th pred 7 ans 8\n",
            "Skipping index 856 prompt You are a book recommender and your job is to predict a user's rating (ranging from 1 to 10, with 10 being the highest) on a book, based on that user's previous ratings.\n",
            "\n",
            "User 117041 has rated the following books:\n",
            "\n",
            "\"Beloved (Plume Contemporary Fiction)\" 8\n",
            "\"A Judgement in Stone\" 10\n",
            "\"The Lost Steps\" 7\n",
            "\"Out of Africa ; and, Shadows on the grass\" 5\n",
            "\n",
            "Predict the user's rating on \"Kaaterskill Falls\". Output the rating score only. Do not include other text. reponse 7 due to error: invalid literal for int() with base 10: '8.5'\n"
          ]
        },
        {
          "name": "stderr",
          "output_type": "stream",
          "text": [
            "Setting `pad_token_id` to `eos_token_id`:128001 for open-end generation.\n",
            "Setting `pad_token_id` to `eos_token_id`:128001 for open-end generation.\n",
            "Setting `pad_token_id` to `eos_token_id`:128001 for open-end generation.\n",
            "Setting `pad_token_id` to `eos_token_id`:128001 for open-end generation.\n"
          ]
        },
        {
          "name": "stdout",
          "output_type": "stream",
          "text": [
            "Skipping index 857 prompt You are a book recommender and your job is to predict a user's rating (ranging from 1 to 10, with 10 being the highest) on a book, based on that user's previous ratings.\n",
            "\n",
            "User 117164 has rated the following books:\n",
            "\n",
            "\"The Lovely Bones: A Novel\" 4\n",
            "\"Open House\" 8\n",
            "\"Icy Sparks\" 7\n",
            "\"Shades of Grace\" 8\n",
            "\n",
            "Predict the user's rating on \"The Red Tent (Bestselling Backlist)\". Output the rating score only. Do not include other text. reponse 7 due to error: invalid literal for int() with base 10: '7.4'\n",
            "738th pred 7 ans 8\n",
            "739th pred 9 ans 8\n",
            "740th pred 8 ans 9\n"
          ]
        },
        {
          "name": "stderr",
          "output_type": "stream",
          "text": [
            "Setting `pad_token_id` to `eos_token_id`:128001 for open-end generation.\n",
            "Setting `pad_token_id` to `eos_token_id`:128001 for open-end generation.\n",
            "Setting `pad_token_id` to `eos_token_id`:128001 for open-end generation.\n",
            "Setting `pad_token_id` to `eos_token_id`:128001 for open-end generation.\n"
          ]
        },
        {
          "name": "stdout",
          "output_type": "stream",
          "text": [
            "741th pred 8 ans 8\n",
            "742th pred 6 ans 5\n",
            "743th pred 8 ans 5\n",
            "744th pred 8 ans 10\n"
          ]
        },
        {
          "name": "stderr",
          "output_type": "stream",
          "text": [
            "Setting `pad_token_id` to `eos_token_id`:128001 for open-end generation.\n",
            "Setting `pad_token_id` to `eos_token_id`:128001 for open-end generation.\n",
            "Setting `pad_token_id` to `eos_token_id`:128001 for open-end generation.\n",
            "Setting `pad_token_id` to `eos_token_id`:128001 for open-end generation.\n"
          ]
        },
        {
          "name": "stdout",
          "output_type": "stream",
          "text": [
            "745th pred 8 ans 6\n",
            "746th pred 7 ans 5\n",
            "747th pred 6 ans 6\n",
            "748th pred 7 ans 10\n"
          ]
        },
        {
          "name": "stderr",
          "output_type": "stream",
          "text": [
            "Setting `pad_token_id` to `eos_token_id`:128001 for open-end generation.\n",
            "Setting `pad_token_id` to `eos_token_id`:128001 for open-end generation.\n",
            "Setting `pad_token_id` to `eos_token_id`:128001 for open-end generation.\n"
          ]
        },
        {
          "name": "stdout",
          "output_type": "stream",
          "text": [
            "749th pred 6 ans 10\n",
            "Skipping index 870 prompt You are a book recommender and your job is to predict a user's rating (ranging from 1 to 10, with 10 being the highest) on a book, based on that user's previous ratings.\n",
            "\n",
            "User 120090 has rated the following books:\n",
            "\n",
            "\"Harry Potter and the Chamber of Secrets (Book 2)\" 9\n",
            "\"Clear and Present Danger\" 8\n",
            "\"Tis : A Memoir\" 8\n",
            "\"The Divine Secrets of the Ya-Ya Sisterhood: A Novel\" 9\n",
            "\n",
            "Predict the user's rating on \"Scimitar\". Output the rating score only. Do not include other text. reponse 7 due to error: invalid literal for int() with base 10: '7.3'\n",
            "750th pred 6 ans 7\n"
          ]
        },
        {
          "name": "stderr",
          "output_type": "stream",
          "text": [
            "Setting `pad_token_id` to `eos_token_id`:128001 for open-end generation.\n",
            "Setting `pad_token_id` to `eos_token_id`:128001 for open-end generation.\n",
            "Setting `pad_token_id` to `eos_token_id`:128001 for open-end generation.\n",
            "Setting `pad_token_id` to `eos_token_id`:128001 for open-end generation.\n"
          ]
        },
        {
          "name": "stdout",
          "output_type": "stream",
          "text": [
            "751th pred 9 ans 10\n",
            "752th pred 8 ans 10\n",
            "753th pred 8 ans 9\n",
            "754th pred 8 ans 7\n"
          ]
        },
        {
          "name": "stderr",
          "output_type": "stream",
          "text": [
            "Setting `pad_token_id` to `eos_token_id`:128001 for open-end generation.\n",
            "Setting `pad_token_id` to `eos_token_id`:128001 for open-end generation.\n",
            "Setting `pad_token_id` to `eos_token_id`:128001 for open-end generation.\n"
          ]
        },
        {
          "name": "stdout",
          "output_type": "stream",
          "text": [
            "755th pred 9 ans 9\n",
            "756th pred 8 ans 7\n",
            "Skipping index 878 prompt You are a book recommender and your job is to predict a user's rating (ranging from 1 to 10, with 10 being the highest) on a book, based on that user's previous ratings.\n",
            "\n",
            "User 121493 has rated the following books:\n",
            "\n",
            "\"Mother Wonderful's Profusely Illustrated Guide to the Proper Preparation of Chicken Soup\" 10\n",
            "\"1001 Ideas to Create Retail Excitement\" 8\n",
            "\"The Takeover\" 6\n",
            "\"Guns, Germs, and Steel: The Fates of Human Societies\" 9\n",
            "\n",
            "Predict the user's rating on \"The Golden Bough: A Study in Magic and Religion (Wordsworth Collection)\". Output the rating score only. Do not include other text. reponse 7 due to error: invalid literal for int() with base 10: '7.5'\n"
          ]
        },
        {
          "name": "stderr",
          "output_type": "stream",
          "text": [
            "Setting `pad_token_id` to `eos_token_id`:128001 for open-end generation.\n",
            "Setting `pad_token_id` to `eos_token_id`:128001 for open-end generation.\n",
            "Setting `pad_token_id` to `eos_token_id`:128001 for open-end generation.\n",
            "Setting `pad_token_id` to `eos_token_id`:128001 for open-end generation.\n"
          ]
        },
        {
          "name": "stdout",
          "output_type": "stream",
          "text": [
            "757th pred 9 ans 10\n",
            "758th pred 6 ans 7\n",
            "759th pred 7 ans 10\n",
            "760th pred 9 ans 9\n"
          ]
        },
        {
          "name": "stderr",
          "output_type": "stream",
          "text": [
            "Setting `pad_token_id` to `eos_token_id`:128001 for open-end generation.\n",
            "Setting `pad_token_id` to `eos_token_id`:128001 for open-end generation.\n",
            "Setting `pad_token_id` to `eos_token_id`:128001 for open-end generation.\n",
            "Setting `pad_token_id` to `eos_token_id`:128001 for open-end generation.\n"
          ]
        },
        {
          "name": "stdout",
          "output_type": "stream",
          "text": [
            "761th pred 7 ans 7\n",
            "762th pred 8 ans 9\n",
            "763th pred 9 ans 10\n",
            "764th pred 7 ans 5\n"
          ]
        },
        {
          "name": "stderr",
          "output_type": "stream",
          "text": [
            "Setting `pad_token_id` to `eos_token_id`:128001 for open-end generation.\n",
            "Setting `pad_token_id` to `eos_token_id`:128001 for open-end generation.\n",
            "Setting `pad_token_id` to `eos_token_id`:128001 for open-end generation.\n"
          ]
        },
        {
          "name": "stdout",
          "output_type": "stream",
          "text": [
            "765th pred 6 ans 7\n",
            "Skipping index 888 prompt You are a book recommender and your job is to predict a user's rating (ranging from 1 to 10, with 10 being the highest) on a book, based on that user's previous ratings.\n",
            "\n",
            "User 123115 has rated the following books:\n",
            "\n",
            "\"Ties That Bind: A Novel\" 8\n",
            "\"2nd Chance\" 9\n",
            "\"Peace Like a River\" 7\n",
            "\"Dance upon the Air (Three Sisters Island Trilogy)\" 7\n",
            "\n",
            "Predict the user's rating on \"1st to Die: A Novel\". Output the rating score only. Do not include other text. reponse 7 due to error: invalid literal for int() with base 10: '7.5'\n",
            "766th pred 9 ans 8\n"
          ]
        },
        {
          "name": "stderr",
          "output_type": "stream",
          "text": [
            "Setting `pad_token_id` to `eos_token_id`:128001 for open-end generation.\n",
            "Setting `pad_token_id` to `eos_token_id`:128001 for open-end generation.\n",
            "Setting `pad_token_id` to `eos_token_id`:128001 for open-end generation.\n"
          ]
        },
        {
          "name": "stdout",
          "output_type": "stream",
          "text": [
            "767th pred 8 ans 3\n",
            "Skipping index 891 prompt You are a book recommender and your job is to predict a user's rating (ranging from 1 to 10, with 10 being the highest) on a book, based on that user's previous ratings.\n",
            "\n",
            "User 123553 has rated the following books:\n",
            "\n",
            "\"The Fiction Writer's Handbook\" 8\n",
            "\"A Midsummer Night's Dream (Cambridge School Shakespeare)\" 8\n",
            "\"The Ambassador\" 9\n",
            "\"Mango and Mimosa\" 10\n",
            "\n",
            "Predict the user's rating on \"English Patient\". Output the rating score only. Do not include other text. reponse 7 due to error: invalid literal for int() with base 10: '8.5'\n",
            "768th pred 7 ans 8\n"
          ]
        },
        {
          "name": "stderr",
          "output_type": "stream",
          "text": [
            "Setting `pad_token_id` to `eos_token_id`:128001 for open-end generation.\n",
            "Setting `pad_token_id` to `eos_token_id`:128001 for open-end generation.\n",
            "Setting `pad_token_id` to `eos_token_id`:128001 for open-end generation.\n"
          ]
        },
        {
          "name": "stdout",
          "output_type": "stream",
          "text": [
            "769th pred 8 ans 10\n",
            "Skipping index 894 prompt You are a book recommender and your job is to predict a user's rating (ranging from 1 to 10, with 10 being the highest) on a book, based on that user's previous ratings.\n",
            "\n",
            "User 123961 has rated the following books:\n",
            "\n",
            "\"Murder Being Once Done (Vintage Crime/Black Lizard)\" 8\n",
            "\"The Lamorna Wink: A Richard Jury Mystery (Richard Jury Mysteries (Paperback))\" 7\n",
            "\"Speaker for the Dead (Ender Wiggins Saga (Paperback))\" 9\n",
            "\"False Impressions\" 8\n",
            "\n",
            "Predict the user's rating on \"The Blue Last: A Richard Jury Mystery (Richard Jury Mysteries (Paperback))\". Output the rating score only. Do not include other text. reponse 7 due to error: invalid literal for int() with base 10: '8.4'\n",
            "770th pred 7 ans 7\n"
          ]
        },
        {
          "name": "stderr",
          "output_type": "stream",
          "text": [
            "Setting `pad_token_id` to `eos_token_id`:128001 for open-end generation.\n",
            "Setting `pad_token_id` to `eos_token_id`:128001 for open-end generation.\n",
            "Setting `pad_token_id` to `eos_token_id`:128001 for open-end generation.\n",
            "Setting `pad_token_id` to `eos_token_id`:128001 for open-end generation.\n"
          ]
        },
        {
          "name": "stdout",
          "output_type": "stream",
          "text": [
            "771th pred 7 ans 8\n",
            "772th pred 7 ans 6\n",
            "773th pred 7 ans 7\n",
            "774th pred 8 ans 8\n"
          ]
        },
        {
          "name": "stderr",
          "output_type": "stream",
          "text": [
            "Setting `pad_token_id` to `eos_token_id`:128001 for open-end generation.\n",
            "Setting `pad_token_id` to `eos_token_id`:128001 for open-end generation.\n",
            "Setting `pad_token_id` to `eos_token_id`:128001 for open-end generation.\n",
            "Setting `pad_token_id` to `eos_token_id`:128001 for open-end generation.\n"
          ]
        },
        {
          "name": "stdout",
          "output_type": "stream",
          "text": [
            "775th pred 8 ans 7\n",
            "776th pred 8 ans 9\n",
            "777th pred 6 ans 5\n",
            "778th pred 7 ans 6\n"
          ]
        },
        {
          "name": "stderr",
          "output_type": "stream",
          "text": [
            "Setting `pad_token_id` to `eos_token_id`:128001 for open-end generation.\n",
            "Setting `pad_token_id` to `eos_token_id`:128001 for open-end generation.\n",
            "Setting `pad_token_id` to `eos_token_id`:128001 for open-end generation.\n"
          ]
        },
        {
          "name": "stdout",
          "output_type": "stream",
          "text": [
            "779th pred 8 ans 7\n",
            "780th pred 8 ans 8\n",
            "781th pred 8 ans 9\n"
          ]
        },
        {
          "name": "stderr",
          "output_type": "stream",
          "text": [
            "Setting `pad_token_id` to `eos_token_id`:128001 for open-end generation.\n",
            "Setting `pad_token_id` to `eos_token_id`:128001 for open-end generation.\n",
            "Setting `pad_token_id` to `eos_token_id`:128001 for open-end generation.\n",
            "Setting `pad_token_id` to `eos_token_id`:128001 for open-end generation.\n"
          ]
        },
        {
          "name": "stdout",
          "output_type": "stream",
          "text": [
            "Skipping index 907 prompt You are a book recommender and your job is to predict a user's rating (ranging from 1 to 10, with 10 being the highest) on a book, based on that user's previous ratings.\n",
            "\n",
            "User 126170 has rated the following books:\n",
            "\n",
            "\"The Great Elephant Chase\" 7\n",
            "\"Affinity\" 8\n",
            "\"A Homecoming for Kezzie\" 8\n",
            "\"The Bottle Boy\" 5\n",
            "\n",
            "Predict the user's rating on \"Southern Cross\". Output the rating score only. Do not include other text. reponse 7 due to error: invalid literal for int() with base 10: '8.5'\n",
            "782th pred 8 ans 7\n",
            "783th pred 8 ans 5\n",
            "784th pred 7 ans 6\n"
          ]
        },
        {
          "name": "stderr",
          "output_type": "stream",
          "text": [
            "Setting `pad_token_id` to `eos_token_id`:128001 for open-end generation.\n",
            "Setting `pad_token_id` to `eos_token_id`:128001 for open-end generation.\n",
            "Setting `pad_token_id` to `eos_token_id`:128001 for open-end generation.\n",
            "Setting `pad_token_id` to `eos_token_id`:128001 for open-end generation.\n"
          ]
        },
        {
          "name": "stdout",
          "output_type": "stream",
          "text": [
            "785th pred 8 ans 9\n",
            "786th pred 8 ans 8\n",
            "787th pred 8 ans 5\n",
            "788th pred 6 ans 8\n"
          ]
        },
        {
          "name": "stderr",
          "output_type": "stream",
          "text": [
            "Setting `pad_token_id` to `eos_token_id`:128001 for open-end generation.\n",
            "Setting `pad_token_id` to `eos_token_id`:128001 for open-end generation.\n",
            "Setting `pad_token_id` to `eos_token_id`:128001 for open-end generation.\n"
          ]
        },
        {
          "name": "stdout",
          "output_type": "stream",
          "text": [
            "789th pred 6 ans 5\n",
            "Skipping index 916 prompt You are a book recommender and your job is to predict a user's rating (ranging from 1 to 10, with 10 being the highest) on a book, based on that user's previous ratings.\n",
            "\n",
            "User 127827 has rated the following books:\n",
            "\n",
            "\"The Summons\" 6\n",
            "\"1st to Die: A Novel\" 7\n",
            "\"Silent Treatment\" 8\n",
            "\"On the Street Where You Live : A Novel\" 8\n",
            "\n",
            "Predict the user's rating on \"Thursday's Child\". Output the rating score only. Do not include other text. reponse 7 due to error: invalid literal for int() with base 10: '8.4'\n",
            "790th pred 8 ans 10\n"
          ]
        },
        {
          "name": "stderr",
          "output_type": "stream",
          "text": [
            "Setting `pad_token_id` to `eos_token_id`:128001 for open-end generation.\n",
            "Setting `pad_token_id` to `eos_token_id`:128001 for open-end generation.\n",
            "Setting `pad_token_id` to `eos_token_id`:128001 for open-end generation.\n"
          ]
        },
        {
          "name": "stdout",
          "output_type": "stream",
          "text": [
            "791th pred 8 ans 10\n",
            "Skipping index 919 prompt You are a book recommender and your job is to predict a user's rating (ranging from 1 to 10, with 10 being the highest) on a book, based on that user's previous ratings.\n",
            "\n",
            "User 128588 has rated the following books:\n",
            "\n",
            "\"While I Was Gone\" 10\n",
            "\"The Notebook\" 6\n",
            "\"Ah But Your Land Is Beautiful\" 7\n",
            "\"Crossing to Safety\" 8\n",
            "\n",
            "Predict the user's rating on \"Icy Sparks\". Output the rating score only. Do not include other text. reponse 7 due to error: invalid literal for int() with base 10: '7.5'\n",
            "792th pred 8 ans 7\n"
          ]
        },
        {
          "name": "stderr",
          "output_type": "stream",
          "text": [
            "Setting `pad_token_id` to `eos_token_id`:128001 for open-end generation.\n",
            "Setting `pad_token_id` to `eos_token_id`:128001 for open-end generation.\n",
            "Setting `pad_token_id` to `eos_token_id`:128001 for open-end generation.\n",
            "Setting `pad_token_id` to `eos_token_id`:128001 for open-end generation.\n"
          ]
        },
        {
          "name": "stdout",
          "output_type": "stream",
          "text": [
            "793th pred 8 ans 5\n",
            "794th pred 8 ans 5\n",
            "795th pred 8 ans 8\n",
            "796th pred 8 ans 5\n"
          ]
        },
        {
          "name": "stderr",
          "output_type": "stream",
          "text": [
            "Setting `pad_token_id` to `eos_token_id`:128001 for open-end generation.\n",
            "Setting `pad_token_id` to `eos_token_id`:128001 for open-end generation.\n",
            "Setting `pad_token_id` to `eos_token_id`:128001 for open-end generation.\n",
            "Setting `pad_token_id` to `eos_token_id`:128001 for open-end generation.\n"
          ]
        },
        {
          "name": "stdout",
          "output_type": "stream",
          "text": [
            "797th pred 8 ans 6\n",
            "798th pred 9 ans 9\n",
            "799th pred 7 ans 6\n",
            "800th pred 8 ans 4\n"
          ]
        },
        {
          "name": "stderr",
          "output_type": "stream",
          "text": [
            "Setting `pad_token_id` to `eos_token_id`:128001 for open-end generation.\n",
            "Setting `pad_token_id` to `eos_token_id`:128001 for open-end generation.\n",
            "Setting `pad_token_id` to `eos_token_id`:128001 for open-end generation.\n",
            "Setting `pad_token_id` to `eos_token_id`:128001 for open-end generation.\n"
          ]
        },
        {
          "name": "stdout",
          "output_type": "stream",
          "text": [
            "801th pred 7 ans 7\n",
            "802th pred 7 ans 9\n",
            "803th pred 8 ans 9\n",
            "804th pred 8 ans 8\n"
          ]
        },
        {
          "name": "stderr",
          "output_type": "stream",
          "text": [
            "Setting `pad_token_id` to `eos_token_id`:128001 for open-end generation.\n",
            "Setting `pad_token_id` to `eos_token_id`:128001 for open-end generation.\n",
            "Setting `pad_token_id` to `eos_token_id`:128001 for open-end generation.\n"
          ]
        },
        {
          "name": "stdout",
          "output_type": "stream",
          "text": [
            "805th pred 8 ans 8\n",
            "806th pred 8 ans 7\n",
            "Skipping index 935 prompt You are a book recommender and your job is to predict a user's rating (ranging from 1 to 10, with 10 being the highest) on a book, based on that user's previous ratings.\n",
            "\n",
            "User 130741 has rated the following books:\n",
            "\n",
            "\"Plutarch on Sparta (Penguin Classics)\" 7\n",
            "\"Economics of the Real World (Pelican S.)\" 9\n",
            "\"Teach Yourself Chemistry (Teach Yourself)\" 9\n",
            "\"Keynes and After (Pelican S.)\" 8\n",
            "\n",
            "Predict the user's rating on \"The Colour of Blood\". Output the rating score only. Do not include other text. reponse 7 due to error: invalid literal for int() with base 10: '8.5'\n"
          ]
        },
        {
          "name": "stderr",
          "output_type": "stream",
          "text": [
            "Setting `pad_token_id` to `eos_token_id`:128001 for open-end generation.\n",
            "Setting `pad_token_id` to `eos_token_id`:128001 for open-end generation.\n",
            "Setting `pad_token_id` to `eos_token_id`:128001 for open-end generation.\n",
            "Setting `pad_token_id` to `eos_token_id`:128001 for open-end generation.\n"
          ]
        },
        {
          "name": "stdout",
          "output_type": "stream",
          "text": [
            "807th pred 8 ans 10\n",
            "808th pred 8 ans 6\n",
            "809th pred 9 ans 8\n",
            "810th pred 7 ans 10\n"
          ]
        },
        {
          "name": "stderr",
          "output_type": "stream",
          "text": [
            "Setting `pad_token_id` to `eos_token_id`:128001 for open-end generation.\n",
            "Setting `pad_token_id` to `eos_token_id`:128001 for open-end generation.\n",
            "Setting `pad_token_id` to `eos_token_id`:128001 for open-end generation.\n",
            "Setting `pad_token_id` to `eos_token_id`:128001 for open-end generation.\n"
          ]
        },
        {
          "name": "stdout",
          "output_type": "stream",
          "text": [
            "811th pred 9 ans 10\n",
            "812th pred 7 ans 6\n",
            "813th pred 7 ans 9\n",
            "814th pred 8 ans 8\n"
          ]
        },
        {
          "name": "stderr",
          "output_type": "stream",
          "text": [
            "Setting `pad_token_id` to `eos_token_id`:128001 for open-end generation.\n",
            "Setting `pad_token_id` to `eos_token_id`:128001 for open-end generation.\n",
            "Setting `pad_token_id` to `eos_token_id`:128001 for open-end generation.\n",
            "Setting `pad_token_id` to `eos_token_id`:128001 for open-end generation.\n"
          ]
        },
        {
          "name": "stdout",
          "output_type": "stream",
          "text": [
            "815th pred 8 ans 6\n",
            "816th pred 7 ans 7\n",
            "817th pred 7 ans 6\n",
            "818th pred 7 ans 7\n"
          ]
        },
        {
          "name": "stderr",
          "output_type": "stream",
          "text": [
            "Setting `pad_token_id` to `eos_token_id`:128001 for open-end generation.\n",
            "Setting `pad_token_id` to `eos_token_id`:128001 for open-end generation.\n",
            "Setting `pad_token_id` to `eos_token_id`:128001 for open-end generation.\n",
            "Setting `pad_token_id` to `eos_token_id`:128001 for open-end generation.\n"
          ]
        },
        {
          "name": "stdout",
          "output_type": "stream",
          "text": [
            "819th pred 9 ans 10\n",
            "820th pred 6 ans 7\n",
            "821th pred 8 ans 4\n",
            "822th pred 8 ans 6\n"
          ]
        },
        {
          "name": "stderr",
          "output_type": "stream",
          "text": [
            "Setting `pad_token_id` to `eos_token_id`:128001 for open-end generation.\n",
            "Setting `pad_token_id` to `eos_token_id`:128001 for open-end generation.\n",
            "Setting `pad_token_id` to `eos_token_id`:128001 for open-end generation.\n"
          ]
        },
        {
          "name": "stdout",
          "output_type": "stream",
          "text": [
            "823th pred 7 ans 8\n",
            "Skipping index 953 prompt You are a book recommender and your job is to predict a user's rating (ranging from 1 to 10, with 10 being the highest) on a book, based on that user's previous ratings.\n",
            "\n",
            "User 132425 has rated the following books:\n",
            "\n",
            "\"Rules of the Wild\" 8\n",
            "\"Life of Pi\" 7\n",
            "\"A Trip To The Stars: A Novel\" 9\n",
            "\"Interpreter of Maladies\" 9\n",
            "\n",
            "Predict the user's rating on \"Dead Men Do Tell Tales: The Strange and Fascinating Cases of a Forensic Anthropologist\". Output the rating score only. Do not include other text. reponse 7 due to error: invalid literal for int() with base 10: '8.3'\n",
            "824th pred 8 ans 9\n"
          ]
        },
        {
          "name": "stderr",
          "output_type": "stream",
          "text": [
            "Setting `pad_token_id` to `eos_token_id`:128001 for open-end generation.\n",
            "Setting `pad_token_id` to `eos_token_id`:128001 for open-end generation.\n",
            "Setting `pad_token_id` to `eos_token_id`:128001 for open-end generation.\n",
            "Setting `pad_token_id` to `eos_token_id`:128001 for open-end generation.\n"
          ]
        },
        {
          "name": "stdout",
          "output_type": "stream",
          "text": [
            "825th pred 9 ans 8\n",
            "826th pred 8 ans 6\n",
            "827th pred 7 ans 4\n",
            "828th pred 7 ans 8\n"
          ]
        },
        {
          "name": "stderr",
          "output_type": "stream",
          "text": [
            "Setting `pad_token_id` to `eos_token_id`:128001 for open-end generation.\n",
            "Setting `pad_token_id` to `eos_token_id`:128001 for open-end generation.\n",
            "Setting `pad_token_id` to `eos_token_id`:128001 for open-end generation.\n",
            "Setting `pad_token_id` to `eos_token_id`:128001 for open-end generation.\n"
          ]
        },
        {
          "name": "stdout",
          "output_type": "stream",
          "text": [
            "829th pred 7 ans 7\n",
            "830th pred 7 ans 5\n",
            "831th pred 8 ans 6\n",
            "832th pred 8 ans 4\n"
          ]
        },
        {
          "name": "stderr",
          "output_type": "stream",
          "text": [
            "Setting `pad_token_id` to `eos_token_id`:128001 for open-end generation.\n",
            "Setting `pad_token_id` to `eos_token_id`:128001 for open-end generation.\n",
            "Setting `pad_token_id` to `eos_token_id`:128001 for open-end generation.\n"
          ]
        },
        {
          "name": "stdout",
          "output_type": "stream",
          "text": [
            "833th pred 8 ans 10\n",
            "834th pred 7 ans 8\n",
            "835th pred 8 ans 8\n"
          ]
        },
        {
          "name": "stderr",
          "output_type": "stream",
          "text": [
            "Setting `pad_token_id` to `eos_token_id`:128001 for open-end generation.\n",
            "Setting `pad_token_id` to `eos_token_id`:128001 for open-end generation.\n",
            "Setting `pad_token_id` to `eos_token_id`:128001 for open-end generation.\n",
            "Setting `pad_token_id` to `eos_token_id`:128001 for open-end generation.\n"
          ]
        },
        {
          "name": "stdout",
          "output_type": "stream",
          "text": [
            "Skipping index 966 prompt You are a book recommender and your job is to predict a user's rating (ranging from 1 to 10, with 10 being the highest) on a book, based on that user's previous ratings.\n",
            "\n",
            "User 134705 has rated the following books:\n",
            "\n",
            "\"The Lost Garden: A Novel\" 8\n",
            "\"Eunoia\" 9\n",
            "\"The Time Machine\" 7\n",
            "\"Harry Potter and the Sorcerer's Stone (Harry Potter (Paperback))\" 9\n",
            "\n",
            "Predict the user's rating on \"Life of Pi\". Output the rating score only. Do not include other text. reponse 7 due to error: invalid literal for int() with base 10: '8.5'\n",
            "836th pred 7 ans 8\n",
            "837th pred 8 ans 7\n",
            "838th pred 7 ans 10\n"
          ]
        },
        {
          "name": "stderr",
          "output_type": "stream",
          "text": [
            "Setting `pad_token_id` to `eos_token_id`:128001 for open-end generation.\n",
            "Setting `pad_token_id` to `eos_token_id`:128001 for open-end generation.\n",
            "Setting `pad_token_id` to `eos_token_id`:128001 for open-end generation.\n"
          ]
        },
        {
          "name": "stdout",
          "output_type": "stream",
          "text": [
            "Skipping index 970 prompt You are a book recommender and your job is to predict a user's rating (ranging from 1 to 10, with 10 being the highest) on a book, based on that user's previous ratings.\n",
            "\n",
            "User 135296 has rated the following books:\n",
            "\n",
            "\"El Perfume: Historia De UN Asesino\" 8\n",
            "\"The Secret\" 9\n",
            "\"LA Boda De Leonor\" 7\n",
            "\"Pendragon 4 - Volumen 4\" 7\n",
            "\n",
            "Predict the user's rating on \"La Maldicion de Los Faraones\". Output the rating score only. Do not include other text. reponse 7 due to error: invalid literal for int() with base 10: '8.2'\n",
            "839th pred 6 ans 5\n",
            "840th pred 8 ans 8\n"
          ]
        },
        {
          "name": "stderr",
          "output_type": "stream",
          "text": [
            "Setting `pad_token_id` to `eos_token_id`:128001 for open-end generation.\n",
            "Setting `pad_token_id` to `eos_token_id`:128001 for open-end generation.\n",
            "Setting `pad_token_id` to `eos_token_id`:128001 for open-end generation.\n",
            "Setting `pad_token_id` to `eos_token_id`:128001 for open-end generation.\n"
          ]
        },
        {
          "name": "stdout",
          "output_type": "stream",
          "text": [
            "Skipping index 973 prompt You are a book recommender and your job is to predict a user's rating (ranging from 1 to 10, with 10 being the highest) on a book, based on that user's previous ratings.\n",
            "\n",
            "User 135395 has rated the following books:\n",
            "\n",
            "\"The Saving Graces: A Novel\" 10\n",
            "\"House of Sand and Fog\" 8\n",
            "\"Summer Sisters\" 8\n",
            "\"YESTERDAY, I CRIED : Celebrating the Lessons of Living and Loving\" 7\n",
            "\n",
            "Predict the user's rating on \"The Secret of Childhood\". Output the rating score only. Do not include other text. reponse 7 due to error: invalid literal for int() with base 10: '8.3'\n",
            "841th pred 8 ans 4\n",
            "842th pred 7 ans 7\n",
            "843th pred 7 ans 7\n"
          ]
        },
        {
          "name": "stderr",
          "output_type": "stream",
          "text": [
            "Setting `pad_token_id` to `eos_token_id`:128001 for open-end generation.\n",
            "Setting `pad_token_id` to `eos_token_id`:128001 for open-end generation.\n"
          ]
        },
        {
          "name": "stdout",
          "output_type": "stream",
          "text": [
            "844th pred 9 ans 7\n",
            "Skipping index 978 prompt You are a book recommender and your job is to predict a user's rating (ranging from 1 to 10, with 10 being the highest) on a book, based on that user's previous ratings.\n",
            "\n",
            "User 136135 has rated the following books:\n",
            "\n",
            "\"Fatal Storm: The Inside Story of the Tragic Sydney-Hobart Race\" 8\n",
            "\"Midnight Voices\" 7\n",
            "\"Phantoms\" 6\n",
            "\"Stolen Lives: Twenty Years in a Desert Jail\" 10\n",
            "\n",
            "Predict the user's rating on \"Daring the Sea: The True Story of the First Men to Row Across the Atlantic Ocean\". Output the rating score only. Do not include other text. reponse 7 due to error: invalid literal for int() with base 10: '8.5'\n"
          ]
        },
        {
          "name": "stderr",
          "output_type": "stream",
          "text": [
            "Setting `pad_token_id` to `eos_token_id`:128001 for open-end generation.\n",
            "Setting `pad_token_id` to `eos_token_id`:128001 for open-end generation.\n",
            "Setting `pad_token_id` to `eos_token_id`:128001 for open-end generation.\n",
            "Setting `pad_token_id` to `eos_token_id`:128001 for open-end generation.\n"
          ]
        },
        {
          "name": "stdout",
          "output_type": "stream",
          "text": [
            "Skipping index 979 prompt You are a book recommender and your job is to predict a user's rating (ranging from 1 to 10, with 10 being the highest) on a book, based on that user's previous ratings.\n",
            "\n",
            "User 136234 has rated the following books:\n",
            "\n",
            "\"The Red Tent (Bestselling Backlist)\" 5\n",
            "\"Life of Pi\" 7\n",
            "\"Paradise to Paranoia: New Queensland Writing (Uqp Fiction)\" 8\n",
            "\"A Lesson Before Dying (Vintage Contemporaries (Paperback))\" 6\n",
            "\n",
            "Predict the user's rating on \"The Secret Life of Bees\". Output the rating score only. Do not include other text. reponse 7 due to error: invalid literal for int() with base 10: '7.6'\n",
            "845th pred 8 ans 10\n",
            "846th pred 8 ans 6\n",
            "847th pred 8 ans 7\n"
          ]
        },
        {
          "name": "stderr",
          "output_type": "stream",
          "text": [
            "Setting `pad_token_id` to `eos_token_id`:128001 for open-end generation.\n",
            "Setting `pad_token_id` to `eos_token_id`:128001 for open-end generation.\n",
            "Setting `pad_token_id` to `eos_token_id`:128001 for open-end generation.\n",
            "Setting `pad_token_id` to `eos_token_id`:128001 for open-end generation.\n"
          ]
        },
        {
          "name": "stdout",
          "output_type": "stream",
          "text": [
            "848th pred 8 ans 8\n",
            "849th pred 8 ans 8\n",
            "850th pred 8 ans 7\n",
            "851th pred 8 ans 9\n"
          ]
        },
        {
          "name": "stderr",
          "output_type": "stream",
          "text": [
            "Setting `pad_token_id` to `eos_token_id`:128001 for open-end generation.\n",
            "Setting `pad_token_id` to `eos_token_id`:128001 for open-end generation.\n",
            "Setting `pad_token_id` to `eos_token_id`:128001 for open-end generation.\n",
            "Setting `pad_token_id` to `eos_token_id`:128001 for open-end generation.\n"
          ]
        },
        {
          "name": "stdout",
          "output_type": "stream",
          "text": [
            "852th pred 8 ans 5\n",
            "853th pred 8 ans 10\n",
            "854th pred 8 ans 9\n",
            "855th pred 7 ans 9\n"
          ]
        },
        {
          "name": "stderr",
          "output_type": "stream",
          "text": [
            "Setting `pad_token_id` to `eos_token_id`:128001 for open-end generation.\n",
            "Setting `pad_token_id` to `eos_token_id`:128001 for open-end generation.\n",
            "Setting `pad_token_id` to `eos_token_id`:128001 for open-end generation.\n",
            "Setting `pad_token_id` to `eos_token_id`:128001 for open-end generation.\n"
          ]
        },
        {
          "name": "stdout",
          "output_type": "stream",
          "text": [
            "856th pred 8 ans 9\n",
            "857th pred 7 ans 6\n",
            "858th pred 8 ans 4\n",
            "859th pred 8 ans 10\n"
          ]
        },
        {
          "name": "stderr",
          "output_type": "stream",
          "text": [
            "Setting `pad_token_id` to `eos_token_id`:128001 for open-end generation.\n",
            "Setting `pad_token_id` to `eos_token_id`:128001 for open-end generation.\n",
            "Setting `pad_token_id` to `eos_token_id`:128001 for open-end generation.\n"
          ]
        },
        {
          "name": "stdout",
          "output_type": "stream",
          "text": [
            "860th pred 8 ans 10\n",
            "Skipping index 996 prompt You are a book recommender and your job is to predict a user's rating (ranging from 1 to 10, with 10 being the highest) on a book, based on that user's previous ratings.\n",
            "\n",
            "User 138380 has rated the following books:\n",
            "\n",
            "\"In the Cut\" 5\n",
            "\"Wainewright the Poisoner: The Confession of Thomas Griffiths Wainewright\" 8\n",
            "\"The Chatham School Affair\" 6\n",
            "\"She's Come Undone (Oprah's Book Club (Paperback))\" 7\n",
            "\n",
            "Predict the user's rating on \"A Man in Full\". Output the rating score only. Do not include other text. reponse 7 due to error: invalid literal for int() with base 10: '7.23'\n",
            "861th pred 8 ans 8\n"
          ]
        },
        {
          "name": "stderr",
          "output_type": "stream",
          "text": [
            "Setting `pad_token_id` to `eos_token_id`:128001 for open-end generation.\n",
            "Setting `pad_token_id` to `eos_token_id`:128001 for open-end generation.\n",
            "Setting `pad_token_id` to `eos_token_id`:128001 for open-end generation.\n"
          ]
        },
        {
          "name": "stdout",
          "output_type": "stream",
          "text": [
            "Skipping index 998 prompt You are a book recommender and your job is to predict a user's rating (ranging from 1 to 10, with 10 being the highest) on a book, based on that user's previous ratings.\n",
            "\n",
            "User 138855 has rated the following books:\n",
            "\n",
            "\"Night of the Wolf\" 4\n",
            "\"The Silver Wolf\" 7\n",
            "\"Red Dragon\" 6\n",
            "\"The Further Adventures of the Joker\" 8\n",
            "\n",
            "Predict the user's rating on \"The Further Adventures of Batman\". Output the rating score only. Do not include other text. reponse 7 due to error: invalid literal for int() with base 10: '8.5'\n",
            "862th pred 8 ans 10\n",
            "Skipping index 1000 prompt You are a book recommender and your job is to predict a user's rating (ranging from 1 to 10, with 10 being the highest) on a book, based on that user's previous ratings.\n",
            "\n",
            "User 138906 has rated the following books:\n",
            "\n",
            "\"Princess in the Spotlight (The Princess Diaries, Vol. 2)\" 8\n",
            "\"Girl in Hyacinth Blue\" 7\n",
            "\"Year of Wonders\" 6\n",
            "\"The Princess Diaries\" 8\n",
            "\n",
            "Predict the user's rating on \"Anna Karenina (Penguin Classics)\". Output the rating score only. Do not include other text. reponse 7 due to error: invalid literal for int() with base 10: '8.3'\n"
          ]
        },
        {
          "name": "stderr",
          "output_type": "stream",
          "text": [
            "Setting `pad_token_id` to `eos_token_id`:128001 for open-end generation.\n",
            "Setting `pad_token_id` to `eos_token_id`:128001 for open-end generation.\n",
            "Setting `pad_token_id` to `eos_token_id`:128001 for open-end generation.\n"
          ]
        },
        {
          "name": "stdout",
          "output_type": "stream",
          "text": [
            "863th pred 8 ans 8\n",
            "864th pred 6 ans 7\n",
            "Skipping index 1003 prompt You are a book recommender and your job is to predict a user's rating (ranging from 1 to 10, with 10 being the highest) on a book, based on that user's previous ratings.\n",
            "\n",
            "User 139300 has rated the following books:\n",
            "\n",
            "\"The Vampire Hunter's Handbook (Field Guides to the Paranormal)\" 9\n",
            "\"Traumnovelle\" 8\n",
            "\"In a Glass Darkly (Oxford World's Classics)\" 9\n",
            "\"Anne of Green Gables\" 8\n",
            "\n",
            "Predict the user's rating on \"The Mists of Avalon\". Output the rating score only. Do not include other text. reponse 7 due to error: invalid literal for int() with base 10: '8.4'\n"
          ]
        },
        {
          "name": "stderr",
          "output_type": "stream",
          "text": [
            "Setting `pad_token_id` to `eos_token_id`:128001 for open-end generation.\n",
            "Setting `pad_token_id` to `eos_token_id`:128001 for open-end generation.\n",
            "Setting `pad_token_id` to `eos_token_id`:128001 for open-end generation.\n"
          ]
        },
        {
          "name": "stdout",
          "output_type": "stream",
          "text": [
            "865th pred 7 ans 10\n",
            "866th pred 7 ans 5\n",
            "Skipping index 1006 prompt You are a book recommender and your job is to predict a user's rating (ranging from 1 to 10, with 10 being the highest) on a book, based on that user's previous ratings.\n",
            "\n",
            "User 139548 has rated the following books:\n",
            "\n",
            "\"Circle of Friends\" 8\n",
            "\"The Sweet Potato Queens' Book of Love\" 7\n",
            "\"Midnight in the Garden of Good and Evil: A Savannah Story\" 6\n",
            "\"A Painted House\" 8\n",
            "\n",
            "Predict the user's rating on \"Welcome to the World, Baby Girl!\". Output the rating score only. Do not include other text. reponse 7 due to error: invalid literal for int() with base 10: '8.2'\n"
          ]
        },
        {
          "name": "stderr",
          "output_type": "stream",
          "text": [
            "Setting `pad_token_id` to `eos_token_id`:128001 for open-end generation.\n",
            "Setting `pad_token_id` to `eos_token_id`:128001 for open-end generation.\n",
            "Setting `pad_token_id` to `eos_token_id`:128001 for open-end generation.\n",
            "Setting `pad_token_id` to `eos_token_id`:128001 for open-end generation.\n"
          ]
        },
        {
          "name": "stdout",
          "output_type": "stream",
          "text": [
            "867th pred 9 ans 8\n",
            "868th pred 7 ans 8\n",
            "869th pred 8 ans 8\n",
            "870th pred 7 ans 8\n"
          ]
        },
        {
          "name": "stderr",
          "output_type": "stream",
          "text": [
            "Setting `pad_token_id` to `eos_token_id`:128001 for open-end generation.\n",
            "Setting `pad_token_id` to `eos_token_id`:128001 for open-end generation.\n",
            "Setting `pad_token_id` to `eos_token_id`:128001 for open-end generation.\n",
            "Setting `pad_token_id` to `eos_token_id`:128001 for open-end generation.\n"
          ]
        },
        {
          "name": "stdout",
          "output_type": "stream",
          "text": [
            "871th pred 8 ans 7\n",
            "872th pred 7 ans 5\n",
            "873th pred 8 ans 5\n",
            "874th pred 6 ans 5\n"
          ]
        },
        {
          "name": "stderr",
          "output_type": "stream",
          "text": [
            "Setting `pad_token_id` to `eos_token_id`:128001 for open-end generation.\n",
            "Setting `pad_token_id` to `eos_token_id`:128001 for open-end generation.\n",
            "Setting `pad_token_id` to `eos_token_id`:128001 for open-end generation.\n"
          ]
        },
        {
          "name": "stdout",
          "output_type": "stream",
          "text": [
            "875th pred 8 ans 10\n",
            "Skipping index 1016 prompt You are a book recommender and your job is to predict a user's rating (ranging from 1 to 10, with 10 being the highest) on a book, based on that user's previous ratings.\n",
            "\n",
            "User 140711 has rated the following books:\n",
            "\n",
            "\"Blue Willow\" 7\n",
            "\"Prodigal Summer: A Novel\" 9\n",
            "\"Revolution from Within : A Book of Self-Esteem\" 8\n",
            "\"Grand Deception\" 8\n",
            "\n",
            "Predict the user's rating on \"Kaleidoscope\". Output the rating score only. Do not include other text. reponse 7 due to error: invalid literal for int() with base 10: '8.2'\n",
            "876th pred 9 ans 10\n"
          ]
        },
        {
          "name": "stderr",
          "output_type": "stream",
          "text": [
            "Setting `pad_token_id` to `eos_token_id`:128001 for open-end generation.\n",
            "Setting `pad_token_id` to `eos_token_id`:128001 for open-end generation.\n",
            "Setting `pad_token_id` to `eos_token_id`:128001 for open-end generation.\n"
          ]
        },
        {
          "name": "stdout",
          "output_type": "stream",
          "text": [
            "877th pred 8 ans 10\n",
            "Skipping index 1019 prompt You are a book recommender and your job is to predict a user's rating (ranging from 1 to 10, with 10 being the highest) on a book, based on that user's previous ratings.\n",
            "\n",
            "User 140947 has rated the following books:\n",
            "\n",
            "\"Evensong (Ballantine Reader's Circle)\" 7\n",
            "\"Dr. Death: A Novel\" 7\n",
            "\"Prodigal Summer\" 9\n",
            "\"Lucy: A Novel\" 8\n",
            "\n",
            "Predict the user's rating on \"The Dive From Clausen's Pier : A Novel (Vintage Contemporaries (Paperback))\". Output the rating score only. Do not include other text. reponse 7 due to error: invalid literal for int() with base 10: '8.5'\n",
            "878th pred 7 ans 8\n"
          ]
        },
        {
          "name": "stderr",
          "output_type": "stream",
          "text": [
            "Setting `pad_token_id` to `eos_token_id`:128001 for open-end generation.\n",
            "Setting `pad_token_id` to `eos_token_id`:128001 for open-end generation.\n",
            "Setting `pad_token_id` to `eos_token_id`:128001 for open-end generation.\n",
            "Setting `pad_token_id` to `eos_token_id`:128001 for open-end generation.\n"
          ]
        },
        {
          "name": "stdout",
          "output_type": "stream",
          "text": [
            "879th pred 8 ans 7\n",
            "880th pred 8 ans 5\n",
            "881th pred 7 ans 8\n",
            "882th pred 8 ans 8\n"
          ]
        },
        {
          "name": "stderr",
          "output_type": "stream",
          "text": [
            "Setting `pad_token_id` to `eos_token_id`:128001 for open-end generation.\n",
            "Setting `pad_token_id` to `eos_token_id`:128001 for open-end generation.\n",
            "Setting `pad_token_id` to `eos_token_id`:128001 for open-end generation.\n"
          ]
        },
        {
          "name": "stdout",
          "output_type": "stream",
          "text": [
            "Skipping index 1025 prompt You are a book recommender and your job is to predict a user's rating (ranging from 1 to 10, with 10 being the highest) on a book, based on that user's previous ratings.\n",
            "\n",
            "User 142300 has rated the following books:\n",
            "\n",
            "\"A varanda do frangipani: Romance (Uma terra sem amos)\" 9\n",
            "\"The Red Notebook: True Stories\" 8\n",
            "\"Harry Potter and the Sorcerer's Stone (Book 1 Audio CD)\" 9\n",
            "\"Coraline\" 7\n",
            "\n",
            "Predict the user's rating on \"Mafalda inÃ©dita\". Output the rating score only. Do not include other text. reponse 7 due to error: invalid literal for int() with base 10: '7.5'\n",
            "883th pred 6 ans 5\n",
            "884th pred 9 ans 10\n"
          ]
        },
        {
          "name": "stderr",
          "output_type": "stream",
          "text": [
            "Setting `pad_token_id` to `eos_token_id`:128001 for open-end generation.\n",
            "Setting `pad_token_id` to `eos_token_id`:128001 for open-end generation.\n",
            "Setting `pad_token_id` to `eos_token_id`:128001 for open-end generation.\n"
          ]
        },
        {
          "name": "stdout",
          "output_type": "stream",
          "text": [
            "Skipping index 1028 prompt You are a book recommender and your job is to predict a user's rating (ranging from 1 to 10, with 10 being the highest) on a book, based on that user's previous ratings.\n",
            "\n",
            "User 142904 has rated the following books:\n",
            "\n",
            "\"Two Years Before the Mast\" 9\n",
            "\"Prey: A Novel\" 5\n",
            "\"Apollo 13 : Lost Moon\" 8\n",
            "\"The Andromeda Strain\" 7\n",
            "\n",
            "Predict the user's rating on \"Rising Sun\". Output the rating score only. Do not include other text. reponse 7 due to error: invalid literal for int() with base 10: '7.3'\n",
            "Skipping index 1029 prompt You are a book recommender and your job is to predict a user's rating (ranging from 1 to 10, with 10 being the highest) on a book, based on that user's previous ratings.\n",
            "\n",
            "User 143214 has rated the following books:\n",
            "\n",
            "\"Kiss Kiss (French Language Edition)\" 9\n",
            "\"The Artist Is A Thief\" 8\n",
            "\"Robert Burns (Everyman Poetry Library)\" 10\n",
            "\"Shame\" 10\n",
            "\n",
            "Predict the user's rating on \"Collected Stories\". Output the rating score only. Do not include other text. reponse 7 due to error: invalid literal for int() with base 10: '8.5'\n",
            "885th pred 5 ans 9\n"
          ]
        },
        {
          "name": "stderr",
          "output_type": "stream",
          "text": [
            "Setting `pad_token_id` to `eos_token_id`:128001 for open-end generation.\n",
            "Setting `pad_token_id` to `eos_token_id`:128001 for open-end generation.\n",
            "Setting `pad_token_id` to `eos_token_id`:128001 for open-end generation.\n",
            "Setting `pad_token_id` to `eos_token_id`:128001 for open-end generation.\n"
          ]
        },
        {
          "name": "stdout",
          "output_type": "stream",
          "text": [
            "Skipping index 1031 prompt You are a book recommender and your job is to predict a user's rating (ranging from 1 to 10, with 10 being the highest) on a book, based on that user's previous ratings.\n",
            "\n",
            "User 143571 has rated the following books:\n",
            "\n",
            "\"The Monkey's Fist\" 9\n",
            "\"Unnatural Exposure\" 10\n",
            "\"Everywhere That Mary Went\" 8\n",
            "\"The Legacy\" 9\n",
            "\n",
            "Predict the user's rating on \"Floating in My Mother's Palm: A Novel (Vintage Contemporaries)\". Output the rating score only. Do not include other text. reponse 7 due to error: invalid literal for int() with base 10: '8.5'\n",
            "886th pred 8 ans 7\n",
            "887th pred 8 ans 8\n",
            "888th pred 8 ans 8\n"
          ]
        },
        {
          "name": "stderr",
          "output_type": "stream",
          "text": [
            "Setting `pad_token_id` to `eos_token_id`:128001 for open-end generation.\n",
            "Setting `pad_token_id` to `eos_token_id`:128001 for open-end generation.\n",
            "Setting `pad_token_id` to `eos_token_id`:128001 for open-end generation.\n"
          ]
        },
        {
          "name": "stdout",
          "output_type": "stream",
          "text": [
            "889th pred 7 ans 6\n",
            "890th pred 9 ans 10\n",
            "891th pred 8 ans 8\n"
          ]
        },
        {
          "name": "stderr",
          "output_type": "stream",
          "text": [
            "Setting `pad_token_id` to `eos_token_id`:128001 for open-end generation.\n",
            "Setting `pad_token_id` to `eos_token_id`:128001 for open-end generation.\n",
            "Setting `pad_token_id` to `eos_token_id`:128001 for open-end generation.\n"
          ]
        },
        {
          "name": "stdout",
          "output_type": "stream",
          "text": [
            "Skipping index 1038 prompt You are a book recommender and your job is to predict a user's rating (ranging from 1 to 10, with 10 being the highest) on a book, based on that user's previous ratings.\n",
            "\n",
            "User 144280 has rated the following books:\n",
            "\n",
            "\"Pretend You Don't See Her\" 8\n",
            "\"The Brethren\" 9\n",
            "\"You Belong To Me\" 8\n",
            "\"Women &amp; Love\" 7\n",
            "\n",
            "Predict the user's rating on \"Legacy of Silence\". Output the rating score only. Do not include other text. reponse 7 due to error: invalid literal for int() with base 10: '8.3'\n",
            "Skipping index 1039 prompt You are a book recommender and your job is to predict a user's rating (ranging from 1 to 10, with 10 being the highest) on a book, based on that user's previous ratings.\n",
            "\n",
            "User 144314 has rated the following books:\n",
            "\n",
            "\"Jewel (Oprah's Book Club)\" 8\n",
            "\"Disclosure\" 7\n",
            "\"Dance upon the Air (Three Sisters Island Trilogy)\" 7\n",
            "\"The Heir\" 5\n",
            "\n",
            "Predict the user's rating on \"Suzanne's Diary for Nicholas\". Output the rating score only. Do not include other text. reponse 7 due to error: invalid literal for int() with base 10: '7.5'\n",
            "892th pred 8 ans 8\n"
          ]
        },
        {
          "name": "stderr",
          "output_type": "stream",
          "text": [
            "Setting `pad_token_id` to `eos_token_id`:128001 for open-end generation.\n",
            "Setting `pad_token_id` to `eos_token_id`:128001 for open-end generation.\n",
            "Setting `pad_token_id` to `eos_token_id`:128001 for open-end generation.\n"
          ]
        },
        {
          "name": "stdout",
          "output_type": "stream",
          "text": [
            "893th pred 8 ans 6\n",
            "894th pred 8 ans 9\n",
            "895th pred 7 ans 6\n"
          ]
        },
        {
          "name": "stderr",
          "output_type": "stream",
          "text": [
            "Setting `pad_token_id` to `eos_token_id`:128001 for open-end generation.\n",
            "Setting `pad_token_id` to `eos_token_id`:128001 for open-end generation.\n",
            "Setting `pad_token_id` to `eos_token_id`:128001 for open-end generation.\n"
          ]
        },
        {
          "name": "stdout",
          "output_type": "stream",
          "text": [
            "Skipping index 1044 prompt You are a book recommender and your job is to predict a user's rating (ranging from 1 to 10, with 10 being the highest) on a book, based on that user's previous ratings.\n",
            "\n",
            "User 145131 has rated the following books:\n",
            "\n",
            "\"Carnal Innocence\" 10\n",
            "\"The Brethren\" 8\n",
            "\"Devil's Trumpet (Gardening Mysteries (Paperback))\" 8\n",
            "\"The Rescue\" 9\n",
            "\n",
            "Predict the user's rating on \"Firebrand (Mira Historical Romance)\". Output the rating score only. Do not include other text. reponse 7 due to error: invalid literal for int() with base 10: '9.1'\n",
            "896th pred 8 ans 7\n",
            "Skipping index 1046 prompt You are a book recommender and your job is to predict a user's rating (ranging from 1 to 10, with 10 being the highest) on a book, based on that user's previous ratings.\n",
            "\n",
            "User 145527 has rated the following books:\n",
            "\n",
            "\"A ce soir\" 5\n",
            "\"Les nomades: Roman (Collection Fictions)\" 8\n",
            "\"Robert des noms propres\" 7\n",
            "\"L'origine du monde: Pour une ultime histoire de l'art Ã  propos du \\cas Bergamme\\\" : roman (Domaine franÃ§ais)\"\" 6\n",
            "\n",
            "Predict the user's rating on \"Seven Habits Of Highly Effective People\". Output the rating score only. Do not include other text. reponse 7 due to error: invalid literal for int() with base 10: '6.5'\n"
          ]
        },
        {
          "name": "stderr",
          "output_type": "stream",
          "text": [
            "Setting `pad_token_id` to `eos_token_id`:128001 for open-end generation.\n",
            "Setting `pad_token_id` to `eos_token_id`:128001 for open-end generation.\n",
            "Setting `pad_token_id` to `eos_token_id`:128001 for open-end generation.\n"
          ]
        },
        {
          "name": "stdout",
          "output_type": "stream",
          "text": [
            "897th pred 7 ans 9\n",
            "898th pred 8 ans 7\n",
            "899th pred 8 ans 9\n"
          ]
        },
        {
          "name": "stderr",
          "output_type": "stream",
          "text": [
            "Setting `pad_token_id` to `eos_token_id`:128001 for open-end generation.\n",
            "Setting `pad_token_id` to `eos_token_id`:128001 for open-end generation.\n",
            "Setting `pad_token_id` to `eos_token_id`:128001 for open-end generation.\n"
          ]
        },
        {
          "name": "stdout",
          "output_type": "stream",
          "text": [
            "Skipping index 1050 prompt You are a book recommender and your job is to predict a user's rating (ranging from 1 to 10, with 10 being the highest) on a book, based on that user's previous ratings.\n",
            "\n",
            "User 145688 has rated the following books:\n",
            "\n",
            "\"Tuesdays with Morrie: An Old Man, a Young Man, and Life's Greatest Lesson\" 9\n",
            "\"Caramelo\" 10\n",
            "\"White Teeth\" 10\n",
            "\"The Reader\" 8\n",
            "\n",
            "Predict the user's rating on \"Back When We Were Grownups: A Novel\". Output the rating score only. Do not include other text. reponse 7 due to error: invalid literal for int() with base 10: '8.3'\n",
            "Skipping index 1051 prompt You are a book recommender and your job is to predict a user's rating (ranging from 1 to 10, with 10 being the highest) on a book, based on that user's previous ratings.\n",
            "\n",
            "User 145887 has rated the following books:\n",
            "\n",
            "\"Speaking in Tongues\" 9\n",
            "\"While I Was Gone\" 7\n",
            "\"Bloodsucking Fiends: A Love Story\" 9\n",
            "\"The Lust Lizard of Melancholy Cove\" 8\n",
            "\n",
            "Predict the user's rating on \"Island of the Sequined Love Nun\". Output the rating score only. Do not include other text. reponse 7 due to error: invalid literal for int() with base 10: '8.5'\n",
            "900th pred 8 ans 6\n"
          ]
        },
        {
          "name": "stderr",
          "output_type": "stream",
          "text": [
            "Setting `pad_token_id` to `eos_token_id`:128001 for open-end generation.\n",
            "Setting `pad_token_id` to `eos_token_id`:128001 for open-end generation.\n",
            "Setting `pad_token_id` to `eos_token_id`:128001 for open-end generation.\n"
          ]
        },
        {
          "name": "stdout",
          "output_type": "stream",
          "text": [
            "901th pred 9 ans 10\n",
            "902th pred 8 ans 8\n",
            "Skipping index 1055 prompt You are a book recommender and your job is to predict a user's rating (ranging from 1 to 10, with 10 being the highest) on a book, based on that user's previous ratings.\n",
            "\n",
            "User 146197 has rated the following books:\n",
            "\n",
            "\"Home Song\" 8\n",
            "\"That Camden Summer\" 6\n",
            "\"The Other Daughter\" 6\n",
            "\"Big Stone Gap\" 10\n",
            "\n",
            "Predict the user's rating on \"Standing in the Rainbow : A Novel\". Output the rating score only. Do not include other text. reponse 7 due to error: invalid literal for int() with base 10: '8.5'\n"
          ]
        },
        {
          "name": "stderr",
          "output_type": "stream",
          "text": [
            "Setting `pad_token_id` to `eos_token_id`:128001 for open-end generation.\n",
            "Setting `pad_token_id` to `eos_token_id`:128001 for open-end generation.\n",
            "Setting `pad_token_id` to `eos_token_id`:128001 for open-end generation.\n",
            "Setting `pad_token_id` to `eos_token_id`:128001 for open-end generation.\n"
          ]
        },
        {
          "name": "stdout",
          "output_type": "stream",
          "text": [
            "903th pred 8 ans 6\n",
            "904th pred 7 ans 5\n",
            "905th pred 9 ans 10\n",
            "906th pred 8 ans 9\n"
          ]
        },
        {
          "name": "stderr",
          "output_type": "stream",
          "text": [
            "Setting `pad_token_id` to `eos_token_id`:128001 for open-end generation.\n",
            "Setting `pad_token_id` to `eos_token_id`:128001 for open-end generation.\n",
            "Setting `pad_token_id` to `eos_token_id`:128001 for open-end generation.\n",
            "Setting `pad_token_id` to `eos_token_id`:128001 for open-end generation.\n"
          ]
        },
        {
          "name": "stdout",
          "output_type": "stream",
          "text": [
            "Skipping index 1060 prompt You are a book recommender and your job is to predict a user's rating (ranging from 1 to 10, with 10 being the highest) on a book, based on that user's previous ratings.\n",
            "\n",
            "User 146991 has rated the following books:\n",
            "\n",
            "\"The Da Vinci Code\" 7\n",
            "\"The Secret Life of Bees\" 7\n",
            "\"Our Lady of the Lost and Found: A Novel\" 7\n",
            "\"The Gates of the Alamo\" 8\n",
            "\n",
            "Predict the user's rating on \"The Blind Assassin\". Output the rating score only. Do not include other text. reponse 7 due to error: invalid literal for int() with base 10: '8.2'\n",
            "907th pred 8 ans 7\n",
            "908th pred 8 ans 9\n",
            "909th pred 9 ans 5\n"
          ]
        },
        {
          "name": "stderr",
          "output_type": "stream",
          "text": [
            "Setting `pad_token_id` to `eos_token_id`:128001 for open-end generation.\n",
            "Setting `pad_token_id` to `eos_token_id`:128001 for open-end generation.\n",
            "Setting `pad_token_id` to `eos_token_id`:128001 for open-end generation.\n",
            "Setting `pad_token_id` to `eos_token_id`:128001 for open-end generation.\n"
          ]
        },
        {
          "name": "stdout",
          "output_type": "stream",
          "text": [
            "Skipping index 1064 prompt You are a book recommender and your job is to predict a user's rating (ranging from 1 to 10, with 10 being the highest) on a book, based on that user's previous ratings.\n",
            "\n",
            "User 147680 has rated the following books:\n",
            "\n",
            "\"The Dark Side of Camelot\" 8\n",
            "\"Hearts In Atlantis\" 9\n",
            "\"Almost Adam: A Novel\" 8\n",
            "\"Wizard and Glass (The Dark Tower, Book 4)\" 10\n",
            "\n",
            "Predict the user's rating on \"Pandora: New Tales of the Vampires (New Tales of the Vampires)\". Output the rating score only. Do not include other text. reponse 7 due to error: invalid literal for int() with base 10: '7.3'\n",
            "910th pred 8 ans 6\n",
            "911th pred 8 ans 3\n",
            "912th pred 8 ans 10\n"
          ]
        },
        {
          "name": "stderr",
          "output_type": "stream",
          "text": [
            "Setting `pad_token_id` to `eos_token_id`:128001 for open-end generation.\n",
            "Setting `pad_token_id` to `eos_token_id`:128001 for open-end generation.\n",
            "Setting `pad_token_id` to `eos_token_id`:128001 for open-end generation.\n",
            "Setting `pad_token_id` to `eos_token_id`:128001 for open-end generation.\n"
          ]
        },
        {
          "name": "stdout",
          "output_type": "stream",
          "text": [
            "913th pred 9 ans 10\n",
            "914th pred 8 ans 7\n",
            "915th pred 8 ans 6\n",
            "916th pred 7 ans 5\n"
          ]
        },
        {
          "name": "stderr",
          "output_type": "stream",
          "text": [
            "Setting `pad_token_id` to `eos_token_id`:128001 for open-end generation.\n",
            "Setting `pad_token_id` to `eos_token_id`:128001 for open-end generation.\n",
            "Setting `pad_token_id` to `eos_token_id`:128001 for open-end generation.\n"
          ]
        },
        {
          "name": "stdout",
          "output_type": "stream",
          "text": [
            "917th pred 7 ans 5\n",
            "918th pred 8 ans 7\n",
            "919th pred 8 ans 8\n"
          ]
        },
        {
          "name": "stderr",
          "output_type": "stream",
          "text": [
            "Setting `pad_token_id` to `eos_token_id`:128001 for open-end generation.\n",
            "Setting `pad_token_id` to `eos_token_id`:128001 for open-end generation.\n",
            "Setting `pad_token_id` to `eos_token_id`:128001 for open-end generation.\n",
            "Setting `pad_token_id` to `eos_token_id`:128001 for open-end generation.\n"
          ]
        },
        {
          "name": "stdout",
          "output_type": "stream",
          "text": [
            "Skipping index 1075 prompt You are a book recommender and your job is to predict a user's rating (ranging from 1 to 10, with 10 being the highest) on a book, based on that user's previous ratings.\n",
            "\n",
            "User 149875 has rated the following books:\n",
            "\n",
            "\"SON OF WHIRLWIND\" 7\n",
            "\"Silver Brumby Kingdom\" 7\n",
            "\"Silver Brumbies of the South\" 8\n",
            "\"SILVER BRUMBYS DAUGHTER\" 8\n",
            "\n",
            "Predict the user's rating on \"Best of Saki (Picador Books)\". Output the rating score only. Do not include other text. reponse 7 due to error: invalid literal for int() with base 10: '8.5'\n",
            "920th pred 7 ans 8\n",
            "921th pred 8 ans 7\n",
            "922th pred 8 ans 10\n"
          ]
        },
        {
          "name": "stderr",
          "output_type": "stream",
          "text": [
            "Setting `pad_token_id` to `eos_token_id`:128001 for open-end generation.\n",
            "Setting `pad_token_id` to `eos_token_id`:128001 for open-end generation.\n",
            "Setting `pad_token_id` to `eos_token_id`:128001 for open-end generation.\n"
          ]
        },
        {
          "name": "stdout",
          "output_type": "stream",
          "text": [
            "923th pred 6 ans 5\n",
            "924th pred 8 ans 8\n",
            "925th pred 8 ans 8\n"
          ]
        },
        {
          "name": "stderr",
          "output_type": "stream",
          "text": [
            "Setting `pad_token_id` to `eos_token_id`:128001 for open-end generation.\n",
            "Setting `pad_token_id` to `eos_token_id`:128001 for open-end generation.\n",
            "Setting `pad_token_id` to `eos_token_id`:128001 for open-end generation.\n",
            "Setting `pad_token_id` to `eos_token_id`:128001 for open-end generation.\n"
          ]
        },
        {
          "name": "stdout",
          "output_type": "stream",
          "text": [
            "Skipping index 1082 prompt You are a book recommender and your job is to predict a user's rating (ranging from 1 to 10, with 10 being the highest) on a book, based on that user's previous ratings.\n",
            "\n",
            "User 150627 has rated the following books:\n",
            "\n",
            "\"Deepest Water\" 8\n",
            "\"Kiss of the Bees: A Novel of Suspense\" 8\n",
            "\"Midnight Voices\" 7\n",
            "\"WED CHILD\" 8\n",
            "\n",
            "Predict the user's rating on \"First Cut\". Output the rating score only. Do not include other text. reponse 7 due to error: invalid literal for int() with base 10: '8.3'\n",
            "926th pred 9 ans 8\n",
            "927th pred 7 ans 8\n",
            "928th pred 8 ans 5\n"
          ]
        },
        {
          "name": "stderr",
          "output_type": "stream",
          "text": [
            "Setting `pad_token_id` to `eos_token_id`:128001 for open-end generation.\n",
            "Setting `pad_token_id` to `eos_token_id`:128001 for open-end generation.\n",
            "Setting `pad_token_id` to `eos_token_id`:128001 for open-end generation.\n"
          ]
        },
        {
          "name": "stdout",
          "output_type": "stream",
          "text": [
            "929th pred 7 ans 8\n",
            "930th pred 8 ans 7\n",
            "931th pred 7 ans 7\n"
          ]
        },
        {
          "name": "stderr",
          "output_type": "stream",
          "text": [
            "Setting `pad_token_id` to `eos_token_id`:128001 for open-end generation.\n",
            "Setting `pad_token_id` to `eos_token_id`:128001 for open-end generation.\n",
            "Setting `pad_token_id` to `eos_token_id`:128001 for open-end generation.\n"
          ]
        },
        {
          "name": "stdout",
          "output_type": "stream",
          "text": [
            "Skipping index 1089 prompt You are a book recommender and your job is to predict a user's rating (ranging from 1 to 10, with 10 being the highest) on a book, based on that user's previous ratings.\n",
            "\n",
            "User 151702 has rated the following books:\n",
            "\n",
            "\"Pieces\" 8\n",
            "\"When I Was Five I Killed Myself\" 7\n",
            "\"The Giver\" 7\n",
            "\"Sexual Astrology\" 9\n",
            "\n",
            "Predict the user's rating on \"The Perks of Being a Wallflower\". Output the rating score only. Do not include other text. reponse 7 due to error: invalid literal for int() with base 10: '8.5'\n",
            "Skipping index 1090 prompt You are a book recommender and your job is to predict a user's rating (ranging from 1 to 10, with 10 being the highest) on a book, based on that user's previous ratings.\n",
            "\n",
            "User 151738 has rated the following books:\n",
            "\n",
            "\"The Hobbit : The Enchanting Prelude to The Lord of the Rings\" 8\n",
            "\"Longitude: The True Story of a Lone Genius Who Solved the Greatest Scientific Problem of His Time\" 9\n",
            "\"Timeline\" 10\n",
            "\"The Da Vinci Code\" 10\n",
            "\n",
            "Predict the user's rating on \"The Lovely Bones: A Novel\". Output the rating score only. Do not include other text. reponse 7 due to error: invalid literal for int() with base 10: '8.5'\n",
            "932th pred 7 ans 9\n"
          ]
        },
        {
          "name": "stderr",
          "output_type": "stream",
          "text": [
            "Setting `pad_token_id` to `eos_token_id`:128001 for open-end generation.\n",
            "Setting `pad_token_id` to `eos_token_id`:128001 for open-end generation.\n",
            "Setting `pad_token_id` to `eos_token_id`:128001 for open-end generation.\n",
            "Setting `pad_token_id` to `eos_token_id`:128001 for open-end generation.\n"
          ]
        },
        {
          "name": "stdout",
          "output_type": "stream",
          "text": [
            "Skipping index 1092 prompt You are a book recommender and your job is to predict a user's rating (ranging from 1 to 10, with 10 being the highest) on a book, based on that user's previous ratings.\n",
            "\n",
            "User 151811 has rated the following books:\n",
            "\n",
            "\"Pilgrim at Tinker Creek\" 9\n",
            "\"Double Whammy\" 9\n",
            "\"The Hundred Secret Senses\" 9\n",
            "\"Seventh Heaven\" 8\n",
            "\n",
            "Predict the user's rating on \"While I Was Gone\". Output the rating score only. Do not include other text. reponse 7 due to error: invalid literal for int() with base 10: '8.5'\n",
            "933th pred 8 ans 8\n",
            "934th pred 9 ans 8\n",
            "935th pred 8 ans 7\n"
          ]
        },
        {
          "name": "stderr",
          "output_type": "stream",
          "text": [
            "Setting `pad_token_id` to `eos_token_id`:128001 for open-end generation.\n",
            "Setting `pad_token_id` to `eos_token_id`:128001 for open-end generation.\n",
            "Setting `pad_token_id` to `eos_token_id`:128001 for open-end generation.\n"
          ]
        },
        {
          "name": "stdout",
          "output_type": "stream",
          "text": [
            "936th pred 8 ans 10\n",
            "Skipping index 1097 prompt You are a book recommender and your job is to predict a user's rating (ranging from 1 to 10, with 10 being the highest) on a book, based on that user's previous ratings.\n",
            "\n",
            "User 152960 has rated the following books:\n",
            "\n",
            "\"Murder in Havana (Truman, Margaret, Capital Crimes Series.)\" 8\n",
            "\"God's Little Devotional Book (God's Little Devotional Books)\" 6\n",
            "\"Eclipse Bay\" 7\n",
            "\"Cold Mountain\" 9\n",
            "\n",
            "Predict the user's rating on \"Undaunted Courage: Meriwether Lewis Thomas Jefferson and the Opening of the American West\". Output the rating score only. Do not include other text. reponse 7 due to error: invalid literal for int() with base 10: '8.4'\n",
            "937th pred 7 ans 9\n"
          ]
        },
        {
          "name": "stderr",
          "output_type": "stream",
          "text": [
            "Setting `pad_token_id` to `eos_token_id`:128001 for open-end generation.\n",
            "Setting `pad_token_id` to `eos_token_id`:128001 for open-end generation.\n",
            "Setting `pad_token_id` to `eos_token_id`:128001 for open-end generation.\n"
          ]
        },
        {
          "name": "stdout",
          "output_type": "stream",
          "text": [
            "938th pred 7 ans 8\n",
            "Skipping index 1100 prompt You are a book recommender and your job is to predict a user's rating (ranging from 1 to 10, with 10 being the highest) on a book, based on that user's previous ratings.\n",
            "\n",
            "User 153400 has rated the following books:\n",
            "\n",
            "\"Outlander\" 10\n",
            "\"The Ginger Man\" 7\n",
            "\"Wicked: The Life and Times of the Wicked Witch of the West\" 9\n",
            "\"A Civil Action\" 9\n",
            "\n",
            "Predict the user's rating on \"Snow Crash (Bantam Spectra Book)\". Output the rating score only. Do not include other text. reponse 7 due to error: invalid literal for int() with base 10: '8.3'\n",
            "939th pred 8 ans 10\n"
          ]
        },
        {
          "name": "stderr",
          "output_type": "stream",
          "text": [
            "Setting `pad_token_id` to `eos_token_id`:128001 for open-end generation.\n",
            "Setting `pad_token_id` to `eos_token_id`:128001 for open-end generation.\n",
            "Setting `pad_token_id` to `eos_token_id`:128001 for open-end generation.\n",
            "Setting `pad_token_id` to `eos_token_id`:128001 for open-end generation.\n"
          ]
        },
        {
          "name": "stdout",
          "output_type": "stream",
          "text": [
            "940th pred 7 ans 9\n",
            "941th pred 9 ans 7\n",
            "942th pred 8 ans 8\n",
            "943th pred 8 ans 7\n"
          ]
        },
        {
          "name": "stderr",
          "output_type": "stream",
          "text": [
            "Setting `pad_token_id` to `eos_token_id`:128001 for open-end generation.\n",
            "Setting `pad_token_id` to `eos_token_id`:128001 for open-end generation.\n",
            "Setting `pad_token_id` to `eos_token_id`:128001 for open-end generation.\n",
            "Setting `pad_token_id` to `eos_token_id`:128001 for open-end generation.\n"
          ]
        },
        {
          "name": "stdout",
          "output_type": "stream",
          "text": [
            "Skipping index 1106 prompt You are a book recommender and your job is to predict a user's rating (ranging from 1 to 10, with 10 being the highest) on a book, based on that user's previous ratings.\n",
            "\n",
            "User 154330 has rated the following books:\n",
            "\n",
            "\"Rising Sun\" 7\n",
            "\"The Cardinal of the Kremlin\" 4\n",
            "\"Shopgirl : A Novella\" 8\n",
            "\"Wolves of the Calla (The Dark Tower, Book 5)\" 9\n",
            "\n",
            "Predict the user's rating on \"The Shining\". Output the rating score only. Do not include other text. reponse 7 due to error: invalid literal for int() with base 10: '8.5'\n",
            "944th pred 8 ans 8\n",
            "945th pred 8 ans 6\n",
            "946th pred 8 ans 9\n"
          ]
        },
        {
          "name": "stderr",
          "output_type": "stream",
          "text": [
            "Setting `pad_token_id` to `eos_token_id`:128001 for open-end generation.\n",
            "Setting `pad_token_id` to `eos_token_id`:128001 for open-end generation.\n",
            "Setting `pad_token_id` to `eos_token_id`:128001 for open-end generation.\n",
            "Setting `pad_token_id` to `eos_token_id`:128001 for open-end generation.\n"
          ]
        },
        {
          "name": "stdout",
          "output_type": "stream",
          "text": [
            "947th pred 8 ans 9\n",
            "948th pred 8 ans 10\n",
            "949th pred 7 ans 5\n",
            "950th pred 8 ans 7\n"
          ]
        },
        {
          "name": "stderr",
          "output_type": "stream",
          "text": [
            "Setting `pad_token_id` to `eos_token_id`:128001 for open-end generation.\n",
            "Setting `pad_token_id` to `eos_token_id`:128001 for open-end generation.\n",
            "Setting `pad_token_id` to `eos_token_id`:128001 for open-end generation.\n"
          ]
        },
        {
          "name": "stdout",
          "output_type": "stream",
          "text": [
            "951th pred 7 ans 6\n",
            "952th pred 7 ans 7\n",
            "953th pred 9 ans 9\n"
          ]
        },
        {
          "name": "stderr",
          "output_type": "stream",
          "text": [
            "Setting `pad_token_id` to `eos_token_id`:128001 for open-end generation.\n",
            "Setting `pad_token_id` to `eos_token_id`:128001 for open-end generation.\n",
            "Setting `pad_token_id` to `eos_token_id`:128001 for open-end generation.\n"
          ]
        },
        {
          "name": "stdout",
          "output_type": "stream",
          "text": [
            "Skipping index 1117 prompt You are a book recommender and your job is to predict a user's rating (ranging from 1 to 10, with 10 being the highest) on a book, based on that user's previous ratings.\n",
            "\n",
            "User 155317 has rated the following books:\n",
            "\n",
            "\"Paradise to come\" 7\n",
            "\"Spirit Writing\" 9\n",
            "\"Small Gods (Discworld Novels (Paperback))\" 7\n",
            "\"The mathematics of Jane Austen and other stories\" 8\n",
            "\n",
            "Predict the user's rating on \"Chocolat\". Output the rating score only. Do not include other text. reponse 7 due to error: invalid literal for int() with base 10: '8.3'\n",
            "954th pred 8 ans 8\n",
            "Skipping index 1119 prompt You are a book recommender and your job is to predict a user's rating (ranging from 1 to 10, with 10 being the highest) on a book, based on that user's previous ratings.\n",
            "\n",
            "User 155669 has rated the following books:\n",
            "\n",
            "\"Messiah\" 6\n",
            "\"O Evangelho segundo Jesus Cristo: Romance\" 9\n",
            "\"Memorial Do Convento\" 8\n",
            "\"Todos os nomes: Romance (O campo da palavra)\" 9\n",
            "\n",
            "Predict the user's rating on \"Historia Do Cerco De Lisboa\". Output the rating score only. Do not include other text. reponse 7 due to error: invalid literal for int() with base 10: '8.3'\n"
          ]
        },
        {
          "name": "stderr",
          "output_type": "stream",
          "text": [
            "Setting `pad_token_id` to `eos_token_id`:128001 for open-end generation.\n",
            "Setting `pad_token_id` to `eos_token_id`:128001 for open-end generation.\n",
            "Setting `pad_token_id` to `eos_token_id`:128001 for open-end generation.\n",
            "Setting `pad_token_id` to `eos_token_id`:128001 for open-end generation.\n"
          ]
        },
        {
          "name": "stdout",
          "output_type": "stream",
          "text": [
            "955th pred 7 ans 7\n",
            "956th pred 7 ans 5\n",
            "957th pred 7 ans 5\n",
            "958th pred 6 ans 9\n"
          ]
        },
        {
          "name": "stderr",
          "output_type": "stream",
          "text": [
            "Setting `pad_token_id` to `eos_token_id`:128001 for open-end generation.\n",
            "Setting `pad_token_id` to `eos_token_id`:128001 for open-end generation.\n",
            "Setting `pad_token_id` to `eos_token_id`:128001 for open-end generation.\n"
          ]
        },
        {
          "name": "stdout",
          "output_type": "stream",
          "text": [
            "959th pred 6 ans 8\n",
            "960th pred 8 ans 5\n",
            "Skipping index 1126 prompt You are a book recommender and your job is to predict a user's rating (ranging from 1 to 10, with 10 being the highest) on a book, based on that user's previous ratings.\n",
            "\n",
            "User 157068 has rated the following books:\n",
            "\n",
            "\"See Under: Love\" 7\n",
            "\"Emma\" 9\n",
            "\"The Little Virtues\" 8\n",
            "\"Learn to Listen-Listen to Learn, Second Edition\" 7\n",
            "\n",
            "Predict the user's rating on \"The Child in Time\". Output the rating score only. Do not include other text. reponse 7 due to error: invalid literal for int() with base 10: '8.3'\n"
          ]
        },
        {
          "name": "stderr",
          "output_type": "stream",
          "text": [
            "Setting `pad_token_id` to `eos_token_id`:128001 for open-end generation.\n",
            "Setting `pad_token_id` to `eos_token_id`:128001 for open-end generation.\n",
            "Setting `pad_token_id` to `eos_token_id`:128001 for open-end generation.\n"
          ]
        },
        {
          "name": "stdout",
          "output_type": "stream",
          "text": [
            "Skipping index 1127 prompt You are a book recommender and your job is to predict a user's rating (ranging from 1 to 10, with 10 being the highest) on a book, based on that user's previous ratings.\n",
            "\n",
            "User 157558 has rated the following books:\n",
            "\n",
            "\"Passing for Thin : Losing Half My Weight and Finding My Self\" 9\n",
            "\"Frida: A Biography of Frida Kahlo\" 10\n",
            "\"So Many Books, So Little Time: A Year of Passionate Reading\" 8\n",
            "\"Mere Christianity\" 10\n",
            "\n",
            "Predict the user's rating on \"Wake Up, I'm Fat!\". Output the rating score only. Do not include other text. reponse 7 due to error: invalid literal for int() with base 10: '8.4'\n",
            "961th pred 8 ans 5\n",
            "962th pred 7 ans 10\n"
          ]
        },
        {
          "name": "stderr",
          "output_type": "stream",
          "text": [
            "Setting `pad_token_id` to `eos_token_id`:128001 for open-end generation.\n",
            "Setting `pad_token_id` to `eos_token_id`:128001 for open-end generation.\n",
            "Setting `pad_token_id` to `eos_token_id`:128001 for open-end generation.\n"
          ]
        },
        {
          "name": "stdout",
          "output_type": "stream",
          "text": [
            "Skipping index 1130 prompt You are a book recommender and your job is to predict a user's rating (ranging from 1 to 10, with 10 being the highest) on a book, based on that user's previous ratings.\n",
            "\n",
            "User 158688 has rated the following books:\n",
            "\n",
            "\"Baby Animals on the Farm (First Little Golden Book)\" 8\n",
            "\"Winnie the Pooh and the Honey Tree (Little Golden Books)\" 7\n",
            "\"Franklin Goes to School (Franklin)\" 8\n",
            "\"The Christmas Story (Card Kit)\" 8\n",
            "\n",
            "Predict the user's rating on \"Whatley's Quest\". Output the rating score only. Do not include other text. reponse 7 due to error: invalid literal for int() with base 10: '7.3'\n",
            "963th pred 7 ans 7\n",
            "Skipping index 1132 prompt You are a book recommender and your job is to predict a user's rating (ranging from 1 to 10, with 10 being the highest) on a book, based on that user's previous ratings.\n",
            "\n",
            "User 158852 has rated the following books:\n",
            "\n",
            "\"Rick Steves' Paris 2002\" 8\n",
            "\"The Complete Cancer Survival Guide: Everything You Must Know and Where to go For State-Of-The-Art Treatment of the 25 Most Common Forms of Cancer.\" 7\n",
            "\"The Miracle Life of Edgar Mint: A Novel\" 10\n",
            "\"Cancer Survivor's Nutrition &amp; Health Guide: Eating Well and Getting Better During and After Cancer Treatment\" 9\n",
            "\n",
            "Predict the user's rating on \"Prodigal Summer: A Novel\". Output the rating score only. Do not include other text. reponse 7 due to error: invalid literal for int() with base 10: '8.5'\n"
          ]
        },
        {
          "name": "stderr",
          "output_type": "stream",
          "text": [
            "Setting `pad_token_id` to `eos_token_id`:128001 for open-end generation.\n",
            "Setting `pad_token_id` to `eos_token_id`:128001 for open-end generation.\n",
            "Setting `pad_token_id` to `eos_token_id`:128001 for open-end generation.\n",
            "Setting `pad_token_id` to `eos_token_id`:128001 for open-end generation.\n"
          ]
        },
        {
          "name": "stdout",
          "output_type": "stream",
          "text": [
            "964th pred 8 ans 10\n",
            "965th pred 9 ans 9\n",
            "966th pred 9 ans 8\n",
            "967th pred 8 ans 5\n"
          ]
        },
        {
          "name": "stderr",
          "output_type": "stream",
          "text": [
            "Setting `pad_token_id` to `eos_token_id`:128001 for open-end generation.\n",
            "Setting `pad_token_id` to `eos_token_id`:128001 for open-end generation.\n",
            "Setting `pad_token_id` to `eos_token_id`:128001 for open-end generation.\n",
            "Setting `pad_token_id` to `eos_token_id`:128001 for open-end generation.\n"
          ]
        },
        {
          "name": "stdout",
          "output_type": "stream",
          "text": [
            "Skipping index 1137 prompt You are a book recommender and your job is to predict a user's rating (ranging from 1 to 10, with 10 being the highest) on a book, based on that user's previous ratings.\n",
            "\n",
            "User 159783 has rated the following books:\n",
            "\n",
            "\"The Greenhouse Effect: Life on a Warmer Planet\" 8\n",
            "\"Digital Hustlers: Living Large and Falling Hard in Silicon Alley\" 7\n",
            "\"Awesome Good Clean Jokes for Kids\" 5\n",
            "\"Are You There God?  It's Me, Margaret\" 10\n",
            "\n",
            "Predict the user's rating on \"Muffy's Scrapbook\". Output the rating score only. Do not include other text. reponse 7 due to error: invalid literal for int() with base 10: '8.5'\n",
            "968th pred 7 ans 8\n",
            "969th pred 8 ans 8\n",
            "970th pred 9 ans 7\n"
          ]
        },
        {
          "name": "stderr",
          "output_type": "stream",
          "text": [
            "Setting `pad_token_id` to `eos_token_id`:128001 for open-end generation.\n",
            "Setting `pad_token_id` to `eos_token_id`:128001 for open-end generation.\n",
            "Setting `pad_token_id` to `eos_token_id`:128001 for open-end generation.\n",
            "Setting `pad_token_id` to `eos_token_id`:128001 for open-end generation.\n"
          ]
        },
        {
          "name": "stdout",
          "output_type": "stream",
          "text": [
            "971th pred 8 ans 7\n",
            "972th pred 9 ans 7\n",
            "973th pred 8 ans 10\n",
            "974th pred 8 ans 10\n"
          ]
        },
        {
          "name": "stderr",
          "output_type": "stream",
          "text": [
            "Setting `pad_token_id` to `eos_token_id`:128001 for open-end generation.\n",
            "Setting `pad_token_id` to `eos_token_id`:128001 for open-end generation.\n",
            "Setting `pad_token_id` to `eos_token_id`:128001 for open-end generation.\n",
            "Setting `pad_token_id` to `eos_token_id`:128001 for open-end generation.\n"
          ]
        },
        {
          "name": "stdout",
          "output_type": "stream",
          "text": [
            "975th pred 8 ans 8\n",
            "976th pred 7 ans 7\n",
            "977th pred 7 ans 5\n",
            "978th pred 7 ans 7\n"
          ]
        },
        {
          "name": "stderr",
          "output_type": "stream",
          "text": [
            "Setting `pad_token_id` to `eos_token_id`:128001 for open-end generation.\n",
            "Setting `pad_token_id` to `eos_token_id`:128001 for open-end generation.\n",
            "Setting `pad_token_id` to `eos_token_id`:128001 for open-end generation.\n",
            "Setting `pad_token_id` to `eos_token_id`:128001 for open-end generation.\n"
          ]
        },
        {
          "name": "stdout",
          "output_type": "stream",
          "text": [
            "979th pred 8 ans 5\n",
            "980th pred 8 ans 5\n",
            "981th pred 7 ans 8\n",
            "982th pred 8 ans 8\n"
          ]
        },
        {
          "name": "stderr",
          "output_type": "stream",
          "text": [
            "Setting `pad_token_id` to `eos_token_id`:128001 for open-end generation.\n",
            "Setting `pad_token_id` to `eos_token_id`:128001 for open-end generation.\n",
            "Setting `pad_token_id` to `eos_token_id`:128001 for open-end generation.\n"
          ]
        },
        {
          "name": "stdout",
          "output_type": "stream",
          "text": [
            "983th pred 8 ans 7\n",
            "984th pred 7 ans 6\n",
            "Skipping index 1155 prompt You are a book recommender and your job is to predict a user's rating (ranging from 1 to 10, with 10 being the highest) on a book, based on that user's previous ratings.\n",
            "\n",
            "User 162095 has rated the following books:\n",
            "\n",
            "\"The Glitter Dome\" 8\n",
            "\"The Seventh Secret\" 8\n",
            "\"Seduction of Peter S\" 9\n",
            "\"Wild Justice\" 9\n",
            "\n",
            "Predict the user's rating on \"Fool's Die\". Output the rating score only. Do not include other text. reponse 7 due to error: invalid literal for int() with base 10: '8.5'\n"
          ]
        },
        {
          "name": "stderr",
          "output_type": "stream",
          "text": [
            "Setting `pad_token_id` to `eos_token_id`:128001 for open-end generation.\n",
            "Setting `pad_token_id` to `eos_token_id`:128001 for open-end generation.\n",
            "Setting `pad_token_id` to `eos_token_id`:128001 for open-end generation.\n",
            "Setting `pad_token_id` to `eos_token_id`:128001 for open-end generation.\n"
          ]
        },
        {
          "name": "stdout",
          "output_type": "stream",
          "text": [
            "985th pred 6 ans 9\n",
            "986th pred 7 ans 8\n",
            "987th pred 8 ans 3\n",
            "988th pred 8 ans 3\n"
          ]
        },
        {
          "name": "stderr",
          "output_type": "stream",
          "text": [
            "Setting `pad_token_id` to `eos_token_id`:128001 for open-end generation.\n",
            "Setting `pad_token_id` to `eos_token_id`:128001 for open-end generation.\n",
            "Setting `pad_token_id` to `eos_token_id`:128001 for open-end generation.\n",
            "Setting `pad_token_id` to `eos_token_id`:128001 for open-end generation.\n"
          ]
        },
        {
          "name": "stdout",
          "output_type": "stream",
          "text": [
            "Skipping index 1160 prompt You are a book recommender and your job is to predict a user's rating (ranging from 1 to 10, with 10 being the highest) on a book, based on that user's previous ratings.\n",
            "\n",
            "User 163072 has rated the following books:\n",
            "\n",
            "\"Medusa and the Snail: More Notes of a Biology Watcher\" 9\n",
            "\"Domestic Pleasures : A Novel\" 8\n",
            "\"Hocus Pocus\" 10\n",
            "\"Women on the Case\" 7\n",
            "\n",
            "Predict the user's rating on \"More Red Meat : The Second Collection of Red Meat Cartoons\". Output the rating score only. Do not include other text. reponse 7 due to error: invalid literal for int() with base 10: '8.5'\n",
            "989th pred 7 ans 8\n",
            "990th pred 8 ans 7\n",
            "991th pred 8 ans 5\n"
          ]
        },
        {
          "name": "stderr",
          "output_type": "stream",
          "text": [
            "Setting `pad_token_id` to `eos_token_id`:128001 for open-end generation.\n",
            "Setting `pad_token_id` to `eos_token_id`:128001 for open-end generation.\n",
            "Setting `pad_token_id` to `eos_token_id`:128001 for open-end generation.\n",
            "Setting `pad_token_id` to `eos_token_id`:128001 for open-end generation.\n"
          ]
        },
        {
          "name": "stdout",
          "output_type": "stream",
          "text": [
            "992th pred 8 ans 7\n",
            "993th pred 7 ans 7\n",
            "994th pred 8 ans 9\n",
            "995th pred 9 ans 10\n"
          ]
        },
        {
          "name": "stderr",
          "output_type": "stream",
          "text": [
            "Setting `pad_token_id` to `eos_token_id`:128001 for open-end generation.\n",
            "Setting `pad_token_id` to `eos_token_id`:128001 for open-end generation.\n",
            "Setting `pad_token_id` to `eos_token_id`:128001 for open-end generation.\n"
          ]
        },
        {
          "name": "stdout",
          "output_type": "stream",
          "text": [
            "996th pred 7 ans 7\n",
            "997th pred 9 ans 5\n",
            "Skipping index 1170 prompt You are a book recommender and your job is to predict a user's rating (ranging from 1 to 10, with 10 being the highest) on a book, based on that user's previous ratings.\n",
            "\n",
            "User 164105 has rated the following books:\n",
            "\n",
            "\"White Oleander : A Novel (Oprah's Book Club)\" 8\n",
            "\"The Pilot's Wife : A Novel\" 8\n",
            "\"Propeller One-Way Night Coach: A Story\" 7\n",
            "\"I Know This Much Is True\" 9\n",
            "\n",
            "Predict the user's rating on \"She's Come Undone (Oprah's Book Club (Paperback))\". Output the rating score only. Do not include other text. reponse 7 due to error: invalid literal for int() with base 10: '8.5'\n"
          ]
        },
        {
          "name": "stderr",
          "output_type": "stream",
          "text": [
            "Setting `pad_token_id` to `eos_token_id`:128001 for open-end generation.\n",
            "Setting `pad_token_id` to `eos_token_id`:128001 for open-end generation.\n",
            "Setting `pad_token_id` to `eos_token_id`:128001 for open-end generation.\n"
          ]
        },
        {
          "name": "stdout",
          "output_type": "stream",
          "text": [
            "Skipping index 1171 prompt You are a book recommender and your job is to predict a user's rating (ranging from 1 to 10, with 10 being the highest) on a book, based on that user's previous ratings.\n",
            "\n",
            "User 164140 has rated the following books:\n",
            "\n",
            "\"The Reader\" 9\n",
            "\"The Wind-Up Bird Chronicle\" 8\n",
            "\"The Sportswriter (Vintage Contemporaries)\" 7\n",
            "\"The Diving Bell and the Butterfly : A Memoir of Life in Death\" 6\n",
            "\n",
            "Predict the user's rating on \"The History of Luminous Motion\". Output the rating score only. Do not include other text. reponse 7 due to error: invalid literal for int() with base 10: '7.4'\n",
            "998th pred 8 ans 8\n",
            "999th pred 7 ans 5\n"
          ]
        },
        {
          "name": "stderr",
          "output_type": "stream",
          "text": [
            "Setting `pad_token_id` to `eos_token_id`:128001 for open-end generation.\n",
            "Setting `pad_token_id` to `eos_token_id`:128001 for open-end generation.\n",
            "Setting `pad_token_id` to `eos_token_id`:128001 for open-end generation.\n",
            "Setting `pad_token_id` to `eos_token_id`:128001 for open-end generation.\n"
          ]
        },
        {
          "name": "stdout",
          "output_type": "stream",
          "text": [
            "Skipping index 1174 prompt You are a book recommender and your job is to predict a user's rating (ranging from 1 to 10, with 10 being the highest) on a book, based on that user's previous ratings.\n",
            "\n",
            "User 164413 has rated the following books:\n",
            "\n",
            "\"Nieves del Kilimanjaro, Las\" 8\n",
            "\"El amor en los tiempos del cÃ³lera\" 9\n",
            "\"Vieja Sirena, La (ColecciÃ³n Ancora y delfÃ­n)\" 7\n",
            "\"Las pirÃ¡mides de Egipto\" 7\n",
            "\n",
            "Predict the user's rating on \"Cronus y la seÃ±ora con rabo: (bajo el signo de CÃ¡ncer) (ColecciÃ³n Destinolibro)\". Output the rating score only. Do not include other text. reponse 7 due to error: invalid literal for int() with base 10: '6.5'\n",
            "1000th pred 7 ans 7\n",
            "1001th pred 7 ans 6\n",
            "1002th pred 8 ans 10\n"
          ]
        },
        {
          "name": "stderr",
          "output_type": "stream",
          "text": [
            "Setting `pad_token_id` to `eos_token_id`:128001 for open-end generation.\n",
            "Setting `pad_token_id` to `eos_token_id`:128001 for open-end generation.\n",
            "Setting `pad_token_id` to `eos_token_id`:128001 for open-end generation.\n"
          ]
        },
        {
          "name": "stdout",
          "output_type": "stream",
          "text": [
            "1003th pred 6 ans 3\n",
            "1004th pred 8 ans 9\n",
            "Skipping index 1180 prompt You are a book recommender and your job is to predict a user's rating (ranging from 1 to 10, with 10 being the highest) on a book, based on that user's previous ratings.\n",
            "\n",
            "User 164955 has rated the following books:\n",
            "\n",
            "\"The King of Torts\" 8\n",
            "\"The Tristan Betrayal (Ludlum, Robert)\" 9\n",
            "\"Atonement: A Novel\" 8\n",
            "\"Raising Fences: A Black Man's Love Story\" 9\n",
            "\n",
            "Predict the user's rating on \"The Janson Directive\". Output the rating score only. Do not include other text. reponse 7 due to error: invalid literal for int() with base 10: '7.3'\n"
          ]
        },
        {
          "name": "stderr",
          "output_type": "stream",
          "text": [
            "Setting `pad_token_id` to `eos_token_id`:128001 for open-end generation.\n",
            "Setting `pad_token_id` to `eos_token_id`:128001 for open-end generation.\n",
            "Setting `pad_token_id` to `eos_token_id`:128001 for open-end generation.\n",
            "Setting `pad_token_id` to `eos_token_id`:128001 for open-end generation.\n"
          ]
        },
        {
          "name": "stdout",
          "output_type": "stream",
          "text": [
            "1005th pred 7 ans 10\n",
            "1006th pred 4 ans 4\n",
            "1007th pred 9 ans 9\n",
            "1008th pred 8 ans 8\n"
          ]
        },
        {
          "name": "stderr",
          "output_type": "stream",
          "text": [
            "Setting `pad_token_id` to `eos_token_id`:128001 for open-end generation.\n",
            "Setting `pad_token_id` to `eos_token_id`:128001 for open-end generation.\n",
            "Setting `pad_token_id` to `eos_token_id`:128001 for open-end generation.\n",
            "Setting `pad_token_id` to `eos_token_id`:128001 for open-end generation.\n"
          ]
        },
        {
          "name": "stdout",
          "output_type": "stream",
          "text": [
            "1009th pred 7 ans 6\n",
            "1010th pred 5 ans 5\n",
            "1011th pred 9 ans 10\n",
            "1012th pred 7 ans 5\n"
          ]
        },
        {
          "name": "stderr",
          "output_type": "stream",
          "text": [
            "Setting `pad_token_id` to `eos_token_id`:128001 for open-end generation.\n",
            "Setting `pad_token_id` to `eos_token_id`:128001 for open-end generation.\n",
            "Setting `pad_token_id` to `eos_token_id`:128001 for open-end generation.\n",
            "Setting `pad_token_id` to `eos_token_id`:128001 for open-end generation.\n"
          ]
        },
        {
          "name": "stdout",
          "output_type": "stream",
          "text": [
            "1013th pred 9 ans 7\n",
            "1014th pred 7 ans 8\n",
            "1015th pred 9 ans 5\n",
            "1016th pred 8 ans 7\n"
          ]
        },
        {
          "name": "stderr",
          "output_type": "stream",
          "text": [
            "Setting `pad_token_id` to `eos_token_id`:128001 for open-end generation.\n",
            "Setting `pad_token_id` to `eos_token_id`:128001 for open-end generation.\n",
            "Setting `pad_token_id` to `eos_token_id`:128001 for open-end generation.\n",
            "Setting `pad_token_id` to `eos_token_id`:128001 for open-end generation.\n"
          ]
        },
        {
          "name": "stdout",
          "output_type": "stream",
          "text": [
            "1017th pred 8 ans 8\n",
            "1018th pred 8 ans 8\n",
            "1019th pred 8 ans 9\n",
            "1020th pred 8 ans 5\n"
          ]
        },
        {
          "name": "stderr",
          "output_type": "stream",
          "text": [
            "Setting `pad_token_id` to `eos_token_id`:128001 for open-end generation.\n",
            "Setting `pad_token_id` to `eos_token_id`:128001 for open-end generation.\n",
            "Setting `pad_token_id` to `eos_token_id`:128001 for open-end generation.\n",
            "Setting `pad_token_id` to `eos_token_id`:128001 for open-end generation.\n"
          ]
        },
        {
          "name": "stdout",
          "output_type": "stream",
          "text": [
            "1021th pred 8 ans 7\n",
            "1022th pred 9 ans 8\n",
            "1023th pred 7 ans 8\n",
            "1024th pred 8 ans 6\n"
          ]
        },
        {
          "name": "stderr",
          "output_type": "stream",
          "text": [
            "Setting `pad_token_id` to `eos_token_id`:128001 for open-end generation.\n",
            "Setting `pad_token_id` to `eos_token_id`:128001 for open-end generation.\n",
            "Setting `pad_token_id` to `eos_token_id`:128001 for open-end generation.\n"
          ]
        },
        {
          "name": "stdout",
          "output_type": "stream",
          "text": [
            "1025th pred 8 ans 7\n",
            "1026th pred 8 ans 4\n",
            "1027th pred 7 ans 7\n"
          ]
        },
        {
          "name": "stderr",
          "output_type": "stream",
          "text": [
            "Setting `pad_token_id` to `eos_token_id`:128001 for open-end generation.\n",
            "Setting `pad_token_id` to `eos_token_id`:128001 for open-end generation.\n",
            "Setting `pad_token_id` to `eos_token_id`:128001 for open-end generation.\n",
            "Setting `pad_token_id` to `eos_token_id`:128001 for open-end generation.\n"
          ]
        },
        {
          "name": "stdout",
          "output_type": "stream",
          "text": [
            "Skipping index 1204 prompt You are a book recommender and your job is to predict a user's rating (ranging from 1 to 10, with 10 being the highest) on a book, based on that user's previous ratings.\n",
            "\n",
            "User 167644 has rated the following books:\n",
            "\n",
            "\"Mercy\" 8\n",
            "\"She's Come Undone (Oprah's Book Club)\" 7\n",
            "\"Icy Sparks\" 8\n",
            "\"White Oleander : A Novel\" 9\n",
            "\n",
            "Predict the user's rating on \"Midwives: A Novel\". Output the rating score only. Do not include other text. reponse 7 due to error: invalid literal for int() with base 10: '8.2'\n",
            "1028th pred 8 ans 7\n",
            "1029th pred 8 ans 6\n",
            "1030th pred 7 ans 8\n"
          ]
        },
        {
          "name": "stderr",
          "output_type": "stream",
          "text": [
            "Setting `pad_token_id` to `eos_token_id`:128001 for open-end generation.\n",
            "Setting `pad_token_id` to `eos_token_id`:128001 for open-end generation.\n",
            "Setting `pad_token_id` to `eos_token_id`:128001 for open-end generation.\n"
          ]
        },
        {
          "name": "stdout",
          "output_type": "stream",
          "text": [
            "1031th pred 7 ans 5\n",
            "1032th pred 8 ans 9\n",
            "1033th pred 7 ans 2\n"
          ]
        },
        {
          "name": "stderr",
          "output_type": "stream",
          "text": [
            "Setting `pad_token_id` to `eos_token_id`:128001 for open-end generation.\n",
            "Setting `pad_token_id` to `eos_token_id`:128001 for open-end generation.\n",
            "Setting `pad_token_id` to `eos_token_id`:128001 for open-end generation.\n",
            "Setting `pad_token_id` to `eos_token_id`:128001 for open-end generation.\n"
          ]
        },
        {
          "name": "stdout",
          "output_type": "stream",
          "text": [
            "Skipping index 1211 prompt You are a book recommender and your job is to predict a user's rating (ranging from 1 to 10, with 10 being the highest) on a book, based on that user's previous ratings.\n",
            "\n",
            "User 168402 has rated the following books:\n",
            "\n",
            "\"The Bodyguard\" 9\n",
            "\"If I Had You\" 8\n",
            "\"The Maiden and the Unicorn\" 8\n",
            "\"The Bonny Bride (Harlequin Historical Series, No. 503)\" 7\n",
            "\n",
            "Predict the user's rating on \"Stealing Heaven\". Output the rating score only. Do not include other text. reponse 7 due to error: invalid literal for int() with base 10: '8.3'\n",
            "1034th pred 8 ans 3\n",
            "1035th pred 9 ans 10\n",
            "1036th pred 9 ans 10\n"
          ]
        },
        {
          "name": "stderr",
          "output_type": "stream",
          "text": [
            "Setting `pad_token_id` to `eos_token_id`:128001 for open-end generation.\n",
            "Setting `pad_token_id` to `eos_token_id`:128001 for open-end generation.\n",
            "Setting `pad_token_id` to `eos_token_id`:128001 for open-end generation.\n",
            "Setting `pad_token_id` to `eos_token_id`:128001 for open-end generation.\n"
          ]
        },
        {
          "name": "stdout",
          "output_type": "stream",
          "text": [
            "1037th pred 7 ans 8\n",
            "1038th pred 8 ans 7\n",
            "1039th pred 7 ans 9\n",
            "1040th pred 8 ans 6\n"
          ]
        },
        {
          "name": "stderr",
          "output_type": "stream",
          "text": [
            "Setting `pad_token_id` to `eos_token_id`:128001 for open-end generation.\n",
            "Setting `pad_token_id` to `eos_token_id`:128001 for open-end generation.\n",
            "Setting `pad_token_id` to `eos_token_id`:128001 for open-end generation.\n"
          ]
        },
        {
          "name": "stdout",
          "output_type": "stream",
          "text": [
            "1041th pred 8 ans 7\n",
            "Skipping index 1220 prompt You are a book recommender and your job is to predict a user's rating (ranging from 1 to 10, with 10 being the highest) on a book, based on that user's previous ratings.\n",
            "\n",
            "User 169634 has rated the following books:\n",
            "\n",
            "\"Midwives: A Novel\" 6\n",
            "\"Hook Man Speaks\" 8\n",
            "\"The Piano Lesson (Plume Drama)\" 5\n",
            "\"Dork of Cork\" 7\n",
            "\n",
            "Predict the user's rating on \"The House of the Spirits\". Output the rating score only. Do not include other text. reponse 7 due to error: invalid literal for int() with base 10: '7.5'\n",
            "1042th pred 7 ans 8\n"
          ]
        },
        {
          "name": "stderr",
          "output_type": "stream",
          "text": [
            "Setting `pad_token_id` to `eos_token_id`:128001 for open-end generation.\n",
            "Setting `pad_token_id` to `eos_token_id`:128001 for open-end generation.\n",
            "Setting `pad_token_id` to `eos_token_id`:128001 for open-end generation.\n",
            "Setting `pad_token_id` to `eos_token_id`:128001 for open-end generation.\n"
          ]
        },
        {
          "name": "stdout",
          "output_type": "stream",
          "text": [
            "1043th pred 8 ans 10\n",
            "1044th pred 9 ans 10\n",
            "1045th pred 9 ans 5\n",
            "1046th pred 7 ans 5\n"
          ]
        },
        {
          "name": "stderr",
          "output_type": "stream",
          "text": [
            "Setting `pad_token_id` to `eos_token_id`:128001 for open-end generation.\n",
            "Setting `pad_token_id` to `eos_token_id`:128001 for open-end generation.\n",
            "Setting `pad_token_id` to `eos_token_id`:128001 for open-end generation.\n",
            "Setting `pad_token_id` to `eos_token_id`:128001 for open-end generation.\n"
          ]
        },
        {
          "name": "stdout",
          "output_type": "stream",
          "text": [
            "1047th pred 7 ans 5\n",
            "1048th pred 8 ans 6\n",
            "1049th pred 8 ans 10\n",
            "1050th pred 8 ans 5\n"
          ]
        },
        {
          "name": "stderr",
          "output_type": "stream",
          "text": [
            "Setting `pad_token_id` to `eos_token_id`:128001 for open-end generation.\n",
            "Setting `pad_token_id` to `eos_token_id`:128001 for open-end generation.\n",
            "Setting `pad_token_id` to `eos_token_id`:128001 for open-end generation.\n",
            "Setting `pad_token_id` to `eos_token_id`:128001 for open-end generation.\n"
          ]
        },
        {
          "name": "stdout",
          "output_type": "stream",
          "text": [
            "Skipping index 1230 prompt You are a book recommender and your job is to predict a user's rating (ranging from 1 to 10, with 10 being the highest) on a book, based on that user's previous ratings.\n",
            "\n",
            "User 170558 has rated the following books:\n",
            "\n",
            "\"Le Divorce (William Abrahams Book)\" 9\n",
            "\"French Lessons: Adventures with Knife, Fork, and Corkscrew\" 7\n",
            "\"Angels\" 8\n",
            "\"The Sixteen Pleasures: A Novel\" 7\n",
            "\n",
            "Predict the user's rating on \"Venetian Stories\". Output the rating score only. Do not include other text. reponse 7 due to error: invalid literal for int() with base 10: '8.3'\n",
            "1051th pred 8 ans 8\n",
            "1052th pred 8 ans 8\n",
            "1053th pred 8 ans 8\n"
          ]
        },
        {
          "name": "stderr",
          "output_type": "stream",
          "text": [
            "Setting `pad_token_id` to `eos_token_id`:128001 for open-end generation.\n",
            "Setting `pad_token_id` to `eos_token_id`:128001 for open-end generation.\n",
            "Setting `pad_token_id` to `eos_token_id`:128001 for open-end generation.\n",
            "Setting `pad_token_id` to `eos_token_id`:128001 for open-end generation.\n"
          ]
        },
        {
          "name": "stdout",
          "output_type": "stream",
          "text": [
            "1054th pred 8 ans 5\n",
            "1055th pred 8 ans 8\n",
            "1056th pred 8 ans 9\n",
            "1057th pred 8 ans 5\n"
          ]
        },
        {
          "name": "stderr",
          "output_type": "stream",
          "text": [
            "Setting `pad_token_id` to `eos_token_id`:128001 for open-end generation.\n",
            "Setting `pad_token_id` to `eos_token_id`:128001 for open-end generation.\n",
            "Setting `pad_token_id` to `eos_token_id`:128001 for open-end generation.\n"
          ]
        },
        {
          "name": "stdout",
          "output_type": "stream",
          "text": [
            "1058th pred 8 ans 5\n",
            "1059th pred 9 ans 10\n",
            "1060th pred 8 ans 8\n"
          ]
        },
        {
          "name": "stderr",
          "output_type": "stream",
          "text": [
            "Setting `pad_token_id` to `eos_token_id`:128001 for open-end generation.\n",
            "Setting `pad_token_id` to `eos_token_id`:128001 for open-end generation.\n",
            "Setting `pad_token_id` to `eos_token_id`:128001 for open-end generation.\n",
            "Setting `pad_token_id` to `eos_token_id`:128001 for open-end generation.\n"
          ]
        },
        {
          "name": "stdout",
          "output_type": "stream",
          "text": [
            "Skipping index 1241 prompt You are a book recommender and your job is to predict a user's rating (ranging from 1 to 10, with 10 being the highest) on a book, based on that user's previous ratings.\n",
            "\n",
            "User 171088 has rated the following books:\n",
            "\n",
            "\"Sister of My Heart\" 6\n",
            "\"From the Corner of His Eye\" 8\n",
            "\"A Garden to Keep\" 7\n",
            "\"The Shelters of Stone (Earth's Children Series, No 5)\" 8\n",
            "\n",
            "Predict the user's rating on \"Prodigal Summer\". Output the rating score only. Do not include other text. reponse 7 due to error: invalid literal for int() with base 10: '7.3'\n",
            "1061th pred 8 ans 4\n",
            "1062th pred 8 ans 6\n",
            "1063th pred 7 ans 7\n"
          ]
        },
        {
          "name": "stderr",
          "output_type": "stream",
          "text": [
            "Setting `pad_token_id` to `eos_token_id`:128001 for open-end generation.\n",
            "Setting `pad_token_id` to `eos_token_id`:128001 for open-end generation.\n",
            "Setting `pad_token_id` to `eos_token_id`:128001 for open-end generation.\n",
            "Setting `pad_token_id` to `eos_token_id`:128001 for open-end generation.\n"
          ]
        },
        {
          "name": "stdout",
          "output_type": "stream",
          "text": [
            "1064th pred 7 ans 7\n",
            "1065th pred 9 ans 8\n",
            "1066th pred 8 ans 8\n",
            "1067th pred 7 ans 8\n"
          ]
        },
        {
          "name": "stderr",
          "output_type": "stream",
          "text": [
            "Setting `pad_token_id` to `eos_token_id`:128001 for open-end generation.\n",
            "Setting `pad_token_id` to `eos_token_id`:128001 for open-end generation.\n",
            "Setting `pad_token_id` to `eos_token_id`:128001 for open-end generation.\n",
            "Setting `pad_token_id` to `eos_token_id`:128001 for open-end generation.\n"
          ]
        },
        {
          "name": "stdout",
          "output_type": "stream",
          "text": [
            "1068th pred 8 ans 8\n",
            "1069th pred 8 ans 5\n",
            "1070th pred 7 ans 5\n",
            "1071th pred 8 ans 6\n"
          ]
        },
        {
          "name": "stderr",
          "output_type": "stream",
          "text": [
            "Setting `pad_token_id` to `eos_token_id`:128001 for open-end generation.\n",
            "Setting `pad_token_id` to `eos_token_id`:128001 for open-end generation.\n",
            "Setting `pad_token_id` to `eos_token_id`:128001 for open-end generation.\n",
            "Setting `pad_token_id` to `eos_token_id`:128001 for open-end generation.\n"
          ]
        },
        {
          "name": "stdout",
          "output_type": "stream",
          "text": [
            "1072th pred 7 ans 6\n",
            "1073th pred 7 ans 6\n",
            "1074th pred 8 ans 7\n",
            "1075th pred 8 ans 10\n"
          ]
        },
        {
          "name": "stderr",
          "output_type": "stream",
          "text": [
            "Setting `pad_token_id` to `eos_token_id`:128001 for open-end generation.\n",
            "Setting `pad_token_id` to `eos_token_id`:128001 for open-end generation.\n",
            "Setting `pad_token_id` to `eos_token_id`:128001 for open-end generation.\n",
            "Setting `pad_token_id` to `eos_token_id`:128001 for open-end generation.\n"
          ]
        },
        {
          "name": "stdout",
          "output_type": "stream",
          "text": [
            "1076th pred 8 ans 8\n",
            "1077th pred 8 ans 7\n",
            "1078th pred 7 ans 10\n",
            "1079th pred 9 ans 10\n"
          ]
        },
        {
          "name": "stderr",
          "output_type": "stream",
          "text": [
            "Setting `pad_token_id` to `eos_token_id`:128001 for open-end generation.\n",
            "Setting `pad_token_id` to `eos_token_id`:128001 for open-end generation.\n",
            "Setting `pad_token_id` to `eos_token_id`:128001 for open-end generation.\n",
            "Setting `pad_token_id` to `eos_token_id`:128001 for open-end generation.\n"
          ]
        },
        {
          "name": "stdout",
          "output_type": "stream",
          "text": [
            "1080th pred 6 ans 5\n",
            "1081th pred 6 ans 10\n",
            "1082th pred 7 ans 10\n",
            "1083th pred 8 ans 9\n"
          ]
        },
        {
          "name": "stderr",
          "output_type": "stream",
          "text": [
            "Setting `pad_token_id` to `eos_token_id`:128001 for open-end generation.\n",
            "Setting `pad_token_id` to `eos_token_id`:128001 for open-end generation.\n",
            "Setting `pad_token_id` to `eos_token_id`:128001 for open-end generation.\n",
            "Setting `pad_token_id` to `eos_token_id`:128001 for open-end generation.\n"
          ]
        },
        {
          "name": "stdout",
          "output_type": "stream",
          "text": [
            "1084th pred 6 ans 8\n",
            "1085th pred 8 ans 8\n",
            "1086th pred 9 ans 9\n",
            "1087th pred 8 ans 10\n"
          ]
        },
        {
          "name": "stderr",
          "output_type": "stream",
          "text": [
            "Setting `pad_token_id` to `eos_token_id`:128001 for open-end generation.\n",
            "Setting `pad_token_id` to `eos_token_id`:128001 for open-end generation.\n",
            "Setting `pad_token_id` to `eos_token_id`:128001 for open-end generation.\n",
            "Setting `pad_token_id` to `eos_token_id`:128001 for open-end generation.\n"
          ]
        },
        {
          "name": "stdout",
          "output_type": "stream",
          "text": [
            "1088th pred 7 ans 6\n",
            "1089th pred 8 ans 9\n",
            "1090th pred 7 ans 8\n",
            "1091th pred 7 ans 10\n"
          ]
        },
        {
          "name": "stderr",
          "output_type": "stream",
          "text": [
            "Setting `pad_token_id` to `eos_token_id`:128001 for open-end generation.\n",
            "Setting `pad_token_id` to `eos_token_id`:128001 for open-end generation.\n",
            "Setting `pad_token_id` to `eos_token_id`:128001 for open-end generation.\n",
            "Setting `pad_token_id` to `eos_token_id`:128001 for open-end generation.\n"
          ]
        },
        {
          "name": "stdout",
          "output_type": "stream",
          "text": [
            "1092th pred 9 ans 9\n",
            "1093th pred 8 ans 9\n",
            "1094th pred 7 ans 7\n",
            "1095th pred 8 ans 9\n"
          ]
        },
        {
          "name": "stderr",
          "output_type": "stream",
          "text": [
            "Setting `pad_token_id` to `eos_token_id`:128001 for open-end generation.\n",
            "Setting `pad_token_id` to `eos_token_id`:128001 for open-end generation.\n",
            "Setting `pad_token_id` to `eos_token_id`:128001 for open-end generation.\n",
            "Setting `pad_token_id` to `eos_token_id`:128001 for open-end generation.\n"
          ]
        },
        {
          "name": "stdout",
          "output_type": "stream",
          "text": [
            "1096th pred 7 ans 7\n",
            "1097th pred 6 ans 7\n",
            "1098th pred 7 ans 6\n",
            "1099th pred 8 ans 5\n"
          ]
        },
        {
          "name": "stderr",
          "output_type": "stream",
          "text": [
            "Setting `pad_token_id` to `eos_token_id`:128001 for open-end generation.\n",
            "Setting `pad_token_id` to `eos_token_id`:128001 for open-end generation.\n",
            "Setting `pad_token_id` to `eos_token_id`:128001 for open-end generation.\n",
            "Setting `pad_token_id` to `eos_token_id`:128001 for open-end generation.\n"
          ]
        },
        {
          "name": "stdout",
          "output_type": "stream",
          "text": [
            "1100th pred 8 ans 5\n",
            "1101th pred 7 ans 8\n",
            "1102th pred 8 ans 7\n",
            "1103th pred 8 ans 5\n"
          ]
        },
        {
          "name": "stderr",
          "output_type": "stream",
          "text": [
            "Setting `pad_token_id` to `eos_token_id`:128001 for open-end generation.\n",
            "Setting `pad_token_id` to `eos_token_id`:128001 for open-end generation.\n",
            "Setting `pad_token_id` to `eos_token_id`:128001 for open-end generation.\n",
            "Setting `pad_token_id` to `eos_token_id`:128001 for open-end generation.\n"
          ]
        },
        {
          "name": "stdout",
          "output_type": "stream",
          "text": [
            "1104th pred 8 ans 9\n",
            "1105th pred 9 ans 7\n",
            "1106th pred 5 ans 9\n",
            "1107th pred 7 ans 8\n"
          ]
        },
        {
          "name": "stderr",
          "output_type": "stream",
          "text": [
            "Setting `pad_token_id` to `eos_token_id`:128001 for open-end generation.\n",
            "Setting `pad_token_id` to `eos_token_id`:128001 for open-end generation.\n",
            "Setting `pad_token_id` to `eos_token_id`:128001 for open-end generation.\n",
            "Setting `pad_token_id` to `eos_token_id`:128001 for open-end generation.\n"
          ]
        },
        {
          "name": "stdout",
          "output_type": "stream",
          "text": [
            "1108th pred 8 ans 7\n",
            "1109th pred 9 ans 9\n",
            "1110th pred 8 ans 8\n",
            "1111th pred 7 ans 9\n"
          ]
        },
        {
          "name": "stderr",
          "output_type": "stream",
          "text": [
            "Setting `pad_token_id` to `eos_token_id`:128001 for open-end generation.\n",
            "Setting `pad_token_id` to `eos_token_id`:128001 for open-end generation.\n",
            "Setting `pad_token_id` to `eos_token_id`:128001 for open-end generation.\n",
            "Setting `pad_token_id` to `eos_token_id`:128001 for open-end generation.\n"
          ]
        },
        {
          "name": "stdout",
          "output_type": "stream",
          "text": [
            "1112th pred 8 ans 10\n",
            "1113th pred 8 ans 9\n",
            "1114th pred 7 ans 5\n",
            "1115th pred 7 ans 10\n"
          ]
        },
        {
          "name": "stderr",
          "output_type": "stream",
          "text": [
            "Setting `pad_token_id` to `eos_token_id`:128001 for open-end generation.\n",
            "Setting `pad_token_id` to `eos_token_id`:128001 for open-end generation.\n",
            "Setting `pad_token_id` to `eos_token_id`:128001 for open-end generation.\n",
            "Setting `pad_token_id` to `eos_token_id`:128001 for open-end generation.\n"
          ]
        },
        {
          "name": "stdout",
          "output_type": "stream",
          "text": [
            "1116th pred 8 ans 5\n",
            "1117th pred 8 ans 6\n",
            "1118th pred 8 ans 6\n",
            "1119th pred 7 ans 9\n"
          ]
        },
        {
          "name": "stderr",
          "output_type": "stream",
          "text": [
            "Setting `pad_token_id` to `eos_token_id`:128001 for open-end generation.\n",
            "Setting `pad_token_id` to `eos_token_id`:128001 for open-end generation.\n",
            "Setting `pad_token_id` to `eos_token_id`:128001 for open-end generation.\n"
          ]
        },
        {
          "name": "stdout",
          "output_type": "stream",
          "text": [
            "1120th pred 8 ans 5\n",
            "Skipping index 1302 prompt You are a book recommender and your job is to predict a user's rating (ranging from 1 to 10, with 10 being the highest) on a book, based on that user's previous ratings.\n",
            "\n",
            "User 179576 has rated the following books:\n",
            "\n",
            "\"Job: A Comedy of Justice\" 8\n",
            "\"Dean R. Koontz: Three Complete Novels : The Servants of Twilight; Darkfall; Phantoms\" 7\n",
            "\"The Indiscretion\" 9\n",
            "\"Touching Evil\" 8\n",
            "\n",
            "Predict the user's rating on \"A Gentle Feuding\". Output the rating score only. Do not include other text. reponse 7 due to error: invalid literal for int() with base 10: '8.5'\n",
            "1121th pred 7 ans 5\n"
          ]
        },
        {
          "name": "stderr",
          "output_type": "stream",
          "text": [
            "Setting `pad_token_id` to `eos_token_id`:128001 for open-end generation.\n",
            "Setting `pad_token_id` to `eos_token_id`:128001 for open-end generation.\n",
            "Setting `pad_token_id` to `eos_token_id`:128001 for open-end generation.\n",
            "Setting `pad_token_id` to `eos_token_id`:128001 for open-end generation.\n"
          ]
        },
        {
          "name": "stdout",
          "output_type": "stream",
          "text": [
            "1122th pred 7 ans 7\n",
            "1123th pred 9 ans 8\n",
            "1124th pred 7 ans 8\n",
            "1125th pred 8 ans 8\n"
          ]
        },
        {
          "name": "stderr",
          "output_type": "stream",
          "text": [
            "Setting `pad_token_id` to `eos_token_id`:128001 for open-end generation.\n",
            "Setting `pad_token_id` to `eos_token_id`:128001 for open-end generation.\n",
            "Setting `pad_token_id` to `eos_token_id`:128001 for open-end generation.\n",
            "Setting `pad_token_id` to `eos_token_id`:128001 for open-end generation.\n"
          ]
        },
        {
          "name": "stdout",
          "output_type": "stream",
          "text": [
            "Skipping index 1308 prompt You are a book recommender and your job is to predict a user's rating (ranging from 1 to 10, with 10 being the highest) on a book, based on that user's previous ratings.\n",
            "\n",
            "User 180406 has rated the following books:\n",
            "\n",
            "\"Suburban Nation: The Rise of Sprawl and the Decline of the American Dream\" 9\n",
            "\"Secret History : A Novel\" 10\n",
            "\"Field Guide (Yale Series of Younger Poets,)\" 9\n",
            "\"The Names (Vintage Contemporaries (Paperback))\" 8\n",
            "\n",
            "Predict the user's rating on \"Collected Poems of Dylan Thomas 1934-1952 (New Directions Book)\". Output the rating score only. Do not include other text. reponse 7 due to error: invalid literal for int() with base 10: '8.3'\n",
            "1126th pred 7 ans 7\n",
            "1127th pred 6 ans 6\n",
            "1128th pred 6 ans 6\n"
          ]
        },
        {
          "name": "stderr",
          "output_type": "stream",
          "text": [
            "Setting `pad_token_id` to `eos_token_id`:128001 for open-end generation.\n",
            "Setting `pad_token_id` to `eos_token_id`:128001 for open-end generation.\n",
            "Setting `pad_token_id` to `eos_token_id`:128001 for open-end generation.\n"
          ]
        },
        {
          "name": "stdout",
          "output_type": "stream",
          "text": [
            "1129th pred 7 ans 10\n",
            "1130th pred 8 ans 7\n",
            "Skipping index 1314 prompt You are a book recommender and your job is to predict a user's rating (ranging from 1 to 10, with 10 being the highest) on a book, based on that user's previous ratings.\n",
            "\n",
            "User 181411 has rated the following books:\n",
            "\n",
            "\"Immortal Coil (Star Trek The Next Generation)\" 8\n",
            "\"The Magician's Nephew (rack) (Narnia)\" 9\n",
            "\"The Sweet Potato Queens' Book of Love\" 9\n",
            "\"What the Corpse Revealed: Murder and the Science of Forensic Detection\" 9\n",
            "\n",
            "Predict the user's rating on \"Who Killed Marilyn Monroe? (PI Grace Smith Investigations)\". Output the rating score only. Do not include other text. reponse 7 due to error: invalid literal for int() with base 10: '8.5'\n"
          ]
        },
        {
          "name": "stderr",
          "output_type": "stream",
          "text": [
            "Setting `pad_token_id` to `eos_token_id`:128001 for open-end generation.\n",
            "Setting `pad_token_id` to `eos_token_id`:128001 for open-end generation.\n",
            "Setting `pad_token_id` to `eos_token_id`:128001 for open-end generation.\n",
            "Setting `pad_token_id` to `eos_token_id`:128001 for open-end generation.\n"
          ]
        },
        {
          "name": "stdout",
          "output_type": "stream",
          "text": [
            "Skipping index 1315 prompt You are a book recommender and your job is to predict a user's rating (ranging from 1 to 10, with 10 being the highest) on a book, based on that user's previous ratings.\n",
            "\n",
            "User 181598 has rated the following books:\n",
            "\n",
            "\"The Republic (Everyman Paperback Classics)\" 10\n",
            "\"Enemy at the Gates: Movie Tie-In\" 7\n",
            "\"Hunchback of Notre Dame (Wordsworth Collection)\" 9\n",
            "\"Count of Monte Cristo\" 8\n",
            "\n",
            "Predict the user's rating on \"The Odyssey\". Output the rating score only. Do not include other text. reponse 7 due to error: invalid literal for int() with base 10: '9.2'\n",
            "1131th pred 8 ans 7\n",
            "1132th pred 8 ans 7\n",
            "1133th pred 6 ans 5\n"
          ]
        },
        {
          "name": "stderr",
          "output_type": "stream",
          "text": [
            "Setting `pad_token_id` to `eos_token_id`:128001 for open-end generation.\n",
            "Setting `pad_token_id` to `eos_token_id`:128001 for open-end generation.\n",
            "Setting `pad_token_id` to `eos_token_id`:128001 for open-end generation.\n"
          ]
        },
        {
          "name": "stdout",
          "output_type": "stream",
          "text": [
            "1134th pred 7 ans 5\n",
            "Skipping index 1320 prompt You are a book recommender and your job is to predict a user's rating (ranging from 1 to 10, with 10 being the highest) on a book, based on that user's previous ratings.\n",
            "\n",
            "User 182577 has rated the following books:\n",
            "\n",
            "\"Le Livre de ma mÃ?Â¨re\" 8\n",
            "\"Vendredi Ou Les Limbes Du Pacifique (Folio Series Nuber 959)\" 5\n",
            "\"Extension Du Domain De La Lutte\" 9\n",
            "\"Chroniques de San Francisco, tome 1\" 7\n",
            "\n",
            "Predict the user's rating on \"Le Pavillon d'or\". Output the rating score only. Do not include other text. reponse 7 due to error: invalid literal for int() with base 10: '7.5'\n",
            "1135th pred 9 ans 10\n"
          ]
        },
        {
          "name": "stderr",
          "output_type": "stream",
          "text": [
            "Setting `pad_token_id` to `eos_token_id`:128001 for open-end generation.\n",
            "Setting `pad_token_id` to `eos_token_id`:128001 for open-end generation.\n",
            "Setting `pad_token_id` to `eos_token_id`:128001 for open-end generation.\n",
            "Setting `pad_token_id` to `eos_token_id`:128001 for open-end generation.\n"
          ]
        },
        {
          "name": "stdout",
          "output_type": "stream",
          "text": [
            "1136th pred 8 ans 8\n",
            "1137th pred 7 ans 9\n",
            "1138th pred 6 ans 7\n",
            "1139th pred 8 ans 8\n"
          ]
        },
        {
          "name": "stderr",
          "output_type": "stream",
          "text": [
            "Setting `pad_token_id` to `eos_token_id`:128001 for open-end generation.\n",
            "Setting `pad_token_id` to `eos_token_id`:128001 for open-end generation.\n",
            "Setting `pad_token_id` to `eos_token_id`:128001 for open-end generation.\n",
            "Setting `pad_token_id` to `eos_token_id`:128001 for open-end generation.\n"
          ]
        },
        {
          "name": "stdout",
          "output_type": "stream",
          "text": [
            "1140th pred 8 ans 5\n",
            "1141th pred 8 ans 10\n",
            "1142th pred 8 ans 8\n",
            "1143th pred 8 ans 9\n"
          ]
        },
        {
          "name": "stderr",
          "output_type": "stream",
          "text": [
            "Setting `pad_token_id` to `eos_token_id`:128001 for open-end generation.\n",
            "Setting `pad_token_id` to `eos_token_id`:128001 for open-end generation.\n",
            "Setting `pad_token_id` to `eos_token_id`:128001 for open-end generation.\n",
            "Setting `pad_token_id` to `eos_token_id`:128001 for open-end generation.\n"
          ]
        },
        {
          "name": "stdout",
          "output_type": "stream",
          "text": [
            "Skipping index 1330 prompt You are a book recommender and your job is to predict a user's rating (ranging from 1 to 10, with 10 being the highest) on a book, based on that user's previous ratings.\n",
            "\n",
            "User 184292 has rated the following books:\n",
            "\n",
            "\"Circle of Friends\" 7\n",
            "\"Martyred Village: Commemorating the 1944 Massacre at Oradour-Sur-Glane\" 5\n",
            "\"Five Little Peppers and How They Grew (Apple Classics)\" 8\n",
            "\"I Am Regina\" 8\n",
            "\n",
            "Predict the user's rating on \"Gentle Ben\". Output the rating score only. Do not include other text. reponse 7 due to error: invalid literal for int() with base 10: '8.3'\n",
            "1144th pred 8 ans 7\n",
            "1145th pred 7 ans 7\n",
            "1146th pred 8 ans 9\n"
          ]
        },
        {
          "name": "stderr",
          "output_type": "stream",
          "text": [
            "Setting `pad_token_id` to `eos_token_id`:128001 for open-end generation.\n",
            "Setting `pad_token_id` to `eos_token_id`:128001 for open-end generation.\n",
            "Setting `pad_token_id` to `eos_token_id`:128001 for open-end generation.\n",
            "Setting `pad_token_id` to `eos_token_id`:128001 for open-end generation.\n"
          ]
        },
        {
          "name": "stdout",
          "output_type": "stream",
          "text": [
            "1147th pred 8 ans 6\n",
            "1148th pred 8 ans 10\n",
            "1149th pred 8 ans 8\n",
            "1150th pred 8 ans 7\n"
          ]
        },
        {
          "name": "stderr",
          "output_type": "stream",
          "text": [
            "Setting `pad_token_id` to `eos_token_id`:128001 for open-end generation.\n",
            "Setting `pad_token_id` to `eos_token_id`:128001 for open-end generation.\n",
            "Setting `pad_token_id` to `eos_token_id`:128001 for open-end generation.\n",
            "Setting `pad_token_id` to `eos_token_id`:128001 for open-end generation.\n"
          ]
        },
        {
          "name": "stdout",
          "output_type": "stream",
          "text": [
            "1151th pred 8 ans 9\n",
            "1152th pred 8 ans 5\n",
            "1153th pred 7 ans 3\n",
            "1154th pred 6 ans 8\n"
          ]
        },
        {
          "name": "stderr",
          "output_type": "stream",
          "text": [
            "Setting `pad_token_id` to `eos_token_id`:128001 for open-end generation.\n",
            "Setting `pad_token_id` to `eos_token_id`:128001 for open-end generation.\n",
            "Setting `pad_token_id` to `eos_token_id`:128001 for open-end generation.\n",
            "Setting `pad_token_id` to `eos_token_id`:128001 for open-end generation.\n"
          ]
        },
        {
          "name": "stdout",
          "output_type": "stream",
          "text": [
            "Skipping index 1342 prompt You are a book recommender and your job is to predict a user's rating (ranging from 1 to 10, with 10 being the highest) on a book, based on that user's previous ratings.\n",
            "\n",
            "User 185990 has rated the following books:\n",
            "\n",
            "\"The Face on the Milk Carton\" 8\n",
            "\"Abraham Lincoln : The Great Emancipator (Childhood Of Famous Americans)\" 7\n",
            "\"Poetry U. S. A.\" 5\n",
            "\"Mystery at Moorsea Manor: Nancy Drew #150\" 5\n",
            "\n",
            "Predict the user's rating on \"Sisterhood of the Traveling Pants\". Output the rating score only. Do not include other text. reponse 7 due to error: invalid literal for int() with base 10: '6.5'\n",
            "1155th pred 7 ans 9\n",
            "1156th pred 8 ans 10\n",
            "1157th pred 6 ans 9\n"
          ]
        },
        {
          "name": "stderr",
          "output_type": "stream",
          "text": [
            "Setting `pad_token_id` to `eos_token_id`:128001 for open-end generation.\n",
            "Setting `pad_token_id` to `eos_token_id`:128001 for open-end generation.\n"
          ]
        },
        {
          "name": "stdout",
          "output_type": "stream",
          "text": [
            "1158th pred 8 ans 8\n",
            "Skipping index 1347 prompt You are a book recommender and your job is to predict a user's rating (ranging from 1 to 10, with 10 being the highest) on a book, based on that user's previous ratings.\n",
            "\n",
            "User 187244 has rated the following books:\n",
            "\n",
            "\"The Metaphysical Touch\" 7\n",
            "\"The Red Tent (Bestselling Backlist)\" 7\n",
            "\"An Invisible Sign of My Own\" 8\n",
            "\"Fast Food Nation: The Dark Side of the All-American Meal\" 9\n",
            "\n",
            "Predict the user's rating on \"Prodigal Summer: A Novel\". Output the rating score only. Do not include other text. reponse 7 due to error: invalid literal for int() with base 10: '8.33'\n"
          ]
        },
        {
          "name": "stderr",
          "output_type": "stream",
          "text": [
            "Setting `pad_token_id` to `eos_token_id`:128001 for open-end generation.\n",
            "Setting `pad_token_id` to `eos_token_id`:128001 for open-end generation.\n",
            "Setting `pad_token_id` to `eos_token_id`:128001 for open-end generation.\n",
            "Setting `pad_token_id` to `eos_token_id`:128001 for open-end generation.\n"
          ]
        },
        {
          "name": "stdout",
          "output_type": "stream",
          "text": [
            "Skipping index 1348 prompt You are a book recommender and your job is to predict a user's rating (ranging from 1 to 10, with 10 being the highest) on a book, based on that user's previous ratings.\n",
            "\n",
            "User 187290 has rated the following books:\n",
            "\n",
            "\"Buckskin Run\" 9\n",
            "\"People of the Deer (Seal Books)\" 10\n",
            "\"Gift from the Sea\" 8\n",
            "\"A RIVER RUNS THROUGH IT AND OTHER STORIES : AND OTHER STORIES\" 10\n",
            "\n",
            "Predict the user's rating on \"Earthclock a Narrative Calendar of Natur\". Output the rating score only. Do not include other text. reponse 7 due to error: invalid literal for int() with base 10: '8.3'\n",
            "1159th pred 7 ans 8\n",
            "1160th pred 5 ans 6\n",
            "1161th pred 7 ans 6\n"
          ]
        },
        {
          "name": "stderr",
          "output_type": "stream",
          "text": [
            "Setting `pad_token_id` to `eos_token_id`:128001 for open-end generation.\n",
            "Setting `pad_token_id` to `eos_token_id`:128001 for open-end generation.\n",
            "Setting `pad_token_id` to `eos_token_id`:128001 for open-end generation.\n"
          ]
        },
        {
          "name": "stdout",
          "output_type": "stream",
          "text": [
            "1162th pred 6 ans 2\n",
            "1163th pred 7 ans 9\n",
            "Skipping index 1354 prompt You are a book recommender and your job is to predict a user's rating (ranging from 1 to 10, with 10 being the highest) on a book, based on that user's previous ratings.\n",
            "\n",
            "User 187932 has rated the following books:\n",
            "\n",
            "\"A Book of Five Rings\" 8\n",
            "\"Ladder of Years\" 9\n",
            "\"Impossible Vacation\" 7\n",
            "\"LOVE IN TIME CHOL-LTD\" 10\n",
            "\n",
            "Predict the user's rating on \"Babies Remember Birth: And Other Extraordinary Scientific Discoveries About the Mind and Personality of Your Newborn\". Output the rating score only. Do not include other text. reponse 7 due to error: invalid literal for int() with base 10: '8.5'\n"
          ]
        },
        {
          "name": "stderr",
          "output_type": "stream",
          "text": [
            "Setting `pad_token_id` to `eos_token_id`:128001 for open-end generation.\n",
            "Setting `pad_token_id` to `eos_token_id`:128001 for open-end generation.\n",
            "Setting `pad_token_id` to `eos_token_id`:128001 for open-end generation.\n",
            "Setting `pad_token_id` to `eos_token_id`:128001 for open-end generation.\n"
          ]
        },
        {
          "name": "stdout",
          "output_type": "stream",
          "text": [
            "1164th pred 8 ans 10\n",
            "1165th pred 8 ans 8\n",
            "1166th pred 8 ans 9\n",
            "1167th pred 8 ans 9\n"
          ]
        },
        {
          "name": "stderr",
          "output_type": "stream",
          "text": [
            "Setting `pad_token_id` to `eos_token_id`:128001 for open-end generation.\n",
            "Setting `pad_token_id` to `eos_token_id`:128001 for open-end generation.\n",
            "Setting `pad_token_id` to `eos_token_id`:128001 for open-end generation.\n"
          ]
        },
        {
          "name": "stdout",
          "output_type": "stream",
          "text": [
            "1168th pred 8 ans 6\n",
            "1169th pred 8 ans 7\n",
            "1170th pred 8 ans 10\n"
          ]
        },
        {
          "name": "stderr",
          "output_type": "stream",
          "text": [
            "Setting `pad_token_id` to `eos_token_id`:128001 for open-end generation.\n",
            "Setting `pad_token_id` to `eos_token_id`:128001 for open-end generation.\n",
            "Setting `pad_token_id` to `eos_token_id`:128001 for open-end generation.\n"
          ]
        },
        {
          "name": "stdout",
          "output_type": "stream",
          "text": [
            "Skipping index 1362 prompt You are a book recommender and your job is to predict a user's rating (ranging from 1 to 10, with 10 being the highest) on a book, based on that user's previous ratings.\n",
            "\n",
            "User 189403 has rated the following books:\n",
            "\n",
            "\"Di and I\" 6\n",
            "\"East of the Mountains (Vintage Contemporaries (Paperback))\" 7\n",
            "\"Hotel World\" 4\n",
            "\"Moonlight on the Avenue of Faith\" 8\n",
            "\n",
            "Predict the user's rating on \"The Runaway Jury\". Output the rating score only. Do not include other text. reponse 7 due to error: invalid literal for int() with base 10: '8.2'\n",
            "1171th pred 7 ans 7\n",
            "Skipping index 1364 prompt You are a book recommender and your job is to predict a user's rating (ranging from 1 to 10, with 10 being the highest) on a book, based on that user's previous ratings.\n",
            "\n",
            "User 189688 has rated the following books:\n",
            "\n",
            "\"The Blue Last: A Richard Jury Mystery\" 9\n",
            "\"Where You Belong\" 8\n",
            "\"Singing in the Comeback Choir\" 7\n",
            "\"Pigs in Heaven\" 7\n",
            "\n",
            "Predict the user's rating on \"The Fortune Catcher\". Output the rating score only. Do not include other text. reponse 7 due to error: invalid literal for int() with base 10: '8.5'\n"
          ]
        },
        {
          "name": "stderr",
          "output_type": "stream",
          "text": [
            "Setting `pad_token_id` to `eos_token_id`:128001 for open-end generation.\n",
            "Setting `pad_token_id` to `eos_token_id`:128001 for open-end generation.\n",
            "Setting `pad_token_id` to `eos_token_id`:128001 for open-end generation.\n",
            "Setting `pad_token_id` to `eos_token_id`:128001 for open-end generation.\n"
          ]
        },
        {
          "name": "stdout",
          "output_type": "stream",
          "text": [
            "1172th pred 7 ans 10\n",
            "1173th pred 8 ans 9\n",
            "1174th pred 8 ans 9\n",
            "1175th pred 8 ans 5\n"
          ]
        },
        {
          "name": "stderr",
          "output_type": "stream",
          "text": [
            "Setting `pad_token_id` to `eos_token_id`:128001 for open-end generation.\n",
            "Setting `pad_token_id` to `eos_token_id`:128001 for open-end generation.\n",
            "Setting `pad_token_id` to `eos_token_id`:128001 for open-end generation.\n",
            "Setting `pad_token_id` to `eos_token_id`:128001 for open-end generation.\n"
          ]
        },
        {
          "name": "stdout",
          "output_type": "stream",
          "text": [
            "1176th pred 8 ans 5\n",
            "1177th pred 7 ans 7\n",
            "1178th pred 8 ans 5\n",
            "1179th pred 8 ans 6\n"
          ]
        },
        {
          "name": "stderr",
          "output_type": "stream",
          "text": [
            "Setting `pad_token_id` to `eos_token_id`:128001 for open-end generation.\n",
            "Setting `pad_token_id` to `eos_token_id`:128001 for open-end generation.\n",
            "Setting `pad_token_id` to `eos_token_id`:128001 for open-end generation.\n",
            "Setting `pad_token_id` to `eos_token_id`:128001 for open-end generation.\n"
          ]
        },
        {
          "name": "stdout",
          "output_type": "stream",
          "text": [
            "1180th pred 7 ans 4\n",
            "1181th pred 7 ans 10\n",
            "1182th pred 7 ans 7\n",
            "1183th pred 8 ans 7\n"
          ]
        },
        {
          "name": "stderr",
          "output_type": "stream",
          "text": [
            "Setting `pad_token_id` to `eos_token_id`:128001 for open-end generation.\n",
            "Setting `pad_token_id` to `eos_token_id`:128001 for open-end generation.\n",
            "Setting `pad_token_id` to `eos_token_id`:128001 for open-end generation.\n",
            "Setting `pad_token_id` to `eos_token_id`:128001 for open-end generation.\n"
          ]
        },
        {
          "name": "stdout",
          "output_type": "stream",
          "text": [
            "1184th pred 9 ans 9\n",
            "1185th pred 8 ans 7\n",
            "1186th pred 9 ans 8\n",
            "1187th pred 8 ans 6\n"
          ]
        },
        {
          "name": "stderr",
          "output_type": "stream",
          "text": [
            "Setting `pad_token_id` to `eos_token_id`:128001 for open-end generation.\n",
            "Setting `pad_token_id` to `eos_token_id`:128001 for open-end generation.\n",
            "Setting `pad_token_id` to `eos_token_id`:128001 for open-end generation.\n",
            "Setting `pad_token_id` to `eos_token_id`:128001 for open-end generation.\n"
          ]
        },
        {
          "name": "stdout",
          "output_type": "stream",
          "text": [
            "1188th pred 7 ans 10\n",
            "1189th pred 9 ans 8\n",
            "1190th pred 8 ans 9\n",
            "1191th pred 6 ans 8\n"
          ]
        },
        {
          "name": "stderr",
          "output_type": "stream",
          "text": [
            "Setting `pad_token_id` to `eos_token_id`:128001 for open-end generation.\n",
            "Setting `pad_token_id` to `eos_token_id`:128001 for open-end generation.\n",
            "Setting `pad_token_id` to `eos_token_id`:128001 for open-end generation.\n"
          ]
        },
        {
          "name": "stdout",
          "output_type": "stream",
          "text": [
            "1192th pred 8 ans 7\n",
            "1193th pred 8 ans 7\n",
            "Skipping index 1387 prompt You are a book recommender and your job is to predict a user's rating (ranging from 1 to 10, with 10 being the highest) on a book, based on that user's previous ratings.\n",
            "\n",
            "User 192835 has rated the following books:\n",
            "\n",
            "\"Year of Wonders\" 9\n",
            "\"Milk Glass Moon : A Big Stone Gap Novel (Big Stone Gap Novels (Hardcover))\" 9\n",
            "\"The Seal Wife : A Novel\" 8\n",
            "\"Lost Nation\" 9\n",
            "\n",
            "Predict the user's rating on \"Some Days There's Pie\". Output the rating score only. Do not include other text. reponse 7 due to error: invalid literal for int() with base 10: '8.2'\n"
          ]
        },
        {
          "name": "stderr",
          "output_type": "stream",
          "text": [
            "Setting `pad_token_id` to `eos_token_id`:128001 for open-end generation.\n",
            "Setting `pad_token_id` to `eos_token_id`:128001 for open-end generation.\n",
            "Setting `pad_token_id` to `eos_token_id`:128001 for open-end generation.\n",
            "Setting `pad_token_id` to `eos_token_id`:128001 for open-end generation.\n"
          ]
        },
        {
          "name": "stdout",
          "output_type": "stream",
          "text": [
            "1194th pred 6 ans 4\n",
            "1195th pred 8 ans 8\n",
            "1196th pred 7 ans 8\n",
            "1197th pred 8 ans 8\n"
          ]
        },
        {
          "name": "stderr",
          "output_type": "stream",
          "text": [
            "Setting `pad_token_id` to `eos_token_id`:128001 for open-end generation.\n",
            "Setting `pad_token_id` to `eos_token_id`:128001 for open-end generation.\n",
            "Setting `pad_token_id` to `eos_token_id`:128001 for open-end generation.\n",
            "Setting `pad_token_id` to `eos_token_id`:128001 for open-end generation.\n"
          ]
        },
        {
          "name": "stdout",
          "output_type": "stream",
          "text": [
            "Skipping index 1392 prompt You are a book recommender and your job is to predict a user's rating (ranging from 1 to 10, with 10 being the highest) on a book, based on that user's previous ratings.\n",
            "\n",
            "User 193294 has rated the following books:\n",
            "\n",
            "\"Good in Bed\" 8\n",
            "\"Evening Class\" 7\n",
            "\"The Sweep of the Second Hand\" 5\n",
            "\"Day of Confession\" 8\n",
            "\n",
            "Predict the user's rating on \"Gone for Good\". Output the rating score only. Do not include other text. reponse 7 due to error: invalid literal for int() with base 10: '7.5'\n",
            "1198th pred 8 ans 5\n",
            "1199th pred 8 ans 7\n",
            "1200th pred 8 ans 10\n"
          ]
        },
        {
          "name": "stderr",
          "output_type": "stream",
          "text": [
            "Setting `pad_token_id` to `eos_token_id`:128001 for open-end generation.\n",
            "Setting `pad_token_id` to `eos_token_id`:128001 for open-end generation.\n",
            "Setting `pad_token_id` to `eos_token_id`:128001 for open-end generation.\n",
            "Setting `pad_token_id` to `eos_token_id`:128001 for open-end generation.\n"
          ]
        },
        {
          "name": "stdout",
          "output_type": "stream",
          "text": [
            "1201th pred 7 ans 5\n",
            "1202th pred 10 ans 10\n",
            "1203th pred 8 ans 8\n",
            "1204th pred 6 ans 8\n"
          ]
        },
        {
          "name": "stderr",
          "output_type": "stream",
          "text": [
            "Setting `pad_token_id` to `eos_token_id`:128001 for open-end generation.\n",
            "Setting `pad_token_id` to `eos_token_id`:128001 for open-end generation.\n",
            "Setting `pad_token_id` to `eos_token_id`:128001 for open-end generation.\n"
          ]
        },
        {
          "name": "stdout",
          "output_type": "stream",
          "text": [
            "1205th pred 8 ans 7\n",
            "Skipping index 1401 prompt You are a book recommender and your job is to predict a user's rating (ranging from 1 to 10, with 10 being the highest) on a book, based on that user's previous ratings.\n",
            "\n",
            "User 193917 has rated the following books:\n",
            "\n",
            "\"The Laying On of Hands : Stories\" 5\n",
            "\"Back When We Were Grownups : A Novel (Ballantine Reader's Circle)\" 7\n",
            "\"Soul Stories\" 8\n",
            "\"It's Not About the Bike: My Journey Back to Life\" 9\n",
            "\n",
            "Predict the user's rating on \"Home Town\". Output the rating score only. Do not include other text. reponse 7 due to error: invalid literal for int() with base 10: '7.2'\n",
            "1206th pred 8 ans 9\n"
          ]
        },
        {
          "name": "stderr",
          "output_type": "stream",
          "text": [
            "Setting `pad_token_id` to `eos_token_id`:128001 for open-end generation.\n",
            "Setting `pad_token_id` to `eos_token_id`:128001 for open-end generation.\n",
            "Setting `pad_token_id` to `eos_token_id`:128001 for open-end generation.\n",
            "Setting `pad_token_id` to `eos_token_id`:128001 for open-end generation.\n"
          ]
        },
        {
          "name": "stdout",
          "output_type": "stream",
          "text": [
            "1207th pred 7 ans 7\n",
            "1208th pred 9 ans 10\n",
            "1209th pred 8 ans 8\n",
            "1210th pred 8 ans 5\n"
          ]
        },
        {
          "name": "stderr",
          "output_type": "stream",
          "text": [
            "Setting `pad_token_id` to `eos_token_id`:128001 for open-end generation.\n",
            "Setting `pad_token_id` to `eos_token_id`:128001 for open-end generation.\n",
            "Setting `pad_token_id` to `eos_token_id`:128001 for open-end generation.\n"
          ]
        },
        {
          "name": "stdout",
          "output_type": "stream",
          "text": [
            "1211th pred 7 ans 9\n",
            "1212th pred 9 ans 10\n",
            "1213th pred 8 ans 5\n"
          ]
        },
        {
          "name": "stderr",
          "output_type": "stream",
          "text": [
            "Setting `pad_token_id` to `eos_token_id`:128001 for open-end generation.\n",
            "Setting `pad_token_id` to `eos_token_id`:128001 for open-end generation.\n",
            "Setting `pad_token_id` to `eos_token_id`:128001 for open-end generation.\n",
            "Setting `pad_token_id` to `eos_token_id`:128001 for open-end generation.\n"
          ]
        },
        {
          "name": "stdout",
          "output_type": "stream",
          "text": [
            "Skipping index 1410 prompt You are a book recommender and your job is to predict a user's rating (ranging from 1 to 10, with 10 being the highest) on a book, based on that user's previous ratings.\n",
            "\n",
            "User 195085 has rated the following books:\n",
            "\n",
            "\"Software Engineering: Theory and Practice\" 5\n",
            "\"Discrete Mathematics\" 7\n",
            "\"GHOST SHIP ST TRK (Star Trek the Next Generation, Book #2)\" 8\n",
            "\"Structured Cobol\" 8\n",
            "\n",
            "Predict the user's rating on \"Discrete Mathematical Structures\". Output the rating score only. Do not include other text. reponse 7 due to error: invalid literal for int() with base 10: '7.4'\n",
            "1214th pred 7 ans 6\n",
            "1215th pred 8 ans 9\n",
            "1216th pred 4 ans 4\n"
          ]
        },
        {
          "name": "stderr",
          "output_type": "stream",
          "text": [
            "Setting `pad_token_id` to `eos_token_id`:128001 for open-end generation.\n",
            "Setting `pad_token_id` to `eos_token_id`:128001 for open-end generation.\n",
            "Setting `pad_token_id` to `eos_token_id`:128001 for open-end generation.\n",
            "Setting `pad_token_id` to `eos_token_id`:128001 for open-end generation.\n"
          ]
        },
        {
          "name": "stdout",
          "output_type": "stream",
          "text": [
            "1217th pred 2 ans 1\n",
            "1218th pred 7 ans 9\n",
            "1219th pred 7 ans 6\n",
            "1220th pred 9 ans 5\n"
          ]
        },
        {
          "name": "stderr",
          "output_type": "stream",
          "text": [
            "Setting `pad_token_id` to `eos_token_id`:128001 for open-end generation.\n",
            "Setting `pad_token_id` to `eos_token_id`:128001 for open-end generation.\n",
            "Setting `pad_token_id` to `eos_token_id`:128001 for open-end generation.\n",
            "Setting `pad_token_id` to `eos_token_id`:128001 for open-end generation.\n"
          ]
        },
        {
          "name": "stdout",
          "output_type": "stream",
          "text": [
            "1221th pred 8 ans 5\n",
            "1222th pred 7 ans 10\n",
            "1223th pred 8 ans 3\n",
            "1224th pred 7 ans 6\n"
          ]
        },
        {
          "name": "stderr",
          "output_type": "stream",
          "text": [
            "Setting `pad_token_id` to `eos_token_id`:128001 for open-end generation.\n",
            "Setting `pad_token_id` to `eos_token_id`:128001 for open-end generation.\n",
            "Setting `pad_token_id` to `eos_token_id`:128001 for open-end generation.\n",
            "Setting `pad_token_id` to `eos_token_id`:128001 for open-end generation.\n"
          ]
        },
        {
          "name": "stdout",
          "output_type": "stream",
          "text": [
            "1225th pred 8 ans 8\n",
            "1226th pred 8 ans 9\n",
            "1227th pred 6 ans 7\n",
            "1228th pred 8 ans 8\n"
          ]
        },
        {
          "name": "stderr",
          "output_type": "stream",
          "text": [
            "Setting `pad_token_id` to `eos_token_id`:128001 for open-end generation.\n",
            "Setting `pad_token_id` to `eos_token_id`:128001 for open-end generation.\n",
            "Setting `pad_token_id` to `eos_token_id`:128001 for open-end generation.\n"
          ]
        },
        {
          "name": "stdout",
          "output_type": "stream",
          "text": [
            "1229th pred 7 ans 2\n",
            "1230th pred 6 ans 9\n",
            "1231th pred 8 ans 9\n"
          ]
        },
        {
          "name": "stderr",
          "output_type": "stream",
          "text": [
            "Setting `pad_token_id` to `eos_token_id`:128001 for open-end generation.\n",
            "Setting `pad_token_id` to `eos_token_id`:128001 for open-end generation.\n",
            "Setting `pad_token_id` to `eos_token_id`:128001 for open-end generation.\n",
            "Setting `pad_token_id` to `eos_token_id`:128001 for open-end generation.\n"
          ]
        },
        {
          "name": "stdout",
          "output_type": "stream",
          "text": [
            "Skipping index 1429 prompt You are a book recommender and your job is to predict a user's rating (ranging from 1 to 10, with 10 being the highest) on a book, based on that user's previous ratings.\n",
            "\n",
            "User 199359 has rated the following books:\n",
            "\n",
            "\"Eddie's Bastard : A Novel\" 9\n",
            "\"House of Sand and Fog\" 8\n",
            "\"Dismissed With Prejudice\" 5\n",
            "\"The Poisonwood Bible: A Novel\" 8\n",
            "\n",
            "Predict the user's rating on \"Atonement : A Novel\". Output the rating score only. Do not include other text. reponse 7 due to error: invalid literal for int() with base 10: '8.5'\n",
            "1232th pred 9 ans 9\n",
            "1233th pred 8 ans 5\n",
            "1234th pred 8 ans 10\n"
          ]
        },
        {
          "name": "stderr",
          "output_type": "stream",
          "text": [
            "Setting `pad_token_id` to `eos_token_id`:128001 for open-end generation.\n",
            "Setting `pad_token_id` to `eos_token_id`:128001 for open-end generation.\n",
            "Setting `pad_token_id` to `eos_token_id`:128001 for open-end generation.\n",
            "Setting `pad_token_id` to `eos_token_id`:128001 for open-end generation.\n"
          ]
        },
        {
          "name": "stdout",
          "output_type": "stream",
          "text": [
            "1235th pred 8 ans 8\n",
            "1236th pred 6 ans 9\n",
            "1237th pred 9 ans 7\n",
            "1238th pred 9 ans 8\n"
          ]
        },
        {
          "name": "stderr",
          "output_type": "stream",
          "text": [
            "Setting `pad_token_id` to `eos_token_id`:128001 for open-end generation.\n",
            "Setting `pad_token_id` to `eos_token_id`:128001 for open-end generation.\n",
            "Setting `pad_token_id` to `eos_token_id`:128001 for open-end generation.\n",
            "Setting `pad_token_id` to `eos_token_id`:128001 for open-end generation.\n"
          ]
        },
        {
          "name": "stdout",
          "output_type": "stream",
          "text": [
            "1239th pred 8 ans 6\n",
            "1240th pred 9 ans 8\n",
            "1241th pred 9 ans 9\n",
            "1242th pred 9 ans 10\n"
          ]
        },
        {
          "name": "stderr",
          "output_type": "stream",
          "text": [
            "Setting `pad_token_id` to `eos_token_id`:128001 for open-end generation.\n",
            "Setting `pad_token_id` to `eos_token_id`:128001 for open-end generation.\n",
            "Setting `pad_token_id` to `eos_token_id`:128001 for open-end generation.\n",
            "Setting `pad_token_id` to `eos_token_id`:128001 for open-end generation.\n"
          ]
        },
        {
          "name": "stdout",
          "output_type": "stream",
          "text": [
            "1243th pred 7 ans 8\n",
            "1244th pred 7 ans 9\n",
            "1245th pred 7 ans 9\n",
            "1246th pred 8 ans 8\n"
          ]
        },
        {
          "name": "stderr",
          "output_type": "stream",
          "text": [
            "Setting `pad_token_id` to `eos_token_id`:128001 for open-end generation.\n",
            "Setting `pad_token_id` to `eos_token_id`:128001 for open-end generation.\n",
            "Setting `pad_token_id` to `eos_token_id`:128001 for open-end generation.\n",
            "Setting `pad_token_id` to `eos_token_id`:128001 for open-end generation.\n"
          ]
        },
        {
          "name": "stdout",
          "output_type": "stream",
          "text": [
            "1247th pred 6 ans 6\n",
            "1248th pred 8 ans 10\n",
            "1249th pred 7 ans 10\n",
            "1250th pred 8 ans 8\n"
          ]
        },
        {
          "name": "stderr",
          "output_type": "stream",
          "text": [
            "Setting `pad_token_id` to `eos_token_id`:128001 for open-end generation.\n",
            "Setting `pad_token_id` to `eos_token_id`:128001 for open-end generation.\n",
            "Setting `pad_token_id` to `eos_token_id`:128001 for open-end generation.\n",
            "Setting `pad_token_id` to `eos_token_id`:128001 for open-end generation.\n"
          ]
        },
        {
          "name": "stdout",
          "output_type": "stream",
          "text": [
            "1251th pred 7 ans 7\n",
            "1252th pred 8 ans 8\n",
            "1253th pred 8 ans 9\n",
            "1254th pred 9 ans 6\n"
          ]
        },
        {
          "name": "stderr",
          "output_type": "stream",
          "text": [
            "Setting `pad_token_id` to `eos_token_id`:128001 for open-end generation.\n",
            "Setting `pad_token_id` to `eos_token_id`:128001 for open-end generation.\n",
            "Setting `pad_token_id` to `eos_token_id`:128001 for open-end generation.\n",
            "Setting `pad_token_id` to `eos_token_id`:128001 for open-end generation.\n"
          ]
        },
        {
          "name": "stdout",
          "output_type": "stream",
          "text": [
            "1255th pred 8 ans 8\n",
            "1256th pred 8 ans 7\n",
            "1257th pred 9 ans 9\n",
            "1258th pred 8 ans 9\n"
          ]
        },
        {
          "name": "stderr",
          "output_type": "stream",
          "text": [
            "Setting `pad_token_id` to `eos_token_id`:128001 for open-end generation.\n",
            "Setting `pad_token_id` to `eos_token_id`:128001 for open-end generation.\n",
            "Setting `pad_token_id` to `eos_token_id`:128001 for open-end generation.\n"
          ]
        },
        {
          "name": "stdout",
          "output_type": "stream",
          "text": [
            "1259th pred 9 ans 7\n",
            "1260th pred 8 ans 5\n",
            "Skipping index 1459 prompt You are a book recommender and your job is to predict a user's rating (ranging from 1 to 10, with 10 being the highest) on a book, based on that user's previous ratings.\n",
            "\n",
            "User 203533 has rated the following books:\n",
            "\n",
            "\"One Hundred Years of Solitude\" 8\n",
            "\"Crosswords Challenge #2/Fifty All-New Puzzles, Guaranteed to Challenge and Tantalize Any Crossword Connoisseur: Fifty All-New Puzzles, Guaranteed to Challenge and Tantalize Any Crossword Connoisseur (Crosswords Challenge)\" 9\n",
            "\"Is There No Place on Earth for Me?\" 8\n",
            "\"The Cobra Event\" 8\n",
            "\n",
            "Predict the user's rating on \"Love in the Time of Cholera (Penguin Great Books of the 20th Century)\". Output the rating score only. Do not include other text. reponse 7 due to error: invalid literal for int() with base 10: '8.4'\n"
          ]
        },
        {
          "name": "stderr",
          "output_type": "stream",
          "text": [
            "Setting `pad_token_id` to `eos_token_id`:128001 for open-end generation.\n",
            "Setting `pad_token_id` to `eos_token_id`:128001 for open-end generation.\n",
            "Setting `pad_token_id` to `eos_token_id`:128001 for open-end generation.\n",
            "Setting `pad_token_id` to `eos_token_id`:128001 for open-end generation.\n"
          ]
        },
        {
          "name": "stdout",
          "output_type": "stream",
          "text": [
            "Skipping index 1460 prompt You are a book recommender and your job is to predict a user's rating (ranging from 1 to 10, with 10 being the highest) on a book, based on that user's previous ratings.\n",
            "\n",
            "User 203651 has rated the following books:\n",
            "\n",
            "\"To the White Sea\" 8\n",
            "\"In Our Nature: Stories of Wilderness\" 7\n",
            "\"Texas Summer: A Novel\" 6\n",
            "\"Roads : Driving America's Great Highways\" 8\n",
            "\n",
            "Predict the user's rating on \"Yonder : A Place in Montana\". Output the rating score only. Do not include other text. reponse 7 due to error: invalid literal for int() with base 10: '8.5'\n",
            "1261th pred 7 ans 10\n",
            "1262th pred 8 ans 8\n",
            "1263th pred 9 ans 7\n"
          ]
        },
        {
          "name": "stderr",
          "output_type": "stream",
          "text": [
            "Setting `pad_token_id` to `eos_token_id`:128001 for open-end generation.\n",
            "Setting `pad_token_id` to `eos_token_id`:128001 for open-end generation.\n",
            "Setting `pad_token_id` to `eos_token_id`:128001 for open-end generation.\n"
          ]
        },
        {
          "name": "stdout",
          "output_type": "stream",
          "text": [
            "1264th pred 9 ans 8\n",
            "1265th pred 6 ans 7\n",
            "Skipping index 1466 prompt You are a book recommender and your job is to predict a user's rating (ranging from 1 to 10, with 10 being the highest) on a book, based on that user's previous ratings.\n",
            "\n",
            "User 204458 has rated the following books:\n",
            "\n",
            "\"Disobedience\" 10\n",
            "\"Beaming Sonny Home\" 9\n",
            "\"The Silent Cry (William Monk Novels (Paperback))\" 7\n",
            "\"In the Snow Forest: Three Novellas\" 8\n",
            "\n",
            "Predict the user's rating on \"Audrey Hepburn's Neck: A Novel\". Output the rating score only. Do not include other text. reponse 7 due to error: invalid literal for int() with base 10: '8.5'\n"
          ]
        },
        {
          "name": "stderr",
          "output_type": "stream",
          "text": [
            "Setting `pad_token_id` to `eos_token_id`:128001 for open-end generation.\n",
            "Setting `pad_token_id` to `eos_token_id`:128001 for open-end generation.\n",
            "Setting `pad_token_id` to `eos_token_id`:128001 for open-end generation.\n",
            "Setting `pad_token_id` to `eos_token_id`:128001 for open-end generation.\n"
          ]
        },
        {
          "name": "stdout",
          "output_type": "stream",
          "text": [
            "Skipping index 1467 prompt You are a book recommender and your job is to predict a user's rating (ranging from 1 to 10, with 10 being the highest) on a book, based on that user's previous ratings.\n",
            "\n",
            "User 204660 has rated the following books:\n",
            "\n",
            "\"The Woman's Comfort Book : A Self-Nurturing Guide for Restoring Balance in Your Life\" 8\n",
            "\"Cold Mountain : A Novel\" 7\n",
            "\"Who Moved My Cheese? An Amazing Way to Deal with Change in Your Work and in Your Life\" 9\n",
            "\"The Sweet Potato Queens' Book of Love\" 10\n",
            "\n",
            "Predict the user's rating on \"The Lovely Bones: A Novel\". Output the rating score only. Do not include other text. reponse 7 due to error: invalid literal for int() with base 10: '8.5'\n",
            "1266th pred 8 ans 10\n",
            "1267th pred 7 ans 7\n",
            "1268th pred 7 ans 8\n"
          ]
        },
        {
          "name": "stderr",
          "output_type": "stream",
          "text": [
            "Setting `pad_token_id` to `eos_token_id`:128001 for open-end generation.\n",
            "Setting `pad_token_id` to `eos_token_id`:128001 for open-end generation.\n",
            "Setting `pad_token_id` to `eos_token_id`:128001 for open-end generation.\n",
            "Setting `pad_token_id` to `eos_token_id`:128001 for open-end generation.\n"
          ]
        },
        {
          "name": "stdout",
          "output_type": "stream",
          "text": [
            "1269th pred 8 ans 7\n",
            "1270th pred 8 ans 4\n",
            "1271th pred 7 ans 9\n",
            "1272th pred 8 ans 7\n"
          ]
        },
        {
          "name": "stderr",
          "output_type": "stream",
          "text": [
            "Setting `pad_token_id` to `eos_token_id`:128001 for open-end generation.\n",
            "Setting `pad_token_id` to `eos_token_id`:128001 for open-end generation.\n",
            "Setting `pad_token_id` to `eos_token_id`:128001 for open-end generation.\n",
            "Setting `pad_token_id` to `eos_token_id`:128001 for open-end generation.\n"
          ]
        },
        {
          "name": "stdout",
          "output_type": "stream",
          "text": [
            "1273th pred 8 ans 6\n",
            "1274th pred 8 ans 8\n",
            "1275th pred 6 ans 7\n",
            "1276th pred 7 ans 5\n"
          ]
        },
        {
          "name": "stderr",
          "output_type": "stream",
          "text": [
            "Setting `pad_token_id` to `eos_token_id`:128001 for open-end generation.\n",
            "Setting `pad_token_id` to `eos_token_id`:128001 for open-end generation.\n",
            "Setting `pad_token_id` to `eos_token_id`:128001 for open-end generation.\n",
            "Setting `pad_token_id` to `eos_token_id`:128001 for open-end generation.\n"
          ]
        },
        {
          "name": "stdout",
          "output_type": "stream",
          "text": [
            "Skipping index 1479 prompt You are a book recommender and your job is to predict a user's rating (ranging from 1 to 10, with 10 being the highest) on a book, based on that user's previous ratings.\n",
            "\n",
            "User 206013 has rated the following books:\n",
            "\n",
            "\"Generation X: Tales for an Accelerated Culture\" 5\n",
            "\"Ralph's Party\" 6\n",
            "\"Sisterhood of the Traveling Pants\" 7\n",
            "\"Forever Liesl: A Memoir of the Sound of Music\" 8\n",
            "\n",
            "Predict the user's rating on \"Ulysses Travel Guide Canada\". Output the rating score only. Do not include other text. reponse 7 due to error: invalid literal for int() with base 10: '7.5'\n",
            "1277th pred 8 ans 10\n",
            "1278th pred 9 ans 6\n",
            "1279th pred 7 ans 8\n"
          ]
        },
        {
          "name": "stderr",
          "output_type": "stream",
          "text": [
            "Setting `pad_token_id` to `eos_token_id`:128001 for open-end generation.\n",
            "Setting `pad_token_id` to `eos_token_id`:128001 for open-end generation.\n",
            "Setting `pad_token_id` to `eos_token_id`:128001 for open-end generation.\n",
            "Setting `pad_token_id` to `eos_token_id`:128001 for open-end generation.\n"
          ]
        },
        {
          "name": "stdout",
          "output_type": "stream",
          "text": [
            "1280th pred 8 ans 6\n",
            "1281th pred 7 ans 7\n",
            "1282th pred 8 ans 9\n",
            "1283th pred 7 ans 7\n"
          ]
        },
        {
          "name": "stderr",
          "output_type": "stream",
          "text": [
            "Setting `pad_token_id` to `eos_token_id`:128001 for open-end generation.\n",
            "Setting `pad_token_id` to `eos_token_id`:128001 for open-end generation.\n",
            "Setting `pad_token_id` to `eos_token_id`:128001 for open-end generation.\n",
            "Setting `pad_token_id` to `eos_token_id`:128001 for open-end generation.\n"
          ]
        },
        {
          "name": "stdout",
          "output_type": "stream",
          "text": [
            "1284th pred 8 ans 7\n",
            "1285th pred 7 ans 10\n",
            "1286th pred 7 ans 9\n",
            "1287th pred 7 ans 7\n"
          ]
        },
        {
          "name": "stderr",
          "output_type": "stream",
          "text": [
            "Setting `pad_token_id` to `eos_token_id`:128001 for open-end generation.\n",
            "Setting `pad_token_id` to `eos_token_id`:128001 for open-end generation.\n",
            "Setting `pad_token_id` to `eos_token_id`:128001 for open-end generation.\n"
          ]
        },
        {
          "name": "stdout",
          "output_type": "stream",
          "text": [
            "Skipping index 1491 prompt You are a book recommender and your job is to predict a user's rating (ranging from 1 to 10, with 10 being the highest) on a book, based on that user's previous ratings.\n",
            "\n",
            "User 207252 has rated the following books:\n",
            "\n",
            "\"Die englische Episode. Ein historischer Kriminalroman.\" 6\n",
            "\"Venedig kann sehr kalt sein.\" 3\n",
            "\"Starship Troopers\" 8\n",
            "\"Zwei FÃ?Â¤lle fÃ?Â¼r Inspektor Jury.\" 7\n",
            "\n",
            "Predict the user's rating on \"The Devil: A Biography\". Output the rating score only. Do not include other text. reponse 7 due to error: invalid literal for int() with base 10: '7.4'\n",
            "1288th pred 8 ans 8\n",
            "1289th pred 8 ans 4\n"
          ]
        },
        {
          "name": "stderr",
          "output_type": "stream",
          "text": [
            "Setting `pad_token_id` to `eos_token_id`:128001 for open-end generation.\n",
            "Setting `pad_token_id` to `eos_token_id`:128001 for open-end generation.\n",
            "Setting `pad_token_id` to `eos_token_id`:128001 for open-end generation.\n",
            "Setting `pad_token_id` to `eos_token_id`:128001 for open-end generation.\n"
          ]
        },
        {
          "name": "stdout",
          "output_type": "stream",
          "text": [
            "Skipping index 1494 prompt You are a book recommender and your job is to predict a user's rating (ranging from 1 to 10, with 10 being the highest) on a book, based on that user's previous ratings.\n",
            "\n",
            "User 207384 has rated the following books:\n",
            "\n",
            "\"MÃ?Â¶rder ohne Gesicht.\" 8\n",
            "\"Die Kammer\" 9\n",
            "\"Die 13 1/2 Leben des KÃ?Â¤ptn BlaubÃ?Â¤r.\" 9\n",
            "\"Panik. Thriller.\" 3\n",
            "\n",
            "Predict the user's rating on \"Mittsommermord. Roman.\". Output the rating score only. Do not include other text. reponse 7 due to error: invalid literal for int() with base 10: '7.4'\n",
            "1290th pred 8 ans 8\n",
            "1291th pred 6 ans 9\n",
            "1292th pred 8 ans 7\n"
          ]
        },
        {
          "name": "stderr",
          "output_type": "stream",
          "text": [
            "Setting `pad_token_id` to `eos_token_id`:128001 for open-end generation.\n",
            "Setting `pad_token_id` to `eos_token_id`:128001 for open-end generation.\n",
            "Setting `pad_token_id` to `eos_token_id`:128001 for open-end generation.\n",
            "Setting `pad_token_id` to `eos_token_id`:128001 for open-end generation.\n"
          ]
        },
        {
          "name": "stdout",
          "output_type": "stream",
          "text": [
            "1293th pred 8 ans 9\n",
            "1294th pred 8 ans 9\n",
            "1295th pred 7 ans 8\n",
            "1296th pred 8 ans 6\n"
          ]
        },
        {
          "name": "stderr",
          "output_type": "stream",
          "text": [
            "Setting `pad_token_id` to `eos_token_id`:128001 for open-end generation.\n",
            "Setting `pad_token_id` to `eos_token_id`:128001 for open-end generation.\n",
            "Setting `pad_token_id` to `eos_token_id`:128001 for open-end generation.\n"
          ]
        },
        {
          "name": "stdout",
          "output_type": "stream",
          "text": [
            "Skipping index 1502 prompt You are a book recommender and your job is to predict a user's rating (ranging from 1 to 10, with 10 being the highest) on a book, based on that user's previous ratings.\n",
            "\n",
            "User 208540 has rated the following books:\n",
            "\n",
            "\"Death in the Steel City (Carroll Dorsey Mystery)\" 5\n",
            "\"He Shall Thunder in the Sky\" 7\n",
            "\"Family Passions\" 8\n",
            "\"Redeye\" 8\n",
            "\n",
            "Predict the user's rating on \"Golden Buddha (Oregon Files (Paperback))\". Output the rating score only. Do not include other text. reponse 7 due to error: invalid literal for int() with base 10: '8.33'\n",
            "Skipping index 1503 prompt You are a book recommender and your job is to predict a user's rating (ranging from 1 to 10, with 10 being the highest) on a book, based on that user's previous ratings.\n",
            "\n",
            "User 208556 has rated the following books:\n",
            "\n",
            "\"The Big Bad Wolf: A Novel\" 8\n",
            "\"Live Your Dreams\" 8\n",
            "\"Days of Grace: A Memoir\" 8\n",
            "\"Q Is for Quarry\" 9\n",
            "\n",
            "Predict the user's rating on \"The Last Juror\". Output the rating score only. Do not include other text. reponse 7 due to error: invalid literal for int() with base 10: '8.3'\n",
            "1297th pred 8 ans 10\n"
          ]
        },
        {
          "name": "stderr",
          "output_type": "stream",
          "text": [
            "Setting `pad_token_id` to `eos_token_id`:128001 for open-end generation.\n",
            "Setting `pad_token_id` to `eos_token_id`:128001 for open-end generation.\n",
            "Setting `pad_token_id` to `eos_token_id`:128001 for open-end generation.\n"
          ]
        },
        {
          "name": "stdout",
          "output_type": "stream",
          "text": [
            "1298th pred 7 ans 5\n",
            "Skipping index 1506 prompt You are a book recommender and your job is to predict a user's rating (ranging from 1 to 10, with 10 being the highest) on a book, based on that user's previous ratings.\n",
            "\n",
            "User 208715 has rated the following books:\n",
            "\n",
            "\"Where You Once Belonged\" 9\n",
            "\"Evening Class\" 9\n",
            "\"Maeve Binchy: Three Complete Books/the Lilac Bus/Firefly Summer/Silver Wedding\" 5\n",
            "\"The Poisonwood Bible: A Novel\" 8\n",
            "\n",
            "Predict the user's rating on \"Almost: A Novel\". Output the rating score only. Do not include other text. reponse 7 due to error: invalid literal for int() with base 10: '8.5'\n",
            "1299th pred 8 ans 8\n"
          ]
        },
        {
          "name": "stderr",
          "output_type": "stream",
          "text": [
            "Setting `pad_token_id` to `eos_token_id`:128001 for open-end generation.\n",
            "Setting `pad_token_id` to `eos_token_id`:128001 for open-end generation.\n",
            "Setting `pad_token_id` to `eos_token_id`:128001 for open-end generation.\n"
          ]
        },
        {
          "name": "stdout",
          "output_type": "stream",
          "text": [
            "Skipping index 1508 prompt You are a book recommender and your job is to predict a user's rating (ranging from 1 to 10, with 10 being the highest) on a book, based on that user's previous ratings.\n",
            "\n",
            "User 209059 has rated the following books:\n",
            "\n",
            "\"Airframe\" 8\n",
            "\"Congo\" 7\n",
            "\"The Andromeda Strain\" 9\n",
            "\"Sphere\" 9\n",
            "\n",
            "Predict the user's rating on \"Dragon Tears\". Output the rating score only. Do not include other text. reponse 7 due to error: invalid literal for int() with base 10: '8.2'\n",
            "Skipping index 1509 prompt You are a book recommender and your job is to predict a user's rating (ranging from 1 to 10, with 10 being the highest) on a book, based on that user's previous ratings.\n",
            "\n",
            "User 209195 has rated the following books:\n",
            "\n",
            "\"Siddhartha\" 10\n",
            "\"Stiller\" 9\n",
            "\"Suhrkamp BasisBibliothek (SBB), Nr.7, Jugend ohne Gott\" 10\n",
            "\"Die stille Revolution: Kleine Prosa (Suhrkamp-TaschenbÃ¼cher ; 254)\" 8\n",
            "\n",
            "Predict the user's rating on \"DienstbÃ?Â¼chlein\". Output the rating score only. Do not include other text. reponse 7 due to error: invalid literal for int() with base 10: '9.5'\n",
            "1300th pred 7 ans 6\n"
          ]
        },
        {
          "name": "stderr",
          "output_type": "stream",
          "text": [
            "Setting `pad_token_id` to `eos_token_id`:128001 for open-end generation.\n",
            "Setting `pad_token_id` to `eos_token_id`:128001 for open-end generation.\n",
            "Setting `pad_token_id` to `eos_token_id`:128001 for open-end generation.\n",
            "Setting `pad_token_id` to `eos_token_id`:128001 for open-end generation.\n"
          ]
        },
        {
          "name": "stdout",
          "output_type": "stream",
          "text": [
            "1301th pred 8 ans 8\n",
            "1302th pred 8 ans 7\n",
            "1303th pred 9 ans 8\n",
            "1304th pred 7 ans 7\n"
          ]
        },
        {
          "name": "stderr",
          "output_type": "stream",
          "text": [
            "Setting `pad_token_id` to `eos_token_id`:128001 for open-end generation.\n",
            "Setting `pad_token_id` to `eos_token_id`:128001 for open-end generation.\n",
            "Setting `pad_token_id` to `eos_token_id`:128001 for open-end generation.\n"
          ]
        },
        {
          "name": "stdout",
          "output_type": "stream",
          "text": [
            "1305th pred 8 ans 5\n",
            "1306th pred 8 ans 7\n",
            "Skipping index 1517 prompt You are a book recommender and your job is to predict a user's rating (ranging from 1 to 10, with 10 being the highest) on a book, based on that user's previous ratings.\n",
            "\n",
            "User 210912 has rated the following books:\n",
            "\n",
            "\"The Book of Ruth (Oprah's Book Club (Paperback))\" 8\n",
            "\"The Faces of Injustice (Storrs Lectures on Jurisprudence, 1988)\" 7\n",
            "\"The Road from Coorain\" 5\n",
            "\"The Autobiography of Malcolm X\" 7\n",
            "\n",
            "Predict the user's rating on \"Listen Up: Voices from the Next Feminist Generation\". Output the rating score only. Do not include other text. reponse 7 due to error: invalid literal for int() with base 10: '7.4'\n"
          ]
        },
        {
          "name": "stderr",
          "output_type": "stream",
          "text": [
            "Setting `pad_token_id` to `eos_token_id`:128001 for open-end generation.\n",
            "Setting `pad_token_id` to `eos_token_id`:128001 for open-end generation.\n",
            "Setting `pad_token_id` to `eos_token_id`:128001 for open-end generation.\n"
          ]
        },
        {
          "name": "stdout",
          "output_type": "stream",
          "text": [
            "Skipping index 1518 prompt You are a book recommender and your job is to predict a user's rating (ranging from 1 to 10, with 10 being the highest) on a book, based on that user's previous ratings.\n",
            "\n",
            "User 211378 has rated the following books:\n",
            "\n",
            "\"Utz\" 8\n",
            "\"Die SÃ?Â¤ulen der Erde.\" 10\n",
            "\"Die Detektivin. Sonderausgabe.\" 7\n",
            "\"Der TuchhÃ?Â¤ndler. Roman aus dem spÃ?Â¤ten Mittelalter.\" 3\n",
            "\n",
            "Predict the user's rating on \"Wenn ein Reisender in einer Winternacht.\". Output the rating score only. Do not include other text. reponse 7 due to error: invalid literal for int() with base 10: '6.5'\n",
            "1307th pred 8 ans 7\n",
            "Skipping index 1520 prompt You are a book recommender and your job is to predict a user's rating (ranging from 1 to 10, with 10 being the highest) on a book, based on that user's previous ratings.\n",
            "\n",
            "User 211500 has rated the following books:\n",
            "\n",
            "\"The Pilot's Wife : A Novel\" 8\n",
            "\"The House of Gentle Men\" 9\n",
            "\"Strange Fits of Passion: A Novel\" 9\n",
            "\"House of Sand and Fog\" 8\n",
            "\n",
            "Predict the user's rating on \"Vinegar Hill (Oprah's Book Club (Paperback))\". Output the rating score only. Do not include other text. reponse 7 due to error: invalid literal for int() with base 10: '8.3'\n"
          ]
        },
        {
          "name": "stderr",
          "output_type": "stream",
          "text": [
            "Setting `pad_token_id` to `eos_token_id`:128001 for open-end generation.\n",
            "Setting `pad_token_id` to `eos_token_id`:128001 for open-end generation.\n"
          ]
        },
        {
          "name": "stdout",
          "output_type": "stream",
          "text": [
            "Skipping index 1521 prompt You are a book recommender and your job is to predict a user's rating (ranging from 1 to 10, with 10 being the highest) on a book, based on that user's previous ratings.\n",
            "\n",
            "User 211894 has rated the following books:\n",
            "\n",
            "\"You Cannot Be Serious\" 7\n",
            "\"Fast Food Nation: The Dark Side of the All-American Meal\" 10\n",
            "\"Cadillac Desert: The American West and Its Disappearing Water\" 5\n",
            "\"Lies and the Lying Liars Who Tell Them: A Fair and Balanced Look at the Right\" 8\n",
            "\n",
            "Predict the user's rating on \"A People's History of the United States : 1492-Present (Perennial Classics)\". Output the rating score only. Do not include other text. reponse 7 due to error: invalid literal for int() with base 10: '8.3'\n",
            "Skipping index 1522 prompt You are a book recommender and your job is to predict a user's rating (ranging from 1 to 10, with 10 being the highest) on a book, based on that user's previous ratings.\n",
            "\n",
            "User 212610 has rated the following books:\n",
            "\n",
            "\"Der Sandmann / Das Ode Haus\" 7\n",
            "\"Die Verlorene Ehre Der Katharina Blum\" 9\n",
            "\"Im Garten des Propheten.\" 8\n",
            "\"Maria Magdalene.\" 7\n",
            "\n",
            "Predict the user's rating on \"Tod eines Kritikers\". Output the rating score only. Do not include other text. reponse 7 due to error: invalid literal for int() with base 10: '8.25'\n"
          ]
        },
        {
          "name": "stderr",
          "output_type": "stream",
          "text": [
            "Setting `pad_token_id` to `eos_token_id`:128001 for open-end generation.\n",
            "Setting `pad_token_id` to `eos_token_id`:128001 for open-end generation.\n",
            "Setting `pad_token_id` to `eos_token_id`:128001 for open-end generation.\n",
            "Setting `pad_token_id` to `eos_token_id`:128001 for open-end generation.\n"
          ]
        },
        {
          "name": "stdout",
          "output_type": "stream",
          "text": [
            "Skipping index 1523 prompt You are a book recommender and your job is to predict a user's rating (ranging from 1 to 10, with 10 being the highest) on a book, based on that user's previous ratings.\n",
            "\n",
            "User 212636 has rated the following books:\n",
            "\n",
            "\"Don't Let Me Die!\" 8\n",
            "\"The Indian in the Cupboard\" 6\n",
            "\"Guardian Angels\" 9\n",
            "\"Sixteen and Dying (One Last Wish)\" 7\n",
            "\n",
            "Predict the user's rating on \"Go Ask Alice (Avon/Flare Book)\". Output the rating score only. Do not include other text. reponse 7 due to error: invalid literal for int() with base 10: '8.1'\n",
            "1308th pred 7 ans 8\n",
            "1309th pred 9 ans 6\n",
            "1310th pred 8 ans 7\n"
          ]
        },
        {
          "name": "stderr",
          "output_type": "stream",
          "text": [
            "Setting `pad_token_id` to `eos_token_id`:128001 for open-end generation.\n",
            "Setting `pad_token_id` to `eos_token_id`:128001 for open-end generation.\n",
            "Setting `pad_token_id` to `eos_token_id`:128001 for open-end generation.\n",
            "Setting `pad_token_id` to `eos_token_id`:128001 for open-end generation.\n"
          ]
        },
        {
          "name": "stdout",
          "output_type": "stream",
          "text": [
            "1311th pred 7 ans 8\n",
            "1312th pred 9 ans 9\n",
            "1313th pred 8 ans 7\n",
            "1314th pred 8 ans 7\n"
          ]
        },
        {
          "name": "stderr",
          "output_type": "stream",
          "text": [
            "Setting `pad_token_id` to `eos_token_id`:128001 for open-end generation.\n",
            "Setting `pad_token_id` to `eos_token_id`:128001 for open-end generation.\n",
            "Setting `pad_token_id` to `eos_token_id`:128001 for open-end generation.\n",
            "Setting `pad_token_id` to `eos_token_id`:128001 for open-end generation.\n"
          ]
        },
        {
          "name": "stdout",
          "output_type": "stream",
          "text": [
            "1315th pred 8 ans 6\n",
            "1316th pred 7 ans 7\n",
            "1317th pred 6 ans 6\n",
            "1318th pred 9 ans 8\n"
          ]
        },
        {
          "name": "stderr",
          "output_type": "stream",
          "text": [
            "Setting `pad_token_id` to `eos_token_id`:128001 for open-end generation.\n",
            "Setting `pad_token_id` to `eos_token_id`:128001 for open-end generation.\n",
            "Setting `pad_token_id` to `eos_token_id`:128001 for open-end generation.\n"
          ]
        },
        {
          "name": "stdout",
          "output_type": "stream",
          "text": [
            "1319th pred 8 ans 5\n",
            "Skipping index 1536 prompt You are a book recommender and your job is to predict a user's rating (ranging from 1 to 10, with 10 being the highest) on a book, based on that user's previous ratings.\n",
            "\n",
            "User 214270 has rated the following books:\n",
            "\n",
            "\"Remember\" 10\n",
            "\"One Tuesday Morning\" 9\n",
            "\"Redemption\" 10\n",
            "\"Return (Redemption Series, 3)\" 10\n",
            "\n",
            "Predict the user's rating on \"A Thoroughly Modern Princess\". Output the rating score only. Do not include other text. reponse 7 due to error: invalid literal for int() with base 10: '8.5'\n",
            "1320th pred 8 ans 6\n"
          ]
        },
        {
          "name": "stderr",
          "output_type": "stream",
          "text": [
            "Setting `pad_token_id` to `eos_token_id`:128001 for open-end generation.\n",
            "Setting `pad_token_id` to `eos_token_id`:128001 for open-end generation.\n",
            "Setting `pad_token_id` to `eos_token_id`:128001 for open-end generation.\n",
            "Setting `pad_token_id` to `eos_token_id`:128001 for open-end generation.\n"
          ]
        },
        {
          "name": "stdout",
          "output_type": "stream",
          "text": [
            "1321th pred 7 ans 5\n",
            "1322th pred 7 ans 8\n",
            "1323th pred 9 ans 7\n",
            "1324th pred 8 ans 9\n"
          ]
        },
        {
          "name": "stderr",
          "output_type": "stream",
          "text": [
            "Setting `pad_token_id` to `eos_token_id`:128001 for open-end generation.\n",
            "Setting `pad_token_id` to `eos_token_id`:128001 for open-end generation.\n",
            "Setting `pad_token_id` to `eos_token_id`:128001 for open-end generation.\n",
            "Setting `pad_token_id` to `eos_token_id`:128001 for open-end generation.\n"
          ]
        },
        {
          "name": "stdout",
          "output_type": "stream",
          "text": [
            "1325th pred 8 ans 9\n",
            "1326th pred 7 ans 9\n",
            "1327th pred 8 ans 7\n",
            "1328th pred 8 ans 9\n"
          ]
        },
        {
          "name": "stderr",
          "output_type": "stream",
          "text": [
            "Setting `pad_token_id` to `eos_token_id`:128001 for open-end generation.\n",
            "Setting `pad_token_id` to `eos_token_id`:128001 for open-end generation.\n",
            "Setting `pad_token_id` to `eos_token_id`:128001 for open-end generation.\n"
          ]
        },
        {
          "name": "stdout",
          "output_type": "stream",
          "text": [
            "1329th pred 7 ans 7\n",
            "1330th pred 8 ans 8\n",
            "1331th pred 8 ans 9\n"
          ]
        },
        {
          "name": "stderr",
          "output_type": "stream",
          "text": [
            "Setting `pad_token_id` to `eos_token_id`:128001 for open-end generation.\n",
            "Setting `pad_token_id` to `eos_token_id`:128001 for open-end generation.\n",
            "Setting `pad_token_id` to `eos_token_id`:128001 for open-end generation.\n"
          ]
        },
        {
          "name": "stdout",
          "output_type": "stream",
          "text": [
            "Skipping index 1549 prompt You are a book recommender and your job is to predict a user's rating (ranging from 1 to 10, with 10 being the highest) on a book, based on that user's previous ratings.\n",
            "\n",
            "User 215791 has rated the following books:\n",
            "\n",
            "\"Recruited: An Alias Prequel\" 7\n",
            "\"Twisted Roots\" 8\n",
            "\"Strangers\" 8\n",
            "\"Q Is for Quarry\" 10\n",
            "\n",
            "Predict the user's rating on \"Into the Woods\". Output the rating score only. Do not include other text. reponse 7 due to error: invalid literal for int() with base 10: '8.25'\n",
            "1332th pred 7 ans 5\n",
            "1333th pred 8 ans 9\n"
          ]
        },
        {
          "name": "stderr",
          "output_type": "stream",
          "text": [
            "Setting `pad_token_id` to `eos_token_id`:128001 for open-end generation.\n",
            "Setting `pad_token_id` to `eos_token_id`:128001 for open-end generation.\n",
            "Setting `pad_token_id` to `eos_token_id`:128001 for open-end generation.\n",
            "Setting `pad_token_id` to `eos_token_id`:128001 for open-end generation.\n"
          ]
        },
        {
          "name": "stdout",
          "output_type": "stream",
          "text": [
            "Skipping index 1552 prompt You are a book recommender and your job is to predict a user's rating (ranging from 1 to 10, with 10 being the highest) on a book, based on that user's previous ratings.\n",
            "\n",
            "User 216260 has rated the following books:\n",
            "\n",
            "\"Undercurrents\" 7\n",
            "\"The Pied Piper\" 8\n",
            "\"Amsterdam : A Novel\" 6\n",
            "\"A Certain Justice (Adam Dalgliesh Mysteries (Paperback))\" 7\n",
            "\n",
            "Predict the user's rating on \"The Alienist\". Output the rating score only. Do not include other text. reponse 7 due to error: invalid literal for int() with base 10: '7.2'\n",
            "1334th pred 8 ans 7\n",
            "1335th pred 8 ans 3\n",
            "1336th pred 8 ans 8\n"
          ]
        },
        {
          "name": "stderr",
          "output_type": "stream",
          "text": [
            "Setting `pad_token_id` to `eos_token_id`:128001 for open-end generation.\n",
            "Setting `pad_token_id` to `eos_token_id`:128001 for open-end generation.\n",
            "Setting `pad_token_id` to `eos_token_id`:128001 for open-end generation.\n"
          ]
        },
        {
          "name": "stdout",
          "output_type": "stream",
          "text": [
            "1337th pred 7 ans 9\n",
            "1338th pred 8 ans 3\n",
            "1339th pred 7 ans 5\n"
          ]
        },
        {
          "name": "stderr",
          "output_type": "stream",
          "text": [
            "Setting `pad_token_id` to `eos_token_id`:128001 for open-end generation.\n",
            "Setting `pad_token_id` to `eos_token_id`:128001 for open-end generation.\n",
            "Setting `pad_token_id` to `eos_token_id`:128001 for open-end generation.\n",
            "Setting `pad_token_id` to `eos_token_id`:128001 for open-end generation.\n"
          ]
        },
        {
          "name": "stdout",
          "output_type": "stream",
          "text": [
            "Skipping index 1559 prompt You are a book recommender and your job is to predict a user's rating (ranging from 1 to 10, with 10 being the highest) on a book, based on that user's previous ratings.\n",
            "\n",
            "User 217270 has rated the following books:\n",
            "\n",
            "\"The Street Lawyer\" 8\n",
            "\"Clear and Present Danger\" 9\n",
            "\"The First Time\" 7\n",
            "\"Saving Faith\" 8\n",
            "\n",
            "Predict the user's rating on \"Fear Nothing\". Output the rating score only. Do not include other text. reponse 7 due to error: invalid literal for int() with base 10: '8.5'\n",
            "1340th pred 8 ans 8\n",
            "1341th pred 8 ans 7\n",
            "1342th pred 8 ans 6\n"
          ]
        },
        {
          "name": "stderr",
          "output_type": "stream",
          "text": [
            "Setting `pad_token_id` to `eos_token_id`:128001 for open-end generation.\n",
            "Setting `pad_token_id` to `eos_token_id`:128001 for open-end generation.\n",
            "Setting `pad_token_id` to `eos_token_id`:128001 for open-end generation.\n"
          ]
        },
        {
          "name": "stdout",
          "output_type": "stream",
          "text": [
            "1343th pred 8 ans 5\n",
            "1344th pred 9 ans 10\n",
            "Skipping index 1565 prompt You are a book recommender and your job is to predict a user's rating (ranging from 1 to 10, with 10 being the highest) on a book, based on that user's previous ratings.\n",
            "\n",
            "User 218272 has rated the following books:\n",
            "\n",
            "\"Under the Color of the Law\" 8\n",
            "\"A Cold Heart (Alex Delaware Novels (Paperback))\" 7\n",
            "\"The Last Jihad\" 6\n",
            "\"The Footprints of God : A Novel\" 8\n",
            "\n",
            "Predict the user's rating on \"Dead in the Water\". Output the rating score only. Do not include other text. reponse 7 due to error: invalid literal for int() with base 10: '8.5'\n"
          ]
        },
        {
          "name": "stderr",
          "output_type": "stream",
          "text": [
            "Setting `pad_token_id` to `eos_token_id`:128001 for open-end generation.\n",
            "Setting `pad_token_id` to `eos_token_id`:128001 for open-end generation.\n",
            "Setting `pad_token_id` to `eos_token_id`:128001 for open-end generation.\n"
          ]
        },
        {
          "name": "stdout",
          "output_type": "stream",
          "text": [
            "1345th pred 9 ans 7\n",
            "Skipping index 1567 prompt You are a book recommender and your job is to predict a user's rating (ranging from 1 to 10, with 10 being the highest) on a book, based on that user's previous ratings.\n",
            "\n",
            "User 218356 has rated the following books:\n",
            "\n",
            "\"Being There\" 8\n",
            "\"Shockwave Rider\" 7\n",
            "\"Catapult: Harry and I Build a Siege Weapon\" 7\n",
            "\"Crackpot: The Obsessions of John Waters\" 9\n",
            "\n",
            "Predict the user's rating on \"Darwin's Radio\". Output the rating score only. Do not include other text. reponse 7 due to error: invalid literal for int() with base 10: '8.3'\n",
            "1346th pred 8 ans 7\n"
          ]
        },
        {
          "name": "stderr",
          "output_type": "stream",
          "text": [
            "Setting `pad_token_id` to `eos_token_id`:128001 for open-end generation.\n",
            "Setting `pad_token_id` to `eos_token_id`:128001 for open-end generation.\n",
            "Setting `pad_token_id` to `eos_token_id`:128001 for open-end generation.\n"
          ]
        },
        {
          "name": "stdout",
          "output_type": "stream",
          "text": [
            "1347th pred 7 ans 7\n",
            "1348th pred 7 ans 8\n",
            "Skipping index 1571 prompt You are a book recommender and your job is to predict a user's rating (ranging from 1 to 10, with 10 being the highest) on a book, based on that user's previous ratings.\n",
            "\n",
            "User 218526 has rated the following books:\n",
            "\n",
            "\"Night in the Lonesome October\" 7\n",
            "\"And Then You Die : An Aurelio Zen Mystery\" 8\n",
            "\"North of Havana\" 7\n",
            "\"Mystic River\" 6\n",
            "\n",
            "Predict the user's rating on \"Love, Etc.\". Output the rating score only. Do not include other text. reponse 7 due to error: invalid literal for int() with base 10: '7.2'\n"
          ]
        },
        {
          "name": "stderr",
          "output_type": "stream",
          "text": [
            "Setting `pad_token_id` to `eos_token_id`:128001 for open-end generation.\n",
            "Setting `pad_token_id` to `eos_token_id`:128001 for open-end generation.\n",
            "Setting `pad_token_id` to `eos_token_id`:128001 for open-end generation.\n",
            "Setting `pad_token_id` to `eos_token_id`:128001 for open-end generation.\n"
          ]
        },
        {
          "name": "stdout",
          "output_type": "stream",
          "text": [
            "1349th pred 8 ans 8\n",
            "1350th pred 7 ans 9\n",
            "1351th pred 8 ans 7\n",
            "1352th pred 7 ans 7\n"
          ]
        },
        {
          "name": "stderr",
          "output_type": "stream",
          "text": [
            "Setting `pad_token_id` to `eos_token_id`:128001 for open-end generation.\n",
            "Setting `pad_token_id` to `eos_token_id`:128001 for open-end generation.\n",
            "Setting `pad_token_id` to `eos_token_id`:128001 for open-end generation.\n",
            "Setting `pad_token_id` to `eos_token_id`:128001 for open-end generation.\n"
          ]
        },
        {
          "name": "stdout",
          "output_type": "stream",
          "text": [
            "1353th pred 8 ans 7\n",
            "1354th pred 8 ans 10\n",
            "1355th pred 8 ans 9\n",
            "1356th pred 8 ans 7\n"
          ]
        },
        {
          "name": "stderr",
          "output_type": "stream",
          "text": [
            "Setting `pad_token_id` to `eos_token_id`:128001 for open-end generation.\n",
            "Setting `pad_token_id` to `eos_token_id`:128001 for open-end generation.\n",
            "Setting `pad_token_id` to `eos_token_id`:128001 for open-end generation.\n",
            "Setting `pad_token_id` to `eos_token_id`:128001 for open-end generation.\n"
          ]
        },
        {
          "name": "stdout",
          "output_type": "stream",
          "text": [
            "1357th pred 8 ans 8\n",
            "1358th pred 9 ans 8\n",
            "1359th pred 7 ans 7\n",
            "1360th pred 8 ans 9\n"
          ]
        },
        {
          "name": "stderr",
          "output_type": "stream",
          "text": [
            "Setting `pad_token_id` to `eos_token_id`:128001 for open-end generation.\n",
            "Setting `pad_token_id` to `eos_token_id`:128001 for open-end generation.\n",
            "Setting `pad_token_id` to `eos_token_id`:128001 for open-end generation.\n",
            "Setting `pad_token_id` to `eos_token_id`:128001 for open-end generation.\n"
          ]
        },
        {
          "name": "stdout",
          "output_type": "stream",
          "text": [
            "1361th pred 8 ans 8\n",
            "1362th pred 8 ans 5\n",
            "1363th pred 7 ans 5\n",
            "1364th pred 7 ans 10\n"
          ]
        },
        {
          "name": "stderr",
          "output_type": "stream",
          "text": [
            "Setting `pad_token_id` to `eos_token_id`:128001 for open-end generation.\n",
            "Setting `pad_token_id` to `eos_token_id`:128001 for open-end generation.\n"
          ]
        },
        {
          "name": "stdout",
          "output_type": "stream",
          "text": [
            "Skipping index 1588 prompt You are a book recommender and your job is to predict a user's rating (ranging from 1 to 10, with 10 being the highest) on a book, based on that user's previous ratings.\n",
            "\n",
            "User 221550 has rated the following books:\n",
            "\n",
            "\"Living History\" 10\n",
            "\"Wild Animus\" 8\n",
            "\"Harry Potter and the Order of the Phoenix (Book 5)\" 10\n",
            "\"Seaflower: A Kydd Novel\" 8\n",
            "\n",
            "Predict the user's rating on \"Three Weeks with My Brother\". Output the rating score only. Do not include other text. reponse 7 due to error: invalid literal for int() with base 10: '7.5'\n",
            "Skipping index 1589 prompt You are a book recommender and your job is to predict a user's rating (ranging from 1 to 10, with 10 being the highest) on a book, based on that user's previous ratings.\n",
            "\n",
            "User 221701 has rated the following books:\n",
            "\n",
            "\"The Bearded Lady\" 8\n",
            "\"Obsidian Butterfly (Anita Blake Vampire Hunter (Paperback))\" 9\n",
            "\"Johnny Cash: An American Legend\" 6\n",
            "\"Hearts In Atlantis\" 9\n",
            "\n",
            "Predict the user's rating on \"The Eyre Affair: A Novel\". Output the rating score only. Do not include other text. reponse 7 due to error: invalid literal for int() with base 10: '8.5'\n"
          ]
        },
        {
          "name": "stderr",
          "output_type": "stream",
          "text": [
            "Setting `pad_token_id` to `eos_token_id`:128001 for open-end generation.\n",
            "Setting `pad_token_id` to `eos_token_id`:128001 for open-end generation.\n",
            "Setting `pad_token_id` to `eos_token_id`:128001 for open-end generation.\n",
            "Setting `pad_token_id` to `eos_token_id`:128001 for open-end generation.\n"
          ]
        },
        {
          "name": "stdout",
          "output_type": "stream",
          "text": [
            "Skipping index 1590 prompt You are a book recommender and your job is to predict a user's rating (ranging from 1 to 10, with 10 being the highest) on a book, based on that user's previous ratings.\n",
            "\n",
            "User 221713 has rated the following books:\n",
            "\n",
            "\"A Dedicated Man (Inspector Banks Mysteries (Paperback))\" 8\n",
            "\"Dead Run\" 7\n",
            "\"The Bear and the Dragon (Jack Ryan Novels)\" 9\n",
            "\"Blood at the Root (Inspector Banks Mysteries (Paperback))\" 8\n",
            "\n",
            "Predict the user's rating on \"Angry Lead Skies (Garrett P.I.)\". Output the rating score only. Do not include other text. reponse 7 due to error: invalid literal for int() with base 10: '8.3'\n",
            "1365th pred 7 ans 5\n",
            "1366th pred 8 ans 3\n",
            "1367th pred 8 ans 4\n"
          ]
        },
        {
          "name": "stderr",
          "output_type": "stream",
          "text": [
            "Setting `pad_token_id` to `eos_token_id`:128001 for open-end generation.\n",
            "Setting `pad_token_id` to `eos_token_id`:128001 for open-end generation.\n",
            "Setting `pad_token_id` to `eos_token_id`:128001 for open-end generation.\n",
            "Setting `pad_token_id` to `eos_token_id`:128001 for open-end generation.\n"
          ]
        },
        {
          "name": "stdout",
          "output_type": "stream",
          "text": [
            "1368th pred 8 ans 10\n",
            "1369th pred 8 ans 8\n",
            "1370th pred 8 ans 9\n",
            "1371th pred 7 ans 8\n"
          ]
        },
        {
          "name": "stderr",
          "output_type": "stream",
          "text": [
            "Setting `pad_token_id` to `eos_token_id`:128001 for open-end generation.\n",
            "Setting `pad_token_id` to `eos_token_id`:128001 for open-end generation.\n",
            "Setting `pad_token_id` to `eos_token_id`:128001 for open-end generation.\n"
          ]
        },
        {
          "name": "stdout",
          "output_type": "stream",
          "text": [
            "1372th pred 8 ans 7\n",
            "1373th pred 8 ans 7\n",
            "Skipping index 1600 prompt You are a book recommender and your job is to predict a user's rating (ranging from 1 to 10, with 10 being the highest) on a book, based on that user's previous ratings.\n",
            "\n",
            "User 223784 has rated the following books:\n",
            "\n",
            "\"The Rescue\" 5\n",
            "\"Sole Survivor\" 7\n",
            "\"The Short Forever\" 8\n",
            "\"Summer Secrets\" 9\n",
            "\n",
            "Predict the user's rating on \"Forever... : A Novel of Good and Evil, Love and Hope\". Output the rating score only. Do not include other text. reponse 7 due to error: invalid literal for int() with base 10: '8.4'\n"
          ]
        },
        {
          "name": "stderr",
          "output_type": "stream",
          "text": [
            "Setting `pad_token_id` to `eos_token_id`:128001 for open-end generation.\n",
            "Setting `pad_token_id` to `eos_token_id`:128001 for open-end generation.\n",
            "Setting `pad_token_id` to `eos_token_id`:128001 for open-end generation.\n"
          ]
        },
        {
          "name": "stdout",
          "output_type": "stream",
          "text": [
            "1374th pred 8 ans 10\n",
            "Skipping index 1602 prompt You are a book recommender and your job is to predict a user's rating (ranging from 1 to 10, with 10 being the highest) on a book, based on that user's previous ratings.\n",
            "\n",
            "User 223927 has rated the following books:\n",
            "\n",
            "\"Special Delivery\" 6\n",
            "\"The Queen of the Damned (Vampire Chronicles (Paperback))\" 7\n",
            "\"Moment of Truth\" 7\n",
            "\"Family Album\" 8\n",
            "\n",
            "Predict the user's rating on \"Fault Lines\". Output the rating score only. Do not include other text. reponse 7 due to error: invalid literal for int() with base 10: '8.5'\n",
            "1375th pred 7 ans 6\n"
          ]
        },
        {
          "name": "stderr",
          "output_type": "stream",
          "text": [
            "Setting `pad_token_id` to `eos_token_id`:128001 for open-end generation.\n",
            "Setting `pad_token_id` to `eos_token_id`:128001 for open-end generation.\n",
            "Setting `pad_token_id` to `eos_token_id`:128001 for open-end generation.\n",
            "Setting `pad_token_id` to `eos_token_id`:128001 for open-end generation.\n"
          ]
        },
        {
          "name": "stdout",
          "output_type": "stream",
          "text": [
            "1376th pred 8 ans 7\n",
            "1377th pred 8 ans 5\n",
            "1378th pred 7 ans 8\n",
            "1379th pred 8 ans 6\n"
          ]
        },
        {
          "name": "stderr",
          "output_type": "stream",
          "text": [
            "Setting `pad_token_id` to `eos_token_id`:128001 for open-end generation.\n",
            "Setting `pad_token_id` to `eos_token_id`:128001 for open-end generation.\n",
            "Setting `pad_token_id` to `eos_token_id`:128001 for open-end generation.\n",
            "Setting `pad_token_id` to `eos_token_id`:128001 for open-end generation.\n"
          ]
        },
        {
          "name": "stdout",
          "output_type": "stream",
          "text": [
            "1380th pred 8 ans 7\n",
            "1381th pred 4 ans 7\n",
            "1382th pred 8 ans 10\n",
            "1383th pred 8 ans 6\n"
          ]
        },
        {
          "name": "stderr",
          "output_type": "stream",
          "text": [
            "Setting `pad_token_id` to `eos_token_id`:128001 for open-end generation.\n",
            "Setting `pad_token_id` to `eos_token_id`:128001 for open-end generation.\n",
            "Setting `pad_token_id` to `eos_token_id`:128001 for open-end generation.\n",
            "Setting `pad_token_id` to `eos_token_id`:128001 for open-end generation.\n"
          ]
        },
        {
          "name": "stdout",
          "output_type": "stream",
          "text": [
            "1384th pred 8 ans 7\n",
            "1385th pred 8 ans 4\n",
            "1386th pred 9 ans 7\n",
            "1387th pred 7 ans 7\n"
          ]
        },
        {
          "name": "stderr",
          "output_type": "stream",
          "text": [
            "Setting `pad_token_id` to `eos_token_id`:128001 for open-end generation.\n",
            "Setting `pad_token_id` to `eos_token_id`:128001 for open-end generation.\n",
            "Setting `pad_token_id` to `eos_token_id`:128001 for open-end generation.\n",
            "Setting `pad_token_id` to `eos_token_id`:128001 for open-end generation.\n"
          ]
        },
        {
          "name": "stdout",
          "output_type": "stream",
          "text": [
            "1388th pred 7 ans 7\n",
            "1389th pred 7 ans 9\n",
            "1390th pred 9 ans 6\n",
            "1391th pred 8 ans 4\n"
          ]
        },
        {
          "name": "stderr",
          "output_type": "stream",
          "text": [
            "Setting `pad_token_id` to `eos_token_id`:128001 for open-end generation.\n",
            "Setting `pad_token_id` to `eos_token_id`:128001 for open-end generation.\n",
            "Setting `pad_token_id` to `eos_token_id`:128001 for open-end generation.\n",
            "Setting `pad_token_id` to `eos_token_id`:128001 for open-end generation.\n"
          ]
        },
        {
          "name": "stdout",
          "output_type": "stream",
          "text": [
            "1392th pred 6 ans 7\n",
            "1393th pred 8 ans 2\n",
            "1394th pred 7 ans 6\n",
            "1395th pred 7 ans 10\n"
          ]
        },
        {
          "name": "stderr",
          "output_type": "stream",
          "text": [
            "Setting `pad_token_id` to `eos_token_id`:128001 for open-end generation.\n",
            "Setting `pad_token_id` to `eos_token_id`:128001 for open-end generation.\n"
          ]
        },
        {
          "name": "stdout",
          "output_type": "stream",
          "text": [
            "1396th pred 8 ans 7\n",
            "Skipping index 1625 prompt You are a book recommender and your job is to predict a user's rating (ranging from 1 to 10, with 10 being the highest) on a book, based on that user's previous ratings.\n",
            "\n",
            "User 226975 has rated the following books:\n",
            "\n",
            "\"The Restaurant at the End of the Universe (Hitchhiker's Trilogy (Paperback))\" 10\n",
            "\"Alice's Adventures in Wonderland/With All the Original Illustrations by Sir John Tenniel (Dover Thrift Editions)\" 9\n",
            "\"Silence of the Lambs\" 8\n",
            "\"The Hitchhiker's Guide to the Galaxy\" 10\n",
            "\n",
            "Predict the user's rating on \"Kindred Spirits (Dragonlance: The Meetings Sextet, Vol. 1)\". Output the rating score only. Do not include other text. reponse 7 due to error: invalid literal for int() with base 10: '8.5'\n"
          ]
        },
        {
          "name": "stderr",
          "output_type": "stream",
          "text": [
            "Setting `pad_token_id` to `eos_token_id`:128001 for open-end generation.\n",
            "Setting `pad_token_id` to `eos_token_id`:128001 for open-end generation.\n",
            "Setting `pad_token_id` to `eos_token_id`:128001 for open-end generation.\n"
          ]
        },
        {
          "name": "stdout",
          "output_type": "stream",
          "text": [
            "Skipping index 1626 prompt You are a book recommender and your job is to predict a user's rating (ranging from 1 to 10, with 10 being the highest) on a book, based on that user's previous ratings.\n",
            "\n",
            "User 226976 has rated the following books:\n",
            "\n",
            "\"True Betrayals\" 7\n",
            "\"Montana Sky\" 8\n",
            "\"Sweet Revenge\" 8\n",
            "\"Table For Two\" 7\n",
            "\n",
            "Predict the user's rating on \"Irish Hearts\". Output the rating score only. Do not include other text. reponse 7 due to error: invalid literal for int() with base 10: '8.25'\n",
            "Skipping index 1627 prompt You are a book recommender and your job is to predict a user's rating (ranging from 1 to 10, with 10 being the highest) on a book, based on that user's previous ratings.\n",
            "\n",
            "User 227368 has rated the following books:\n",
            "\n",
            "\"Hung Up to Die: A Mandy Dyer Mystery (Mandy Dyer Mystery)\" 5\n",
            "\"Taking the Fifth\" 9\n",
            "\"Shoot Don't Shoot: A Joanna Brady Mystery\" 8\n",
            "\"Desert Heat\" 7\n",
            "\n",
            "Predict the user's rating on \"The Jasmine Trade\". Output the rating score only. Do not include other text. reponse 7 due to error: invalid literal for int() with base 10: '7.3'\n",
            "1397th pred 9 ans 10\n"
          ]
        },
        {
          "name": "stderr",
          "output_type": "stream",
          "text": [
            "Setting `pad_token_id` to `eos_token_id`:128001 for open-end generation.\n",
            "Setting `pad_token_id` to `eos_token_id`:128001 for open-end generation.\n",
            "Setting `pad_token_id` to `eos_token_id`:128001 for open-end generation.\n"
          ]
        },
        {
          "name": "stdout",
          "output_type": "stream",
          "text": [
            "1398th pred 8 ans 6\n",
            "1399th pred 8 ans 6\n",
            "1400th pred 7 ans 6\n"
          ]
        },
        {
          "name": "stderr",
          "output_type": "stream",
          "text": [
            "Setting `pad_token_id` to `eos_token_id`:128001 for open-end generation.\n",
            "Setting `pad_token_id` to `eos_token_id`:128001 for open-end generation.\n",
            "Setting `pad_token_id` to `eos_token_id`:128001 for open-end generation.\n"
          ]
        },
        {
          "name": "stdout",
          "output_type": "stream",
          "text": [
            "Skipping index 1632 prompt You are a book recommender and your job is to predict a user's rating (ranging from 1 to 10, with 10 being the highest) on a book, based on that user's previous ratings.\n",
            "\n",
            "User 228223 has rated the following books:\n",
            "\n",
            "\"Bel Canto: A Novel\" 8\n",
            "\"Lucky Girls : Stories\" 9\n",
            "\"Getting over It\" 7\n",
            "\"Drowning Ruth (Oprah's Book Club)\" 7\n",
            "\n",
            "Predict the user's rating on \"Disgrace\". Output the rating score only. Do not include other text. reponse 7 due to error: invalid literal for int() with base 10: '7.5'\n",
            "1401th pred 6 ans 9\n",
            "Skipping index 1634 prompt You are a book recommender and your job is to predict a user's rating (ranging from 1 to 10, with 10 being the highest) on a book, based on that user's previous ratings.\n",
            "\n",
            "User 228372 has rated the following books:\n",
            "\n",
            "\"One True Thing\" 9\n",
            "\"For Love\" 8\n",
            "\"On Noah's Ark\" 6\n",
            "\"12 Simple Secrets of Happiness: Finding Joy in Everyday Relationships\" 8\n",
            "\n",
            "Predict the user's rating on \"The Search for the Beloved: Journeys in Sacred Psychology\". Output the rating score only. Do not include other text. reponse 7 due to error: invalid literal for int() with base 10: '8.3'\n"
          ]
        },
        {
          "name": "stderr",
          "output_type": "stream",
          "text": [
            "Setting `pad_token_id` to `eos_token_id`:128001 for open-end generation.\n",
            "Setting `pad_token_id` to `eos_token_id`:128001 for open-end generation.\n",
            "Setting `pad_token_id` to `eos_token_id`:128001 for open-end generation.\n"
          ]
        },
        {
          "name": "stdout",
          "output_type": "stream",
          "text": [
            "1402th pred 8 ans 8\n",
            "1403th pred 7 ans 6\n",
            "Skipping index 1637 prompt You are a book recommender and your job is to predict a user's rating (ranging from 1 to 10, with 10 being the highest) on a book, based on that user's previous ratings.\n",
            "\n",
            "User 228652 has rated the following books:\n",
            "\n",
            "\"Bridget Jones: The Edge of Reason\" 8\n",
            "\"Neuromancer (Remembering Tomorrow)\" 7\n",
            "\"Along Came a Spider (Alex Cross Novels)\" 8\n",
            "\"Farnham's Freehold\" 7\n",
            "\n",
            "Predict the user's rating on \"The Alienist\". Output the rating score only. Do not include other text. reponse 7 due to error: invalid literal for int() with base 10: '8.4'\n"
          ]
        },
        {
          "name": "stderr",
          "output_type": "stream",
          "text": [
            "Setting `pad_token_id` to `eos_token_id`:128001 for open-end generation.\n",
            "Setting `pad_token_id` to `eos_token_id`:128001 for open-end generation.\n",
            "Setting `pad_token_id` to `eos_token_id`:128001 for open-end generation.\n"
          ]
        },
        {
          "name": "stdout",
          "output_type": "stream",
          "text": [
            "1404th pred 8 ans 7\n",
            "Skipping index 1639 prompt You are a book recommender and your job is to predict a user's rating (ranging from 1 to 10, with 10 being the highest) on a book, based on that user's previous ratings.\n",
            "\n",
            "User 228883 has rated the following books:\n",
            "\n",
            "\"The Fire-Dwellers (Phoenix Fiction Series)\" 8\n",
            "\"The Bean Trees\" 8\n",
            "\"Principal Products of Portugal: Prose Pieces\" 9\n",
            "\"The Best American Essays 1998 (Serial)\" 9\n",
            "\n",
            "Predict the user's rating on \"The Woman Lit By Fireflies\". Output the rating score only. Do not include other text. reponse 7 due to error: invalid literal for int() with base 10: '8.4'\n",
            "1405th pred 8 ans 8\n"
          ]
        },
        {
          "name": "stderr",
          "output_type": "stream",
          "text": [
            "Setting `pad_token_id` to `eos_token_id`:128001 for open-end generation.\n",
            "Setting `pad_token_id` to `eos_token_id`:128001 for open-end generation.\n",
            "Setting `pad_token_id` to `eos_token_id`:128001 for open-end generation.\n",
            "Setting `pad_token_id` to `eos_token_id`:128001 for open-end generation.\n"
          ]
        },
        {
          "name": "stdout",
          "output_type": "stream",
          "text": [
            "1406th pred 7 ans 8\n",
            "1407th pred 9 ans 8\n",
            "1408th pred 7 ans 8\n",
            "1409th pred 7 ans 8\n"
          ]
        },
        {
          "name": "stderr",
          "output_type": "stream",
          "text": [
            "Setting `pad_token_id` to `eos_token_id`:128001 for open-end generation.\n",
            "Setting `pad_token_id` to `eos_token_id`:128001 for open-end generation.\n",
            "Setting `pad_token_id` to `eos_token_id`:128001 for open-end generation.\n",
            "Setting `pad_token_id` to `eos_token_id`:128001 for open-end generation.\n"
          ]
        },
        {
          "name": "stdout",
          "output_type": "stream",
          "text": [
            "1410th pred 7 ans 5\n",
            "1411th pred 8 ans 8\n",
            "1412th pred 7 ans 8\n",
            "1413th pred 9 ans 9\n"
          ]
        },
        {
          "name": "stderr",
          "output_type": "stream",
          "text": [
            "Setting `pad_token_id` to `eos_token_id`:128001 for open-end generation.\n",
            "Setting `pad_token_id` to `eos_token_id`:128001 for open-end generation.\n",
            "Setting `pad_token_id` to `eos_token_id`:128001 for open-end generation.\n"
          ]
        },
        {
          "name": "stdout",
          "output_type": "stream",
          "text": [
            "1414th pred 9 ans 8\n",
            "Skipping index 1650 prompt You are a book recommender and your job is to predict a user's rating (ranging from 1 to 10, with 10 being the highest) on a book, based on that user's previous ratings.\n",
            "\n",
            "User 229816 has rated the following books:\n",
            "\n",
            "\"Bridget Jones's Diary\" 8\n",
            "\"Writer's Notebook\" 7\n",
            "\"Anche il sole fa schifo: Radiodramma (Centominuti)\" 8\n",
            "\"George W. Bushisms : The Slate Book of The Accidental Wit and Wisdom of our 43rd President\" 8\n",
            "\n",
            "Predict the user's rating on \"Il Piccolo Principe\". Output the rating score only. Do not include other text. reponse 7 due to error: invalid literal for int() with base 10: '8.5'\n",
            "1415th pred 8 ans 6\n"
          ]
        },
        {
          "name": "stderr",
          "output_type": "stream",
          "text": [
            "Setting `pad_token_id` to `eos_token_id`:128001 for open-end generation.\n",
            "Setting `pad_token_id` to `eos_token_id`:128001 for open-end generation.\n",
            "Setting `pad_token_id` to `eos_token_id`:128001 for open-end generation.\n",
            "Setting `pad_token_id` to `eos_token_id`:128001 for open-end generation.\n"
          ]
        },
        {
          "name": "stdout",
          "output_type": "stream",
          "text": [
            "1416th pred 8 ans 9\n",
            "1417th pred 7 ans 9\n",
            "1418th pred 8 ans 7\n",
            "1419th pred 8 ans 6\n"
          ]
        },
        {
          "name": "stderr",
          "output_type": "stream",
          "text": [
            "Setting `pad_token_id` to `eos_token_id`:128001 for open-end generation.\n",
            "Setting `pad_token_id` to `eos_token_id`:128001 for open-end generation.\n",
            "Setting `pad_token_id` to `eos_token_id`:128001 for open-end generation.\n",
            "Setting `pad_token_id` to `eos_token_id`:128001 for open-end generation.\n"
          ]
        },
        {
          "name": "stdout",
          "output_type": "stream",
          "text": [
            "1420th pred 7 ans 8\n",
            "1421th pred 8 ans 8\n",
            "1422th pred 8 ans 7\n",
            "1423th pred 8 ans 8\n"
          ]
        },
        {
          "name": "stderr",
          "output_type": "stream",
          "text": [
            "Setting `pad_token_id` to `eos_token_id`:128001 for open-end generation.\n",
            "Setting `pad_token_id` to `eos_token_id`:128001 for open-end generation.\n",
            "Setting `pad_token_id` to `eos_token_id`:128001 for open-end generation.\n",
            "Setting `pad_token_id` to `eos_token_id`:128001 for open-end generation.\n"
          ]
        },
        {
          "name": "stdout",
          "output_type": "stream",
          "text": [
            "1424th pred 8 ans 2\n",
            "1425th pred 8 ans 8\n",
            "1426th pred 9 ans 8\n",
            "1427th pred 8 ans 10\n"
          ]
        },
        {
          "name": "stderr",
          "output_type": "stream",
          "text": [
            "Setting `pad_token_id` to `eos_token_id`:128001 for open-end generation.\n",
            "Setting `pad_token_id` to `eos_token_id`:128001 for open-end generation.\n",
            "Setting `pad_token_id` to `eos_token_id`:128001 for open-end generation.\n"
          ]
        },
        {
          "name": "stdout",
          "output_type": "stream",
          "text": [
            "1428th pred 8 ans 8\n",
            "1429th pred 8 ans 7\n",
            "1430th pred 8 ans 6\n"
          ]
        },
        {
          "name": "stderr",
          "output_type": "stream",
          "text": [
            "Setting `pad_token_id` to `eos_token_id`:128001 for open-end generation.\n",
            "Setting `pad_token_id` to `eos_token_id`:128001 for open-end generation.\n",
            "Setting `pad_token_id` to `eos_token_id`:128001 for open-end generation.\n",
            "Setting `pad_token_id` to `eos_token_id`:128001 for open-end generation.\n"
          ]
        },
        {
          "name": "stdout",
          "output_type": "stream",
          "text": [
            "Skipping index 1667 prompt You are a book recommender and your job is to predict a user's rating (ranging from 1 to 10, with 10 being the highest) on a book, based on that user's previous ratings.\n",
            "\n",
            "User 231346 has rated the following books:\n",
            "\n",
            "\"2nd Chance\" 9\n",
            "\"My Gal Sunday\" 7\n",
            "\"Dolores Claiborne\" 8\n",
            "\"The Overseer\" 7\n",
            "\n",
            "Predict the user's rating on \"The Wyndham Legacy\". Output the rating score only. Do not include other text. reponse 7 due to error: invalid literal for int() with base 10: '7.5'\n",
            "1431th pred 9 ans 9\n",
            "1432th pred 8 ans 8\n",
            "1433th pred 8 ans 5\n"
          ]
        },
        {
          "name": "stderr",
          "output_type": "stream",
          "text": [
            "Setting `pad_token_id` to `eos_token_id`:128001 for open-end generation.\n",
            "Setting `pad_token_id` to `eos_token_id`:128001 for open-end generation.\n",
            "Setting `pad_token_id` to `eos_token_id`:128001 for open-end generation.\n",
            "Setting `pad_token_id` to `eos_token_id`:128001 for open-end generation.\n"
          ]
        },
        {
          "name": "stdout",
          "output_type": "stream",
          "text": [
            "1434th pred 9 ans 7\n",
            "1435th pred 8 ans 7\n",
            "1436th pred 8 ans 8\n",
            "1437th pred 7 ans 5\n"
          ]
        },
        {
          "name": "stderr",
          "output_type": "stream",
          "text": [
            "Setting `pad_token_id` to `eos_token_id`:128001 for open-end generation.\n",
            "Setting `pad_token_id` to `eos_token_id`:128001 for open-end generation.\n",
            "Setting `pad_token_id` to `eos_token_id`:128001 for open-end generation.\n",
            "Setting `pad_token_id` to `eos_token_id`:128001 for open-end generation.\n"
          ]
        },
        {
          "name": "stdout",
          "output_type": "stream",
          "text": [
            "1438th pred 8 ans 5\n",
            "1439th pred 7 ans 6\n",
            "1440th pred 8 ans 9\n",
            "1441th pred 8 ans 7\n"
          ]
        },
        {
          "name": "stderr",
          "output_type": "stream",
          "text": [
            "Setting `pad_token_id` to `eos_token_id`:128001 for open-end generation.\n",
            "Setting `pad_token_id` to `eos_token_id`:128001 for open-end generation.\n",
            "Setting `pad_token_id` to `eos_token_id`:128001 for open-end generation.\n"
          ]
        },
        {
          "name": "stdout",
          "output_type": "stream",
          "text": [
            "1442th pred 6 ans 8\n",
            "Skipping index 1680 prompt You are a book recommender and your job is to predict a user's rating (ranging from 1 to 10, with 10 being the highest) on a book, based on that user's previous ratings.\n",
            "\n",
            "User 233397 has rated the following books:\n",
            "\n",
            "\"Bridget Jones. Am Rande des Wahnsinns.\" 8\n",
            "\"Das Tagebuch Der Bridget Jones\" 9\n",
            "\"Anima mundi.\" 8\n",
            "\"Die Putzfraueninsel: Roman (Neue Frau)\" 7\n",
            "\n",
            "Predict the user's rating on \"Die WÃ?Â¤lder von Albion.\". Output the rating score only. Do not include other text. reponse 7 due to error: invalid literal for int() with base 10: '8.3'\n",
            "1443th pred 8 ans 7\n"
          ]
        },
        {
          "name": "stderr",
          "output_type": "stream",
          "text": [
            "Setting `pad_token_id` to `eos_token_id`:128001 for open-end generation.\n",
            "Setting `pad_token_id` to `eos_token_id`:128001 for open-end generation.\n",
            "Setting `pad_token_id` to `eos_token_id`:128001 for open-end generation.\n",
            "Setting `pad_token_id` to `eos_token_id`:128001 for open-end generation.\n"
          ]
        },
        {
          "name": "stdout",
          "output_type": "stream",
          "text": [
            "1444th pred 8 ans 8\n",
            "1445th pred 8 ans 8\n",
            "1446th pred 9 ans 10\n",
            "1447th pred 8 ans 7\n"
          ]
        },
        {
          "name": "stderr",
          "output_type": "stream",
          "text": [
            "Setting `pad_token_id` to `eos_token_id`:128001 for open-end generation.\n",
            "Setting `pad_token_id` to `eos_token_id`:128001 for open-end generation.\n",
            "Setting `pad_token_id` to `eos_token_id`:128001 for open-end generation.\n",
            "Setting `pad_token_id` to `eos_token_id`:128001 for open-end generation.\n"
          ]
        },
        {
          "name": "stdout",
          "output_type": "stream",
          "text": [
            "1448th pred 6 ans 9\n",
            "1449th pred 7 ans 8\n",
            "1450th pred 8 ans 4\n",
            "1451th pred 8 ans 5\n"
          ]
        },
        {
          "name": "stderr",
          "output_type": "stream",
          "text": [
            "Setting `pad_token_id` to `eos_token_id`:128001 for open-end generation.\n",
            "Setting `pad_token_id` to `eos_token_id`:128001 for open-end generation.\n",
            "Setting `pad_token_id` to `eos_token_id`:128001 for open-end generation.\n",
            "Setting `pad_token_id` to `eos_token_id`:128001 for open-end generation.\n"
          ]
        },
        {
          "name": "stdout",
          "output_type": "stream",
          "text": [
            "1452th pred 6 ans 7\n",
            "1453th pred 6 ans 3\n",
            "1454th pred 8 ans 5\n",
            "1455th pred 8 ans 10\n"
          ]
        },
        {
          "name": "stderr",
          "output_type": "stream",
          "text": [
            "Setting `pad_token_id` to `eos_token_id`:128001 for open-end generation.\n",
            "Setting `pad_token_id` to `eos_token_id`:128001 for open-end generation.\n",
            "Setting `pad_token_id` to `eos_token_id`:128001 for open-end generation.\n",
            "Setting `pad_token_id` to `eos_token_id`:128001 for open-end generation.\n"
          ]
        },
        {
          "name": "stdout",
          "output_type": "stream",
          "text": [
            "Skipping index 1694 prompt You are a book recommender and your job is to predict a user's rating (ranging from 1 to 10, with 10 being the highest) on a book, based on that user's previous ratings.\n",
            "\n",
            "User 235591 has rated the following books:\n",
            "\n",
            "\"Nam: The Vietnam War in the Words of the Men and Women Who Fought There\" 8\n",
            "\"Compass Murphy\" 10\n",
            "\"Kanata\" 9\n",
            "\"An Occasion of Sin\" 7\n",
            "\n",
            "Predict the user's rating on \"Pawing Through the Past (Mrs. Murphy Mysteries (Paperback))\". Output the rating score only. Do not include other text. reponse 7 due to error: invalid literal for int() with base 10: '8.5'\n",
            "1456th pred 8 ans 9\n",
            "1457th pred 7 ans 7\n",
            "1458th pred 8 ans 7\n"
          ]
        },
        {
          "name": "stderr",
          "output_type": "stream",
          "text": [
            "Setting `pad_token_id` to `eos_token_id`:128001 for open-end generation.\n",
            "Setting `pad_token_id` to `eos_token_id`:128001 for open-end generation.\n",
            "Setting `pad_token_id` to `eos_token_id`:128001 for open-end generation.\n",
            "Setting `pad_token_id` to `eos_token_id`:128001 for open-end generation.\n"
          ]
        },
        {
          "name": "stdout",
          "output_type": "stream",
          "text": [
            "1459th pred 8 ans 3\n",
            "1460th pred 7 ans 7\n",
            "1461th pred 7 ans 8\n",
            "1462th pred 8 ans 10\n"
          ]
        },
        {
          "name": "stderr",
          "output_type": "stream",
          "text": [
            "Setting `pad_token_id` to `eos_token_id`:128001 for open-end generation.\n",
            "Setting `pad_token_id` to `eos_token_id`:128001 for open-end generation.\n",
            "Setting `pad_token_id` to `eos_token_id`:128001 for open-end generation.\n",
            "Setting `pad_token_id` to `eos_token_id`:128001 for open-end generation.\n"
          ]
        },
        {
          "name": "stdout",
          "output_type": "stream",
          "text": [
            "1463th pred 8 ans 5\n",
            "1464th pred 8 ans 8\n",
            "1465th pred 8 ans 7\n",
            "1466th pred 8 ans 9\n"
          ]
        },
        {
          "name": "stderr",
          "output_type": "stream",
          "text": [
            "Setting `pad_token_id` to `eos_token_id`:128001 for open-end generation.\n",
            "Setting `pad_token_id` to `eos_token_id`:128001 for open-end generation.\n",
            "Setting `pad_token_id` to `eos_token_id`:128001 for open-end generation.\n",
            "Setting `pad_token_id` to `eos_token_id`:128001 for open-end generation.\n"
          ]
        },
        {
          "name": "stdout",
          "output_type": "stream",
          "text": [
            "1467th pred 8 ans 9\n",
            "1468th pred 8 ans 7\n",
            "1469th pred 8 ans 7\n",
            "1470th pred 7 ans 5\n"
          ]
        },
        {
          "name": "stderr",
          "output_type": "stream",
          "text": [
            "Setting `pad_token_id` to `eos_token_id`:128001 for open-end generation.\n",
            "Setting `pad_token_id` to `eos_token_id`:128001 for open-end generation.\n",
            "Setting `pad_token_id` to `eos_token_id`:128001 for open-end generation.\n",
            "Setting `pad_token_id` to `eos_token_id`:128001 for open-end generation.\n"
          ]
        },
        {
          "name": "stdout",
          "output_type": "stream",
          "text": [
            "Skipping index 1710 prompt You are a book recommender and your job is to predict a user's rating (ranging from 1 to 10, with 10 being the highest) on a book, based on that user's previous ratings.\n",
            "\n",
            "User 238159 has rated the following books:\n",
            "\n",
            "\"Kiss and Make-Up\" 7\n",
            "\"Stairway to Hell: The 500 Best Heavy Metal Albums in the Universe\" 5\n",
            "\"Virtual History: Alternatives and Counterfactuals\" 6\n",
            "\"Bebop in Nothingness: Jazz and Pop at the End of the Century\" 8\n",
            "\n",
            "Predict the user's rating on \"Moon: The Life and Death of a Rock Legend\". Output the rating score only. Do not include other text. reponse 7 due to error: invalid literal for int() with base 10: '8.2'\n",
            "1471th pred 8 ans 7\n",
            "1472th pred 8 ans 9\n",
            "1473th pred 9 ans 7\n"
          ]
        },
        {
          "name": "stderr",
          "output_type": "stream",
          "text": [
            "Setting `pad_token_id` to `eos_token_id`:128001 for open-end generation.\n",
            "Setting `pad_token_id` to `eos_token_id`:128001 for open-end generation.\n",
            "Setting `pad_token_id` to `eos_token_id`:128001 for open-end generation.\n",
            "Setting `pad_token_id` to `eos_token_id`:128001 for open-end generation.\n"
          ]
        },
        {
          "name": "stdout",
          "output_type": "stream",
          "text": [
            "1474th pred 7 ans 7\n",
            "1475th pred 9 ans 10\n",
            "1476th pred 7 ans 7\n",
            "1477th pred 6 ans 10\n"
          ]
        },
        {
          "name": "stderr",
          "output_type": "stream",
          "text": [
            "Setting `pad_token_id` to `eos_token_id`:128001 for open-end generation.\n",
            "Setting `pad_token_id` to `eos_token_id`:128001 for open-end generation.\n",
            "Setting `pad_token_id` to `eos_token_id`:128001 for open-end generation.\n",
            "Setting `pad_token_id` to `eos_token_id`:128001 for open-end generation.\n"
          ]
        },
        {
          "name": "stdout",
          "output_type": "stream",
          "text": [
            "1478th pred 6 ans 5\n",
            "1479th pred 8 ans 8\n",
            "1480th pred 9 ans 9\n",
            "1481th pred 9 ans 10\n"
          ]
        },
        {
          "name": "stderr",
          "output_type": "stream",
          "text": [
            "Setting `pad_token_id` to `eos_token_id`:128001 for open-end generation.\n",
            "Setting `pad_token_id` to `eos_token_id`:128001 for open-end generation.\n",
            "Setting `pad_token_id` to `eos_token_id`:128001 for open-end generation.\n",
            "Setting `pad_token_id` to `eos_token_id`:128001 for open-end generation.\n"
          ]
        },
        {
          "name": "stdout",
          "output_type": "stream",
          "text": [
            "1482th pred 6 ans 6\n",
            "1483th pred 8 ans 8\n",
            "1484th pred 8 ans 10\n",
            "1485th pred 8 ans 8\n"
          ]
        },
        {
          "name": "stderr",
          "output_type": "stream",
          "text": [
            "Setting `pad_token_id` to `eos_token_id`:128001 for open-end generation.\n",
            "Setting `pad_token_id` to `eos_token_id`:128001 for open-end generation.\n",
            "Setting `pad_token_id` to `eos_token_id`:128001 for open-end generation.\n",
            "Setting `pad_token_id` to `eos_token_id`:128001 for open-end generation.\n"
          ]
        },
        {
          "name": "stdout",
          "output_type": "stream",
          "text": [
            "1486th pred 6 ans 8\n",
            "1487th pred 8 ans 7\n",
            "1488th pred 7 ans 10\n",
            "1489th pred 8 ans 10\n"
          ]
        },
        {
          "name": "stderr",
          "output_type": "stream",
          "text": [
            "Setting `pad_token_id` to `eos_token_id`:128001 for open-end generation.\n",
            "Setting `pad_token_id` to `eos_token_id`:128001 for open-end generation.\n",
            "Setting `pad_token_id` to `eos_token_id`:128001 for open-end generation.\n"
          ]
        },
        {
          "name": "stdout",
          "output_type": "stream",
          "text": [
            "1490th pred 8 ans 7\n",
            "1491th pred 8 ans 7\n",
            "Skipping index 1732 prompt You are a book recommender and your job is to predict a user's rating (ranging from 1 to 10, with 10 being the highest) on a book, based on that user's previous ratings.\n",
            "\n",
            "User 240951 has rated the following books:\n",
            "\n",
            "\"The Hidden Value of a Man: The Incredible Impact of Man on His Family\" 8\n",
            "\"The Testament\" 10\n",
            "\"Homosexuality and the Politics of Truth\" 10\n",
            "\"Darwin on Trial\" 9\n",
            "\n",
            "Predict the user's rating on \"The Lotus and the Cross: Jesus Talks with Buddha\". Output the rating score only. Do not include other text. reponse 7 due to error: invalid literal for int() with base 10: '7.3'\n"
          ]
        },
        {
          "name": "stderr",
          "output_type": "stream",
          "text": [
            "Setting `pad_token_id` to `eos_token_id`:128001 for open-end generation.\n",
            "Setting `pad_token_id` to `eos_token_id`:128001 for open-end generation.\n",
            "Setting `pad_token_id` to `eos_token_id`:128001 for open-end generation.\n",
            "Setting `pad_token_id` to `eos_token_id`:128001 for open-end generation.\n"
          ]
        },
        {
          "name": "stdout",
          "output_type": "stream",
          "text": [
            "1492th pred 7 ans 6\n",
            "1493th pred 8 ans 7\n",
            "1494th pred 8 ans 7\n",
            "1495th pred 9 ans 9\n"
          ]
        },
        {
          "name": "stderr",
          "output_type": "stream",
          "text": [
            "Setting `pad_token_id` to `eos_token_id`:128001 for open-end generation.\n",
            "Setting `pad_token_id` to `eos_token_id`:128001 for open-end generation.\n",
            "Setting `pad_token_id` to `eos_token_id`:128001 for open-end generation.\n",
            "Setting `pad_token_id` to `eos_token_id`:128001 for open-end generation.\n"
          ]
        },
        {
          "name": "stdout",
          "output_type": "stream",
          "text": [
            "1496th pred 7 ans 9\n",
            "1497th pred 8 ans 7\n",
            "1498th pred 8 ans 9\n",
            "1499th pred 8 ans 5\n"
          ]
        },
        {
          "name": "stderr",
          "output_type": "stream",
          "text": [
            "Setting `pad_token_id` to `eos_token_id`:128001 for open-end generation.\n",
            "Setting `pad_token_id` to `eos_token_id`:128001 for open-end generation.\n",
            "Setting `pad_token_id` to `eos_token_id`:128001 for open-end generation.\n",
            "Setting `pad_token_id` to `eos_token_id`:128001 for open-end generation.\n"
          ]
        },
        {
          "name": "stdout",
          "output_type": "stream",
          "text": [
            "1500th pred 8 ans 6\n",
            "1501th pred 8 ans 10\n",
            "1502th pred 7 ans 9\n",
            "1503th pred 8 ans 7\n"
          ]
        },
        {
          "name": "stderr",
          "output_type": "stream",
          "text": [
            "Setting `pad_token_id` to `eos_token_id`:128001 for open-end generation.\n",
            "Setting `pad_token_id` to `eos_token_id`:128001 for open-end generation.\n",
            "Setting `pad_token_id` to `eos_token_id`:128001 for open-end generation.\n",
            "Setting `pad_token_id` to `eos_token_id`:128001 for open-end generation.\n"
          ]
        },
        {
          "name": "stdout",
          "output_type": "stream",
          "text": [
            "1504th pred 8 ans 10\n",
            "1505th pred 8 ans 7\n",
            "1506th pred 7 ans 3\n",
            "1507th pred 8 ans 10\n"
          ]
        },
        {
          "name": "stderr",
          "output_type": "stream",
          "text": [
            "Setting `pad_token_id` to `eos_token_id`:128001 for open-end generation.\n",
            "Setting `pad_token_id` to `eos_token_id`:128001 for open-end generation.\n",
            "Setting `pad_token_id` to `eos_token_id`:128001 for open-end generation.\n",
            "Setting `pad_token_id` to `eos_token_id`:128001 for open-end generation.\n"
          ]
        },
        {
          "name": "stdout",
          "output_type": "stream",
          "text": [
            "1508th pred 8 ans 8\n",
            "1509th pred 9 ans 10\n",
            "1510th pred 8 ans 9\n",
            "1511th pred 7 ans 8\n"
          ]
        },
        {
          "name": "stderr",
          "output_type": "stream",
          "text": [
            "Setting `pad_token_id` to `eos_token_id`:128001 for open-end generation.\n",
            "Setting `pad_token_id` to `eos_token_id`:128001 for open-end generation.\n",
            "Setting `pad_token_id` to `eos_token_id`:128001 for open-end generation.\n"
          ]
        },
        {
          "name": "stdout",
          "output_type": "stream",
          "text": [
            "Skipping index 1753 prompt You are a book recommender and your job is to predict a user's rating (ranging from 1 to 10, with 10 being the highest) on a book, based on that user's previous ratings.\n",
            "\n",
            "User 243546 has rated the following books:\n",
            "\n",
            "\"Mad Cows\" 7\n",
            "\"The Daughters of Cain\" 10\n",
            "\"David Copperfield (Wordsworth Classics)\" 8\n",
            "\"Heaven Eyes (Signature S.)\" 9\n",
            "\n",
            "Predict the user's rating on \"The Oxford Latin Minidictionary\". Output the rating score only. Do not include other text. reponse 7 due to error: invalid literal for int() with base 10: '8.5'\n",
            "Skipping index 1754 prompt You are a book recommender and your job is to predict a user's rating (ranging from 1 to 10, with 10 being the highest) on a book, based on that user's previous ratings.\n",
            "\n",
            "User 243585 has rated the following books:\n",
            "\n",
            "\"Between the Rivers\" 7\n",
            "\"We Were the Mulvaneys\" 9\n",
            "\"KNOCKDOWN\" 8\n",
            "\"Deception Point\" 5\n",
            "\n",
            "Predict the user's rating on \"Q Is for Quarry\". Output the rating score only. Do not include other text. reponse 7 due to error: invalid literal for int() with base 10: '8.5'\n",
            "1512th pred 8 ans 7\n"
          ]
        },
        {
          "name": "stderr",
          "output_type": "stream",
          "text": [
            "Setting `pad_token_id` to `eos_token_id`:128001 for open-end generation.\n",
            "Setting `pad_token_id` to `eos_token_id`:128001 for open-end generation.\n",
            "Setting `pad_token_id` to `eos_token_id`:128001 for open-end generation.\n"
          ]
        },
        {
          "name": "stdout",
          "output_type": "stream",
          "text": [
            "1513th pred 8 ans 8\n",
            "Skipping index 1757 prompt You are a book recommender and your job is to predict a user's rating (ranging from 1 to 10, with 10 being the highest) on a book, based on that user's previous ratings.\n",
            "\n",
            "User 243996 has rated the following books:\n",
            "\n",
            "\"Fatherland\" 8\n",
            "\"The Bonesetter's Daughter\" 9\n",
            "\"The Stone Diaries\" 7\n",
            "\"Angela's Ashes (MMP) : A Memoir\" 9\n",
            "\n",
            "Predict the user's rating on \"Half Moon Street (Charlotte &amp; Thomas Pitt Novels (Paperback))\". Output the rating score only. Do not include other text. reponse 7 due to error: invalid literal for int() with base 10: '8.5'\n",
            "1514th pred 7 ans 6\n"
          ]
        },
        {
          "name": "stderr",
          "output_type": "stream",
          "text": [
            "Setting `pad_token_id` to `eos_token_id`:128001 for open-end generation.\n",
            "Setting `pad_token_id` to `eos_token_id`:128001 for open-end generation.\n",
            "Setting `pad_token_id` to `eos_token_id`:128001 for open-end generation.\n",
            "Setting `pad_token_id` to `eos_token_id`:128001 for open-end generation.\n"
          ]
        },
        {
          "name": "stdout",
          "output_type": "stream",
          "text": [
            "1515th pred 8 ans 8\n",
            "1516th pred 8 ans 7\n",
            "1517th pred 8 ans 9\n",
            "1518th pred 8 ans 8\n"
          ]
        },
        {
          "name": "stderr",
          "output_type": "stream",
          "text": [
            "Setting `pad_token_id` to `eos_token_id`:128001 for open-end generation.\n",
            "Setting `pad_token_id` to `eos_token_id`:128001 for open-end generation.\n",
            "Setting `pad_token_id` to `eos_token_id`:128001 for open-end generation.\n"
          ]
        },
        {
          "name": "stdout",
          "output_type": "stream",
          "text": [
            "1519th pred 8 ans 10\n",
            "Skipping index 1764 prompt You are a book recommender and your job is to predict a user's rating (ranging from 1 to 10, with 10 being the highest) on a book, based on that user's previous ratings.\n",
            "\n",
            "User 245007 has rated the following books:\n",
            "\n",
            "\"To Green Angel Tower, Part 2 (Memory, Sorrow, and Thorn, Book 3)\" 8\n",
            "\"Labyrinths: Selected Stories and Other Writings (New Directions Paperbook, 186)\" 10\n",
            "\"On a Pale Horse (Incarnations of Immortality, Bk. 1)\" 8\n",
            "\"Lullaby: A Novel\" 8\n",
            "\n",
            "Predict the user's rating on \"Sorceress of Darshiva (Malloreon (Paperback Random House))\". Output the rating score only. Do not include other text. reponse 7 due to error: invalid literal for int() with base 10: '8.5'\n",
            "1520th pred 7 ans 5\n"
          ]
        },
        {
          "name": "stderr",
          "output_type": "stream",
          "text": [
            "Setting `pad_token_id` to `eos_token_id`:128001 for open-end generation.\n",
            "Setting `pad_token_id` to `eos_token_id`:128001 for open-end generation.\n",
            "Setting `pad_token_id` to `eos_token_id`:128001 for open-end generation.\n"
          ]
        },
        {
          "name": "stdout",
          "output_type": "stream",
          "text": [
            "1521th pred 8 ans 10\n",
            "Skipping index 1767 prompt You are a book recommender and your job is to predict a user's rating (ranging from 1 to 10, with 10 being the highest) on a book, based on that user's previous ratings.\n",
            "\n",
            "User 245352 has rated the following books:\n",
            "\n",
            "\"Beach House\" 8\n",
            "\"4 Blondes\" 9\n",
            "\"Everything Is Illuminated : A Novel\" 9\n",
            "\"Tough Cookie\" 9\n",
            "\n",
            "Predict the user's rating on \"253: The Print Remix\". Output the rating score only. Do not include other text. reponse 7 due to error: invalid literal for int() with base 10: '9.2'\n",
            "1522th pred 8 ans 10\n"
          ]
        },
        {
          "name": "stderr",
          "output_type": "stream",
          "text": [
            "Setting `pad_token_id` to `eos_token_id`:128001 for open-end generation.\n",
            "Setting `pad_token_id` to `eos_token_id`:128001 for open-end generation.\n",
            "Setting `pad_token_id` to `eos_token_id`:128001 for open-end generation.\n",
            "Setting `pad_token_id` to `eos_token_id`:128001 for open-end generation.\n"
          ]
        },
        {
          "name": "stdout",
          "output_type": "stream",
          "text": [
            "1523th pred 8 ans 5\n",
            "1524th pred 8 ans 7\n",
            "1525th pred 8 ans 5\n",
            "1526th pred 7 ans 8\n"
          ]
        },
        {
          "name": "stderr",
          "output_type": "stream",
          "text": [
            "Setting `pad_token_id` to `eos_token_id`:128001 for open-end generation.\n",
            "Setting `pad_token_id` to `eos_token_id`:128001 for open-end generation.\n",
            "Setting `pad_token_id` to `eos_token_id`:128001 for open-end generation.\n"
          ]
        },
        {
          "name": "stdout",
          "output_type": "stream",
          "text": [
            "Skipping index 1773 prompt You are a book recommender and your job is to predict a user's rating (ranging from 1 to 10, with 10 being the highest) on a book, based on that user's previous ratings.\n",
            "\n",
            "User 245940 has rated the following books:\n",
            "\n",
            "\"The Sterkarm Handshake\" 10\n",
            "\"Roll of Thunder, Hear My Cry (Puffin Teenage Fiction S.)\" 9\n",
            "\"Little Women (Puffin Classics)\" 8\n",
            "\"The Final Journey (Puffin Teenage Fiction)\" 10\n",
            "\n",
            "Predict the user's rating on \"Five Children and It (Puffin Classics - the Essential Collection)\". Output the rating score only. Do not include other text. reponse 7 due to error: invalid literal for int() with base 10: '9.2'\n",
            "1527th pred 8 ans 6\n",
            "Skipping index 1775 prompt You are a book recommender and your job is to predict a user's rating (ranging from 1 to 10, with 10 being the highest) on a book, based on that user's previous ratings.\n",
            "\n",
            "User 246175 has rated the following books:\n",
            "\n",
            "\"The Pull of the Moon\" 3\n",
            "\"Good in Bed\" 9\n",
            "\"Fast Women\" 7\n",
            "\"Julie and Romeo\" 8\n",
            "\n",
            "Predict the user's rating on \"Storming Heaven\". Output the rating score only. Do not include other text. reponse 7 due to error: invalid literal for int() with base 10: '8.5'\n"
          ]
        },
        {
          "name": "stderr",
          "output_type": "stream",
          "text": [
            "Setting `pad_token_id` to `eos_token_id`:128001 for open-end generation.\n",
            "Setting `pad_token_id` to `eos_token_id`:128001 for open-end generation.\n",
            "Setting `pad_token_id` to `eos_token_id`:128001 for open-end generation.\n",
            "Setting `pad_token_id` to `eos_token_id`:128001 for open-end generation.\n"
          ]
        },
        {
          "name": "stdout",
          "output_type": "stream",
          "text": [
            "1528th pred 8 ans 5\n",
            "1529th pred 8 ans 10\n",
            "1530th pred 8 ans 5\n",
            "1531th pred 9 ans 10\n"
          ]
        },
        {
          "name": "stderr",
          "output_type": "stream",
          "text": [
            "Setting `pad_token_id` to `eos_token_id`:128001 for open-end generation.\n",
            "Setting `pad_token_id` to `eos_token_id`:128001 for open-end generation.\n",
            "Setting `pad_token_id` to `eos_token_id`:128001 for open-end generation.\n",
            "Setting `pad_token_id` to `eos_token_id`:128001 for open-end generation.\n"
          ]
        },
        {
          "name": "stdout",
          "output_type": "stream",
          "text": [
            "1532th pred 8 ans 10\n",
            "1533th pred 8 ans 7\n",
            "1534th pred 8 ans 2\n",
            "1535th pred 9 ans 8\n"
          ]
        },
        {
          "name": "stderr",
          "output_type": "stream",
          "text": [
            "Setting `pad_token_id` to `eos_token_id`:128001 for open-end generation.\n",
            "Setting `pad_token_id` to `eos_token_id`:128001 for open-end generation.\n",
            "Setting `pad_token_id` to `eos_token_id`:128001 for open-end generation.\n",
            "Setting `pad_token_id` to `eos_token_id`:128001 for open-end generation.\n"
          ]
        },
        {
          "name": "stdout",
          "output_type": "stream",
          "text": [
            "Skipping index 1784 prompt You are a book recommender and your job is to predict a user's rating (ranging from 1 to 10, with 10 being the highest) on a book, based on that user's previous ratings.\n",
            "\n",
            "User 248033 has rated the following books:\n",
            "\n",
            "\"The Janson Directive\" 7\n",
            "\"The Grass Crown\" 8\n",
            "\"Peacekeepers\" 7\n",
            "\"Plum Island\" 8\n",
            "\n",
            "Predict the user's rating on \"The Multiple Man\". Output the rating score only. Do not include other text. reponse 7 due to error: invalid literal for int() with base 10: '8.25'\n",
            "1536th pred 8 ans 5\n",
            "1537th pred 8 ans 8\n",
            "1538th pred 9 ans 10\n"
          ]
        },
        {
          "name": "stderr",
          "output_type": "stream",
          "text": [
            "Setting `pad_token_id` to `eos_token_id`:128001 for open-end generation.\n",
            "Setting `pad_token_id` to `eos_token_id`:128001 for open-end generation.\n",
            "Setting `pad_token_id` to `eos_token_id`:128001 for open-end generation.\n"
          ]
        },
        {
          "name": "stdout",
          "output_type": "stream",
          "text": [
            "1539th pred 8 ans 10\n",
            "1540th pred 8 ans 6\n",
            "Skipping index 1790 prompt You are a book recommender and your job is to predict a user's rating (ranging from 1 to 10, with 10 being the highest) on a book, based on that user's previous ratings.\n",
            "\n",
            "User 248775 has rated the following books:\n",
            "\n",
            "\"Isaac Asimov's Valentines\" 9\n",
            "\"Caravan of Dreams\" 8\n",
            "\"While My Pretty One Sleeps\" 6\n",
            "\"The Return of the King (The Lord of the Rings, Part 3)\" 9\n",
            "\n",
            "Predict the user's rating on \"The Handmaid's Tale\". Output the rating score only. Do not include other text. reponse 7 due to error: invalid literal for int() with base 10: '8.5'\n"
          ]
        },
        {
          "name": "stderr",
          "output_type": "stream",
          "text": [
            "Setting `pad_token_id` to `eos_token_id`:128001 for open-end generation.\n",
            "Setting `pad_token_id` to `eos_token_id`:128001 for open-end generation.\n",
            "Setting `pad_token_id` to `eos_token_id`:128001 for open-end generation.\n",
            "Setting `pad_token_id` to `eos_token_id`:128001 for open-end generation.\n"
          ]
        },
        {
          "name": "stdout",
          "output_type": "stream",
          "text": [
            "1541th pred 7 ans 8\n",
            "1542th pred 7 ans 9\n",
            "1543th pred 7 ans 6\n",
            "1544th pred 8 ans 3\n"
          ]
        },
        {
          "name": "stderr",
          "output_type": "stream",
          "text": [
            "Setting `pad_token_id` to `eos_token_id`:128001 for open-end generation.\n",
            "Setting `pad_token_id` to `eos_token_id`:128001 for open-end generation.\n",
            "Setting `pad_token_id` to `eos_token_id`:128001 for open-end generation.\n"
          ]
        },
        {
          "name": "stdout",
          "output_type": "stream",
          "text": [
            "1545th pred 7 ans 10\n",
            "Skipping index 1796 prompt You are a book recommender and your job is to predict a user's rating (ranging from 1 to 10, with 10 being the highest) on a book, based on that user's previous ratings.\n",
            "\n",
            "User 250192 has rated the following books:\n",
            "\n",
            "\"Deadly Grace\" 8\n",
            "\"Catherine (Historical Romance: The Merry Widows)\" 7\n",
            "\"Courage Tree\" 10\n",
            "\"Looking For Laura\" 9\n",
            "\n",
            "Predict the user's rating on \"Perfect Evil (Mira)\". Output the rating score only. Do not include other text. reponse 7 due to error: invalid literal for int() with base 10: '7.5'\n",
            "1546th pred 7 ans 7\n"
          ]
        },
        {
          "name": "stderr",
          "output_type": "stream",
          "text": [
            "Setting `pad_token_id` to `eos_token_id`:128001 for open-end generation.\n",
            "Setting `pad_token_id` to `eos_token_id`:128001 for open-end generation.\n",
            "Setting `pad_token_id` to `eos_token_id`:128001 for open-end generation.\n"
          ]
        },
        {
          "name": "stdout",
          "output_type": "stream",
          "text": [
            "1547th pred 7 ans 10\n",
            "Skipping index 1799 prompt You are a book recommender and your job is to predict a user's rating (ranging from 1 to 10, with 10 being the highest) on a book, based on that user's previous ratings.\n",
            "\n",
            "User 250275 has rated the following books:\n",
            "\n",
            "\"Hope Dies Last: Keeping the Faith in Difficult Times\" 7\n",
            "\"The Dead Sea Scrolls Deception\" 8\n",
            "\"The Compass Rose\" 9\n",
            "\"Threads of the covenant: Growing up Jewish in small town America (Jewish cultural literacy series)\" 8\n",
            "\n",
            "Predict the user's rating on \"Everything Is Illuminated: A Novel\". Output the rating score only. Do not include other text. reponse 7 due to error: invalid literal for int() with base 10: '8.5'\n",
            "1548th pred 7 ans 10\n"
          ]
        },
        {
          "name": "stderr",
          "output_type": "stream",
          "text": [
            "Setting `pad_token_id` to `eos_token_id`:128001 for open-end generation.\n",
            "Setting `pad_token_id` to `eos_token_id`:128001 for open-end generation.\n",
            "Setting `pad_token_id` to `eos_token_id`:128001 for open-end generation.\n"
          ]
        },
        {
          "name": "stdout",
          "output_type": "stream",
          "text": [
            "Skipping index 1801 prompt You are a book recommender and your job is to predict a user's rating (ranging from 1 to 10, with 10 being the highest) on a book, based on that user's previous ratings.\n",
            "\n",
            "User 250459 has rated the following books:\n",
            "\n",
            "\"Timeline\" 9\n",
            "\"The Right Stuff Revised Edition\" 7\n",
            "\"Chocolat: A Novel\" 6\n",
            "\"Tell No One\" 8\n",
            "\n",
            "Predict the user's rating on \"Slander: Liberal Lies About the American Right\". Output the rating score only. Do not include other text. reponse 7 due to error: invalid literal for int() with base 10: '8.5'\n",
            "Skipping index 1802 prompt You are a book recommender and your job is to predict a user's rating (ranging from 1 to 10, with 10 being the highest) on a book, based on that user's previous ratings.\n",
            "\n",
            "User 250625 has rated the following books:\n",
            "\n",
            "\"Book of the Law\" 7\n",
            "\"Kybalion: A Study of the Hermetic Philosophy of Ancient Egypt and Greece\" 10\n",
            "\"Satanic Bible\" 5\n",
            "\"Gospel of Thomas : The Hidden Sayings of Jesus\" 8\n",
            "\n",
            "Predict the user's rating on \"The Devil's Notebook\". Output the rating score only. Do not include other text. reponse 7 due to error: invalid literal for int() with base 10: '8.5'\n",
            "1549th pred 8 ans 8\n"
          ]
        },
        {
          "name": "stderr",
          "output_type": "stream",
          "text": [
            "Setting `pad_token_id` to `eos_token_id`:128001 for open-end generation.\n",
            "Setting `pad_token_id` to `eos_token_id`:128001 for open-end generation.\n",
            "Setting `pad_token_id` to `eos_token_id`:128001 for open-end generation.\n"
          ]
        },
        {
          "name": "stdout",
          "output_type": "stream",
          "text": [
            "1550th pred 10 ans 10\n",
            "Skipping index 1805 prompt You are a book recommender and your job is to predict a user's rating (ranging from 1 to 10, with 10 being the highest) on a book, based on that user's previous ratings.\n",
            "\n",
            "User 251398 has rated the following books:\n",
            "\n",
            "\"Ramses: The Son of Light - Volume I (Vol 1)\" 4\n",
            "\"Witches Abroad\" 7\n",
            "\"The Shipping News : A Novel\" 8\n",
            "\"What Looks Like Crazy On An Ordinary Day\" 8\n",
            "\n",
            "Predict the user's rating on \"Call of the Wild\". Output the rating score only. Do not include other text. reponse 7 due to error: invalid literal for int() with base 10: '7.4'\n",
            "1551th pred 8 ans 7\n"
          ]
        },
        {
          "name": "stderr",
          "output_type": "stream",
          "text": [
            "Setting `pad_token_id` to `eos_token_id`:128001 for open-end generation.\n",
            "Setting `pad_token_id` to `eos_token_id`:128001 for open-end generation.\n",
            "Setting `pad_token_id` to `eos_token_id`:128001 for open-end generation.\n",
            "Setting `pad_token_id` to `eos_token_id`:128001 for open-end generation.\n"
          ]
        },
        {
          "name": "stdout",
          "output_type": "stream",
          "text": [
            "1552th pred 9 ans 10\n",
            "1553th pred 8 ans 8\n",
            "1554th pred 9 ans 8\n",
            "1555th pred 7 ans 7\n"
          ]
        },
        {
          "name": "stderr",
          "output_type": "stream",
          "text": [
            "Setting `pad_token_id` to `eos_token_id`:128001 for open-end generation.\n",
            "Setting `pad_token_id` to `eos_token_id`:128001 for open-end generation.\n",
            "Setting `pad_token_id` to `eos_token_id`:128001 for open-end generation.\n",
            "Setting `pad_token_id` to `eos_token_id`:128001 for open-end generation.\n"
          ]
        },
        {
          "name": "stdout",
          "output_type": "stream",
          "text": [
            "1556th pred 7 ans 7\n",
            "1557th pred 8 ans 7\n",
            "1558th pred 8 ans 10\n",
            "1559th pred 6 ans 8\n"
          ]
        },
        {
          "name": "stderr",
          "output_type": "stream",
          "text": [
            "Setting `pad_token_id` to `eos_token_id`:128001 for open-end generation.\n",
            "Setting `pad_token_id` to `eos_token_id`:128001 for open-end generation.\n",
            "Setting `pad_token_id` to `eos_token_id`:128001 for open-end generation.\n"
          ]
        },
        {
          "name": "stdout",
          "output_type": "stream",
          "text": [
            "1560th pred 8 ans 5\n",
            "1561th pred 8 ans 3\n",
            "Skipping index 1817 prompt You are a book recommender and your job is to predict a user's rating (ranging from 1 to 10, with 10 being the highest) on a book, based on that user's previous ratings.\n",
            "\n",
            "User 252409 has rated the following books:\n",
            "\n",
            "\"Tales of the Witch World 3\" 7\n",
            "\"The Firm\" 8\n",
            "\"American Gods\" 10\n",
            "\"The Red Queen: Sex and the Evolution of Human Nature\" 5\n",
            "\n",
            "Predict the user's rating on \"The Difference Engine\". Output the rating score only. Do not include other text. reponse 7 due to error: invalid literal for int() with base 10: '8.5'\n"
          ]
        },
        {
          "name": "stderr",
          "output_type": "stream",
          "text": [
            "Setting `pad_token_id` to `eos_token_id`:128001 for open-end generation.\n",
            "Setting `pad_token_id` to `eos_token_id`:128001 for open-end generation.\n",
            "Setting `pad_token_id` to `eos_token_id`:128001 for open-end generation.\n"
          ]
        },
        {
          "name": "stdout",
          "output_type": "stream",
          "text": [
            "1562th pred 7 ans 10\n",
            "1563th pred 7 ans 5\n",
            "Skipping index 1820 prompt You are a book recommender and your job is to predict a user's rating (ranging from 1 to 10, with 10 being the highest) on a book, based on that user's previous ratings.\n",
            "\n",
            "User 252698 has rated the following books:\n",
            "\n",
            "\"Cold Mountain : A Novel\" 8\n",
            "\"Asking for Trouble: A Novel\" 8\n",
            "\"It\" 10\n",
            "\"Drowning Ruth\" 9\n",
            "\n",
            "Predict the user's rating on \"The Last Time They Met : A Novel\". Output the rating score only. Do not include other text. reponse 7 due to error: invalid literal for int() with base 10: '8.25'\n"
          ]
        },
        {
          "name": "stderr",
          "output_type": "stream",
          "text": [
            "Setting `pad_token_id` to `eos_token_id`:128001 for open-end generation.\n",
            "Setting `pad_token_id` to `eos_token_id`:128001 for open-end generation.\n",
            "Setting `pad_token_id` to `eos_token_id`:128001 for open-end generation.\n",
            "Setting `pad_token_id` to `eos_token_id`:128001 for open-end generation.\n"
          ]
        },
        {
          "name": "stdout",
          "output_type": "stream",
          "text": [
            "1564th pred 8 ans 9\n",
            "1565th pred 8 ans 8\n",
            "1566th pred 8 ans 1\n",
            "1567th pred 9 ans 10\n"
          ]
        },
        {
          "name": "stderr",
          "output_type": "stream",
          "text": [
            "Setting `pad_token_id` to `eos_token_id`:128001 for open-end generation.\n",
            "Setting `pad_token_id` to `eos_token_id`:128001 for open-end generation.\n",
            "Setting `pad_token_id` to `eos_token_id`:128001 for open-end generation.\n",
            "Setting `pad_token_id` to `eos_token_id`:128001 for open-end generation.\n"
          ]
        },
        {
          "name": "stdout",
          "output_type": "stream",
          "text": [
            "Skipping index 1825 prompt You are a book recommender and your job is to predict a user's rating (ranging from 1 to 10, with 10 being the highest) on a book, based on that user's previous ratings.\n",
            "\n",
            "User 253386 has rated the following books:\n",
            "\n",
            "\"Summer Sisters\" 6\n",
            "\"Go Ask Alice\" 7\n",
            "\"What We Keep\" 9\n",
            "\"Never Change\" 8\n",
            "\n",
            "Predict the user's rating on \"The Lovely Bones: A Novel\". Output the rating score only. Do not include other text. reponse 7 due to error: invalid literal for int() with base 10: '7.5'\n",
            "1568th pred 7 ans 5\n",
            "1569th pred 8 ans 6\n",
            "1570th pred 8 ans 6\n"
          ]
        },
        {
          "name": "stderr",
          "output_type": "stream",
          "text": [
            "Setting `pad_token_id` to `eos_token_id`:128001 for open-end generation.\n",
            "Setting `pad_token_id` to `eos_token_id`:128001 for open-end generation.\n",
            "Setting `pad_token_id` to `eos_token_id`:128001 for open-end generation.\n",
            "Setting `pad_token_id` to `eos_token_id`:128001 for open-end generation.\n"
          ]
        },
        {
          "name": "stdout",
          "output_type": "stream",
          "text": [
            "1571th pred 9 ans 10\n",
            "1572th pred 8 ans 7\n",
            "1573th pred 7 ans 5\n",
            "1574th pred 8 ans 8\n"
          ]
        },
        {
          "name": "stderr",
          "output_type": "stream",
          "text": [
            "Setting `pad_token_id` to `eos_token_id`:128001 for open-end generation.\n",
            "Setting `pad_token_id` to `eos_token_id`:128001 for open-end generation.\n",
            "Setting `pad_token_id` to `eos_token_id`:128001 for open-end generation.\n",
            "Setting `pad_token_id` to `eos_token_id`:128001 for open-end generation.\n"
          ]
        },
        {
          "name": "stdout",
          "output_type": "stream",
          "text": [
            "1575th pred 8 ans 7\n",
            "1576th pred 9 ans 8\n",
            "1577th pred 8 ans 8\n",
            "1578th pred 6 ans 3\n"
          ]
        },
        {
          "name": "stderr",
          "output_type": "stream",
          "text": [
            "Setting `pad_token_id` to `eos_token_id`:128001 for open-end generation.\n",
            "Setting `pad_token_id` to `eos_token_id`:128001 for open-end generation.\n",
            "Setting `pad_token_id` to `eos_token_id`:128001 for open-end generation.\n"
          ]
        },
        {
          "name": "stdout",
          "output_type": "stream",
          "text": [
            "1579th pred 7 ans 8\n",
            "Skipping index 1838 prompt You are a book recommender and your job is to predict a user's rating (ranging from 1 to 10, with 10 being the highest) on a book, based on that user's previous ratings.\n",
            "\n",
            "User 256413 has rated the following books:\n",
            "\n",
            "\"The Fire Eaters: A Novel\" 8\n",
            "\"The Book of Lost Tales 2 (The History of Middle-Earth - Volume 2)\" 7\n",
            "\"Easy Meat\" 3\n",
            "\"Galapagos\" 8\n",
            "\n",
            "Predict the user's rating on \"Imaginary Homelands\". Output the rating score only. Do not include other text. reponse 7 due to error: invalid literal for int() with base 10: '8.2'\n",
            "1580th pred 8 ans 10\n"
          ]
        },
        {
          "name": "stderr",
          "output_type": "stream",
          "text": [
            "Setting `pad_token_id` to `eos_token_id`:128001 for open-end generation.\n",
            "Setting `pad_token_id` to `eos_token_id`:128001 for open-end generation.\n",
            "Setting `pad_token_id` to `eos_token_id`:128001 for open-end generation.\n"
          ]
        },
        {
          "name": "stdout",
          "output_type": "stream",
          "text": [
            "1581th pred 7 ans 8\n",
            "Skipping index 1841 prompt You are a book recommender and your job is to predict a user's rating (ranging from 1 to 10, with 10 being the highest) on a book, based on that user's previous ratings.\n",
            "\n",
            "User 257458 has rated the following books:\n",
            "\n",
            "\"Desire in Seven Voices\" 10\n",
            "\"Making Out: The Book of Lesbian Sex and Sexuality\" 7\n",
            "\"Dipped in Shadow\" 6\n",
            "\"White Lies (For My Mother)\" 8\n",
            "\n",
            "Predict the user's rating on \"Moonheart\". Output the rating score only. Do not include other text. reponse 7 due to error: invalid literal for int() with base 10: '8.5'\n",
            "1582th pred 8 ans 7\n"
          ]
        },
        {
          "name": "stderr",
          "output_type": "stream",
          "text": [
            "Setting `pad_token_id` to `eos_token_id`:128001 for open-end generation.\n",
            "Setting `pad_token_id` to `eos_token_id`:128001 for open-end generation.\n",
            "Setting `pad_token_id` to `eos_token_id`:128001 for open-end generation.\n",
            "Setting `pad_token_id` to `eos_token_id`:128001 for open-end generation.\n"
          ]
        },
        {
          "name": "stdout",
          "output_type": "stream",
          "text": [
            "1583th pred 8 ans 8\n",
            "1584th pred 7 ans 5\n",
            "1585th pred 7 ans 5\n",
            "1586th pred 8 ans 7\n"
          ]
        },
        {
          "name": "stderr",
          "output_type": "stream",
          "text": [
            "Setting `pad_token_id` to `eos_token_id`:128001 for open-end generation.\n",
            "Setting `pad_token_id` to `eos_token_id`:128001 for open-end generation.\n",
            "Setting `pad_token_id` to `eos_token_id`:128001 for open-end generation.\n",
            "Setting `pad_token_id` to `eos_token_id`:128001 for open-end generation.\n"
          ]
        },
        {
          "name": "stdout",
          "output_type": "stream",
          "text": [
            "1587th pred 8 ans 5\n",
            "1588th pred 7 ans 8\n",
            "1589th pred 8 ans 7\n",
            "1590th pred 7 ans 10\n"
          ]
        },
        {
          "name": "stderr",
          "output_type": "stream",
          "text": [
            "Setting `pad_token_id` to `eos_token_id`:128001 for open-end generation.\n",
            "Setting `pad_token_id` to `eos_token_id`:128001 for open-end generation.\n",
            "Setting `pad_token_id` to `eos_token_id`:128001 for open-end generation.\n"
          ]
        },
        {
          "name": "stdout",
          "output_type": "stream",
          "text": [
            "1591th pred 9 ans 9\n",
            "Skipping index 1852 prompt You are a book recommender and your job is to predict a user's rating (ranging from 1 to 10, with 10 being the highest) on a book, based on that user's previous ratings.\n",
            "\n",
            "User 259565 has rated the following books:\n",
            "\n",
            "\"Flight\" 8\n",
            "\"Island Breeze (Palisades Pure Romance)\" 9\n",
            "\"Skyward\" 9\n",
            "\"High Maintenance\" 8\n",
            "\n",
            "Predict the user's rating on \"Watermelon\". Output the rating score only. Do not include other text. reponse 7 due to error: invalid literal for int() with base 10: '8.5'\n",
            "1592th pred 6 ans 8\n"
          ]
        },
        {
          "name": "stderr",
          "output_type": "stream",
          "text": [
            "Setting `pad_token_id` to `eos_token_id`:128001 for open-end generation.\n",
            "Setting `pad_token_id` to `eos_token_id`:128001 for open-end generation.\n",
            "Setting `pad_token_id` to `eos_token_id`:128001 for open-end generation.\n",
            "Setting `pad_token_id` to `eos_token_id`:128001 for open-end generation.\n"
          ]
        },
        {
          "name": "stdout",
          "output_type": "stream",
          "text": [
            "1593th pred 10 ans 10\n",
            "1594th pred 7 ans 7\n",
            "1595th pred 7 ans 8\n",
            "1596th pred 9 ans 10\n"
          ]
        },
        {
          "name": "stderr",
          "output_type": "stream",
          "text": [
            "Setting `pad_token_id` to `eos_token_id`:128001 for open-end generation.\n",
            "Setting `pad_token_id` to `eos_token_id`:128001 for open-end generation.\n",
            "Setting `pad_token_id` to `eos_token_id`:128001 for open-end generation.\n",
            "Setting `pad_token_id` to `eos_token_id`:128001 for open-end generation.\n"
          ]
        },
        {
          "name": "stdout",
          "output_type": "stream",
          "text": [
            "1597th pred 7 ans 8\n",
            "1598th pred 9 ans 8\n",
            "1599th pred 8 ans 10\n",
            "1600th pred 9 ans 9\n"
          ]
        },
        {
          "name": "stderr",
          "output_type": "stream",
          "text": [
            "Setting `pad_token_id` to `eos_token_id`:128001 for open-end generation.\n",
            "Setting `pad_token_id` to `eos_token_id`:128001 for open-end generation.\n",
            "Setting `pad_token_id` to `eos_token_id`:128001 for open-end generation.\n"
          ]
        },
        {
          "name": "stdout",
          "output_type": "stream",
          "text": [
            "1601th pred 8 ans 9\n",
            "1602th pred 7 ans 4\n",
            "1603th pred 8 ans 8\n"
          ]
        },
        {
          "name": "stderr",
          "output_type": "stream",
          "text": [
            "Setting `pad_token_id` to `eos_token_id`:128001 for open-end generation.\n",
            "Setting `pad_token_id` to `eos_token_id`:128001 for open-end generation.\n",
            "Setting `pad_token_id` to `eos_token_id`:128001 for open-end generation.\n",
            "Setting `pad_token_id` to `eos_token_id`:128001 for open-end generation.\n"
          ]
        },
        {
          "name": "stdout",
          "output_type": "stream",
          "text": [
            "Skipping index 1865 prompt You are a book recommender and your job is to predict a user's rating (ranging from 1 to 10, with 10 being the highest) on a book, based on that user's previous ratings.\n",
            "\n",
            "User 261769 has rated the following books:\n",
            "\n",
            "\"Katherine\" 10\n",
            "\"Tara Road\" 4\n",
            "\"Letters from Mexico\" 9\n",
            "\"Sophie's World: A Novel About the History of Philosophy\" 10\n",
            "\n",
            "Predict the user's rating on \"Decipher\". Output the rating score only. Do not include other text. reponse 7 due to error: invalid literal for int() with base 10: '8.5'\n",
            "1604th pred 9 ans 9\n",
            "1605th pred 8 ans 6\n",
            "1606th pred 7 ans 5\n"
          ]
        },
        {
          "name": "stderr",
          "output_type": "stream",
          "text": [
            "Setting `pad_token_id` to `eos_token_id`:128001 for open-end generation.\n",
            "Setting `pad_token_id` to `eos_token_id`:128001 for open-end generation.\n",
            "Setting `pad_token_id` to `eos_token_id`:128001 for open-end generation.\n"
          ]
        },
        {
          "name": "stdout",
          "output_type": "stream",
          "text": [
            "1607th pred 9 ans 7\n",
            "1608th pred 8 ans 3\n",
            "Skipping index 1871 prompt You are a book recommender and your job is to predict a user's rating (ranging from 1 to 10, with 10 being the highest) on a book, based on that user's previous ratings.\n",
            "\n",
            "User 262569 has rated the following books:\n",
            "\n",
            "\"Tales from Watership Down\" 10\n",
            "\"Way of All Flesh (Wordsworth Collection)\" 8\n",
            "\"9-11\" 10\n",
            "\"A Passion for Books : A Book Lover's Treasury of Stories, Essays, Humor, Love and Lists on Collecting, Reading, Borrowing, Lending, Caring for, and Appreciating Books\" 7\n",
            "\n",
            "Predict the user's rating on \"The Unbearable Lightness of Being : A Novel (Perennial Classics)\". Output the rating score only. Do not include other text. reponse 7 due to error: invalid literal for int() with base 10: '8.5'\n"
          ]
        },
        {
          "name": "stderr",
          "output_type": "stream",
          "text": [
            "Setting `pad_token_id` to `eos_token_id`:128001 for open-end generation.\n",
            "Setting `pad_token_id` to `eos_token_id`:128001 for open-end generation.\n",
            "Setting `pad_token_id` to `eos_token_id`:128001 for open-end generation.\n",
            "Setting `pad_token_id` to `eos_token_id`:128001 for open-end generation.\n"
          ]
        },
        {
          "name": "stdout",
          "output_type": "stream",
          "text": [
            "1609th pred 8 ans 6\n",
            "1610th pred 7 ans 6\n",
            "1611th pred 7 ans 8\n",
            "1612th pred 9 ans 7\n"
          ]
        },
        {
          "name": "stderr",
          "output_type": "stream",
          "text": [
            "Setting `pad_token_id` to `eos_token_id`:128001 for open-end generation.\n",
            "Setting `pad_token_id` to `eos_token_id`:128001 for open-end generation.\n",
            "Setting `pad_token_id` to `eos_token_id`:128001 for open-end generation.\n",
            "Setting `pad_token_id` to `eos_token_id`:128001 for open-end generation.\n"
          ]
        },
        {
          "name": "stdout",
          "output_type": "stream",
          "text": [
            "1613th pred 6 ans 8\n",
            "1614th pred 8 ans 7\n",
            "1615th pred 8 ans 7\n",
            "1616th pred 8 ans 5\n"
          ]
        },
        {
          "name": "stderr",
          "output_type": "stream",
          "text": [
            "Setting `pad_token_id` to `eos_token_id`:128001 for open-end generation.\n",
            "Setting `pad_token_id` to `eos_token_id`:128001 for open-end generation.\n",
            "Setting `pad_token_id` to `eos_token_id`:128001 for open-end generation.\n",
            "Setting `pad_token_id` to `eos_token_id`:128001 for open-end generation.\n"
          ]
        },
        {
          "name": "stdout",
          "output_type": "stream",
          "text": [
            "Skipping index 1880 prompt You are a book recommender and your job is to predict a user's rating (ranging from 1 to 10, with 10 being the highest) on a book, based on that user's previous ratings.\n",
            "\n",
            "User 262986 has rated the following books:\n",
            "\n",
            "\"Ex-Lovers and More Important Losses\" 10\n",
            "\"Summer\" 9\n",
            "\"Conversations During Sleep\" 8\n",
            "\"Kid (Faber Pocket Poetry)\" 7\n",
            "\n",
            "Predict the user's rating on \"Mass for the Grace of a Happy Death: 1994 Anhinga Prize for Poetry\". Output the rating score only. Do not include other text. reponse 7 due to error: invalid literal for int() with base 10: '7.3'\n",
            "1617th pred 8 ans 5\n",
            "1618th pred 8 ans 8\n",
            "1619th pred 8 ans 8\n"
          ]
        },
        {
          "name": "stderr",
          "output_type": "stream",
          "text": [
            "Setting `pad_token_id` to `eos_token_id`:128001 for open-end generation.\n",
            "Setting `pad_token_id` to `eos_token_id`:128001 for open-end generation.\n",
            "Setting `pad_token_id` to `eos_token_id`:128001 for open-end generation.\n",
            "Setting `pad_token_id` to `eos_token_id`:128001 for open-end generation.\n"
          ]
        },
        {
          "name": "stdout",
          "output_type": "stream",
          "text": [
            "1620th pred 8 ans 6\n",
            "1621th pred 8 ans 8\n",
            "1622th pred 8 ans 4\n",
            "1623th pred 8 ans 9\n"
          ]
        },
        {
          "name": "stderr",
          "output_type": "stream",
          "text": [
            "Setting `pad_token_id` to `eos_token_id`:128001 for open-end generation.\n",
            "Setting `pad_token_id` to `eos_token_id`:128001 for open-end generation.\n",
            "Setting `pad_token_id` to `eos_token_id`:128001 for open-end generation.\n",
            "Setting `pad_token_id` to `eos_token_id`:128001 for open-end generation.\n"
          ]
        },
        {
          "name": "stdout",
          "output_type": "stream",
          "text": [
            "1624th pred 5 ans 7\n",
            "1625th pred 8 ans 8\n",
            "1626th pred 8 ans 5\n",
            "1627th pred 7 ans 6\n"
          ]
        },
        {
          "name": "stderr",
          "output_type": "stream",
          "text": [
            "Setting `pad_token_id` to `eos_token_id`:128001 for open-end generation.\n",
            "Setting `pad_token_id` to `eos_token_id`:128001 for open-end generation.\n",
            "Setting `pad_token_id` to `eos_token_id`:128001 for open-end generation.\n",
            "Setting `pad_token_id` to `eos_token_id`:128001 for open-end generation.\n"
          ]
        },
        {
          "name": "stdout",
          "output_type": "stream",
          "text": [
            "1628th pred 8 ans 8\n",
            "1629th pred 7 ans 8\n",
            "1630th pred 9 ans 9\n",
            "1631th pred 9 ans 8\n"
          ]
        },
        {
          "name": "stderr",
          "output_type": "stream",
          "text": [
            "Setting `pad_token_id` to `eos_token_id`:128001 for open-end generation.\n",
            "Setting `pad_token_id` to `eos_token_id`:128001 for open-end generation.\n",
            "Setting `pad_token_id` to `eos_token_id`:128001 for open-end generation.\n",
            "Setting `pad_token_id` to `eos_token_id`:128001 for open-end generation.\n"
          ]
        },
        {
          "name": "stdout",
          "output_type": "stream",
          "text": [
            "1632th pred 8 ans 8\n",
            "1633th pred 7 ans 10\n",
            "1634th pred 8 ans 8\n",
            "1635th pred 7 ans 3\n"
          ]
        },
        {
          "name": "stderr",
          "output_type": "stream",
          "text": [
            "Setting `pad_token_id` to `eos_token_id`:128001 for open-end generation.\n",
            "Setting `pad_token_id` to `eos_token_id`:128001 for open-end generation.\n",
            "Setting `pad_token_id` to `eos_token_id`:128001 for open-end generation.\n"
          ]
        },
        {
          "name": "stdout",
          "output_type": "stream",
          "text": [
            "1636th pred 7 ans 4\n",
            "1637th pred 9 ans 7\n",
            "1638th pred 7 ans 7\n"
          ]
        },
        {
          "name": "stderr",
          "output_type": "stream",
          "text": [
            "Setting `pad_token_id` to `eos_token_id`:128001 for open-end generation.\n",
            "Setting `pad_token_id` to `eos_token_id`:128001 for open-end generation.\n",
            "Setting `pad_token_id` to `eos_token_id`:128001 for open-end generation.\n",
            "Setting `pad_token_id` to `eos_token_id`:128001 for open-end generation.\n"
          ]
        },
        {
          "name": "stdout",
          "output_type": "stream",
          "text": [
            "Skipping index 1903 prompt You are a book recommender and your job is to predict a user's rating (ranging from 1 to 10, with 10 being the highest) on a book, based on that user's previous ratings.\n",
            "\n",
            "User 265904 has rated the following books:\n",
            "\n",
            "\"Music of the Heart : The Roberta Guaspari Story\" 8\n",
            "\"Memoirs of an Unfit Mother\" 6\n",
            "\"Misery\" 8\n",
            "\"Song of Solomon (Oprah's Book Club (Paperback))\" 7\n",
            "\n",
            "Predict the user's rating on \"Wild Animus\". Output the rating score only. Do not include other text. reponse 7 due to error: invalid literal for int() with base 10: '7.5'\n",
            "1639th pred 8 ans 5\n",
            "1640th pred 6 ans 9\n",
            "1641th pred 8 ans 6\n"
          ]
        },
        {
          "name": "stderr",
          "output_type": "stream",
          "text": [
            "Setting `pad_token_id` to `eos_token_id`:128001 for open-end generation.\n",
            "Setting `pad_token_id` to `eos_token_id`:128001 for open-end generation.\n",
            "Setting `pad_token_id` to `eos_token_id`:128001 for open-end generation.\n"
          ]
        },
        {
          "name": "stdout",
          "output_type": "stream",
          "text": [
            "1642th pred 8 ans 6\n",
            "1643th pred 8 ans 5\n",
            "Skipping index 1909 prompt You are a book recommender and your job is to predict a user's rating (ranging from 1 to 10, with 10 being the highest) on a book, based on that user's previous ratings.\n",
            "\n",
            "User 266515 has rated the following books:\n",
            "\n",
            "\"Chesapeake\" 8\n",
            "\"From Sea to Shining Sea\" 10\n",
            "\"Wildwood Boys: A Novel\" 7\n",
            "\"Murder at Manassas: A Harrison Raines Civil War Mystery (Harrison Raines Civil War Mysteries (Paperback))\" 8\n",
            "\n",
            "Predict the user's rating on \"Escape from Laos\". Output the rating score only. Do not include other text. reponse 7 due to error: invalid literal for int() with base 10: '7.3'\n"
          ]
        },
        {
          "name": "stderr",
          "output_type": "stream",
          "text": [
            "Setting `pad_token_id` to `eos_token_id`:128001 for open-end generation.\n",
            "Setting `pad_token_id` to `eos_token_id`:128001 for open-end generation.\n",
            "Setting `pad_token_id` to `eos_token_id`:128001 for open-end generation.\n"
          ]
        },
        {
          "name": "stdout",
          "output_type": "stream",
          "text": [
            "1644th pred 8 ans 10\n",
            "1645th pred 8 ans 10\n",
            "1646th pred 8 ans 10\n"
          ]
        },
        {
          "name": "stderr",
          "output_type": "stream",
          "text": [
            "Setting `pad_token_id` to `eos_token_id`:128001 for open-end generation.\n",
            "Setting `pad_token_id` to `eos_token_id`:128001 for open-end generation.\n",
            "Setting `pad_token_id` to `eos_token_id`:128001 for open-end generation.\n"
          ]
        },
        {
          "name": "stdout",
          "output_type": "stream",
          "text": [
            "Skipping index 1913 prompt You are a book recommender and your job is to predict a user's rating (ranging from 1 to 10, with 10 being the highest) on a book, based on that user's previous ratings.\n",
            "\n",
            "User 266796 has rated the following books:\n",
            "\n",
            "\"The Blessing\" 4\n",
            "\"Chicken Pox Strikes Again (39 Kids on the Block, No 5)\" 6\n",
            "\"The Giver (21st Century Reference)\" 4\n",
            "\"The Summerhouse\" 5\n",
            "\n",
            "Predict the user's rating on \"Under The Cat's Eye : A Tale Of Morph And Mystery\". Output the rating score only. Do not include other text. reponse 7 due to error: invalid literal for int() with base 10: '6.5'\n",
            "1647th pred 7 ans 8\n",
            "Skipping index 1915 prompt You are a book recommender and your job is to predict a user's rating (ranging from 1 to 10, with 10 being the highest) on a book, based on that user's previous ratings.\n",
            "\n",
            "User 266881 has rated the following books:\n",
            "\n",
            "\"Fup\" 7\n",
            "\"Red Dragon\" 9\n",
            "\"Shining\" 8\n",
            "\"The Power of One\" 9\n",
            "\n",
            "Predict the user's rating on \"Pandora: New Tales of the Vampires (New Tales of the Vampires)\". Output the rating score only. Do not include other text. reponse 7 due to error: invalid literal for int() with base 10: '8.5'\n"
          ]
        },
        {
          "name": "stderr",
          "output_type": "stream",
          "text": [
            "Setting `pad_token_id` to `eos_token_id`:128001 for open-end generation.\n",
            "Setting `pad_token_id` to `eos_token_id`:128001 for open-end generation.\n",
            "Setting `pad_token_id` to `eos_token_id`:128001 for open-end generation.\n"
          ]
        },
        {
          "name": "stdout",
          "output_type": "stream",
          "text": [
            "1648th pred 8 ans 8\n",
            "1649th pred 9 ans 10\n",
            "1650th pred 9 ans 10\n"
          ]
        },
        {
          "name": "stderr",
          "output_type": "stream",
          "text": [
            "Setting `pad_token_id` to `eos_token_id`:128001 for open-end generation.\n",
            "Setting `pad_token_id` to `eos_token_id`:128001 for open-end generation.\n",
            "Setting `pad_token_id` to `eos_token_id`:128001 for open-end generation.\n"
          ]
        },
        {
          "name": "stdout",
          "output_type": "stream",
          "text": [
            "Skipping index 1919 prompt You are a book recommender and your job is to predict a user's rating (ranging from 1 to 10, with 10 being the highest) on a book, based on that user's previous ratings.\n",
            "\n",
            "User 267540 has rated the following books:\n",
            "\n",
            "\"2nd Chance\" 6\n",
            "\"Dead Simple\" 5\n",
            "\"High Five (A Stephanie Plum Novel)\" 7\n",
            "\"The Pillars of Solomon (Ben Kamal and Danielle Barnea Novels (Paperback))\" 4\n",
            "\n",
            "Predict the user's rating on \"Full Tilt (Janet Evanovich's Full Series)\". Output the rating score only. Do not include other text. reponse 7 due to error: invalid literal for int() with base 10: '7.25'\n",
            "Skipping index 1920 prompt You are a book recommender and your job is to predict a user's rating (ranging from 1 to 10, with 10 being the highest) on a book, based on that user's previous ratings.\n",
            "\n",
            "User 267811 has rated the following books:\n",
            "\n",
            "\"Herbs and the Earth\" 7\n",
            "\"The Chatham School Affair\" 10\n",
            "\"From a Buick 8\" 6\n",
            "\"Slowing Down to the Speed of Life: How to Create a More Peaceful, Simpler Life from the Inside Out\" 8\n",
            "\n",
            "Predict the user's rating on \"Speaking In Tongues : A Novel\". Output the rating score only. Do not include other text. reponse 7 due to error: invalid literal for int() with base 10: '8.2'\n",
            "1651th pred 7 ans 6\n"
          ]
        },
        {
          "name": "stderr",
          "output_type": "stream",
          "text": [
            "Setting `pad_token_id` to `eos_token_id`:128001 for open-end generation.\n",
            "Setting `pad_token_id` to `eos_token_id`:128001 for open-end generation.\n"
          ]
        },
        {
          "name": "stdout",
          "output_type": "stream",
          "text": [
            "Skipping index 1922 prompt You are a book recommender and your job is to predict a user's rating (ranging from 1 to 10, with 10 being the highest) on a book, based on that user's previous ratings.\n",
            "\n",
            "User 267897 has rated the following books:\n",
            "\n",
            "\"The Buffalo Soldier : A Novel\" 9\n",
            "\"Sacred and Profane (Peter Decker &amp; Rina Lazarus Novels (Paperback))\" 8\n",
            "\"Sula\" 9\n",
            "\"Silent Partner (Alex Delaware Novels (Paperback))\" 8\n",
            "\n",
            "Predict the user's rating on \"A Place Called Freedom\". Output the rating score only. Do not include other text. reponse 7 due to error: invalid literal for int() with base 10: '7.5'\n",
            "Skipping index 1923 prompt You are a book recommender and your job is to predict a user's rating (ranging from 1 to 10, with 10 being the highest) on a book, based on that user's previous ratings.\n",
            "\n",
            "User 268343 has rated the following books:\n",
            "\n",
            "\"Simple Gifts : Four Heartwarming Christmas Stories\" 9\n",
            "\"Kitchen Privileges : A Memoir\" 10\n",
            "\"Daddy's Little Girl\" 9\n",
            "\"We'll Meet Again\" 10\n",
            "\n",
            "Predict the user's rating on \"Cup Of Comfort For Christmas: Stories That Celebrate the Warmth, Joy, and Wonder of the Holiday (Cup of Comfort)\". Output the rating score only. Do not include other text. reponse 7 due to error: invalid literal for int() with base 10: '8.5'\n"
          ]
        },
        {
          "name": "stderr",
          "output_type": "stream",
          "text": [
            "Setting `pad_token_id` to `eos_token_id`:128001 for open-end generation.\n",
            "Setting `pad_token_id` to `eos_token_id`:128001 for open-end generation.\n",
            "Setting `pad_token_id` to `eos_token_id`:128001 for open-end generation.\n",
            "Setting `pad_token_id` to `eos_token_id`:128001 for open-end generation.\n"
          ]
        },
        {
          "name": "stdout",
          "output_type": "stream",
          "text": [
            "Skipping index 1924 prompt You are a book recommender and your job is to predict a user's rating (ranging from 1 to 10, with 10 being the highest) on a book, based on that user's previous ratings.\n",
            "\n",
            "User 268419 has rated the following books:\n",
            "\n",
            "\"The Talisman\" 8\n",
            "\"Earth\" 9\n",
            "\"Falsely Accused\" 7\n",
            "\"Dragon Prince (Dragon Prince, Book 1)\" 10\n",
            "\n",
            "Predict the user's rating on \"The Postman (Bantam Classics)\". Output the rating score only. Do not include other text. reponse 7 due to error: invalid literal for int() with base 10: '8.5'\n",
            "1652th pred 8 ans 9\n",
            "1653th pred 6 ans 5\n",
            "1654th pred 8 ans 7\n"
          ]
        },
        {
          "name": "stderr",
          "output_type": "stream",
          "text": [
            "Setting `pad_token_id` to `eos_token_id`:128001 for open-end generation.\n",
            "Setting `pad_token_id` to `eos_token_id`:128001 for open-end generation.\n",
            "Setting `pad_token_id` to `eos_token_id`:128001 for open-end generation.\n",
            "Setting `pad_token_id` to `eos_token_id`:128001 for open-end generation.\n"
          ]
        },
        {
          "name": "stdout",
          "output_type": "stream",
          "text": [
            "1655th pred 7 ans 5\n",
            "1656th pred 8 ans 7\n",
            "1657th pred 8 ans 10\n",
            "1658th pred 9 ans 8\n"
          ]
        },
        {
          "name": "stderr",
          "output_type": "stream",
          "text": [
            "Setting `pad_token_id` to `eos_token_id`:128001 for open-end generation.\n",
            "Setting `pad_token_id` to `eos_token_id`:128001 for open-end generation.\n",
            "Setting `pad_token_id` to `eos_token_id`:128001 for open-end generation.\n"
          ]
        },
        {
          "name": "stdout",
          "output_type": "stream",
          "text": [
            "1659th pred 8 ans 5\n",
            "Skipping index 1933 prompt You are a book recommender and your job is to predict a user's rating (ranging from 1 to 10, with 10 being the highest) on a book, based on that user's previous ratings.\n",
            "\n",
            "User 269510 has rated the following books:\n",
            "\n",
            "\"Penguin Dictionary of Art and Artists (Penguin Reference)\" 9\n",
            "\"Rose\" 7\n",
            "\"Working Hard and Making Do: Surviving in Small Town America\" 9\n",
            "\"In Quest of the Sacred: The Modern World in the Light of Tradition\" 8\n",
            "\n",
            "Predict the user's rating on \"Margaret Mead and the Heretic: The Making and Unmaking of an Anthropological Myth\". Output the rating score only. Do not include other text. reponse 7 due to error: invalid literal for int() with base 10: '8.5'\n",
            "1660th pred 8 ans 2\n"
          ]
        },
        {
          "name": "stderr",
          "output_type": "stream",
          "text": [
            "Setting `pad_token_id` to `eos_token_id`:128001 for open-end generation.\n",
            "Setting `pad_token_id` to `eos_token_id`:128001 for open-end generation.\n",
            "Setting `pad_token_id` to `eos_token_id`:128001 for open-end generation.\n",
            "Setting `pad_token_id` to `eos_token_id`:128001 for open-end generation.\n"
          ]
        },
        {
          "name": "stdout",
          "output_type": "stream",
          "text": [
            "1661th pred 7 ans 9\n",
            "1662th pred 7 ans 9\n",
            "1663th pred 8 ans 9\n",
            "1664th pred 8 ans 8\n"
          ]
        },
        {
          "name": "stderr",
          "output_type": "stream",
          "text": [
            "Setting `pad_token_id` to `eos_token_id`:128001 for open-end generation.\n",
            "Setting `pad_token_id` to `eos_token_id`:128001 for open-end generation.\n",
            "Setting `pad_token_id` to `eos_token_id`:128001 for open-end generation.\n",
            "Setting `pad_token_id` to `eos_token_id`:128001 for open-end generation.\n"
          ]
        },
        {
          "name": "stdout",
          "output_type": "stream",
          "text": [
            "1665th pred 9 ans 8\n",
            "1666th pred 8 ans 10\n",
            "1667th pred 8 ans 7\n",
            "1668th pred 9 ans 10\n"
          ]
        },
        {
          "name": "stderr",
          "output_type": "stream",
          "text": [
            "Setting `pad_token_id` to `eos_token_id`:128001 for open-end generation.\n",
            "Setting `pad_token_id` to `eos_token_id`:128001 for open-end generation.\n",
            "Setting `pad_token_id` to `eos_token_id`:128001 for open-end generation.\n"
          ]
        },
        {
          "name": "stdout",
          "output_type": "stream",
          "text": [
            "1669th pred 8 ans 7\n",
            "1670th pred 8 ans 7\n",
            "1671th pred 8 ans 8\n"
          ]
        },
        {
          "name": "stderr",
          "output_type": "stream",
          "text": [
            "Setting `pad_token_id` to `eos_token_id`:128001 for open-end generation.\n",
            "Setting `pad_token_id` to `eos_token_id`:128001 for open-end generation.\n",
            "Setting `pad_token_id` to `eos_token_id`:128001 for open-end generation.\n",
            "Setting `pad_token_id` to `eos_token_id`:128001 for open-end generation.\n"
          ]
        },
        {
          "name": "stdout",
          "output_type": "stream",
          "text": [
            "Skipping index 1946 prompt You are a book recommender and your job is to predict a user's rating (ranging from 1 to 10, with 10 being the highest) on a book, based on that user's previous ratings.\n",
            "\n",
            "User 270776 has rated the following books:\n",
            "\n",
            "\"Lipshtick\" 7\n",
            "\"The Girl Who Loved Tom Gordon\" 9\n",
            "\"Points of Light: A Novel\" 8\n",
            "\"Space\" 8\n",
            "\n",
            "Predict the user's rating on \"The Woman of Wyrrd\". Output the rating score only. Do not include other text. reponse 7 due to error: invalid literal for int() with base 10: '8.2'\n",
            "1672th pred 8 ans 9\n",
            "1673th pred 8 ans 6\n",
            "1674th pred 8 ans 8\n"
          ]
        },
        {
          "name": "stderr",
          "output_type": "stream",
          "text": [
            "Setting `pad_token_id` to `eos_token_id`:128001 for open-end generation.\n",
            "Setting `pad_token_id` to `eos_token_id`:128001 for open-end generation.\n",
            "Setting `pad_token_id` to `eos_token_id`:128001 for open-end generation.\n"
          ]
        },
        {
          "name": "stdout",
          "output_type": "stream",
          "text": [
            "1675th pred 7 ans 10\n",
            "1676th pred 9 ans 9\n",
            "1677th pred 8 ans 8\n"
          ]
        },
        {
          "name": "stderr",
          "output_type": "stream",
          "text": [
            "Setting `pad_token_id` to `eos_token_id`:128001 for open-end generation.\n",
            "Setting `pad_token_id` to `eos_token_id`:128001 for open-end generation.\n",
            "Setting `pad_token_id` to `eos_token_id`:128001 for open-end generation.\n"
          ]
        },
        {
          "name": "stdout",
          "output_type": "stream",
          "text": [
            "Skipping index 1953 prompt You are a book recommender and your job is to predict a user's rating (ranging from 1 to 10, with 10 being the highest) on a book, based on that user's previous ratings.\n",
            "\n",
            "User 271364 has rated the following books:\n",
            "\n",
            "\"Bad Heir Day\" 6\n",
            "\"Penny Dreadful\" 7\n",
            "\"The Bean Trees\" 8\n",
            "\"Paradise Fever: Growing Up in the Shadow of the New Age\" 5\n",
            "\n",
            "Predict the user's rating on \"Wild Animus\". Output the rating score only. Do not include other text. reponse 7 due to error: invalid literal for int() with base 10: '7.2'\n",
            "1678th pred 8 ans 8\n",
            "1679th pred 7 ans 8\n"
          ]
        },
        {
          "name": "stderr",
          "output_type": "stream",
          "text": [
            "Setting `pad_token_id` to `eos_token_id`:128001 for open-end generation.\n",
            "Setting `pad_token_id` to `eos_token_id`:128001 for open-end generation.\n",
            "Setting `pad_token_id` to `eos_token_id`:128001 for open-end generation.\n"
          ]
        },
        {
          "name": "stdout",
          "output_type": "stream",
          "text": [
            "Skipping index 1956 prompt You are a book recommender and your job is to predict a user's rating (ranging from 1 to 10, with 10 being the highest) on a book, based on that user's previous ratings.\n",
            "\n",
            "User 271615 has rated the following books:\n",
            "\n",
            "\"Dating Game\" 8\n",
            "\"His Private Pleasure (Blaze, 46)\" 6\n",
            "\"Faith\" 7\n",
            "\"Intent To Seduce (Blaze, 38)\" 7\n",
            "\n",
            "Predict the user's rating on \"A Cold Heart (Alex Delaware Novels (Paperback))\". Output the rating score only. Do not include other text. reponse 7 due to error: invalid literal for int() with base 10: '8.1'\n",
            "1680th pred 8 ans 5\n",
            "Skipping index 1958 prompt You are a book recommender and your job is to predict a user's rating (ranging from 1 to 10, with 10 being the highest) on a book, based on that user's previous ratings.\n",
            "\n",
            "User 271836 has rated the following books:\n",
            "\n",
            "\"Die Valis- Trilogie.\" 9\n",
            "\"Die Farben der Zeit. Oder ganz zu schweigen von dem Hunde.\" 7\n",
            "\"Ehrenschuld.\" 8\n",
            "\"Am Ende des Regenbogens.\" 8\n",
            "\n",
            "Predict the user's rating on \"Der Falke des Lichts.\". Output the rating score only. Do not include other text. reponse 7 due to error: invalid literal for int() with base 10: '8.3'\n"
          ]
        },
        {
          "name": "stderr",
          "output_type": "stream",
          "text": [
            "Setting `pad_token_id` to `eos_token_id`:128001 for open-end generation.\n",
            "Setting `pad_token_id` to `eos_token_id`:128001 for open-end generation.\n",
            "Setting `pad_token_id` to `eos_token_id`:128001 for open-end generation.\n",
            "Setting `pad_token_id` to `eos_token_id`:128001 for open-end generation.\n"
          ]
        },
        {
          "name": "stdout",
          "output_type": "stream",
          "text": [
            "1681th pred 8 ans 8\n",
            "1682th pred 7 ans 6\n",
            "1683th pred 8 ans 10\n",
            "1684th pred 8 ans 8\n"
          ]
        },
        {
          "name": "stderr",
          "output_type": "stream",
          "text": [
            "Setting `pad_token_id` to `eos_token_id`:128001 for open-end generation.\n",
            "Setting `pad_token_id` to `eos_token_id`:128001 for open-end generation.\n",
            "Setting `pad_token_id` to `eos_token_id`:128001 for open-end generation.\n"
          ]
        },
        {
          "name": "stdout",
          "output_type": "stream",
          "text": [
            "1685th pred 8 ans 5\n",
            "1686th pred 8 ans 8\n",
            "Skipping index 1965 prompt You are a book recommender and your job is to predict a user's rating (ranging from 1 to 10, with 10 being the highest) on a book, based on that user's previous ratings.\n",
            "\n",
            "User 272516 has rated the following books:\n",
            "\n",
            "\"The God Project\" 9\n",
            "\"Gullivers Travels\" 9\n",
            "\"The Vampire Lestat (Vampire Chronicles, Book II)\" 8\n",
            "\"The Witch of Blackbird Pond (Laurel Leaf Books)\" 7\n",
            "\n",
            "Predict the user's rating on \"Waterlily\". Output the rating score only. Do not include other text. reponse 7 due to error: invalid literal for int() with base 10: '8.25'\n"
          ]
        },
        {
          "name": "stderr",
          "output_type": "stream",
          "text": [
            "Setting `pad_token_id` to `eos_token_id`:128001 for open-end generation.\n",
            "Setting `pad_token_id` to `eos_token_id`:128001 for open-end generation.\n",
            "Setting `pad_token_id` to `eos_token_id`:128001 for open-end generation.\n",
            "Setting `pad_token_id` to `eos_token_id`:128001 for open-end generation.\n"
          ]
        },
        {
          "name": "stdout",
          "output_type": "stream",
          "text": [
            "Skipping index 1966 prompt You are a book recommender and your job is to predict a user's rating (ranging from 1 to 10, with 10 being the highest) on a book, based on that user's previous ratings.\n",
            "\n",
            "User 272671 has rated the following books:\n",
            "\n",
            "\"Lost and Found\" 7\n",
            "\"Doing Good\" 8\n",
            "\"Letting Go\" 4\n",
            "\"Jewels of the Sun (Irish Trilogy)\" 7\n",
            "\n",
            "Predict the user's rating on \"Fear Nothing\". Output the rating score only. Do not include other text. reponse 7 due to error: invalid literal for int() with base 10: '8.45'\n",
            "1687th pred 9 ans 10\n",
            "1688th pred 7 ans 7\n",
            "1689th pred 7 ans 7\n"
          ]
        },
        {
          "name": "stderr",
          "output_type": "stream",
          "text": [
            "Setting `pad_token_id` to `eos_token_id`:128001 for open-end generation.\n",
            "Setting `pad_token_id` to `eos_token_id`:128001 for open-end generation.\n",
            "Setting `pad_token_id` to `eos_token_id`:128001 for open-end generation.\n",
            "Setting `pad_token_id` to `eos_token_id`:128001 for open-end generation.\n"
          ]
        },
        {
          "name": "stdout",
          "output_type": "stream",
          "text": [
            "1690th pred 7 ans 6\n",
            "1691th pred 7 ans 8\n",
            "1692th pred 8 ans 5\n",
            "1693th pred 7 ans 10\n"
          ]
        },
        {
          "name": "stderr",
          "output_type": "stream",
          "text": [
            "Setting `pad_token_id` to `eos_token_id`:128001 for open-end generation.\n",
            "Setting `pad_token_id` to `eos_token_id`:128001 for open-end generation.\n",
            "Setting `pad_token_id` to `eos_token_id`:128001 for open-end generation.\n",
            "Setting `pad_token_id` to `eos_token_id`:128001 for open-end generation.\n"
          ]
        },
        {
          "name": "stdout",
          "output_type": "stream",
          "text": [
            "1694th pred 7 ans 7\n",
            "1695th pred 8 ans 9\n",
            "1696th pred 7 ans 8\n",
            "1697th pred 8 ans 10\n"
          ]
        },
        {
          "name": "stderr",
          "output_type": "stream",
          "text": [
            "Setting `pad_token_id` to `eos_token_id`:128001 for open-end generation.\n",
            "Setting `pad_token_id` to `eos_token_id`:128001 for open-end generation.\n",
            "Setting `pad_token_id` to `eos_token_id`:128001 for open-end generation.\n",
            "Setting `pad_token_id` to `eos_token_id`:128001 for open-end generation.\n"
          ]
        },
        {
          "name": "stdout",
          "output_type": "stream",
          "text": [
            "1698th pred 8 ans 5\n",
            "1699th pred 7 ans 6\n",
            "1700th pred 7 ans 9\n",
            "1701th pred 8 ans 7\n"
          ]
        },
        {
          "name": "stderr",
          "output_type": "stream",
          "text": [
            "Setting `pad_token_id` to `eos_token_id`:128001 for open-end generation.\n",
            "Setting `pad_token_id` to `eos_token_id`:128001 for open-end generation.\n",
            "Setting `pad_token_id` to `eos_token_id`:128001 for open-end generation.\n"
          ]
        },
        {
          "name": "stdout",
          "output_type": "stream",
          "text": [
            "1702th pred 8 ans 8\n",
            "1703th pred 8 ans 7\n",
            "1704th pred 8 ans 9\n"
          ]
        },
        {
          "name": "stderr",
          "output_type": "stream",
          "text": [
            "Setting `pad_token_id` to `eos_token_id`:128001 for open-end generation.\n",
            "Setting `pad_token_id` to `eos_token_id`:128001 for open-end generation.\n",
            "Setting `pad_token_id` to `eos_token_id`:128001 for open-end generation.\n",
            "Setting `pad_token_id` to `eos_token_id`:128001 for open-end generation.\n"
          ]
        },
        {
          "name": "stdout",
          "output_type": "stream",
          "text": [
            "Skipping index 1985 prompt You are a book recommender and your job is to predict a user's rating (ranging from 1 to 10, with 10 being the highest) on a book, based on that user's previous ratings.\n",
            "\n",
            "User 275317 has rated the following books:\n",
            "\n",
            "\"Halide's Gift\" 9\n",
            "\"The Dark Fields\" 8\n",
            "\"Chimera\" 7\n",
            "\"Eva Moves the Furniture: A Novel\" 8\n",
            "\n",
            "Predict the user's rating on \"Atlas Shrugged\". Output the rating score only. Do not include other text. reponse 7 due to error: invalid literal for int() with base 10: '7.5'\n",
            "1705th pred 9 ans 6\n",
            "1706th pred 7 ans 9\n",
            "1707th pred 8 ans 6\n"
          ]
        },
        {
          "name": "stderr",
          "output_type": "stream",
          "text": [
            "Setting `pad_token_id` to `eos_token_id`:128001 for open-end generation.\n",
            "Setting `pad_token_id` to `eos_token_id`:128001 for open-end generation.\n",
            "Setting `pad_token_id` to `eos_token_id`:128001 for open-end generation.\n",
            "Setting `pad_token_id` to `eos_token_id`:128001 for open-end generation.\n"
          ]
        },
        {
          "name": "stdout",
          "output_type": "stream",
          "text": [
            "1708th pred 8 ans 7\n",
            "1709th pred 7 ans 8\n",
            "1710th pred 8 ans 4\n",
            "1711th pred 8 ans 10\n"
          ]
        },
        {
          "name": "stderr",
          "output_type": "stream",
          "text": [
            "Setting `pad_token_id` to `eos_token_id`:128001 for open-end generation.\n",
            "Setting `pad_token_id` to `eos_token_id`:128001 for open-end generation.\n",
            "Setting `pad_token_id` to `eos_token_id`:128001 for open-end generation.\n"
          ]
        },
        {
          "name": "stdout",
          "output_type": "stream",
          "text": [
            "1712th pred 8 ans 10\n",
            "1713th pred 8 ans 8\n",
            "1714th pred 8 ans 9\n"
          ]
        },
        {
          "name": "stderr",
          "output_type": "stream",
          "text": [
            "Setting `pad_token_id` to `eos_token_id`:128001 for open-end generation.\n",
            "Setting `pad_token_id` to `eos_token_id`:128001 for open-end generation.\n",
            "Setting `pad_token_id` to `eos_token_id`:128001 for open-end generation.\n"
          ]
        },
        {
          "name": "stdout",
          "output_type": "stream",
          "text": [
            "Skipping index 1996 prompt You are a book recommender and your job is to predict a user's rating (ranging from 1 to 10, with 10 being the highest) on a book, based on that user's previous ratings.\n",
            "\n",
            "User 277509 has rated the following books:\n",
            "\n",
            "\"The Interpretation of Dreams (Oxford World's Classics)\" 8\n",
            "\"El anatomista\" 8\n",
            "\"The Piano Tuner : A Novel\" 9\n",
            "\"Et Si Cetait Vrai\" 10\n",
            "\n",
            "Predict the user's rating on \"A hora de SertÃ³rio (Finisterra)\". Output the rating score only. Do not include other text. reponse 7 due to error: invalid literal for int() with base 10: '9.5'\n",
            "1715th pred 8 ans 10\n",
            "1716th pred 8 ans 9\n"
          ]
        },
        {
          "name": "stderr",
          "output_type": "stream",
          "text": [
            "Setting `pad_token_id` to `eos_token_id`:128001 for open-end generation.\n",
            "Setting `pad_token_id` to `eos_token_id`:128001 for open-end generation.\n",
            "Setting `pad_token_id` to `eos_token_id`:128001 for open-end generation.\n"
          ]
        },
        {
          "name": "stdout",
          "output_type": "stream",
          "text": [
            "Skipping index 1999 prompt You are a book recommender and your job is to predict a user's rating (ranging from 1 to 10, with 10 being the highest) on a book, based on that user's previous ratings.\n",
            "\n",
            "User 278565 has rated the following books:\n",
            "\n",
            "\"Gilbert: A Comedy of Manners\" 8\n",
            "\"Murder at the National Cathedral (Capital Crime Mysteries)\" 9\n",
            "\"Glitz\" 7\n",
            "\"Di and I\" 8\n",
            "\n",
            "Predict the user's rating on \"The Heretic's Apprentice: The Sixteenth Chronicle of Brother Cadfael\". Output the rating score only. Do not include other text. reponse 7 due to error: invalid literal for int() with base 10: '8.2'\n",
            "1717th pred 8 ans 7\n",
            "1718th pred 8 ans 3\n",
            "1719th pred 8 ans 5\n",
            "total 1719 # of wrongs 1354 acc 21.23327515997673\n"
          ]
        }
      ],
      "source": [
        "total, false, true = 0,0,0\n",
        "for idx, row in df_llm_5_items.iterrows():\n",
        "    try:\n",
        "        messages = [\n",
        "            {\"role\": \"system\", \"content\": \"You are a book recommender.\"},\n",
        "            {\"role\": \"user\", \"content\": row['prompt']},\n",
        "        ]\n",
        "\n",
        "        prompt = pipeline.tokenizer.apply_chat_template(\n",
        "                messages, \n",
        "                tokenize=False, \n",
        "                add_generation_prompt=True\n",
        "        )\n",
        "\n",
        "        terminators = [\n",
        "            pipeline.tokenizer.eos_token_id,\n",
        "            pipeline.tokenizer.convert_tokens_to_ids(\"<|eot_id|>\")\n",
        "        ]\n",
        "\n",
        "        outputs = pipeline(\n",
        "            prompt,\n",
        "            max_new_tokens=256,\n",
        "            eos_token_id=terminators,\n",
        "            do_sample=True,\n",
        "            temperature=0.6,\n",
        "            top_p=0.9,\n",
        "        )\n",
        "        \n",
        "        pred = int(outputs[0][\"generated_text\"][len(prompt):])\n",
        "        ans = int(row['ans'])\n",
        "        total += 1\n",
        "        print(f'{total}th pred {pred} ans {ans}')\n",
        "        df_llm_5_items.at[idx, 'pred-llama3-8B'] = pred\n",
        "        if pred != ans:\n",
        "            false += 1\n",
        "            #print(f\"PROMPT {row['prompt']}\")\n",
        "        else:\n",
        "            true += 1\n",
        "    except Exception as e:\n",
        "        print(f\"Skipping index {idx} prompt {row['prompt']} reponse {response.choices[0].message.content} due to error: {e}\")\n",
        "        \n",
        "print(f'total {total} # of wrongs {false} acc {true/total*100.00}')    "
      ]
    },
    {
      "cell_type": "code",
      "execution_count": 69,
      "metadata": {},
      "outputs": [
        {
          "data": {
            "text/html": [
              "<div>\n",
              "<style scoped>\n",
              "    .dataframe tbody tr th:only-of-type {\n",
              "        vertical-align: middle;\n",
              "    }\n",
              "\n",
              "    .dataframe tbody tr th {\n",
              "        vertical-align: top;\n",
              "    }\n",
              "\n",
              "    .dataframe thead th {\n",
              "        text-align: right;\n",
              "    }\n",
              "</style>\n",
              "<table border=\"1\" class=\"dataframe\">\n",
              "  <thead>\n",
              "    <tr style=\"text-align: right;\">\n",
              "      <th></th>\n",
              "      <th>prompt</th>\n",
              "      <th>query</th>\n",
              "      <th>ans</th>\n",
              "      <th>pred-ChatGPT-3.5</th>\n",
              "      <th>pred-llama3-8B</th>\n",
              "    </tr>\n",
              "  </thead>\n",
              "  <tbody>\n",
              "    <tr>\n",
              "      <th>0</th>\n",
              "      <td>You are a book recommender and your job is to ...</td>\n",
              "      <td>\"Estudios sobre el amor\"</td>\n",
              "      <td>8</td>\n",
              "      <td>7.0</td>\n",
              "      <td>NaN</td>\n",
              "    </tr>\n",
              "    <tr>\n",
              "      <th>1</th>\n",
              "      <td>You are a book recommender and your job is to ...</td>\n",
              "      <td>\"Jane Eyre\"</td>\n",
              "      <td>9</td>\n",
              "      <td>8.0</td>\n",
              "      <td>8.0</td>\n",
              "    </tr>\n",
              "    <tr>\n",
              "      <th>2</th>\n",
              "      <td>You are a book recommender and your job is to ...</td>\n",
              "      <td>\"Frankenstein (Illustrated Classics Series)\"</td>\n",
              "      <td>7</td>\n",
              "      <td>7.0</td>\n",
              "      <td>7.0</td>\n",
              "    </tr>\n",
              "    <tr>\n",
              "      <th>3</th>\n",
              "      <td>You are a book recommender and your job is to ...</td>\n",
              "      <td>\"Secrets of St. John's Wort: A Lynn Sonberg Book\"</td>\n",
              "      <td>5</td>\n",
              "      <td>8.0</td>\n",
              "      <td>9.0</td>\n",
              "    </tr>\n",
              "    <tr>\n",
              "      <th>4</th>\n",
              "      <td>You are a book recommender and your job is to ...</td>\n",
              "      <td>\"New Cardiff\"</td>\n",
              "      <td>6</td>\n",
              "      <td>7.0</td>\n",
              "      <td>7.0</td>\n",
              "    </tr>\n",
              "    <tr>\n",
              "      <th>...</th>\n",
              "      <td>...</td>\n",
              "      <td>...</td>\n",
              "      <td>...</td>\n",
              "      <td>...</td>\n",
              "      <td>...</td>\n",
              "    </tr>\n",
              "    <tr>\n",
              "      <th>1998</th>\n",
              "      <td>You are a book recommender and your job is to ...</td>\n",
              "      <td>\"Armageddon Sky (Star Trek Deep Space Nine: Da...</td>\n",
              "      <td>9</td>\n",
              "      <td>8.0</td>\n",
              "      <td>8.0</td>\n",
              "    </tr>\n",
              "    <tr>\n",
              "      <th>1999</th>\n",
              "      <td>You are a book recommender and your job is to ...</td>\n",
              "      <td>\"The Heretic's Apprentice: The Sixteenth Chron...</td>\n",
              "      <td>8</td>\n",
              "      <td>8.0</td>\n",
              "      <td>NaN</td>\n",
              "    </tr>\n",
              "    <tr>\n",
              "      <th>2000</th>\n",
              "      <td>You are a book recommender and your job is to ...</td>\n",
              "      <td>\"Je vous Ã?Â©cris\"</td>\n",
              "      <td>7</td>\n",
              "      <td>8.0</td>\n",
              "      <td>8.0</td>\n",
              "    </tr>\n",
              "    <tr>\n",
              "      <th>2001</th>\n",
              "      <td>You are a book recommender and your job is to ...</td>\n",
              "      <td>\"Special Relationship\"</td>\n",
              "      <td>3</td>\n",
              "      <td>7.0</td>\n",
              "      <td>8.0</td>\n",
              "    </tr>\n",
              "    <tr>\n",
              "      <th>2002</th>\n",
              "      <td>You are a book recommender and your job is to ...</td>\n",
              "      <td>\"El Hombre Solo\"</td>\n",
              "      <td>5</td>\n",
              "      <td>7.0</td>\n",
              "      <td>8.0</td>\n",
              "    </tr>\n",
              "  </tbody>\n",
              "</table>\n",
              "<p>2003 rows × 5 columns</p>\n",
              "</div>"
            ],
            "text/plain": [
              "                                                 prompt  \\\n",
              "0     You are a book recommender and your job is to ...   \n",
              "1     You are a book recommender and your job is to ...   \n",
              "2     You are a book recommender and your job is to ...   \n",
              "3     You are a book recommender and your job is to ...   \n",
              "4     You are a book recommender and your job is to ...   \n",
              "...                                                 ...   \n",
              "1998  You are a book recommender and your job is to ...   \n",
              "1999  You are a book recommender and your job is to ...   \n",
              "2000  You are a book recommender and your job is to ...   \n",
              "2001  You are a book recommender and your job is to ...   \n",
              "2002  You are a book recommender and your job is to ...   \n",
              "\n",
              "                                                  query ans  pred-ChatGPT-3.5  \\\n",
              "0                              \"Estudios sobre el amor\"   8               7.0   \n",
              "1                                           \"Jane Eyre\"   9               8.0   \n",
              "2          \"Frankenstein (Illustrated Classics Series)\"   7               7.0   \n",
              "3     \"Secrets of St. John's Wort: A Lynn Sonberg Book\"   5               8.0   \n",
              "4                                         \"New Cardiff\"   6               7.0   \n",
              "...                                                 ...  ..               ...   \n",
              "1998  \"Armageddon Sky (Star Trek Deep Space Nine: Da...   9               8.0   \n",
              "1999  \"The Heretic's Apprentice: The Sixteenth Chron...   8               8.0   \n",
              "2000                                 \"Je vous Ã?Â©cris\"   7               8.0   \n",
              "2001                             \"Special Relationship\"   3               7.0   \n",
              "2002                                   \"El Hombre Solo\"   5               7.0   \n",
              "\n",
              "      pred-llama3-8B  \n",
              "0                NaN  \n",
              "1                8.0  \n",
              "2                7.0  \n",
              "3                9.0  \n",
              "4                7.0  \n",
              "...              ...  \n",
              "1998             8.0  \n",
              "1999             NaN  \n",
              "2000             8.0  \n",
              "2001             8.0  \n",
              "2002             8.0  \n",
              "\n",
              "[2003 rows x 5 columns]"
            ]
          },
          "execution_count": 69,
          "metadata": {},
          "output_type": "execute_result"
        }
      ],
      "source": [
        "df_llm_5_items"
      ]
    },
    {
      "cell_type": "code",
      "execution_count": 78,
      "metadata": {},
      "outputs": [],
      "source": [
        "df_merge = df_llm_5_items.dropna()"
      ]
    },
    {
      "cell_type": "code",
      "execution_count": 79,
      "metadata": {},
      "outputs": [
        {
          "data": {
            "text/html": [
              "<div>\n",
              "<style scoped>\n",
              "    .dataframe tbody tr th:only-of-type {\n",
              "        vertical-align: middle;\n",
              "    }\n",
              "\n",
              "    .dataframe tbody tr th {\n",
              "        vertical-align: top;\n",
              "    }\n",
              "\n",
              "    .dataframe thead th {\n",
              "        text-align: right;\n",
              "    }\n",
              "</style>\n",
              "<table border=\"1\" class=\"dataframe\">\n",
              "  <thead>\n",
              "    <tr style=\"text-align: right;\">\n",
              "      <th></th>\n",
              "      <th>prompt</th>\n",
              "      <th>query</th>\n",
              "      <th>ans</th>\n",
              "      <th>pred-ChatGPT-3.5</th>\n",
              "      <th>pred-llama3-8B</th>\n",
              "    </tr>\n",
              "  </thead>\n",
              "  <tbody>\n",
              "    <tr>\n",
              "      <th>1</th>\n",
              "      <td>You are a book recommender and your job is to ...</td>\n",
              "      <td>\"Jane Eyre\"</td>\n",
              "      <td>9</td>\n",
              "      <td>8.0</td>\n",
              "      <td>8.0</td>\n",
              "    </tr>\n",
              "    <tr>\n",
              "      <th>2</th>\n",
              "      <td>You are a book recommender and your job is to ...</td>\n",
              "      <td>\"Frankenstein (Illustrated Classics Series)\"</td>\n",
              "      <td>7</td>\n",
              "      <td>7.0</td>\n",
              "      <td>7.0</td>\n",
              "    </tr>\n",
              "    <tr>\n",
              "      <th>3</th>\n",
              "      <td>You are a book recommender and your job is to ...</td>\n",
              "      <td>\"Secrets of St. John's Wort: A Lynn Sonberg Book\"</td>\n",
              "      <td>5</td>\n",
              "      <td>8.0</td>\n",
              "      <td>9.0</td>\n",
              "    </tr>\n",
              "    <tr>\n",
              "      <th>4</th>\n",
              "      <td>You are a book recommender and your job is to ...</td>\n",
              "      <td>\"New Cardiff\"</td>\n",
              "      <td>6</td>\n",
              "      <td>7.0</td>\n",
              "      <td>7.0</td>\n",
              "    </tr>\n",
              "    <tr>\n",
              "      <th>6</th>\n",
              "      <td>You are a book recommender and your job is to ...</td>\n",
              "      <td>\"Dharma Bums\"</td>\n",
              "      <td>8</td>\n",
              "      <td>7.0</td>\n",
              "      <td>8.0</td>\n",
              "    </tr>\n",
              "    <tr>\n",
              "      <th>...</th>\n",
              "      <td>...</td>\n",
              "      <td>...</td>\n",
              "      <td>...</td>\n",
              "      <td>...</td>\n",
              "      <td>...</td>\n",
              "    </tr>\n",
              "    <tr>\n",
              "      <th>1997</th>\n",
              "      <td>You are a book recommender and your job is to ...</td>\n",
              "      <td>\"The Emperor's Pearl\"</td>\n",
              "      <td>10</td>\n",
              "      <td>8.0</td>\n",
              "      <td>8.0</td>\n",
              "    </tr>\n",
              "    <tr>\n",
              "      <th>1998</th>\n",
              "      <td>You are a book recommender and your job is to ...</td>\n",
              "      <td>\"Armageddon Sky (Star Trek Deep Space Nine: Da...</td>\n",
              "      <td>9</td>\n",
              "      <td>8.0</td>\n",
              "      <td>8.0</td>\n",
              "    </tr>\n",
              "    <tr>\n",
              "      <th>2000</th>\n",
              "      <td>You are a book recommender and your job is to ...</td>\n",
              "      <td>\"Je vous Ã?Â©cris\"</td>\n",
              "      <td>7</td>\n",
              "      <td>8.0</td>\n",
              "      <td>8.0</td>\n",
              "    </tr>\n",
              "    <tr>\n",
              "      <th>2001</th>\n",
              "      <td>You are a book recommender and your job is to ...</td>\n",
              "      <td>\"Special Relationship\"</td>\n",
              "      <td>3</td>\n",
              "      <td>7.0</td>\n",
              "      <td>8.0</td>\n",
              "    </tr>\n",
              "    <tr>\n",
              "      <th>2002</th>\n",
              "      <td>You are a book recommender and your job is to ...</td>\n",
              "      <td>\"El Hombre Solo\"</td>\n",
              "      <td>5</td>\n",
              "      <td>7.0</td>\n",
              "      <td>8.0</td>\n",
              "    </tr>\n",
              "  </tbody>\n",
              "</table>\n",
              "<p>1705 rows × 5 columns</p>\n",
              "</div>"
            ],
            "text/plain": [
              "                                                 prompt  \\\n",
              "1     You are a book recommender and your job is to ...   \n",
              "2     You are a book recommender and your job is to ...   \n",
              "3     You are a book recommender and your job is to ...   \n",
              "4     You are a book recommender and your job is to ...   \n",
              "6     You are a book recommender and your job is to ...   \n",
              "...                                                 ...   \n",
              "1997  You are a book recommender and your job is to ...   \n",
              "1998  You are a book recommender and your job is to ...   \n",
              "2000  You are a book recommender and your job is to ...   \n",
              "2001  You are a book recommender and your job is to ...   \n",
              "2002  You are a book recommender and your job is to ...   \n",
              "\n",
              "                                                  query ans  pred-ChatGPT-3.5  \\\n",
              "1                                           \"Jane Eyre\"   9               8.0   \n",
              "2          \"Frankenstein (Illustrated Classics Series)\"   7               7.0   \n",
              "3     \"Secrets of St. John's Wort: A Lynn Sonberg Book\"   5               8.0   \n",
              "4                                         \"New Cardiff\"   6               7.0   \n",
              "6                                         \"Dharma Bums\"   8               7.0   \n",
              "...                                                 ...  ..               ...   \n",
              "1997                              \"The Emperor's Pearl\"  10               8.0   \n",
              "1998  \"Armageddon Sky (Star Trek Deep Space Nine: Da...   9               8.0   \n",
              "2000                                 \"Je vous Ã?Â©cris\"   7               8.0   \n",
              "2001                             \"Special Relationship\"   3               7.0   \n",
              "2002                                   \"El Hombre Solo\"   5               7.0   \n",
              "\n",
              "      pred-llama3-8B  \n",
              "1                8.0  \n",
              "2                7.0  \n",
              "3                9.0  \n",
              "4                7.0  \n",
              "6                8.0  \n",
              "...              ...  \n",
              "1997             8.0  \n",
              "1998             8.0  \n",
              "2000             8.0  \n",
              "2001             8.0  \n",
              "2002             8.0  \n",
              "\n",
              "[1705 rows x 5 columns]"
            ]
          },
          "execution_count": 79,
          "metadata": {},
          "output_type": "execute_result"
        }
      ],
      "source": [
        "df_merge"
      ]
    },
    {
      "cell_type": "code",
      "execution_count": 82,
      "metadata": {},
      "outputs": [
        {
          "data": {
            "text/plain": [
              "pred-ChatGPT-3.5\n",
              "8.0     690\n",
              "7.0     604\n",
              "6.0     199\n",
              "9.0     113\n",
              "5.0      60\n",
              "4.0      30\n",
              "10.0      5\n",
              "3.0       3\n",
              "1.0       1\n",
              "Name: count, dtype: int64"
            ]
          },
          "execution_count": 82,
          "metadata": {},
          "output_type": "execute_result"
        }
      ],
      "source": [
        "df_merge['pred-ChatGPT-3.5'].value_counts()"
      ]
    },
    {
      "cell_type": "code",
      "execution_count": 83,
      "metadata": {},
      "outputs": [
        {
          "data": {
            "text/plain": [
              "pred-llama3-8B\n",
              "8.0     890\n",
              "7.0     507\n",
              "9.0     184\n",
              "6.0     105\n",
              "10.0      7\n",
              "5.0       7\n",
              "4.0       4\n",
              "2.0       1\n",
              "Name: count, dtype: int64"
            ]
          },
          "execution_count": 83,
          "metadata": {},
          "output_type": "execute_result"
        }
      ],
      "source": [
        "df_merge['pred-llama3-8B'].value_counts()"
      ]
    },
    {
      "cell_type": "code",
      "execution_count": 84,
      "metadata": {},
      "outputs": [
        {
          "name": "stderr",
          "output_type": "stream",
          "text": [
            "/tmp/ipykernel_817521/971160968.py:1: SettingWithCopyWarning: \n",
            "A value is trying to be set on a copy of a slice from a DataFrame.\n",
            "Try using .loc[row_indexer,col_indexer] = value instead\n",
            "\n",
            "See the caveats in the documentation: https://pandas.pydata.org/pandas-docs/stable/user_guide/indexing.html#returning-a-view-versus-a-copy\n",
            "  df_merge['pred-ChatGPT-3.5'] = df_merge['pred-ChatGPT-3.5'].astype(int)\n",
            "/tmp/ipykernel_817521/971160968.py:2: SettingWithCopyWarning: \n",
            "A value is trying to be set on a copy of a slice from a DataFrame.\n",
            "Try using .loc[row_indexer,col_indexer] = value instead\n",
            "\n",
            "See the caveats in the documentation: https://pandas.pydata.org/pandas-docs/stable/user_guide/indexing.html#returning-a-view-versus-a-copy\n",
            "  df_merge['pred-llama3-8B']= df_merge['pred-llama3-8B'].astype(int)\n"
          ]
        }
      ],
      "source": [
        "df_merge['pred-ChatGPT-3.5'] = df_merge['pred-ChatGPT-3.5'].astype(int)\n",
        "df_merge['pred-llama3-8B']= df_merge['pred-llama3-8B'].astype(int)"
      ]
    },
    {
      "cell_type": "code",
      "execution_count": 93,
      "metadata": {},
      "outputs": [
        {
          "name": "stderr",
          "output_type": "stream",
          "text": [
            "/tmp/ipykernel_817521/4005869744.py:1: SettingWithCopyWarning: \n",
            "A value is trying to be set on a copy of a slice from a DataFrame.\n",
            "Try using .loc[row_indexer,col_indexer] = value instead\n",
            "\n",
            "See the caveats in the documentation: https://pandas.pydata.org/pandas-docs/stable/user_guide/indexing.html#returning-a-view-versus-a-copy\n",
            "  df_merge['ans'] = df_merge['ans'].astype(int)\n"
          ]
        }
      ],
      "source": [
        "df_merge['ans'] = df_merge['ans'].astype(int)"
      ]
    },
    {
      "cell_type": "code",
      "execution_count": 94,
      "metadata": {},
      "outputs": [
        {
          "name": "stderr",
          "output_type": "stream",
          "text": [
            "/tmp/ipykernel_817521/2979063934.py:1: SettingWithCopyWarning: \n",
            "A value is trying to be set on a copy of a slice from a DataFrame.\n",
            "Try using .loc[row_indexer,col_indexer] = value instead\n",
            "\n",
            "See the caveats in the documentation: https://pandas.pydata.org/pandas-docs/stable/user_guide/indexing.html#returning-a-view-versus-a-copy\n",
            "  df_merge['abs-chatgpt-3.5'] = (df_merge['ans'] - df_merge['pred-ChatGPT-3.5']).abs()\n",
            "/tmp/ipykernel_817521/2979063934.py:2: SettingWithCopyWarning: \n",
            "A value is trying to be set on a copy of a slice from a DataFrame.\n",
            "Try using .loc[row_indexer,col_indexer] = value instead\n",
            "\n",
            "See the caveats in the documentation: https://pandas.pydata.org/pandas-docs/stable/user_guide/indexing.html#returning-a-view-versus-a-copy\n",
            "  df_merge['abs-llama3-8B'] = (df_merge['ans'] - df_merge['pred-llama3-8B']).abs()\n"
          ]
        }
      ],
      "source": [
        "df_merge['abs-chatgpt-3.5'] = (df_merge['ans'] - df_merge['pred-ChatGPT-3.5']).abs()\n",
        "df_merge['abs-llama3-8B'] = (df_merge['ans'] - df_merge['pred-llama3-8B']).abs()"
      ]
    },
    {
      "cell_type": "code",
      "execution_count": 95,
      "metadata": {},
      "outputs": [
        {
          "data": {
            "text/html": [
              "<div>\n",
              "<style scoped>\n",
              "    .dataframe tbody tr th:only-of-type {\n",
              "        vertical-align: middle;\n",
              "    }\n",
              "\n",
              "    .dataframe tbody tr th {\n",
              "        vertical-align: top;\n",
              "    }\n",
              "\n",
              "    .dataframe thead th {\n",
              "        text-align: right;\n",
              "    }\n",
              "</style>\n",
              "<table border=\"1\" class=\"dataframe\">\n",
              "  <thead>\n",
              "    <tr style=\"text-align: right;\">\n",
              "      <th></th>\n",
              "      <th>prompt</th>\n",
              "      <th>query</th>\n",
              "      <th>ans</th>\n",
              "      <th>pred-ChatGPT-3.5</th>\n",
              "      <th>pred-llama3-8B</th>\n",
              "      <th>abs-chatgpt-3.5</th>\n",
              "      <th>abs-llama3-8B</th>\n",
              "    </tr>\n",
              "  </thead>\n",
              "  <tbody>\n",
              "    <tr>\n",
              "      <th>1</th>\n",
              "      <td>You are a book recommender and your job is to ...</td>\n",
              "      <td>\"Jane Eyre\"</td>\n",
              "      <td>9</td>\n",
              "      <td>8</td>\n",
              "      <td>8</td>\n",
              "      <td>1</td>\n",
              "      <td>1</td>\n",
              "    </tr>\n",
              "    <tr>\n",
              "      <th>2</th>\n",
              "      <td>You are a book recommender and your job is to ...</td>\n",
              "      <td>\"Frankenstein (Illustrated Classics Series)\"</td>\n",
              "      <td>7</td>\n",
              "      <td>7</td>\n",
              "      <td>7</td>\n",
              "      <td>0</td>\n",
              "      <td>0</td>\n",
              "    </tr>\n",
              "    <tr>\n",
              "      <th>3</th>\n",
              "      <td>You are a book recommender and your job is to ...</td>\n",
              "      <td>\"Secrets of St. John's Wort: A Lynn Sonberg Book\"</td>\n",
              "      <td>5</td>\n",
              "      <td>8</td>\n",
              "      <td>9</td>\n",
              "      <td>3</td>\n",
              "      <td>4</td>\n",
              "    </tr>\n",
              "    <tr>\n",
              "      <th>4</th>\n",
              "      <td>You are a book recommender and your job is to ...</td>\n",
              "      <td>\"New Cardiff\"</td>\n",
              "      <td>6</td>\n",
              "      <td>7</td>\n",
              "      <td>7</td>\n",
              "      <td>1</td>\n",
              "      <td>1</td>\n",
              "    </tr>\n",
              "    <tr>\n",
              "      <th>6</th>\n",
              "      <td>You are a book recommender and your job is to ...</td>\n",
              "      <td>\"Dharma Bums\"</td>\n",
              "      <td>8</td>\n",
              "      <td>7</td>\n",
              "      <td>8</td>\n",
              "      <td>1</td>\n",
              "      <td>0</td>\n",
              "    </tr>\n",
              "    <tr>\n",
              "      <th>...</th>\n",
              "      <td>...</td>\n",
              "      <td>...</td>\n",
              "      <td>...</td>\n",
              "      <td>...</td>\n",
              "      <td>...</td>\n",
              "      <td>...</td>\n",
              "      <td>...</td>\n",
              "    </tr>\n",
              "    <tr>\n",
              "      <th>1997</th>\n",
              "      <td>You are a book recommender and your job is to ...</td>\n",
              "      <td>\"The Emperor's Pearl\"</td>\n",
              "      <td>10</td>\n",
              "      <td>8</td>\n",
              "      <td>8</td>\n",
              "      <td>2</td>\n",
              "      <td>2</td>\n",
              "    </tr>\n",
              "    <tr>\n",
              "      <th>1998</th>\n",
              "      <td>You are a book recommender and your job is to ...</td>\n",
              "      <td>\"Armageddon Sky (Star Trek Deep Space Nine: Da...</td>\n",
              "      <td>9</td>\n",
              "      <td>8</td>\n",
              "      <td>8</td>\n",
              "      <td>1</td>\n",
              "      <td>1</td>\n",
              "    </tr>\n",
              "    <tr>\n",
              "      <th>2000</th>\n",
              "      <td>You are a book recommender and your job is to ...</td>\n",
              "      <td>\"Je vous Ã?Â©cris\"</td>\n",
              "      <td>7</td>\n",
              "      <td>8</td>\n",
              "      <td>8</td>\n",
              "      <td>1</td>\n",
              "      <td>1</td>\n",
              "    </tr>\n",
              "    <tr>\n",
              "      <th>2001</th>\n",
              "      <td>You are a book recommender and your job is to ...</td>\n",
              "      <td>\"Special Relationship\"</td>\n",
              "      <td>3</td>\n",
              "      <td>7</td>\n",
              "      <td>8</td>\n",
              "      <td>4</td>\n",
              "      <td>5</td>\n",
              "    </tr>\n",
              "    <tr>\n",
              "      <th>2002</th>\n",
              "      <td>You are a book recommender and your job is to ...</td>\n",
              "      <td>\"El Hombre Solo\"</td>\n",
              "      <td>5</td>\n",
              "      <td>7</td>\n",
              "      <td>8</td>\n",
              "      <td>2</td>\n",
              "      <td>3</td>\n",
              "    </tr>\n",
              "  </tbody>\n",
              "</table>\n",
              "<p>1705 rows × 7 columns</p>\n",
              "</div>"
            ],
            "text/plain": [
              "                                                 prompt  \\\n",
              "1     You are a book recommender and your job is to ...   \n",
              "2     You are a book recommender and your job is to ...   \n",
              "3     You are a book recommender and your job is to ...   \n",
              "4     You are a book recommender and your job is to ...   \n",
              "6     You are a book recommender and your job is to ...   \n",
              "...                                                 ...   \n",
              "1997  You are a book recommender and your job is to ...   \n",
              "1998  You are a book recommender and your job is to ...   \n",
              "2000  You are a book recommender and your job is to ...   \n",
              "2001  You are a book recommender and your job is to ...   \n",
              "2002  You are a book recommender and your job is to ...   \n",
              "\n",
              "                                                  query  ans  \\\n",
              "1                                           \"Jane Eyre\"    9   \n",
              "2          \"Frankenstein (Illustrated Classics Series)\"    7   \n",
              "3     \"Secrets of St. John's Wort: A Lynn Sonberg Book\"    5   \n",
              "4                                         \"New Cardiff\"    6   \n",
              "6                                         \"Dharma Bums\"    8   \n",
              "...                                                 ...  ...   \n",
              "1997                              \"The Emperor's Pearl\"   10   \n",
              "1998  \"Armageddon Sky (Star Trek Deep Space Nine: Da...    9   \n",
              "2000                                 \"Je vous Ã?Â©cris\"    7   \n",
              "2001                             \"Special Relationship\"    3   \n",
              "2002                                   \"El Hombre Solo\"    5   \n",
              "\n",
              "      pred-ChatGPT-3.5  pred-llama3-8B  abs-chatgpt-3.5  abs-llama3-8B  \n",
              "1                    8               8                1              1  \n",
              "2                    7               7                0              0  \n",
              "3                    8               9                3              4  \n",
              "4                    7               7                1              1  \n",
              "6                    7               8                1              0  \n",
              "...                ...             ...              ...            ...  \n",
              "1997                 8               8                2              2  \n",
              "1998                 8               8                1              1  \n",
              "2000                 8               8                1              1  \n",
              "2001                 7               8                4              5  \n",
              "2002                 7               8                2              3  \n",
              "\n",
              "[1705 rows x 7 columns]"
            ]
          },
          "execution_count": 95,
          "metadata": {},
          "output_type": "execute_result"
        }
      ],
      "source": [
        "df_merge"
      ]
    },
    {
      "cell_type": "code",
      "execution_count": 96,
      "metadata": {},
      "outputs": [
        {
          "data": {
            "text/plain": [
              "abs-chatgpt-3.5\n",
              "1    633\n",
              "2    435\n",
              "0    327\n",
              "3    204\n",
              "4     73\n",
              "5     28\n",
              "6      4\n",
              "7      1\n",
              "Name: count, dtype: int64"
            ]
          },
          "execution_count": 96,
          "metadata": {},
          "output_type": "execute_result"
        }
      ],
      "source": [
        "df_merge['abs-chatgpt-3.5'].value_counts()"
      ]
    },
    {
      "cell_type": "code",
      "execution_count": 97,
      "metadata": {},
      "outputs": [
        {
          "data": {
            "text/plain": [
              "abs-llama3-8B\n",
              "1    652\n",
              "2    394\n",
              "0    363\n",
              "3    211\n",
              "4     52\n",
              "5     23\n",
              "6      9\n",
              "7      1\n",
              "Name: count, dtype: int64"
            ]
          },
          "execution_count": 97,
          "metadata": {},
          "output_type": "execute_result"
        }
      ],
      "source": [
        "df_merge['abs-llama3-8B'].value_counts()"
      ]
    },
    {
      "cell_type": "code",
      "execution_count": 99,
      "metadata": {},
      "outputs": [
        {
          "data": {
            "text/html": [
              "<div>\n",
              "<style scoped>\n",
              "    .dataframe tbody tr th:only-of-type {\n",
              "        vertical-align: middle;\n",
              "    }\n",
              "\n",
              "    .dataframe tbody tr th {\n",
              "        vertical-align: top;\n",
              "    }\n",
              "\n",
              "    .dataframe thead th {\n",
              "        text-align: right;\n",
              "    }\n",
              "</style>\n",
              "<table border=\"1\" class=\"dataframe\">\n",
              "  <thead>\n",
              "    <tr style=\"text-align: right;\">\n",
              "      <th></th>\n",
              "      <th>abs-chatgpt-3.5</th>\n",
              "    </tr>\n",
              "  </thead>\n",
              "  <tbody>\n",
              "    <tr>\n",
              "      <th>1</th>\n",
              "      <td>1</td>\n",
              "    </tr>\n",
              "    <tr>\n",
              "      <th>2</th>\n",
              "      <td>0</td>\n",
              "    </tr>\n",
              "    <tr>\n",
              "      <th>3</th>\n",
              "      <td>3</td>\n",
              "    </tr>\n",
              "    <tr>\n",
              "      <th>4</th>\n",
              "      <td>1</td>\n",
              "    </tr>\n",
              "    <tr>\n",
              "      <th>6</th>\n",
              "      <td>1</td>\n",
              "    </tr>\n",
              "    <tr>\n",
              "      <th>...</th>\n",
              "      <td>...</td>\n",
              "    </tr>\n",
              "    <tr>\n",
              "      <th>1997</th>\n",
              "      <td>2</td>\n",
              "    </tr>\n",
              "    <tr>\n",
              "      <th>1998</th>\n",
              "      <td>1</td>\n",
              "    </tr>\n",
              "    <tr>\n",
              "      <th>2000</th>\n",
              "      <td>1</td>\n",
              "    </tr>\n",
              "    <tr>\n",
              "      <th>2001</th>\n",
              "      <td>4</td>\n",
              "    </tr>\n",
              "    <tr>\n",
              "      <th>2002</th>\n",
              "      <td>2</td>\n",
              "    </tr>\n",
              "  </tbody>\n",
              "</table>\n",
              "<p>1705 rows × 1 columns</p>\n",
              "</div>"
            ],
            "text/plain": [
              "      abs-chatgpt-3.5\n",
              "1                   1\n",
              "2                   0\n",
              "3                   3\n",
              "4                   1\n",
              "6                   1\n",
              "...               ...\n",
              "1997                2\n",
              "1998                1\n",
              "2000                1\n",
              "2001                4\n",
              "2002                2\n",
              "\n",
              "[1705 rows x 1 columns]"
            ]
          },
          "execution_count": 99,
          "metadata": {},
          "output_type": "execute_result"
        }
      ],
      "source": [
        "df_chatgpt = df_merge['abs-llama3-8B'].value_counts()\n",
        "df_chatgpt"
      ]
    },
    {
      "cell_type": "code",
      "execution_count": 102,
      "metadata": {},
      "outputs": [],
      "source": [
        "df_chatgpt = df_merge['abs-chatgpt-3.5'].value_counts().reset_index()\n",
        "df_chatgpt.columns = ['abs_value', 'count']\n",
        "\n",
        "df_llama = df_merge['abs-llama3-8B'].value_counts().reset_index()\n",
        "df_llama.columns = ['abs_value', 'count']"
      ]
    },
    {
      "cell_type": "code",
      "execution_count": 120,
      "metadata": {},
      "outputs": [
        {
          "data": {
            "image/png": "[encoded data removed]",
            "text/plain": [
              "<Figure size 1000x500 with 1 Axes>"
            ]
          },
          "metadata": {},
          "output_type": "display_data"
        }
      ],
      "source": [
        "plt.figure(figsize=(10, 5))\n",
        "plt.plot(range(len(df_chatgpt)), df_chatgpt['count'], marker='o')  \n",
        "\n",
        "plt.xticks(range(len(df_chatgpt)), df_chatgpt['abs_value'])\n",
        "\n",
        "plt.title('Count of Data Points by Absolute Value') \n",
        "plt.xlabel('Absolute Value') \n",
        "plt.ylabel('Number of Data Points')  \n",
        "plt.show()"
      ]
    },
    {
      "cell_type": "code",
      "execution_count": 128,
      "metadata": {},
      "outputs": [
        {
          "data": {
            "image/png": "[encoded data removed]",
            "text/plain": [
              "<Figure size 1000x500 with 1 Axes>"
            ]
          },
          "metadata": {},
          "output_type": "display_data"
        }
      ],
      "source": [
        "import matplotlib.pyplot as plt\n",
        "\n",
        "plt.figure(figsize=(10, 5))\n",
        "\n",
        "x_values = range(len(df_chatgpt))\n",
        "\n",
        "plt.plot(x_values, df_chatgpt['count'], marker='o', label='GPT-3.5')\n",
        "plt.plot(x_values, df_llama['count'], marker='x', label='LLaMA3-8B')\n",
        "\n",
        "plt.fill_between(x_values, df_llama['count'], color=\"orange\", alpha=0.4)\n",
        "plt.fill_between(x_values, df_chatgpt['count'], color=\"skyblue\", alpha=0.4)\n",
        "\n",
        "plt.xticks(x_values, df_chatgpt['abs_value'])\n",
        "\n",
        "plt.legend()\n",
        "\n",
        "plt.title('Recommendation queries response error using LLMs')  # Title of the graph\n",
        "plt.xlabel('Absolute Value Error')  # Label for the x-axis\n",
        "plt.ylabel('# of Queries')  # Label for the y-axis\n",
        "plt.grid(False)  # Add a grid for easier readability\n",
        "plt.show()  # Display the graph"
      ]
    },
    {
      "cell_type": "code",
      "execution_count": null,
      "metadata": {},
      "outputs": [],
      "source": []
    }
  ],
  "metadata": {
    "accelerator": "GPU",
    "colab": {
      "gpuType": "T4",
      "provenance": []
    },
    "kernelspec": {
      "display_name": "Python 3",
      "name": "python3"
    },
    "language_info": {
      "codemirror_mode": {
        "name": "ipython",
        "version": 3
      },
      "file_extension": ".py",
      "mimetype": "text/x-python",
      "name": "python",
      "nbconvert_exporter": "python",
      "pygments_lexer": "ipython3",
      "version": "3.9.18"
    }
  },
  "nbformat": 4,
  "nbformat_minor": 0
}
